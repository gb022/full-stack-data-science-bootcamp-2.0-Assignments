{
  "nbformat": 4,
  "nbformat_minor": 0,
  "metadata": {
    "colab": {
      "provenance": []
    },
    "kernelspec": {
      "name": "python3",
      "display_name": "Python 3"
    },
    "language_info": {
      "name": "python"
    }
  },
  "cells": [
    {
      "cell_type": "code",
      "execution_count": 1,
      "metadata": {
        "id": "k8wO9_9mqFve"
      },
      "outputs": [],
      "source": [
        "# 1. Write a Python program to print \"Hello Python\"?"
      ]
    },
    {
      "cell_type": "code",
      "source": [
        "a = 'Hello Python'\n",
        "print(a)"
      ],
      "metadata": {
        "colab": {
          "base_uri": "https://localhost:8080/"
        },
        "id": "x8oAUEpqqUxG",
        "outputId": "3a39b5dc-a892-410c-9989-9016ea47aa2b"
      },
      "execution_count": 4,
      "outputs": [
        {
          "output_type": "stream",
          "name": "stdout",
          "text": [
            "Hello Python\n"
          ]
        }
      ]
    },
    {
      "cell_type": "code",
      "source": [
        "# 2. Write a Python program to do arithmetical operations addition and division.?"
      ],
      "metadata": {
        "id": "vO62CYdQqoOe"
      },
      "execution_count": 5,
      "outputs": []
    },
    {
      "cell_type": "code",
      "source": [
        "# addition\n",
        "b = 12\n",
        "c = 4\n",
        "print(c+b)\n",
        "\n",
        "# division\n",
        "print(b/c)"
      ],
      "metadata": {
        "colab": {
          "base_uri": "https://localhost:8080/"
        },
        "id": "KrNPZyXVrNC0",
        "outputId": "4b1bf810-e635-49d5-ee10-10f33691d0af"
      },
      "execution_count": 9,
      "outputs": [
        {
          "output_type": "stream",
          "name": "stdout",
          "text": [
            "16\n",
            "3.0\n"
          ]
        }
      ]
    },
    {
      "cell_type": "code",
      "source": [
        "# 3. Write a Python program to find the area of a triangle?"
      ],
      "metadata": {
        "id": "uPB77ZZQrVxf"
      },
      "execution_count": 8,
      "outputs": []
    },
    {
      "cell_type": "code",
      "source": [
        "base =  float(input(\"Enter the base of the triangle : \"))\n",
        "height = float(input(\"Enter the height of the triangle : \"))\n",
        "area = 0.5 * base * height\n",
        "print(\"the area of the triangle is :\", area)"
      ],
      "metadata": {
        "colab": {
          "base_uri": "https://localhost:8080/"
        },
        "id": "j_PYqb2BrlGb",
        "outputId": "2659b828-fe2c-4863-c2a3-4ce19a9408e4"
      },
      "execution_count": 18,
      "outputs": [
        {
          "output_type": "stream",
          "name": "stdout",
          "text": [
            "Enter the base of the triangle : 12\n",
            "Enter the height of the triangle : 6\n",
            "the area of the triangle is : 36.0\n"
          ]
        }
      ]
    },
    {
      "cell_type": "code",
      "source": [
        "# 4. Write a Python program to swap two variables?"
      ],
      "metadata": {
        "id": "p6KU-K--smtN"
      },
      "execution_count": 19,
      "outputs": []
    },
    {
      "cell_type": "code",
      "source": [
        "# Input the values of the variables\n",
        "a = input(\"Enter the value of variable a: \")\n",
        "b = input(\"Enter the value of variable b: \")\n",
        "\n",
        "# Print the initial values\n",
        "print(\"Before swapping:\")\n",
        "print(\"a =\", a)\n",
        "print(\"b =\", b)\n",
        "\n",
        "# Swap the values of the variables\n",
        "a, b = b, a\n",
        "\n",
        "# Print the swapped values\n",
        "print(\"After swapping:\")\n",
        "print(\"a =\", a)\n",
        "print(\"b =\", b)\n"
      ],
      "metadata": {
        "colab": {
          "base_uri": "https://localhost:8080/"
        },
        "id": "gfGqEg_Atp2M",
        "outputId": "861a60e7-499c-43d8-b6b8-bfd6a2cd71df"
      },
      "execution_count": 22,
      "outputs": [
        {
          "output_type": "stream",
          "name": "stdout",
          "text": [
            "Enter the value of variable a: 2\n",
            "Enter the value of variable b: 3\n",
            "Before swapping:\n",
            "a = 2\n",
            "b = 3\n",
            "After swapping:\n",
            "a = 3\n",
            "b = 2\n"
          ]
        }
      ]
    },
    {
      "cell_type": "code",
      "source": [
        "# 5. Write a Python program to generate a random number?"
      ],
      "metadata": {
        "id": "40Gvex8JuD7y"
      },
      "execution_count": 23,
      "outputs": []
    },
    {
      "cell_type": "code",
      "source": [
        "'''To generate a random number in Python, we can make use of the random module.\n",
        "Here's a Python program that generates a random number'''\n",
        "import random\n",
        "\n",
        "# Generate a random number between 0 and 100\n",
        "random_number = random.randint(0, 100)\n",
        "\n",
        "# Print the random number\n",
        "print(\"Random number:\", random_number)\n"
      ],
      "metadata": {
        "colab": {
          "base_uri": "https://localhost:8080/"
        },
        "id": "5RU92Bfvu1pV",
        "outputId": "e1004b48-ad70-40b0-dad2-756ace0b5b0a"
      },
      "execution_count": 25,
      "outputs": [
        {
          "output_type": "stream",
          "name": "stdout",
          "text": [
            "Random number: 8\n"
          ]
        }
      ]
    },
    {
      "cell_type": "code",
      "source": [],
      "metadata": {
        "id": "3GNsr0pxvZ3Z"
      },
      "execution_count": null,
      "outputs": []
    }
  ]
}
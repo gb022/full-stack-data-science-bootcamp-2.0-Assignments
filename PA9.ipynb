{
  "nbformat": 4,
  "nbformat_minor": 0,
  "metadata": {
    "colab": {
      "provenance": []
    },
    "kernelspec": {
      "name": "python3",
      "display_name": "Python 3"
    },
    "language_info": {
      "name": "python"
    }
  },
  "cells": [
    {
      "cell_type": "code",
      "execution_count": 1,
      "metadata": {
        "id": "HpeK2t5CCXPB"
      },
      "outputs": [],
      "source": [
        "# 1. Write a Python program to check if the given number is a Disarium Number?"
      ]
    },
    {
      "cell_type": "code",
      "source": [
        "# Here's a Python program that checks if a given number is a Disarium Number:\n",
        "def is_disarium_number(num):\n",
        "    # Convert the number to a string to access individual digits\n",
        "    num_str = str(num)\n",
        "\n",
        "    # Calculate the sum of digits raised to their respective positions\n",
        "    sum_of_digits = 0\n",
        "    position = 1\n",
        "    for digit in num_str:\n",
        "        sum_of_digits += int(digit) ** position\n",
        "        position += 1\n",
        "\n",
        "    # Check if the sum is equal to the original number\n",
        "    if sum_of_digits == num:\n",
        "        return True\n",
        "    else:\n",
        "        return False\n",
        "\n",
        "# Test the function\n",
        "number = int(input(\"Enter a number: \"))\n",
        "if is_disarium_number(number):\n",
        "    print(number, \"is a Disarium number.\")\n",
        "else:\n",
        "    print(number, \"is not a Disarium number.\")\n"
      ],
      "metadata": {
        "id": "G3RRInFmCvgK"
      },
      "execution_count": null,
      "outputs": []
    },
    {
      "cell_type": "code",
      "source": [
        "# 2. Write a Python program to print all disarium numbers between 1 to 100?"
      ],
      "metadata": {
        "id": "6rqPLjX7C0nM"
      },
      "execution_count": 3,
      "outputs": []
    },
    {
      "cell_type": "code",
      "source": [
        "# Here's a Python program that prints all the Disarium numbers between 1 and 100:\n",
        "def is_disarium_number(num):\n",
        "    # Convert the number to a string to access individual digits\n",
        "    num_str = str(num)\n",
        "\n",
        "    # Calculate the sum of digits raised to their respective positions\n",
        "    sum_of_digits = 0\n",
        "    position = 1\n",
        "    for digit in num_str:\n",
        "        sum_of_digits += int(digit) ** position\n",
        "        position += 1\n",
        "\n",
        "    # Check if the sum is equal to the original number\n",
        "    if sum_of_digits == num:\n",
        "        return True\n",
        "    else:\n",
        "        return False\n",
        "\n",
        "# Find and print all Disarium numbers between 1 and 100\n",
        "print(\"Disarium numbers between 1 and 100:\")\n",
        "for number in range(1, 101):\n",
        "    if is_disarium_number(number):\n",
        "        print(number)\n"
      ],
      "metadata": {
        "id": "Mspju4HGC8Kl"
      },
      "execution_count": null,
      "outputs": []
    },
    {
      "cell_type": "code",
      "source": [
        "# 3. Write a Python program to check if the given number is Happy Number?"
      ],
      "metadata": {
        "id": "Dpwm78ZWDBWW"
      },
      "execution_count": 5,
      "outputs": []
    },
    {
      "cell_type": "code",
      "source": [
        "# Here's a Python program that checks if a given number is a Happy Number:\n",
        "def is_happy_number(num):\n",
        "    # Create a set to store previously encountered numbers\n",
        "    seen_numbers = set()\n",
        "\n",
        "    # Iterate until the number becomes 1 (a happy number) or enters a cycle\n",
        "    while num != 1:\n",
        "        # If the number is already in the set, it means we entered a cycle\n",
        "        if num in seen_numbers:\n",
        "            return False\n",
        "\n",
        "        # Add the number to the set\n",
        "        seen_numbers.add(num)\n",
        "\n",
        "        # Calculate the sum of squares of digits\n",
        "        sum_of_squares = 0\n",
        "        while num > 0:\n",
        "            digit = num % 10\n",
        "            sum_of_squares += digit ** 2\n",
        "            num //= 10\n",
        "\n",
        "        # Update the number for the next iteration\n",
        "        num = sum_of_squares\n",
        "\n",
        "    # If the number becomes 1, it is a happy number\n",
        "    return True\n",
        "\n",
        "# Test the function\n",
        "number = int(input(\"Enter a number: \"))\n",
        "if is_happy_number(number):\n",
        "    print(number, \"is a Happy number.\")\n",
        "else:\n",
        "    print(number, \"is not a Happy number.\")\n"
      ],
      "metadata": {
        "id": "JJ68EdwUDHiV"
      },
      "execution_count": null,
      "outputs": []
    },
    {
      "cell_type": "code",
      "source": [
        "# 4. Write a Python program to print all happy numbers between 1 and 100?"
      ],
      "metadata": {
        "id": "00tr3P9mDVoa"
      },
      "execution_count": 8,
      "outputs": []
    },
    {
      "cell_type": "code",
      "source": [
        "# Here's a Python program that prints all the Happy numbers between 1 and 100:\n",
        "def is_happy_number(num):\n",
        "    # Create a set to store previously encountered numbers\n",
        "    seen_numbers = set()\n",
        "\n",
        "    # Iterate until the number becomes 1 (a happy number) or enters a cycle\n",
        "    while num != 1:\n",
        "        # If the number is already in the set, it means we entered a cycle\n",
        "        if num in seen_numbers:\n",
        "            return False\n",
        "\n",
        "        # Add the number to the set\n",
        "        seen_numbers.add(num)\n",
        "\n",
        "        # Calculate the sum of squares of digits\n",
        "        sum_of_squares = 0\n",
        "        while num > 0:\n",
        "            digit = num % 10\n",
        "            sum_of_squares += digit ** 2\n",
        "            num //= 10\n",
        "\n",
        "        # Update the number for the next iteration\n",
        "        num = sum_of_squares\n",
        "\n",
        "    # If the number becomes 1, it is a happy number\n",
        "    return True\n",
        "\n",
        "# Find and print all Happy numbers between 1 and 100\n",
        "print(\"Happy numbers between 1 and 100:\")\n",
        "for number in range(1, 101):\n",
        "    if is_happy_number(number):\n",
        "        print(number)\n"
      ],
      "metadata": {
        "id": "4ZL4uVDPEJ_F"
      },
      "execution_count": null,
      "outputs": []
    },
    {
      "cell_type": "code",
      "source": [
        "# 5. Write a Python program to determine whether the given number is a Harshad Number?"
      ],
      "metadata": {
        "id": "gAqR31F_ETao"
      },
      "execution_count": 10,
      "outputs": []
    },
    {
      "cell_type": "code",
      "source": [
        "# Here's a Python program that determines whether a given number is a Harshad Number:\n",
        "def is_harshad_number(num):\n",
        "    # Calculate the sum of digits\n",
        "    sum_of_digits = 0\n",
        "    original_num = num\n",
        "\n",
        "    while num > 0:\n",
        "        digit = num % 10\n",
        "        sum_of_digits += digit\n",
        "        num //= 10\n",
        "\n",
        "    # Check if the number is divisible by the sum of its digits\n",
        "    if original_num % sum_of_digits == 0:\n",
        "        return True\n",
        "    else:\n",
        "        return False\n",
        "\n",
        "# Test the function\n",
        "number = int(input(\"Enter a number: \"))\n",
        "if is_harshad_number(number):\n",
        "    print(number, \"is a Harshad number.\")\n",
        "else:\n",
        "    print(number, \"is not a Harshad number.\")\n"
      ],
      "metadata": {
        "id": "a8XubeVkEZhN"
      },
      "execution_count": null,
      "outputs": []
    },
    {
      "cell_type": "code",
      "source": [
        "# 6. Write a Python program to print all pronic numbers between 1 and 100?"
      ],
      "metadata": {
        "id": "tJq_KWg4EmOj"
      },
      "execution_count": 12,
      "outputs": []
    },
    {
      "cell_type": "code",
      "source": [
        "#  Here's a Python program that prints all the pronic numbers between 1 and 100:\n",
        "def is_pronic_number(num):\n",
        "    # Find the square root of the number\n",
        "    root = int(num ** 0.5)\n",
        "\n",
        "    # Check if (root * (root + 1)) is equal to the number\n",
        "    if root * (root + 1) == num:\n",
        "        return True\n",
        "    else:\n",
        "        return False\n",
        "\n",
        "# Find and print all pronic numbers between 1 and 100\n",
        "print(\"Pronic numbers between 1 and 100:\")\n",
        "for number in range(1, 101):\n",
        "    if is_pronic_number(number):\n",
        "        print(number)\n"
      ],
      "metadata": {
        "id": "E-aPTA-rExKX"
      },
      "execution_count": null,
      "outputs": []
    },
    {
      "cell_type": "code",
      "source": [],
      "metadata": {
        "id": "6yVJhZYIE9G8"
      },
      "execution_count": null,
      "outputs": []
    }
  ]
}
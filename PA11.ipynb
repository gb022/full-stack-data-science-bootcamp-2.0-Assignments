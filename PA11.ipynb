{
  "nbformat": 4,
  "nbformat_minor": 0,
  "metadata": {
    "colab": {
      "provenance": []
    },
    "kernelspec": {
      "name": "python3",
      "display_name": "Python 3"
    },
    "language_info": {
      "name": "python"
    }
  },
  "cells": [
    {
      "cell_type": "code",
      "execution_count": 1,
      "metadata": {
        "id": "4RPPuMEPIiS3"
      },
      "outputs": [],
      "source": [
        "# 1. Write a Python program to find words which are greater than given length k?"
      ]
    },
    {
      "cell_type": "code",
      "source": [
        "# Here's a Python program that finds words in a given sentence that are greater than a given length k:\n",
        "def find_words_greater_than_length(sentence, k):\n",
        "    words = sentence.split()\n",
        "    result = []\n",
        "\n",
        "    for word in words:\n",
        "        if len(word) > k:\n",
        "            result.append(word)\n",
        "\n",
        "    return result\n",
        "\n",
        "\n",
        "# Example usage\n",
        "input_sentence = \"This is an example sentence to test the program\"\n",
        "length_threshold = 4\n",
        "\n",
        "words_greater_than_length = find_words_greater_than_length(input_sentence, length_threshold)\n",
        "print(\"Words greater than length {}: {}\".format(length_threshold, words_greater_than_length))\n"
      ],
      "metadata": {
        "id": "2FsqjsUfIzYQ"
      },
      "execution_count": null,
      "outputs": []
    },
    {
      "cell_type": "code",
      "source": [
        "# 2. Write a Python program for removing i-th character from a string?"
      ],
      "metadata": {
        "id": "NMEI_4q3I3yU"
      },
      "execution_count": 3,
      "outputs": []
    },
    {
      "cell_type": "code",
      "source": [
        "# Here's a Python program that removes the i-th character from a given string:\n",
        "def remove_ith_character(string, i):\n",
        "    if i < 0 or i >= len(string):\n",
        "        return string\n",
        "\n",
        "    return string[:i] + string[i+1:]\n",
        "\n",
        "\n",
        "# Example usage\n",
        "input_string = \"Hello, World!\"\n",
        "index_to_remove = 4\n",
        "\n",
        "result_string = remove_ith_character(input_string, index_to_remove)\n",
        "print(\"Result: {}\".format(result_string))\n",
        "\n"
      ],
      "metadata": {
        "id": "p-pbFiZBJDV4"
      },
      "execution_count": null,
      "outputs": []
    },
    {
      "cell_type": "code",
      "source": [
        "# 3. Write a Python program to split and join a string?"
      ],
      "metadata": {
        "id": "1kMz-x8NJLVA"
      },
      "execution_count": 6,
      "outputs": []
    },
    {
      "cell_type": "code",
      "source": [
        "# Here's a Python program that demonstrates splitting and joining a string:\n",
        "def split_and_join(string, delimiter):\n",
        "    # Split the string into a list of substrings\n",
        "    split_list = string.split(delimiter)\n",
        "\n",
        "    # Join the substrings using the given delimiter\n",
        "    joined_string = delimiter.join(split_list)\n",
        "\n",
        "    return joined_string\n",
        "\n",
        "\n",
        "# Example usage\n",
        "input_string = \"Hello, World!\"\n",
        "split_delimiter = \", \"\n",
        "\n",
        "result_string = split_and_join(input_string, split_delimiter)\n",
        "print(\"Result: {}\".format(result_string))\n"
      ],
      "metadata": {
        "id": "j9Lgd86CJZJt"
      },
      "execution_count": null,
      "outputs": []
    },
    {
      "cell_type": "code",
      "source": [
        "# 4. Write a Python to check if a given string is binary string or not?"
      ],
      "metadata": {
        "id": "3pvG9DM_JeC-"
      },
      "execution_count": 8,
      "outputs": []
    },
    {
      "cell_type": "code",
      "source": [
        "# Here's a Python program that checks if a given string is a binary string or not\n",
        "def is_binary_string(string):\n",
        "    for char in string:\n",
        "        if char != '0' and char != '1':\n",
        "            return False\n",
        "    return True\n",
        "\n",
        "\n",
        "# Example usage\n",
        "input_string = \"1010101\"\n",
        "\n",
        "if is_binary_string(input_string):\n",
        "    print(\"The string is a binary string.\")\n",
        "else:\n",
        "    print(\"The string is not a binary string.\")\n"
      ],
      "metadata": {
        "id": "jPmwCgdlJjd6"
      },
      "execution_count": null,
      "outputs": []
    },
    {
      "cell_type": "code",
      "source": [
        "# 5. Write a Python program to find uncommon words from two Strings?"
      ],
      "metadata": {
        "id": "FbubFLycJoHa"
      },
      "execution_count": 10,
      "outputs": []
    },
    {
      "cell_type": "code",
      "source": [
        "# here's a Python program that finds uncommon words from two strings:\n",
        "def find_uncommon_words(string1, string2):\n",
        "    words1 = set(string1.split())\n",
        "    words2 = set(string2.split())\n",
        "\n",
        "    uncommon_words = words1.symmetric_difference(words2)\n",
        "    return uncommon_words\n",
        "\n",
        "\n",
        "# Example usage\n",
        "input_string1 = \"Hello world! This is string one.\"\n",
        "input_string2 = \"Hello there! This is string two.\"\n",
        "\n",
        "uncommon_words = find_uncommon_words(input_string1, input_string2)\n",
        "print(\"Uncommon words: {}\".format(uncommon_words))\n"
      ],
      "metadata": {
        "id": "KPbSkBp5JzT3"
      },
      "execution_count": null,
      "outputs": []
    },
    {
      "cell_type": "code",
      "source": [
        "# 6. Write a Python to find all duplicate characters in string?"
      ],
      "metadata": {
        "id": "vAC4FYgGJ4f-"
      },
      "execution_count": 12,
      "outputs": []
    },
    {
      "cell_type": "code",
      "source": [
        "# Here's a Python program that finds all duplicate characters in a given string:\n",
        "def find_duplicate_characters(string):\n",
        "    duplicate_characters = []\n",
        "    seen_characters = set()\n",
        "\n",
        "    for char in string:\n",
        "        if char in seen_characters and char not in duplicate_characters:\n",
        "            duplicate_characters.append(char)\n",
        "        else:\n",
        "            seen_characters.add(char)\n",
        "\n",
        "    return duplicate_characters\n",
        "\n",
        "\n",
        "# Example usage\n",
        "input_string = \"Hello, World!\"\n",
        "\n",
        "duplicate_chars = find_duplicate_characters(input_string)\n",
        "print(\"Duplicate characters: {}\".format(duplicate_chars))\n"
      ],
      "metadata": {
        "id": "kXss0TrlKAcR"
      },
      "execution_count": null,
      "outputs": []
    },
    {
      "cell_type": "code",
      "source": [
        "# 7. Write a Python Program to check if a string contains any special character?"
      ],
      "metadata": {
        "id": "yyeBlBWeKF0w"
      },
      "execution_count": 14,
      "outputs": []
    },
    {
      "cell_type": "code",
      "source": [
        "# Here's a Python program that checks if a string contains any special characters:\n",
        "import re\n",
        "\n",
        "def contains_special_character(string):\n",
        "    special_characters_regex = re.compile(r'[@_!#$%^&*()<>?/\\|}{~:]')\n",
        "\n",
        "    if special_characters_regex.search(string) is None:\n",
        "        return False\n",
        "    else:\n",
        "        return True\n",
        "\n",
        "\n",
        "# Example usage\n",
        "input_string = \"Hello, World!\"\n",
        "\n",
        "if contains_special_character(input_string):\n",
        "    print(\"The string contains special characters.\")\n",
        "else:\n",
        "    print(\"The string does not contain special characters.\")\n"
      ],
      "metadata": {
        "id": "BCegrusQKKay"
      },
      "execution_count": null,
      "outputs": []
    },
    {
      "cell_type": "code",
      "source": [],
      "metadata": {
        "id": "erKMqAHJKQ11"
      },
      "execution_count": null,
      "outputs": []
    }
  ]
}
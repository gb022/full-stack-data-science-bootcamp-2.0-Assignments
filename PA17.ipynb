{
  "nbformat": 4,
  "nbformat_minor": 0,
  "metadata": {
    "colab": {
      "provenance": []
    },
    "kernelspec": {
      "name": "python3",
      "display_name": "Python 3"
    },
    "language_info": {
      "name": "python"
    }
  },
  "cells": [
    {
      "cell_type": "code",
      "source": [
        "# Question1.\n",
        "'''Create a function that takes three arguments a, b, c and returns the sum of the\n",
        "numbers that are evenly divided by c from the range a, b inclusive.\n",
        "Examples\n",
        "evenly_divisible(1, 10, 20) ➞ 0\n",
        "# No number between 1 and 10 can be evenly divided by 20.\n",
        "evenly_divisible(1, 10, 2) ➞ 30\n",
        "# 2 + 4 + 6 + 8 + 10 = 30\n",
        "evenly_divisible(1, 10, 3) ➞ 18\n",
        "# 3 + 6 + 9 = 18'''"
      ],
      "metadata": {
        "id": "--tRTInO1-BV"
      },
      "execution_count": null,
      "outputs": []
    },
    {
      "cell_type": "code",
      "source": [
        "# Here's a Python function that solves the problem:\n",
        "def evenly_divisible(a, b, c):\n",
        "    total = 0\n",
        "    for num in range(a, b+1):\n",
        "        if num % c == 0:\n",
        "            total += num\n",
        "    return total\n",
        "\n",
        "print(evenly_divisible(1, 10, 20))  # Output: 0\n",
        "print(evenly_divisible(1, 10, 2))   # Output: 30\n",
        "print(evenly_divisible(1, 10, 3))   # Output: 18\n"
      ],
      "metadata": {
        "id": "5s9Sl-yO3NWe"
      },
      "execution_count": null,
      "outputs": []
    },
    {
      "cell_type": "code",
      "source": [
        "# Question2.\n",
        "'''Create a function that returns True if a given inequality expression is correct and\n",
        "False otherwise.\n",
        "Examples\n",
        "correct_signs(&quot;3 &lt; 7 &lt; 11&quot;) ➞ True\n",
        "correct_signs(&quot;13 &gt; 44 &gt; 33 &gt; 1&quot;) ➞ False\n",
        "correct_signs(&quot;1 &lt; 2 &lt; 6 &lt; 9 &gt; 3&quot;) ➞ True'''"
      ],
      "metadata": {
        "id": "VwfT21Dx3fUl"
      },
      "execution_count": null,
      "outputs": []
    },
    {
      "cell_type": "code",
      "source": [
        "# Here's a Python function that checks if a given inequality expression is correct:\n",
        "def correct_signs(expression):\n",
        "    return eval(expression)\n",
        "\n",
        "print(correct_signs(\"3 < 7 < 11\"))        # Output: True\n",
        "print(correct_signs(\"13 > 44 > 33 > 1\"))  # Output: False\n",
        "print(correct_signs(\"1 < 2 < 6 < 9 > 3\")) # Output: True\n"
      ],
      "metadata": {
        "id": "bYXjNM3C3lg3"
      },
      "execution_count": null,
      "outputs": []
    },
    {
      "cell_type": "code",
      "source": [
        "# Question3.\n",
        "'''Create a function that replaces all the vowels in a string with a specified character.\n",
        "Examples\n",
        "replace_vowels(&quot;the aardvark&quot;, &quot;#&quot;) ➞ &quot;th# ##rdv#rk&quot;\n",
        "replace_vowels(&quot;minnie mouse&quot;, &quot;?&quot;) ➞ &quot;m?nn?? m??s?&quot;\n",
        "replace_vowels(&quot;shakespeare&quot;, &quot;*&quot;) ➞ &quot;sh*k*sp**r*&quot;'''"
      ],
      "metadata": {
        "id": "ORop0v0K3z8j"
      },
      "execution_count": null,
      "outputs": []
    },
    {
      "cell_type": "code",
      "source": [
        "# Here's a Python function that replaces all the vowels in a string with a specified character:\n",
        "def replace_vowels(string, char):\n",
        "    vowels = 'aeiouAEIOU'\n",
        "    for vowel in vowels:\n",
        "        string = string.replace(vowel, char)\n",
        "    return string\n",
        "\n",
        "print(replace_vowels(\"the aardvark\", \"#\"))     # Output: \"th# ##rdv#rk\"\n",
        "print(replace_vowels(\"minnie mouse\", \"?\"))     # Output: \"m?nn?? m??s?\"\n",
        "print(replace_vowels(\"shakespeare\", \"*\"))      # Output: \"sh*k*sp**r*\"\n"
      ],
      "metadata": {
        "id": "I0JhULuT3703"
      },
      "execution_count": null,
      "outputs": []
    },
    {
      "cell_type": "code",
      "source": [
        "# Question4.\n",
        "'''Write a function that calculates the factorial of a number recursively.\n",
        "Examples\n",
        "factorial(5) ➞ 120\n",
        "factorial(3) ➞ 6\n",
        "factorial(1) ➞ 1\n",
        "factorial(0) ➞ 1'''"
      ],
      "metadata": {
        "id": "Otg5qv5y4YIL"
      },
      "execution_count": null,
      "outputs": []
    },
    {
      "cell_type": "code",
      "source": [
        "# Here's a Python function that calculates the factorial of a number recursively:\n",
        "def factorial(n):\n",
        "    if n == 0 or n == 1:\n",
        "        return 1\n",
        "    else:\n",
        "        return n * factorial(n - 1)\n",
        "\n",
        "print(factorial(5))  # Output: 120\n",
        "print(factorial(3))  # Output: 6\n",
        "print(factorial(1))  # Output: 1\n",
        "print(factorial(0))  # Output: 1\n"
      ],
      "metadata": {
        "id": "EoLt45IF4hBK"
      },
      "execution_count": null,
      "outputs": []
    },
    {
      "cell_type": "code",
      "source": [
        "# Question 5\n",
        "'''Hamming distance is the number of characters that differ between two strings.\n",
        "To illustrate:\n",
        "String1: &quot;abcbba&quot;\n",
        "String2: &quot;abcbda&quot;\n",
        "Hamming Distance: 1 - &quot;b&quot; vs. &quot;d&quot; is the only difference.\n",
        "Create a function that computes the hamming distance between two strings.\n",
        "Examples\n",
        "hamming_distance(&quot;abcde&quot;, &quot;bcdef&quot;) ➞ 5\n",
        "hamming_distance(&quot;abcde&quot;, &quot;abcde&quot;) ➞ 0\n",
        "hamming_distance(&quot;strong&quot;, &quot;strung&quot;) ➞ 1'''"
      ],
      "metadata": {
        "id": "dYeN1jYd4tXm"
      },
      "execution_count": null,
      "outputs": []
    },
    {
      "cell_type": "code",
      "source": [
        "# Here's a Python function that computes the Hamming distance between two strings:\n",
        "def hamming_distance(string1, string2):\n",
        "    if len(string1) != len(string2):\n",
        "        raise ValueError(\"The strings must have equal length.\")\n",
        "\n",
        "    distance = 0\n",
        "    for char1, char2 in zip(string1, string2):\n",
        "        if char1 != char2:\n",
        "            distance += 1\n",
        "\n",
        "    return distance\n",
        "\n",
        "print(hamming_distance(\"abcde\", \"bcdef\"))    # Output: 5\n",
        "print(hamming_distance(\"abcde\", \"abcde\"))    # Output: 0\n",
        "print(hamming_distance(\"strong\", \"strung\"))  # Output: 1\n"
      ],
      "metadata": {
        "id": "Cnlkv2nz42IX"
      },
      "execution_count": null,
      "outputs": []
    },
    {
      "cell_type": "code",
      "source": [],
      "metadata": {
        "id": "J4OUSoDV5CG5"
      },
      "execution_count": null,
      "outputs": []
    }
  ]
}
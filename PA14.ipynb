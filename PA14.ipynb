{
  "nbformat": 4,
  "nbformat_minor": 0,
  "metadata": {
    "colab": {
      "provenance": []
    },
    "kernelspec": {
      "name": "python3",
      "display_name": "Python 3"
    },
    "language_info": {
      "name": "python"
    }
  },
  "cells": [
    {
      "cell_type": "code",
      "execution_count": 1,
      "metadata": {
        "colab": {
          "base_uri": "https://localhost:8080/",
          "height": 35
        },
        "id": "e7ITggst7O4c",
        "outputId": "0d213304-04f7-41c6-c064-b9ae3ce292c1"
      },
      "outputs": [
        {
          "output_type": "execute_result",
          "data": {
            "text/plain": [
              "'Define a class with a generator which can iterate the numbers, which are divisible by\\n7, between a given range 0 and n.'"
            ],
            "application/vnd.google.colaboratory.intrinsic+json": {
              "type": "string"
            }
          },
          "metadata": {},
          "execution_count": 1
        }
      ],
      "source": [
        "# Question 1:\n",
        "'''Define a class with a generator which can iterate the numbers, which are divisible by\n",
        "7, between a given range 0 and n.'''"
      ]
    },
    {
      "cell_type": "code",
      "source": [
        "# Here's an example of a class with a generator that can iterate over numbers divisible by 7 within a given range:\n",
        "class DivisibleBySeven:\n",
        "    def __init__(self, n):\n",
        "        self.n = n\n",
        "\n",
        "    def divisible_by_seven(self):\n",
        "        for num in range(self.n + 1):\n",
        "            if num % 7 == 0:\n",
        "                yield num\n",
        "\n",
        "# We can use this class to iterate over the numbers divisible by 7:\n",
        "# Create an instance of the class\n",
        "db7 = DivisibleBySeven(50)\n",
        "\n",
        "# Iterate over the numbers divisible by 7\n",
        "for num in db7.divisible_by_seven():\n",
        "    print(num)\n"
      ],
      "metadata": {
        "id": "yv1AyzTu7z1h"
      },
      "execution_count": null,
      "outputs": []
    },
    {
      "cell_type": "code",
      "source": [
        "# Question 2:\n",
        "'''Write a program to compute the frequency of the words from the input. The output\n",
        "should output after sorting the key alphanumerically.\n",
        "Suppose the following input is supplied to the program:\n",
        "New to Python or choosing between Python 2 and Python 3? Read Python 2 or\n",
        "Python 3.\n",
        "Then, the output should be:\n",
        "2:2\n",
        "3.:1\n",
        "3?:1\n",
        "New:1\n",
        "Python:5\n",
        "Read:1\n",
        "and:1\n",
        "between:1\n",
        "choosing:1\n",
        "or:2\n",
        "to:1'''"
      ],
      "metadata": {
        "colab": {
          "base_uri": "https://localhost:8080/",
          "height": 70
        },
        "id": "mpVJHkLo9I-V",
        "outputId": "df92db98-49c1-47c6-b50f-4fb4b04f63df"
      },
      "execution_count": 4,
      "outputs": [
        {
          "output_type": "execute_result",
          "data": {
            "text/plain": [
              "'Write a program to compute the frequency of the words from the input. The output\\nshould output after sorting the key alphanumerically.\\nSuppose the following input is supplied to the program:\\nNew to Python or choosing between Python 2 and Python 3? Read Python 2 or\\nPython 3.\\nThen, the output should be:\\n2:2\\n3.:1\\n3?:1\\nNew:1\\nPython:5\\nRead:1\\nand:1\\nbetween:1\\nchoosing:1\\nor:2\\nto:1'"
            ],
            "application/vnd.google.colaboratory.intrinsic+json": {
              "type": "string"
            }
          },
          "metadata": {},
          "execution_count": 4
        }
      ]
    },
    {
      "cell_type": "code",
      "source": [
        "# Here's a Python program that computes the frequency of words from the given input and sorts them alphabetically:\n",
        "def word_frequency(input_string):\n",
        "    # Split the input string into a list of words\n",
        "    words = input_string.split()\n",
        "\n",
        "    # Create an empty dictionary to store the word frequencies\n",
        "    frequencies = {}\n",
        "\n",
        "    # Iterate over each word\n",
        "    for word in words:\n",
        "        # Increment the frequency count for the word\n",
        "        frequencies[word] = frequencies.get(word, 0) + 1\n",
        "\n",
        "    # Sort the dictionary by keys in alphabetical order\n",
        "    sorted_frequencies = sorted(frequencies.items())\n",
        "\n",
        "    # Print the word frequencies\n",
        "    for word, frequency in sorted_frequencies:\n",
        "        print(f\"{word}:{frequency}\")\n",
        "\n",
        "\n",
        "# Example usage\n",
        "input_string = \"New to Python or choosing between Python 2 and Python 3? Read Python 2 or Python 3.\"\n",
        "word_frequency(input_string)\n"
      ],
      "metadata": {
        "id": "0nhsIwlI9hW3"
      },
      "execution_count": null,
      "outputs": []
    },
    {
      "cell_type": "code",
      "source": [
        "# Question 3:\n",
        "'''Define a class Person and its two child classes: Male and Female. All classes have a\n",
        "method &quot;getGender&quot; which can print &quot;Male&quot; for Male class and &quot;Female&quot; for Female\n",
        "class.'''"
      ],
      "metadata": {
        "colab": {
          "base_uri": "https://localhost:8080/",
          "height": 53
        },
        "id": "N06tieGr98ow",
        "outputId": "e79c4225-c55d-4371-f267-e3ee4007fdb1"
      },
      "execution_count": 6,
      "outputs": [
        {
          "output_type": "execute_result",
          "data": {
            "text/plain": [
              "'Define a class Person and its two child classes: Male and Female. All classes have a\\nmethod &quot;getGender&quot; which can print &quot;Male&quot; for Male class and &quot;Female&quot; for Female\\nclass.'"
            ],
            "application/vnd.google.colaboratory.intrinsic+json": {
              "type": "string"
            }
          },
          "metadata": {},
          "execution_count": 6
        }
      ]
    },
    {
      "cell_type": "code",
      "source": [
        "# Here's an example of defining a Person class and its two child classes, Male and Female, with a method getGender that prints the respective gender:\n",
        "class Person:\n",
        "    def getGender(self):\n",
        "        print(\"Unknown\")\n",
        "\n",
        "\n",
        "class Male(Person):\n",
        "    def getGender(self):\n",
        "        print(\"Male\")\n",
        "\n",
        "\n",
        "class Female(Person):\n",
        "    def getGender(self):\n",
        "        print(\"Female\")\n",
        "\n",
        "\n",
        "# Example usage\n",
        "person = Person()\n",
        "person.getGender()  # Output: Unknown\n",
        "\n",
        "male = Male()\n",
        "male.getGender()  # Output: Male\n",
        "\n",
        "female = Female()\n",
        "female.getGender()  # Output: Female\n"
      ],
      "metadata": {
        "id": "OBNZ9Bw1-FOE"
      },
      "execution_count": null,
      "outputs": []
    },
    {
      "cell_type": "code",
      "source": [
        "# Question 4:\n",
        "'''Please write a program to generate all sentences where subject is in [\"I\", \"You\"]\n",
        " and\n",
        "verb is in [\"Play\", \"Love\"] and the object is in [\"Hockey\", \"Football\"].'''"
      ],
      "metadata": {
        "colab": {
          "base_uri": "https://localhost:8080/",
          "height": 35
        },
        "id": "nbZFFv3E-YFP",
        "outputId": "77961ea1-391d-4011-9e64-993209a9c1ef"
      },
      "execution_count": 9,
      "outputs": [
        {
          "output_type": "execute_result",
          "data": {
            "text/plain": [
              "'Please write a program to generate all sentences where subject is in [\"I\", \"You\"]\\n and\\nverb is in [\"Play\", \"Love\"] and the object is in [\"Hockey\", \"Football\"].'"
            ],
            "application/vnd.google.colaboratory.intrinsic+json": {
              "type": "string"
            }
          },
          "metadata": {},
          "execution_count": 9
        }
      ]
    },
    {
      "cell_type": "code",
      "source": [
        "# Here's a program that generates all possible sentences using the given subjects, verbs, and objects:\n",
        "subjects = [\"I\", \"You\"]\n",
        "verbs = [\"Play\", \"Love\"]\n",
        "objects = [\"Hockey\", \"Football\"]\n",
        "\n",
        "sentences = []\n",
        "\n",
        "for subject in subjects:\n",
        "    for verb in verbs:\n",
        "        for obj in objects:\n",
        "            sentence = f\"{subject} {verb} {obj}.\"\n",
        "            sentences.append(sentence)\n",
        "\n",
        "# Print the generated sentences\n",
        "for sentence in sentences:\n",
        "    print(sentence)\n"
      ],
      "metadata": {
        "id": "TztSkQGF-gFy"
      },
      "execution_count": null,
      "outputs": []
    },
    {
      "cell_type": "code",
      "source": [
        "# Question 5:\n",
        "'''Please write a program to compress and decompress the string &quot;hello world!hello\n",
        "world!hello world!hello world!&quot;.'''"
      ],
      "metadata": {
        "colab": {
          "base_uri": "https://localhost:8080/",
          "height": 35
        },
        "id": "wkzU7yJc_GC-",
        "outputId": "583747b1-30b7-4afa-82ae-f0edbf093d9c"
      },
      "execution_count": 11,
      "outputs": [
        {
          "output_type": "execute_result",
          "data": {
            "text/plain": [
              "'Please write a program to compress and decompress the string &quot;hello world!hello\\nworld!hello world!hello world!&quot;.'"
            ],
            "application/vnd.google.colaboratory.intrinsic+json": {
              "type": "string"
            }
          },
          "metadata": {},
          "execution_count": 11
        }
      ]
    },
    {
      "cell_type": "code",
      "source": [
        "# Here's an example program that compresses and decompresses the string \"hello world!hello world!hello world!hello world!\":\n",
        "import zlib\n",
        "\n",
        "def compress_string(string):\n",
        "    # Convert string to bytes\n",
        "    compressed_data = zlib.compress(bytes(string, 'utf-8'))\n",
        "    return compressed_data\n",
        "\n",
        "def decompress_string(compressed_data):\n",
        "    # Decompress bytes to string\n",
        "    decompressed_string = zlib.decompress(compressed_data)\n",
        "    return decompressed_string.decode('utf-8')\n",
        "\n",
        "# Example usage\n",
        "original_string = \"hello world!hello world!hello world!hello world!\"\n",
        "\n",
        "# Compress the string\n",
        "compressed_data = compress_string(original_string)\n",
        "print(f\"Compressed data: {compressed_data}\")\n",
        "\n",
        "# Decompress the data\n",
        "decompressed_string = decompress_string(compressed_data)\n",
        "print(f\"Decompressed string: {decompressed_string}\")\n"
      ],
      "metadata": {
        "colab": {
          "base_uri": "https://localhost:8080/"
        },
        "id": "nRfelGtQ_QSD",
        "outputId": "c09912f3-e1e5-4b8a-833c-530cf98f1713"
      },
      "execution_count": 12,
      "outputs": [
        {
          "output_type": "stream",
          "name": "stdout",
          "text": [
            "Compressed data: b'x\\x9c\\xcbH\\xcd\\xc9\\xc9W(\\xcf/\\xcaIQ\\xcc \\x82\\r\\x00\\xbd[\\x11\\xf5'\n",
            "Decompressed string: hello world!hello world!hello world!hello world!\n"
          ]
        }
      ]
    },
    {
      "cell_type": "code",
      "source": [
        "# Question 6:\n",
        "'''Please write a binary search function which searches an item in a sorted list. The\n",
        "function should return the index of element to be searched in the list.'''"
      ],
      "metadata": {
        "colab": {
          "base_uri": "https://localhost:8080/",
          "height": 35
        },
        "id": "CCClAwKH_Wkk",
        "outputId": "b3dad85b-e935-491c-af31-d063c2611599"
      },
      "execution_count": 13,
      "outputs": [
        {
          "output_type": "execute_result",
          "data": {
            "text/plain": [
              "'Please write a binary search function which searches an item in a sorted list. The\\nfunction should return the index of element to be searched in the list.'"
            ],
            "application/vnd.google.colaboratory.intrinsic+json": {
              "type": "string"
            }
          },
          "metadata": {},
          "execution_count": 13
        }
      ]
    },
    {
      "cell_type": "code",
      "source": [
        "# Here's an implementation of a binary search function that searches for an item in a sorted list and returns its index:\n",
        "def binary_search(arr, target):\n",
        "    left = 0\n",
        "    right = len(arr) - 1\n",
        "\n",
        "    while left <= right:\n",
        "        mid = (left + right) // 2\n",
        "\n",
        "        if arr[mid] == target:\n",
        "            return mid\n",
        "        elif arr[mid] < target:\n",
        "            left = mid + 1\n",
        "        else:\n",
        "            right = mid - 1\n",
        "\n",
        "    return -1  # Item not found\n",
        "\n",
        "# Example usage\n",
        "sorted_list = [1, 2, 3, 4, 5, 6, 7, 8, 9]\n",
        "target = 5\n",
        "\n",
        "result = binary_search(sorted_list, target)\n",
        "\n",
        "if result != -1:\n",
        "    print(f\"Element {target} found at index {result}.\")\n",
        "else:\n",
        "    print(f\"Element {target} not found in the list.\")\n"
      ],
      "metadata": {
        "colab": {
          "base_uri": "https://localhost:8080/"
        },
        "id": "E7tmW5xC_gBe",
        "outputId": "e10e355c-e923-42ed-84de-9e75ba834131"
      },
      "execution_count": 14,
      "outputs": [
        {
          "output_type": "stream",
          "name": "stdout",
          "text": [
            "Element 5 found at index 4.\n"
          ]
        }
      ]
    },
    {
      "cell_type": "code",
      "source": [],
      "metadata": {
        "id": "K_v-Sy4_AE9V"
      },
      "execution_count": null,
      "outputs": []
    }
  ]
}
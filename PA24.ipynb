{
  "nbformat": 4,
  "nbformat_minor": 0,
  "metadata": {
    "colab": {
      "provenance": []
    },
    "kernelspec": {
      "name": "python3",
      "display_name": "Python 3"
    },
    "language_info": {
      "name": "python"
    }
  },
  "cells": [
    {
      "cell_type": "code",
      "source": [
        "# Question1\n",
        "'''Create a function that takes an integer and returns a list from 1 to the given number, where:\n",
        "1. If the number can be divided evenly by 4, amplify it by 10 (i.e. return 10 times the\n",
        "number).\n",
        "2. If the number cannot be divided evenly by 4, simply return the number.\n",
        "Examples\n",
        "amplify(4) ➞ [1, 2, 3, 40]\n",
        "amplify(3) ➞ [1, 2, 3]\n",
        "amplify(25) ➞ [1, 2, 3, 40, 5, 6, 7, 80, 9, 10, 11, 120, 13, 14, 15, 160,\n",
        "17, 18, 19, 200, 21, 22, 23, 240, 25]\n",
        "Notes\n",
        " The given integer will always be equal to or greater than 1.\n",
        " Include the number (see example above).\n",
        " To perform this problem with its intended purpose, try doing it with list\n",
        "comprehensions. If that&#39;s too difficult, just solve the challenge any way you can.'''"
      ],
      "metadata": {
        "colab": {
          "base_uri": "https://localhost:8080/",
          "height": 105
        },
        "id": "UwMtAnZr8ivj",
        "outputId": "4ee23994-be7b-4426-87c8-64d015c92132"
      },
      "execution_count": 20,
      "outputs": [
        {
          "output_type": "execute_result",
          "data": {
            "text/plain": [
              "'Create a function that takes an integer and returns a list from 1 to the given number, where:\\n1. If the number can be divided evenly by 4, amplify it by 10 (i.e. return 10 times the\\nnumber).\\n2. If the number cannot be divided evenly by 4, simply return the number.\\nExamples\\namplify(4) ➞ [1, 2, 3, 40]\\namplify(3) ➞ [1, 2, 3]\\namplify(25) ➞ [1, 2, 3, 40, 5, 6, 7, 80, 9, 10, 11, 120, 13, 14, 15, 160,\\n17, 18, 19, 200, 21, 22, 23, 240, 25]\\nNotes\\n\\uf0b7 The given integer will always be equal to or greater than 1.\\n\\uf0b7 Include the number (see example above).\\n\\uf0b7 To perform this problem with its intended purpose, try doing it with list\\ncomprehensions. If that&#39;s too difficult, just solve the challenge any way you can.'"
            ],
            "application/vnd.google.colaboratory.intrinsic+json": {
              "type": "string"
            }
          },
          "metadata": {},
          "execution_count": 20
        }
      ]
    },
    {
      "cell_type": "code",
      "source": [
        "# Here's a function that takes an integer as input and returns a list based on the given conditions:\n",
        "def amplify(num):\n",
        "    return [i * 10 if i % 4 == 0 else i for i in range(1, num + 1)]\n",
        "print(amplify(4))  # Output: [1, 2, 3, 40]\n",
        "print(amplify(3))  # Output: [1, 2, 3]\n",
        "print(amplify(25)) # Output: [1, 2, 3, 40, 5, 6, 7, 80, 9, 10, 11, 120, 13, 14, 15, 160, 17, 18, 19, 200, 21, 22, 23, 240, 25]\n"
      ],
      "metadata": {
        "colab": {
          "base_uri": "https://localhost:8080/"
        },
        "id": "sQNTgfSz8xp4",
        "outputId": "4f2fe9c3-6df7-4a49-88f7-f708b7e80394"
      },
      "execution_count": 21,
      "outputs": [
        {
          "output_type": "stream",
          "name": "stdout",
          "text": [
            "[1, 2, 3, 40]\n",
            "[1, 2, 3]\n",
            "[1, 2, 3, 40, 5, 6, 7, 80, 9, 10, 11, 120, 13, 14, 15, 160, 17, 18, 19, 200, 21, 22, 23, 240, 25]\n"
          ]
        }
      ]
    },
    {
      "cell_type": "code",
      "source": [
        "# Question2\n",
        "'''Create a function that takes a list of numbers and return the number that&#39;s unique.\n",
        "Examples\n",
        "unique([3, 3, 3, 7, 3, 3]) ➞ 7\n",
        "unique([0, 0, 0.77, 0, 0]) ➞ 0.77\n",
        "unique([0, 1, 1, 1, 1, 1, 1, 1]) ➞ 0\n",
        "Notes\n",
        "Test cases will always have exactly one unique number while all others are the same.'''"
      ],
      "metadata": {
        "colab": {
          "base_uri": "https://localhost:8080/",
          "height": 53
        },
        "id": "jiFX9uRe89nU",
        "outputId": "139907fc-5dcc-4dca-a65d-93f02a7c4c95"
      },
      "execution_count": 22,
      "outputs": [
        {
          "output_type": "execute_result",
          "data": {
            "text/plain": [
              "'Create a function that takes a list of numbers and return the number that&#39;s unique.\\nExamples\\nunique([3, 3, 3, 7, 3, 3]) ➞ 7\\nunique([0, 0, 0.77, 0, 0]) ➞ 0.77\\nunique([0, 1, 1, 1, 1, 1, 1, 1]) ➞ 0\\nNotes\\nTest cases will always have exactly one unique number while all others are the same.'"
            ],
            "application/vnd.google.colaboratory.intrinsic+json": {
              "type": "string"
            }
          },
          "metadata": {},
          "execution_count": 22
        }
      ]
    },
    {
      "cell_type": "code",
      "source": [
        "# Here's a function that takes a list of numbers as input and returns the unique number:\n",
        "def unique(lst):\n",
        "    for num in lst:\n",
        "        if lst.count(num) == 1:\n",
        "            return num\n",
        "\n",
        "print(unique([3, 3, 3, 7, 3, 3]))     # Output: 7\n",
        "print(unique([0, 0, 0.77, 0, 0]))     # Output: 0.77\n",
        "print(unique([0, 1, 1, 1, 1, 1, 1, 1])) # Output: 0\n"
      ],
      "metadata": {
        "colab": {
          "base_uri": "https://localhost:8080/"
        },
        "id": "NSETVxu19F4M",
        "outputId": "d477374e-304c-42e1-a478-d252404ed0c9"
      },
      "execution_count": 23,
      "outputs": [
        {
          "output_type": "stream",
          "name": "stdout",
          "text": [
            "7\n",
            "0.77\n",
            "0\n"
          ]
        }
      ]
    },
    {
      "cell_type": "code",
      "source": [
        "# Question3\n",
        "'''Your task is to create a Circle constructor that creates a circle with a radius provided by an\n",
        "argument. The circles constructed must have two getters getArea() (PIr^2) and\n",
        "getPerimeter() (2PI*r) which give both respective areas and perimeter (circumference).\n",
        "\n",
        "For help with this class, I have provided you with a Rectangle constructor which you can use\n",
        "as a base example.\n",
        "Examples\n",
        "circy = Circle(11)\n",
        "circy.getArea()\n",
        "# Should return 380.132711084365\n",
        "circy = Circle(4.44)\n",
        "circy.getPerimeter()\n",
        "# Should return 27.897342763877365\n",
        "Notes\n",
        "Round results up to the nearest integer.'''"
      ],
      "metadata": {
        "colab": {
          "base_uri": "https://localhost:8080/",
          "height": 87
        },
        "id": "tkMRcpdy9ZV4",
        "outputId": "c3486af4-aaa8-4d73-8cd5-2de840960936"
      },
      "execution_count": 24,
      "outputs": [
        {
          "output_type": "execute_result",
          "data": {
            "text/plain": [
              "'Your task is to create a Circle constructor that creates a circle with a radius provided by an\\nargument. The circles constructed must have two getters getArea() (PIr^2) and\\ngetPerimeter() (2PI*r) which give both respective areas and perimeter (circumference).\\n\\nFor help with this class, I have provided you with a Rectangle constructor which you can use\\nas a base example.\\nExamples\\ncircy = Circle(11)\\ncircy.getArea()\\n# Should return 380.132711084365\\ncircy = Circle(4.44)\\ncircy.getPerimeter()\\n# Should return 27.897342763877365\\nNotes\\nRound results up to the nearest integer.'"
            ],
            "application/vnd.google.colaboratory.intrinsic+json": {
              "type": "string"
            }
          },
          "metadata": {},
          "execution_count": 24
        }
      ]
    },
    {
      "cell_type": "code",
      "source": [
        "'''To create a Circle constructor with the desired functionalities, we can define a class called \"Circle\" and implement\n",
        "the __init__ method to initialize the radius. We can also define the getArea() and getPerimeter() methods to calculate the area\n",
        " and perimeter of the circle, respectively.'''\n",
        "import math\n",
        "\n",
        "class Circle:\n",
        "    def __init__(self, radius):\n",
        "        self.radius = radius\n",
        "\n",
        "    def getArea(self):\n",
        "        return round(math.pi * self.radius**2)\n",
        "\n",
        "    def getPerimeter(self):\n",
        "        return round(2 * math.pi * self.radius)\n",
        "\n",
        "circy = Circle(11)\n",
        "print(circy.getArea())      # Output: 380\n",
        "circy = Circle(4.44)\n",
        "print(circy.getPerimeter()) # Output: 28\n"
      ],
      "metadata": {
        "colab": {
          "base_uri": "https://localhost:8080/"
        },
        "id": "6SIHt79z9hbv",
        "outputId": "5c27159c-de81-4c9d-bb10-0ec1f342b97a"
      },
      "execution_count": 26,
      "outputs": [
        {
          "output_type": "stream",
          "name": "stdout",
          "text": [
            "380\n",
            "28\n"
          ]
        }
      ]
    },
    {
      "cell_type": "code",
      "source": [
        "# Question4\n",
        "'''Create a function that takes a list of strings and return a list, sorted from shortest to longest.\n",
        "Examples\n",
        "sort_by_length([&quot;Google&quot;, &quot;Apple&quot;, &quot;Microsoft&quot;])\n",
        "➞ [&quot;Apple&quot;, &quot;Google&quot;, &quot;Microsoft&quot;]\n",
        "sort_by_length([&quot;Leonardo&quot;, &quot;Michelangelo&quot;, &quot;Raphael&quot;, &quot;Donatello&quot;])\n",
        "➞ [&quot;Raphael&quot;, &quot;Leonardo&quot;, &quot;Donatello&quot;, &quot;Michelangelo&quot;]\n",
        "sort_by_length([&quot;Turing&quot;, &quot;Einstein&quot;, &quot;Jung&quot;])\n",
        "➞ [&quot;Jung&quot;, &quot;Turing&quot;, &quot;Einstein&quot;]\n",
        "Notes\n",
        "All test cases contain lists with strings of different lengths, so you won&#39;t have to deal with\n",
        "multiple strings of the same length.'''"
      ],
      "metadata": {
        "colab": {
          "base_uri": "https://localhost:8080/",
          "height": 105
        },
        "id": "VyjzGBD89-At",
        "outputId": "a20ebf1c-6a9a-41ce-927d-562a94e35f19"
      },
      "execution_count": 27,
      "outputs": [
        {
          "output_type": "execute_result",
          "data": {
            "text/plain": [
              "'Create a function that takes a list of strings and return a list, sorted from shortest to longest.\\nExamples\\nsort_by_length([&quot;Google&quot;, &quot;Apple&quot;, &quot;Microsoft&quot;])\\n➞ [&quot;Apple&quot;, &quot;Google&quot;, &quot;Microsoft&quot;]\\nsort_by_length([&quot;Leonardo&quot;, &quot;Michelangelo&quot;, &quot;Raphael&quot;, &quot;Donatello&quot;])\\n➞ [&quot;Raphael&quot;, &quot;Leonardo&quot;, &quot;Donatello&quot;, &quot;Michelangelo&quot;]\\nsort_by_length([&quot;Turing&quot;, &quot;Einstein&quot;, &quot;Jung&quot;])\\n➞ [&quot;Jung&quot;, &quot;Turing&quot;, &quot;Einstein&quot;]\\nNotes\\nAll test cases contain lists with strings of different lengths, so you won&#39;t have to deal with\\nmultiple strings of the same length.'"
            ],
            "application/vnd.google.colaboratory.intrinsic+json": {
              "type": "string"
            }
          },
          "metadata": {},
          "execution_count": 27
        }
      ]
    },
    {
      "cell_type": "code",
      "source": [
        " '''To sort a list of strings based on their lengths, we can use the sorted() function and pass a custom key function that returns\n",
        " the length of each string. The sorted() function will sort the strings based on the key function, resulting in a new list sorted from shortest to longest.'''\n",
        " def sort_by_length(lst):\n",
        "    return sorted(lst, key=len)\n",
        "print(sort_by_length([\"Google\", \"Apple\", \"Microsoft\"]))\n",
        "# Output: [\"Apple\", \"Google\", \"Microsoft\"]\n",
        "\n",
        "print(sort_by_length([\"Leonardo\", \"Michelangelo\", \"Raphael\", \"Donatello\"]))\n",
        "# Output: [\"Raphael\", \"Leonardo\", \"Donatello\", \"Michelangelo\"]\n",
        "\n",
        "print(sort_by_length([\"Turing\", \"Einstein\", \"Jung\"]))\n",
        "# Output: [\"Jung\", \"Turing\", \"Einstein\"]\n"
      ],
      "metadata": {
        "colab": {
          "base_uri": "https://localhost:8080/"
        },
        "id": "sqiCZIow-Nzx",
        "outputId": "55c0b4a7-6fb8-4b39-c583-6a183295c679"
      },
      "execution_count": 28,
      "outputs": [
        {
          "output_type": "stream",
          "name": "stdout",
          "text": [
            "['Apple', 'Google', 'Microsoft']\n",
            "['Raphael', 'Leonardo', 'Donatello', 'Michelangelo']\n",
            "['Jung', 'Turing', 'Einstein']\n"
          ]
        }
      ]
    },
    {
      "cell_type": "code",
      "source": [
        "# Question5\n",
        "'''Create a function that validates whether three given integers form a Pythagorean triplet. The\n",
        "sum of the squares of the two smallest integers must equal the square of the largest number to\n",
        "be validated.\n",
        "\n",
        "Examples\n",
        "is_triplet(3, 4, 5) ➞ True\n",
        "# 3² + 4² = 25\n",
        "# 5² = 25\n",
        "is_triplet(13, 5, 12) ➞ True\n",
        "# 5² + 12² = 169\n",
        "# 13² = 169\n",
        "is_triplet(1, 2, 3) ➞ False\n",
        "# 1² + 2² = 5\n",
        "# 3² = 9\n",
        "Notes\n",
        "Numbers may not be given in a sorted order.'''"
      ],
      "metadata": {
        "colab": {
          "base_uri": "https://localhost:8080/",
          "height": 70
        },
        "id": "ZEhim3jp-eVj",
        "outputId": "364aeffd-aa9d-4c69-e34f-9490ca57b229"
      },
      "execution_count": 29,
      "outputs": [
        {
          "output_type": "execute_result",
          "data": {
            "text/plain": [
              "'Create a function that validates whether three given integers form a Pythagorean triplet. The\\nsum of the squares of the two smallest integers must equal the square of the largest number to\\nbe validated.\\n\\nExamples\\nis_triplet(3, 4, 5) ➞ True\\n# 3² + 4² = 25\\n# 5² = 25\\nis_triplet(13, 5, 12) ➞ True\\n# 5² + 12² = 169\\n# 13² = 169\\nis_triplet(1, 2, 3) ➞ False\\n# 1² + 2² = 5\\n# 3² = 9\\nNotes\\nNumbers may not be given in a sorted order.'"
            ],
            "application/vnd.google.colaboratory.intrinsic+json": {
              "type": "string"
            }
          },
          "metadata": {},
          "execution_count": 29
        }
      ]
    },
    {
      "cell_type": "code",
      "source": [
        "# Here's the implementation of the is_triplet() function:\n",
        "def is_triplet(a, b, c):\n",
        "    squares = [a**2, b**2, c**2]\n",
        "    squares.sort()\n",
        "\n",
        "    return squares[0] + squares[1] == squares[2]\n",
        "\n",
        "print(is_triplet(3, 4, 5))      # Output: True\n",
        "print(is_triplet(13, 5, 12))    # Output: True\n",
        "print(is_triplet(1, 2, 3))      # Output: False\n"
      ],
      "metadata": {
        "colab": {
          "base_uri": "https://localhost:8080/"
        },
        "id": "vByEatw0-kdB",
        "outputId": "a62669f5-a261-401b-f7b5-aea5a6079554"
      },
      "execution_count": 30,
      "outputs": [
        {
          "output_type": "stream",
          "name": "stdout",
          "text": [
            "True\n",
            "True\n",
            "False\n"
          ]
        }
      ]
    },
    {
      "cell_type": "code",
      "source": [],
      "metadata": {
        "id": "gJcuQaim-vF6"
      },
      "execution_count": null,
      "outputs": []
    }
  ]
}
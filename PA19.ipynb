{
  "nbformat": 4,
  "nbformat_minor": 0,
  "metadata": {
    "colab": {
      "provenance": []
    },
    "kernelspec": {
      "name": "python3",
      "display_name": "Python 3"
    },
    "language_info": {
      "name": "python"
    }
  },
  "cells": [
    {
      "cell_type": "code",
      "source": [
        "# Question1\n",
        "'''Create a function that takes a string and returns a string in which each character is repeated\n",
        "once.\n",
        "Examples\n",
        "double_char(&quot;String&quot;) ➞ &quot;SSttrriinngg&quot;\n",
        "double_char(&quot;Hello World!&quot;) ➞ &quot;HHeelllloo WWoorrlldd!!&quot;\n",
        "double_char(&quot;1234!_ &quot;) ➞ &quot;11223344!!__ &quot;'''"
      ],
      "metadata": {
        "colab": {
          "base_uri": "https://localhost:8080/",
          "height": 53
        },
        "id": "sXr0huH88j_R",
        "outputId": "87e0e8f8-0ae3-481f-d96f-cc9533a0104b"
      },
      "execution_count": 33,
      "outputs": [
        {
          "output_type": "execute_result",
          "data": {
            "text/plain": [
              "'Create a function that takes a string and returns a string in which each character is repeated\\nonce.\\nExamples\\ndouble_char(&quot;String&quot;) ➞ &quot;SSttrriinngg&quot;\\ndouble_char(&quot;Hello World!&quot;) ➞ &quot;HHeelllloo WWoorrlldd!!&quot;\\ndouble_char(&quot;1234!_ &quot;) ➞ &quot;11223344!!__ &quot;'"
            ],
            "application/vnd.google.colaboratory.intrinsic+json": {
              "type": "string"
            }
          },
          "metadata": {},
          "execution_count": 33
        }
      ]
    },
    {
      "cell_type": "code",
      "source": [
        "# Here's a Python function that takes a string and returns a new string with each character repeated once:\n",
        "def double_char(string):\n",
        "    return ''.join(char * 2 for char in string)\n",
        "\n",
        "print(double_char(\"String\"))       # Output: \"SSttrriinngg\"\n",
        "print(double_char(\"Hello World!\")) # Output: \"HHeelllloo  WWoorrlldd!!\"\n",
        "print(double_char(\"1234!_ \"))     # Output: \"11223344!!__  \"\n"
      ],
      "metadata": {
        "colab": {
          "base_uri": "https://localhost:8080/"
        },
        "id": "5knYqJdq9ija",
        "outputId": "9e732be0-9cd6-4198-f83a-c0886f3e5ad3"
      },
      "execution_count": 34,
      "outputs": [
        {
          "output_type": "stream",
          "name": "stdout",
          "text": [
            "SSttrriinngg\n",
            "HHeelllloo  WWoorrlldd!!\n",
            "11223344!!__  \n"
          ]
        }
      ]
    },
    {
      "cell_type": "code",
      "source": [
        "# Question2\n",
        "'''Create a function that reverses a boolean value and returns the string &quot;boolean expected&quot;\n",
        "if another variable type is given.\n",
        "Examples\n",
        "reverse(True) ➞ False\n",
        "reverse(False) ➞ True\n",
        "reverse(0) ➞ &quot;boolean expected&quot;\n",
        "reverse(None) ➞ &quot;boolean expected&quot;'''"
      ],
      "metadata": {
        "colab": {
          "base_uri": "https://localhost:8080/",
          "height": 53
        },
        "id": "RQFG9TV9922H",
        "outputId": "cc805144-f77c-4528-9141-43c74e38b1b9"
      },
      "execution_count": 35,
      "outputs": [
        {
          "output_type": "execute_result",
          "data": {
            "text/plain": [
              "'Create a function that reverses a boolean value and returns the string &quot;boolean expected&quot;\\nif another variable type is given.\\nExamples\\nreverse(True) ➞ False\\nreverse(False) ➞ True\\nreverse(0) ➞ &quot;boolean expected&quot;\\nreverse(None) ➞ &quot;boolean expected&quot;'"
            ],
            "application/vnd.google.colaboratory.intrinsic+json": {
              "type": "string"
            }
          },
          "metadata": {},
          "execution_count": 35
        }
      ]
    },
    {
      "cell_type": "code",
      "source": [
        "# Here's a Python function that reverses a boolean value and returns \"boolean expected\" if the input is not a boolean:\n",
        "def reverse(value):\n",
        "    if isinstance(value, bool):\n",
        "        return not value\n",
        "    else:\n",
        "        return \"boolean expected\"\n",
        "\n",
        "print(reverse(True))  # Output: False\n",
        "print(reverse(False)) # Output: True\n",
        "print(reverse(0))     # Output: \"boolean expected\"\n",
        "print(reverse(None))  # Output: \"boolean expected\"\n"
      ],
      "metadata": {
        "colab": {
          "base_uri": "https://localhost:8080/"
        },
        "id": "EtP8z33W9_6s",
        "outputId": "f5677b63-e6c6-4173-c96a-58818eccbe7d"
      },
      "execution_count": 36,
      "outputs": [
        {
          "output_type": "stream",
          "name": "stdout",
          "text": [
            "False\n",
            "True\n",
            "boolean expected\n",
            "boolean expected\n"
          ]
        }
      ]
    },
    {
      "cell_type": "code",
      "source": [
        "# Question3\n",
        "'''Create a function that returns the thickness (in meters) of a piece of paper after folding it n\n",
        "number of times. The paper starts off with a thickness of 0.5mm.\n",
        "Examples\n",
        "num_layers(1) ➞ &quot;0.001m&quot;\n",
        "# Paper folded once is 1mm (equal to 0.001m)\n",
        "num_layers(4) ➞ &quot;0.008m&quot;\n",
        "# Paper folded 4 times is 8mm (equal to 0.008m)\n",
        "num_layers(21) ➞ &quot;1048.576m&quot;\n",
        "# Paper folded 21 times is 1048576mm (equal to 1048.576m)'''"
      ],
      "metadata": {
        "colab": {
          "base_uri": "https://localhost:8080/",
          "height": 70
        },
        "id": "WYyaKevl-NTQ",
        "outputId": "b602c5e1-324b-49ce-d785-6b58440334a9"
      },
      "execution_count": 37,
      "outputs": [
        {
          "output_type": "execute_result",
          "data": {
            "text/plain": [
              "'Create a function that returns the thickness (in meters) of a piece of paper after folding it n\\nnumber of times. The paper starts off with a thickness of 0.5mm.\\nExamples\\nnum_layers(1) ➞ &quot;0.001m&quot;\\n# Paper folded once is 1mm (equal to 0.001m)\\nnum_layers(4) ➞ &quot;0.008m&quot;\\n# Paper folded 4 times is 8mm (equal to 0.008m)\\nnum_layers(21) ➞ &quot;1048.576m&quot;\\n# Paper folded 21 times is 1048576mm (equal to 1048.576m)'"
            ],
            "application/vnd.google.colaboratory.intrinsic+json": {
              "type": "string"
            }
          },
          "metadata": {},
          "execution_count": 37
        }
      ]
    },
    {
      "cell_type": "code",
      "source": [
        "# To calculate the thickness of a piece of paper after folding it a certain number of times, we can use the formula: thickness = initial_thickness * 2^num_folds.\n",
        "# Here's a Python function that implements this calculation:\n",
        "def num_layers(num_folds):\n",
        "    initial_thickness = 0.5 / 1000  # Convert 0.5mm to meters\n",
        "    thickness = initial_thickness * (2 ** num_folds)\n",
        "    return f\"{thickness:.3f}m\"\n",
        "\n",
        "print(num_layers(1))   # Output: \"0.001m\"\n",
        "print(num_layers(4))   # Output: \"0.008m\"\n",
        "print(num_layers(21))  # Output: \"1048.576m\"\n"
      ],
      "metadata": {
        "colab": {
          "base_uri": "https://localhost:8080/"
        },
        "id": "fBd5vjTi-kkl",
        "outputId": "e60b5598-eaa3-4b12-aec7-ee0b2d1502fb"
      },
      "execution_count": 38,
      "outputs": [
        {
          "output_type": "stream",
          "name": "stdout",
          "text": [
            "0.001m\n",
            "0.008m\n",
            "1048.576m\n"
          ]
        }
      ]
    },
    {
      "cell_type": "code",
      "source": [
        "# Question4\n",
        "\n",
        "'''Create a function that takes a single string as argument and returns an ordered list containing\n",
        "the indices of all capital letters in the string.\n",
        "Examples\n",
        "index_of_caps(&quot;eDaBiT&quot;) ➞ [1, 3, 5]\n",
        "index_of_caps(&quot;eQuINoX&quot;) ➞ [1, 3, 4, 6]\n",
        "index_of_caps(&quot;determine&quot;) ➞ []\n",
        "index_of_caps(&quot;STRIKE&quot;) ➞ [0, 1, 2, 3, 4, 5]\n",
        "index_of_caps(&quot;sUn&quot;) ➞ [1]'''"
      ],
      "metadata": {
        "colab": {
          "base_uri": "https://localhost:8080/",
          "height": 70
        },
        "id": "Qpg83OhP_GA7",
        "outputId": "6b6d4df2-675e-45e9-8ce9-7e43693d2302"
      },
      "execution_count": 39,
      "outputs": [
        {
          "output_type": "execute_result",
          "data": {
            "text/plain": [
              "'Create a function that takes a single string as argument and returns an ordered list containing\\nthe indices of all capital letters in the string.\\nExamples\\nindex_of_caps(&quot;eDaBiT&quot;) ➞ [1, 3, 5]\\nindex_of_caps(&quot;eQuINoX&quot;) ➞ [1, 3, 4, 6]\\nindex_of_caps(&quot;determine&quot;) ➞ []\\nindex_of_caps(&quot;STRIKE&quot;) ➞ [0, 1, 2, 3, 4, 5]\\nindex_of_caps(&quot;sUn&quot;) ➞ [1]'"
            ],
            "application/vnd.google.colaboratory.intrinsic+json": {
              "type": "string"
            }
          },
          "metadata": {},
          "execution_count": 39
        }
      ]
    },
    {
      "cell_type": "code",
      "source": [
        "# Here's a Python function that takes a single string as an argument and returns an ordered list containing the indices of all capital letters in the string:\n",
        "def index_of_caps(word):\n",
        "    indices = []\n",
        "    for index, char in enumerate(word):\n",
        "        if char.isupper():\n",
        "            indices.append(index)\n",
        "    return indices\n",
        "\n",
        "print(index_of_caps(\"eDaBiT\"))     # Output: [1, 3, 5]\n",
        "print(index_of_caps(\"eQuINoX\"))    # Output: [1, 3, 4, 6]\n",
        "print(index_of_caps(\"determine\"))  # Output: []\n",
        "print(index_of_caps(\"STRIKE\"))     # Output: [0, 1, 2, 3, 4, 5]\n",
        "print(index_of_caps(\"sUn\"))        # Output: [1]\n"
      ],
      "metadata": {
        "colab": {
          "base_uri": "https://localhost:8080/"
        },
        "id": "_i4ueeG5_Mtp",
        "outputId": "a8fcd87a-c060-46de-c365-9ae59e97d841"
      },
      "execution_count": 40,
      "outputs": [
        {
          "output_type": "stream",
          "name": "stdout",
          "text": [
            "[1, 3, 5]\n",
            "[1, 3, 4, 6]\n",
            "[]\n",
            "[0, 1, 2, 3, 4, 5]\n",
            "[1]\n"
          ]
        }
      ]
    },
    {
      "cell_type": "code",
      "source": [
        "# Question5\n",
        "'''Using list comprehensions, create a function that finds all even numbers from 1 to the given\n",
        "number.\n",
        "Examples\n",
        "find_even_nums(8) ➞ [2, 4, 6, 8]\n",
        "find_even_nums(4) ➞ [2, 4]\n",
        "find_even_nums(2) ➞ [2]'''"
      ],
      "metadata": {
        "colab": {
          "base_uri": "https://localhost:8080/",
          "height": 53
        },
        "id": "1XWjHwnQ_tts",
        "outputId": "b8076944-5923-46e3-e501-feadeb997a89"
      },
      "execution_count": 41,
      "outputs": [
        {
          "output_type": "execute_result",
          "data": {
            "text/plain": [
              "'Using list comprehensions, create a function that finds all even numbers from 1 to the given\\nnumber.\\nExamples\\nfind_even_nums(8) ➞ [2, 4, 6, 8]\\nfind_even_nums(4) ➞ [2, 4]\\nfind_even_nums(2) ➞ [2]'"
            ],
            "application/vnd.google.colaboratory.intrinsic+json": {
              "type": "string"
            }
          },
          "metadata": {},
          "execution_count": 41
        }
      ]
    },
    {
      "cell_type": "code",
      "source": [
        "# Here's a Python function that uses list comprehension to find all even numbers from 1 to the given number:\n",
        "def find_even_nums(n):\n",
        "    return [num for num in range(1, n+1) if num % 2 == 0]\n",
        "\n",
        "print(find_even_nums(8))  # Output: [2, 4, 6, 8]\n",
        "print(find_even_nums(4))  # Output: [2, 4]\n",
        "print(find_even_nums(2))  # Output: [2]\n"
      ],
      "metadata": {
        "colab": {
          "base_uri": "https://localhost:8080/"
        },
        "id": "pgaiaMNX_0m3",
        "outputId": "0607e5ea-e3df-4ca6-e193-7e1b867032d6"
      },
      "execution_count": 42,
      "outputs": [
        {
          "output_type": "stream",
          "name": "stdout",
          "text": [
            "[2, 4, 6, 8]\n",
            "[2, 4]\n",
            "[2]\n"
          ]
        }
      ]
    },
    {
      "cell_type": "code",
      "source": [],
      "metadata": {
        "id": "iLMl83DAAN5A"
      },
      "execution_count": null,
      "outputs": []
    }
  ]
}
{
  "nbformat": 4,
  "nbformat_minor": 0,
  "metadata": {
    "colab": {
      "provenance": []
    },
    "kernelspec": {
      "name": "python3",
      "display_name": "Python 3"
    },
    "language_info": {
      "name": "python"
    }
  },
  "cells": [
    {
      "cell_type": "code",
      "execution_count": 1,
      "metadata": {
        "colab": {
          "base_uri": "https://localhost:8080/",
          "height": 70
        },
        "id": "LWKwtrHkP5z6",
        "outputId": "a2a6b0ea-15ad-4e45-9d72-5f1b1b9a0143"
      },
      "outputs": [
        {
          "output_type": "execute_result",
          "data": {
            "text/plain": [
              "'Write a program that calculates and prints the value according to the given formula:\\nQ = Square root of [(2 * C * D)/H]\\nFollowing are the fixed values of C and H:\\nC is 50. H is 30.\\nD is the variable whose values should be input to your program in a comma-separated\\nsequence.\\nExample\\nLet us assume the following comma separated input sequence is given to the program:\\n100,150,180\\nThe output of the program should be:\\n18,22,24'"
            ],
            "application/vnd.google.colaboratory.intrinsic+json": {
              "type": "string"
            }
          },
          "metadata": {},
          "execution_count": 1
        }
      ],
      "source": [
        "# Question 1:\n",
        "'''Write a program that calculates and prints the value according to the given formula:\n",
        "Q = Square root of [(2 * C * D)/H]\n",
        "Following are the fixed values of C and H:\n",
        "C is 50. H is 30.\n",
        "D is the variable whose values should be input to your program in a comma-separated\n",
        "sequence.\n",
        "Example\n",
        "Let us assume the following comma separated input sequence is given to the program:\n",
        "100,150,180\n",
        "The output of the program should be:\n",
        "18,22,24'''"
      ]
    },
    {
      "cell_type": "code",
      "source": [
        "# Here's a Python program that calculates and prints the values according to the given formula:\n",
        "import math\n",
        "\n",
        "C = 50\n",
        "H = 30\n",
        "\n",
        "def calculate_values(input_sequence):\n",
        "    values = input_sequence.split(',')\n",
        "    result = []\n",
        "\n",
        "    for value in values:\n",
        "        D = int(value)\n",
        "        Q = int(math.sqrt((2 * C * D) / H))\n",
        "        result.append(str(Q))\n",
        "\n",
        "    output = ','.join(result)\n",
        "    return output\n",
        "\n",
        "# Example usage\n",
        "input_sequence = \"100,150,180\"\n",
        "output = calculate_values(input_sequence)\n",
        "print(output)\n"
      ],
      "metadata": {
        "id": "hKIvq0MBQilz"
      },
      "execution_count": null,
      "outputs": []
    },
    {
      "cell_type": "code",
      "source": [
        "# Question 2:\n",
        "'''Write a program which takes 2 digits, X,Y as input and generates a 2-dimensional array. The\n",
        "element value in the i-th row and j-th column of the array should be i*j.\n",
        "Note: i=0,1.., X-1; j=0,1,¡Y-1.\n",
        "Example\n",
        "Suppose the following inputs are given to the program:\n",
        "3,5\n",
        "Then, the output of the program should be:\n",
        "[[0, 0, 0, 0, 0], [0, 1, 2, 3, 4], [0, 2, 4, 6, 8]]'''"
      ],
      "metadata": {
        "colab": {
          "base_uri": "https://localhost:8080/",
          "height": 70
        },
        "id": "VS3buEKwQq8v",
        "outputId": "152a1b44-3a6d-4456-8949-14c7b796658b"
      },
      "execution_count": 3,
      "outputs": [
        {
          "output_type": "execute_result",
          "data": {
            "text/plain": [
              "'Write a program which takes 2 digits, X,Y as input and generates a 2-dimensional array. The\\nelement value in the i-th row and j-th column of the array should be i*j.\\nNote: i=0,1.., X-1; j=0,1,¡Y-1.\\nExample\\nSuppose the following inputs are given to the program:\\n3,5\\nThen, the output of the program should be:\\n[[0, 0, 0, 0, 0], [0, 1, 2, 3, 4], [0, 2, 4, 6, 8]]'"
            ],
            "application/vnd.google.colaboratory.intrinsic+json": {
              "type": "string"
            }
          },
          "metadata": {},
          "execution_count": 3
        }
      ]
    },
    {
      "cell_type": "code",
      "source": [
        "# here's a Python program that takes two digits, X and Y, as input and generates a 2-dimensional array according to the given conditions:\n",
        "def generate_array(X, Y):\n",
        "    array = []\n",
        "\n",
        "    for i in range(X):\n",
        "        row = []\n",
        "        for j in range(Y):\n",
        "            row.append(i * j)\n",
        "        array.append(row)\n",
        "\n",
        "    return array\n",
        "\n",
        "# Example usage\n",
        "X = 3\n",
        "Y = 5\n",
        "result = generate_array(X, Y)\n",
        "print(result)"
      ],
      "metadata": {
        "id": "baiGImmSQ6MS"
      },
      "execution_count": null,
      "outputs": []
    },
    {
      "cell_type": "code",
      "source": [
        "# Question 3:\n",
        "'''Write a program that accepts a comma separated sequence of words as input and prints the\n",
        "words in a comma-separated sequence after sorting them alphabetically.\n",
        "Suppose the following input is supplied to the program:\n",
        "without,hello,bag,world\n",
        "Then, the output should be:\n",
        "bag,hello,without,world'''"
      ],
      "metadata": {
        "id": "zdu1O1gARLnP",
        "outputId": "15764863-7d40-446b-ae9f-f11e81572834",
        "colab": {
          "base_uri": "https://localhost:8080/",
          "height": 53
        }
      },
      "execution_count": 6,
      "outputs": [
        {
          "output_type": "execute_result",
          "data": {
            "text/plain": [
              "'Write a program that accepts a comma separated sequence of words as input and prints the\\nwords in a comma-separated sequence after sorting them alphabetically.\\nSuppose the following input is supplied to the program:\\nwithout,hello,bag,world\\nThen, the output should be:\\nbag,hello,without,world'"
            ],
            "application/vnd.google.colaboratory.intrinsic+json": {
              "type": "string"
            }
          },
          "metadata": {},
          "execution_count": 6
        }
      ]
    },
    {
      "cell_type": "code",
      "source": [
        "'''Here's a Python program that accepts a comma-separated sequence of words as input, sorts them alphabetically,\n",
        "and then prints the words in a comma-separated sequence:'''\n",
        "def sort_words(input_sequence):\n",
        "    words = input_sequence.split(',')\n",
        "    sorted_words = sorted(words)\n",
        "    output = ','.join(sorted_words)\n",
        "    return output\n",
        "\n",
        "# Example usage\n",
        "input_sequence = \"without,hello,bag,world\"\n",
        "output = sort_words(input_sequence)\n",
        "print(output)\n"
      ],
      "metadata": {
        "id": "wpPFLJAGRhCg"
      },
      "execution_count": null,
      "outputs": []
    },
    {
      "cell_type": "code",
      "source": [
        "# Question 4:\n",
        "'''Write a program that accepts a sequence of whitespace separated words as input and prints\n",
        "the words after removing all duplicate words and sorting them alphanumerically.\n",
        "Suppose the following input is supplied to the program:\n",
        "hello world and practice makes perfect and hello world again\n",
        "Then, the output should be:\n",
        "again and hello makes perfect practice world'''"
      ],
      "metadata": {
        "id": "UVosZQ_DRzBi",
        "outputId": "4d65f8a7-352d-4d9b-9c1c-25c6d2303b7e",
        "colab": {
          "base_uri": "https://localhost:8080/",
          "height": 70
        }
      },
      "execution_count": 8,
      "outputs": [
        {
          "output_type": "execute_result",
          "data": {
            "text/plain": [
              "'Write a program that accepts a sequence of whitespace separated words as input and prints\\nthe words after removing all duplicate words and sorting them alphanumerically.\\nSuppose the following input is supplied to the program:\\nhello world and practice makes perfect and hello world again\\nThen, the output should be:\\nagain and hello makes perfect practice world'"
            ],
            "application/vnd.google.colaboratory.intrinsic+json": {
              "type": "string"
            }
          },
          "metadata": {},
          "execution_count": 8
        }
      ]
    },
    {
      "cell_type": "code",
      "source": [
        "'''Here's a Python program that accepts a sequence of whitespace-separated words as input, removes duplicate words,\n",
        "sorts them alphanumerically, and then prints the words:'''\n",
        "def remove_duplicates_and_sort(input_sequence):\n",
        "    words = input_sequence.split()\n",
        "    unique_words = list(set(words))\n",
        "    sorted_words = sorted(unique_words)\n",
        "    output = ' '.join(sorted_words)\n",
        "    return output\n",
        "\n",
        "# Example usage\n",
        "input_sequence = \"hello world and practice makes perfect and hello world again\"\n",
        "output = remove_duplicates_and_sort(input_sequence)\n",
        "print(output)\n"
      ],
      "metadata": {
        "id": "TAQ03qH9SLY7"
      },
      "execution_count": null,
      "outputs": []
    },
    {
      "cell_type": "code",
      "source": [
        "# Question 5:\n",
        "'''Write a program that accepts a sentence and calculate the number of letters and digits.\n",
        "Suppose the following input is supplied to the program:\n",
        "hello world! 123\n",
        "Then, the output should be:\n",
        "LETTERS 10\n",
        "\n",
        "DIGITS 3'''"
      ],
      "metadata": {
        "id": "mz1_0gtlST5f",
        "outputId": "18d8fd4a-9916-4a5a-ea9e-15ca9099ebb6",
        "colab": {
          "base_uri": "https://localhost:8080/",
          "height": 53
        }
      },
      "execution_count": 10,
      "outputs": [
        {
          "output_type": "execute_result",
          "data": {
            "text/plain": [
              "'Write a program that accepts a sentence and calculate the number of letters and digits.\\nSuppose the following input is supplied to the program:\\nhello world! 123\\nThen, the output should be:\\nLETTERS 10\\n\\nDIGITS 3'"
            ],
            "application/vnd.google.colaboratory.intrinsic+json": {
              "type": "string"
            }
          },
          "metadata": {},
          "execution_count": 10
        }
      ]
    },
    {
      "cell_type": "code",
      "source": [
        "# Here's a Python program that accepts a sentence as input and calculates the number of letters and digits in the sentence\n",
        "def count_letters_digits(sentence):\n",
        "    letters = 0\n",
        "    digits = 0\n",
        "\n",
        "    for char in sentence:\n",
        "        if char.isalpha():\n",
        "            letters += 1\n",
        "        elif char.isdigit():\n",
        "            digits += 1\n",
        "\n",
        "    return letters, digits\n",
        "\n",
        "# Example usage\n",
        "input_sentence = \"hello world! 123\"\n",
        "letter_count, digit_count = count_letters_digits(input_sentence)\n",
        "print(\"LETTERS\", letter_count)\n",
        "print(\"DIGITS\", digit_count)\n"
      ],
      "metadata": {
        "id": "-HTSPhCiSeA1"
      },
      "execution_count": null,
      "outputs": []
    },
    {
      "cell_type": "code",
      "source": [
        "# Question 6:\n",
        "'''A website requires the users to input username and password to register. Write a program to\n",
        "check the validity of password input by users.\n",
        "Following are the criteria for checking the password:\n",
        "1. At least 1 letter between [a-z]\n",
        "2. At least 1 number between [0-9]\n",
        "1. At least 1 letter between [A-Z]\n",
        "3. At least 1 character from [$#@]\n",
        "4. Minimum length of transaction password: 6\n",
        "5. Maximum length of transaction password: 12\n",
        "Your program should accept a sequence of comma separated passwords and will check them\n",
        "according to the above criteria. Passwords that match the criteria are to be printed, each\n",
        "separated by a comma.\n",
        "Example\n",
        "If the following passwords are given as input to the program:\n",
        "ABd1234@1,a F1#,2w3E*,2We3345\n",
        "Then, the output of the program should be:\n",
        "ABd1234@1'''"
      ],
      "metadata": {
        "id": "3HSXnevSStRV"
      },
      "execution_count": null,
      "outputs": []
    },
    {
      "cell_type": "code",
      "source": [
        "# Here's a Python program that checks the validity of password input based on the given criteria:\n",
        "import re\n",
        "\n",
        "def check_password_validity(password):\n",
        "    if len(password) < 6 or len(password) > 12:\n",
        "        return False\n",
        "\n",
        "    if not re.search(r'[a-z]', password):\n",
        "        return False\n",
        "\n",
        "    if not re.search(r'[0-9]', password):\n",
        "        return False\n",
        "\n",
        "    if not re.search(r'[A-Z]', password):\n",
        "        return False\n",
        "\n",
        "    if not re.search(r'[$#@]', password):\n",
        "        return False\n",
        "\n",
        "    return True\n",
        "\n",
        "def validate_passwords(passwords):\n",
        "    valid_passwords = []\n",
        "    password_list = passwords.split(',')\n",
        "\n",
        "    for password in password_list:\n",
        "        if check_password_validity(password):\n",
        "            valid_passwords.append(password)\n",
        "\n",
        "    return valid_passwords\n",
        "\n",
        "# Example usage\n",
        "input_passwords = \"ABd1234@1,aF1#,2w3E*,2We3345\"\n",
        "valid_passwords = validate_passwords(input_passwords)\n",
        "output = \",\".join(valid_passwords)\n",
        "print(output)\n"
      ],
      "metadata": {
        "id": "_KBHRPF7S-mJ"
      },
      "execution_count": null,
      "outputs": []
    },
    {
      "cell_type": "code",
      "source": [],
      "metadata": {
        "id": "YdxAtp1uTFQn"
      },
      "execution_count": null,
      "outputs": []
    }
  ]
}
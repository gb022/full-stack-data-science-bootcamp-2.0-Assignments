{
  "nbformat": 4,
  "nbformat_minor": 0,
  "metadata": {
    "colab": {
      "provenance": []
    },
    "kernelspec": {
      "name": "python3",
      "display_name": "Python 3"
    },
    "language_info": {
      "name": "python"
    }
  },
  "cells": [
    {
      "cell_type": "code",
      "source": [
        "# Question 1\n",
        "'''Create a function that takes three parameters where:\n",
        " x is the start of the range (inclusive).\n",
        " y is the end of the range (inclusive).\n",
        " n is the divisor to be checked against.\n",
        "Return an ordered list with numbers in the range that are divisible by the third parameter n.\n",
        "Return an empty list if there are no numbers that are divisible by n.\n",
        "Examples\n",
        "list_operation(1, 10, 3) ➞ [3, 6, 9]\n",
        "list_operation(7, 9, 2) ➞ [8]\n",
        "list_operation(15, 20, 7) ➞ []'''"
      ],
      "metadata": {
        "colab": {
          "base_uri": "https://localhost:8080/",
          "height": 70
        },
        "id": "SCqphCyNigVR",
        "outputId": "730620ca-664a-450c-a015-fb763a9d0146"
      },
      "execution_count": null,
      "outputs": [
        {
          "output_type": "execute_result",
          "data": {
            "text/plain": [
              "'Create a function that takes three parameters where:\\n\\uf0b7 x is the start of the range (inclusive).\\n\\uf0b7 y is the end of the range (inclusive).\\n\\uf0b7 n is the divisor to be checked against.\\nReturn an ordered list with numbers in the range that are divisible by the third parameter n.\\nReturn an empty list if there are no numbers that are divisible by n.\\nExamples\\nlist_operation(1, 10, 3) ➞ [3, 6, 9]\\nlist_operation(7, 9, 2) ➞ [8]\\nlist_operation(15, 20, 7) ➞ []'"
            ],
            "application/vnd.google.colaboratory.intrinsic+json": {
              "type": "string"
            }
          },
          "metadata": {},
          "execution_count": 64
        }
      ]
    },
    {
      "cell_type": "code",
      "source": [
        "# Here's a Python function that solves the problem\n",
        "def list_operation(x, y, n):\n",
        "    result = []\n",
        "    for num in range(x, y + 1):\n",
        "        if num % n == 0:\n",
        "            result.append(num)\n",
        "    return result\n",
        "print(list_operation(1, 10, 3))  # Output: [3, 6, 9]\n",
        "print(list_operation(7, 9, 2))   # Output: [8]\n",
        "print(list_operation(15, 20, 7)) # Output: []\n"
      ],
      "metadata": {
        "id": "2W62r311j5Xw",
        "colab": {
          "base_uri": "https://localhost:8080/"
        },
        "outputId": "4d4854b7-d98b-494c-d8bb-d2405582058f"
      },
      "execution_count": 1,
      "outputs": [
        {
          "output_type": "stream",
          "name": "stdout",
          "text": [
            "[3, 6, 9]\n",
            "[8]\n",
            "[]\n"
          ]
        }
      ]
    },
    {
      "cell_type": "code",
      "source": [
        "# Question2\n",
        "'''Create a function that takes in two lists and returns True if the second list follows the first list\n",
        "by one element, and False otherwise. In other words, determine if the second list is the first\n",
        "list shifted to the right by 1.\n",
        "Examples\n",
        "simon_says([1, 2], [5, 1]) ➞ True\n",
        "simon_says([1, 2], [5, 5]) ➞ False\n",
        "simon_says([1, 2, 3, 4, 5], [0, 1, 2, 3, 4]) ➞ True\n",
        "simon_says([1, 2, 3, 4, 5], [5, 5, 1, 2, 3]) ➞ False\n",
        "Notes\n",
        " Both input lists will be of the same length, and will have a minimum length of 2.\n",
        " The values of the 0-indexed element in the second list and the n-1th indexed element\n",
        "in the first list do not matter.'''"
      ],
      "metadata": {
        "colab": {
          "base_uri": "https://localhost:8080/",
          "height": 87
        },
        "id": "zx1mf93i1IBl",
        "outputId": "39025a2e-937d-4291-a1e2-5c27c7837cbd"
      },
      "execution_count": 2,
      "outputs": [
        {
          "output_type": "execute_result",
          "data": {
            "text/plain": [
              "'Create a function that takes in two lists and returns True if the second list follows the first list\\nby one element, and False otherwise. In other words, determine if the second list is the first\\nlist shifted to the right by 1.\\nExamples\\nsimon_says([1, 2], [5, 1]) ➞ True\\nsimon_says([1, 2], [5, 5]) ➞ False\\nsimon_says([1, 2, 3, 4, 5], [0, 1, 2, 3, 4]) ➞ True\\nsimon_says([1, 2, 3, 4, 5], [5, 5, 1, 2, 3]) ➞ False\\nNotes\\n\\uf0b7 Both input lists will be of the same length, and will have a minimum length of 2.\\n\\uf0b7 The values of the 0-indexed element in the second list and the n-1th indexed element\\nin the first list do not matter.'"
            ],
            "application/vnd.google.colaboratory.intrinsic+json": {
              "type": "string"
            }
          },
          "metadata": {},
          "execution_count": 2
        }
      ]
    },
    {
      "cell_type": "code",
      "source": [
        "# Python function that solves the problem :\n",
        "def simon_says(list1, list2):\n",
        "    return list1[:-1] == list2[1:]\n",
        "\n",
        "print(simon_says([1, 2], [5, 1]))              # Output: True\n",
        "print(simon_says([1, 2], [5, 5]))              # Output: False\n",
        "print(simon_says([1, 2, 3, 4, 5], [0, 1, 2, 3, 4]))   # Output: True\n",
        "print(simon_says([1, 2, 3, 4, 5], [5, 5, 1, 2, 3]))   # Output: False\n"
      ],
      "metadata": {
        "colab": {
          "base_uri": "https://localhost:8080/"
        },
        "id": "9rfhgf6G1TOn",
        "outputId": "64280580-ed43-4846-99fe-eff824514def"
      },
      "execution_count": 3,
      "outputs": [
        {
          "output_type": "stream",
          "name": "stdout",
          "text": [
            "True\n",
            "False\n",
            "True\n",
            "False\n"
          ]
        }
      ]
    },
    {
      "cell_type": "code",
      "source": [
        "# Question3\n",
        "'''A group of friends have decided to start a secret society. The name will be the first letter of\n",
        "each of their names, sorted in alphabetical order.\n",
        "Create a function that takes in a list of names and returns the name of the secret society.\n",
        "\n",
        "Examples\n",
        "society_name([&quot;Adam&quot;, &quot;Sarah&quot;, &quot;Malcolm&quot;]) ➞ &quot;AMS&quot;\n",
        "society_name([&quot;Harry&quot;, &quot;Newt&quot;, &quot;Luna&quot;, &quot;Cho&quot;]) ➞ &quot;CHLN&quot;\n",
        "society_name([&quot;Phoebe&quot;, &quot;Chandler&quot;, &quot;Rachel&quot;, &quot;Ross&quot;, &quot;Monica&quot;, &quot;Joey&quot;])'''"
      ],
      "metadata": {
        "colab": {
          "base_uri": "https://localhost:8080/",
          "height": 87
        },
        "id": "GlguSAoi1nqj",
        "outputId": "556b5e04-0b14-4fe8-d4af-1f24a6a0af6d"
      },
      "execution_count": 4,
      "outputs": [
        {
          "output_type": "execute_result",
          "data": {
            "text/plain": [
              "'A group of friends have decided to start a secret society. The name will be the first letter of\\neach of their names, sorted in alphabetical order.\\nCreate a function that takes in a list of names and returns the name of the secret society.\\n\\nExamples\\nsociety_name([&quot;Adam&quot;, &quot;Sarah&quot;, &quot;Malcolm&quot;]) ➞ &quot;AMS&quot;\\nsociety_name([&quot;Harry&quot;, &quot;Newt&quot;, &quot;Luna&quot;, &quot;Cho&quot;]) ➞ &quot;CHLN&quot;\\nsociety_name([&quot;Phoebe&quot;, &quot;Chandler&quot;, &quot;Rachel&quot;, &quot;Ross&quot;, &quot;Monica&quot;, &quot;Joey&quot;])'"
            ],
            "application/vnd.google.colaboratory.intrinsic+json": {
              "type": "string"
            }
          },
          "metadata": {},
          "execution_count": 4
        }
      ]
    },
    {
      "cell_type": "code",
      "source": [
        "# Python function that solves the problem :\n",
        "def society_name(names):\n",
        "    return ''.join(sorted([name[0] for name in names]))\n",
        "\n",
        "print(society_name([\"Adam\", \"Sarah\", \"Malcolm\"]))                      # Output: \"AMS\"\n",
        "print(society_name([\"Harry\", \"Newt\", \"Luna\", \"Cho\"]))                  # Output: \"CHLN\"\n",
        "print(society_name([\"Phoebe\", \"Chandler\", \"Rachel\", \"Ross\", \"Monica\", \"Joey\"]))   # Output: \"CJMPRR\"\n"
      ],
      "metadata": {
        "colab": {
          "base_uri": "https://localhost:8080/"
        },
        "id": "uddjTlGE1sZv",
        "outputId": "9e397530-0470-41d3-f638-085a9a01d0c4"
      },
      "execution_count": 5,
      "outputs": [
        {
          "output_type": "stream",
          "name": "stdout",
          "text": [
            "AMS\n",
            "CHLN\n",
            "CJMPRR\n"
          ]
        }
      ]
    },
    {
      "cell_type": "code",
      "source": [
        "# Question4\n",
        "'''An isogram is a word that has no duplicate letters. Create a function that takes a string and\n",
        "returns either True or False depending on whether or not it&#39;s an &quot;isogram&quot;.\n",
        "Examples\n",
        "is_isogram(&quot;Algorism&quot;) ➞ True\n",
        "is_isogram(&quot;PasSword&quot;) ➞ False\n",
        "# Not case sensitive.\n",
        "is_isogram(&quot;Consecutive&quot;) ➞ False\n",
        "Notes\n",
        " Ignore letter case (should not be case sensitive).\n",
        " All test cases contain valid one word strings.'''"
      ],
      "metadata": {
        "colab": {
          "base_uri": "https://localhost:8080/",
          "height": 70
        },
        "id": "eCUMDD6M18u3",
        "outputId": "fc6ec7f5-749f-49e4-ba03-1847259e1c75"
      },
      "execution_count": 6,
      "outputs": [
        {
          "output_type": "execute_result",
          "data": {
            "text/plain": [
              "'An isogram is a word that has no duplicate letters. Create a function that takes a string and\\nreturns either True or False depending on whether or not it&#39;s an &quot;isogram&quot;.\\nExamples\\nis_isogram(&quot;Algorism&quot;) ➞ True\\nis_isogram(&quot;PasSword&quot;) ➞ False\\n# Not case sensitive.\\nis_isogram(&quot;Consecutive&quot;) ➞ False\\nNotes\\n\\uf0b7 Ignore letter case (should not be case sensitive).\\n\\uf0b7 All test cases contain valid one word strings.'"
            ],
            "application/vnd.google.colaboratory.intrinsic+json": {
              "type": "string"
            }
          },
          "metadata": {},
          "execution_count": 6
        }
      ]
    },
    {
      "cell_type": "code",
      "source": [
        "# Here's a Python function that checks whether a given string is an isogram:\n",
        "def is_isogram(string):\n",
        "    lowercase_string = string.lower()\n",
        "    return len(set(lowercase_string)) == len(lowercase_string)\n",
        "\n",
        "print(is_isogram(\"Algorism\"))        # Output: True\n",
        "print(is_isogram(\"PasSword\"))        # Output: False\n",
        "print(is_isogram(\"Consecutive\"))     # Output: False\n"
      ],
      "metadata": {
        "colab": {
          "base_uri": "https://localhost:8080/"
        },
        "id": "w6bjNjOd2Cm3",
        "outputId": "6ce25ca4-eb32-42c6-9202-ab72e1ce824d"
      },
      "execution_count": 7,
      "outputs": [
        {
          "output_type": "stream",
          "name": "stdout",
          "text": [
            "True\n",
            "False\n",
            "False\n"
          ]
        }
      ]
    },
    {
      "cell_type": "code",
      "source": [
        "# Question5\n",
        "'''Create a function that takes a string and returns True or False, depending on whether the\n",
        "characters are in order or not.\n",
        "Examples\n",
        "is_in_order(&quot;abc&quot;) ➞ True\n",
        "is_in_order(&quot;edabit&quot;) ➞ False\n",
        "is_in_order(&quot;123&quot;) ➞ True\n",
        "is_in_order(&quot;xyzz&quot;) ➞ True\n",
        "Notes\n",
        "You don&#39;t have to handle empty strings.'''"
      ],
      "metadata": {
        "colab": {
          "base_uri": "https://localhost:8080/",
          "height": 70
        },
        "id": "hU4SCNUT2kWH",
        "outputId": "fc049355-49bc-4050-a208-1f1fa41144d6"
      },
      "execution_count": 8,
      "outputs": [
        {
          "output_type": "execute_result",
          "data": {
            "text/plain": [
              "'Create a function that takes a string and returns True or False, depending on whether the\\ncharacters are in order or not.\\nExamples\\nis_in_order(&quot;abc&quot;) ➞ True\\nis_in_order(&quot;edabit&quot;) ➞ False\\nis_in_order(&quot;123&quot;) ➞ True\\nis_in_order(&quot;xyzz&quot;) ➞ True\\nNotes\\nYou don&#39;t have to handle empty strings.'"
            ],
            "application/vnd.google.colaboratory.intrinsic+json": {
              "type": "string"
            }
          },
          "metadata": {},
          "execution_count": 8
        }
      ]
    },
    {
      "cell_type": "code",
      "source": [
        "# Here's a Python function that checks whether the characters in a given string are in order:\n",
        "def is_in_order(string):\n",
        "    return string == ''.join(sorted(string))\n",
        "print(is_in_order(\"abc\"))        # Output: True\n",
        "print(is_in_order(\"edabit\"))     # Output: False\n",
        "print(is_in_order(\"123\"))        # Output: True\n",
        "print(is_in_order(\"xyzz\"))       # Output: True\n"
      ],
      "metadata": {
        "colab": {
          "base_uri": "https://localhost:8080/"
        },
        "id": "26olBJaI2r89",
        "outputId": "a4d84d33-685e-4a4b-a6ce-c954191e70ef"
      },
      "execution_count": 9,
      "outputs": [
        {
          "output_type": "stream",
          "name": "stdout",
          "text": [
            "True\n",
            "False\n",
            "True\n",
            "True\n"
          ]
        }
      ]
    },
    {
      "cell_type": "code",
      "source": [],
      "metadata": {
        "id": "rG0JgDb73BZt"
      },
      "execution_count": null,
      "outputs": []
    }
  ]
}
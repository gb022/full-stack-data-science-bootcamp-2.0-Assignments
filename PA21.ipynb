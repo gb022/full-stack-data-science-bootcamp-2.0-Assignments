{
  "nbformat": 4,
  "nbformat_minor": 0,
  "metadata": {
    "colab": {
      "provenance": []
    },
    "kernelspec": {
      "name": "python3",
      "display_name": "Python 3"
    },
    "language_info": {
      "name": "python"
    }
  },
  "cells": [
    {
      "cell_type": "code",
      "source": [
        "# Question1\n",
        "'''Write a function that takes a list and a number as arguments. Add the number to the end of\n",
        "the list, then remove the first element of the list. The function should then return the updated\n",
        "list.\n",
        "Examples\n",
        "next_in_line([5, 6, 7, 8, 9], 1) ➞ [6, 7, 8, 9, 1]\n",
        "next_in_line([7, 6, 3, 23, 17], 10) ➞ [6, 3, 23, 17, 10]\n",
        "next_in_line([1, 10, 20, 42 ], 6) ➞ [10, 20, 42, 6]\n",
        "next_in_line([], 6) ➞ &quot;No list has been selected&quot;'''"
      ],
      "metadata": {
        "colab": {
          "base_uri": "https://localhost:8080/",
          "height": 70
        },
        "id": "D_lpwCXSW8LZ",
        "outputId": "8caeb7de-2c71-4a94-e9d8-cfb7ddab579f"
      },
      "execution_count": 54,
      "outputs": [
        {
          "output_type": "execute_result",
          "data": {
            "text/plain": [
              "'Write a function that takes a list and a number as arguments. Add the number to the end of\\nthe list, then remove the first element of the list. The function should then return the updated\\nlist.\\nExamples\\nnext_in_line([5, 6, 7, 8, 9], 1) ➞ [6, 7, 8, 9, 1]\\nnext_in_line([7, 6, 3, 23, 17], 10) ➞ [6, 3, 23, 17, 10]\\nnext_in_line([1, 10, 20, 42 ], 6) ➞ [10, 20, 42, 6]\\nnext_in_line([], 6) ➞ &quot;No list has been selected&quot;'"
            ],
            "application/vnd.google.colaboratory.intrinsic+json": {
              "type": "string"
            }
          },
          "metadata": {},
          "execution_count": 54
        }
      ]
    },
    {
      "cell_type": "code",
      "source": [
        "#  here is the Python code for the next_in_line function:\n",
        "def next_in_line(list_of_numbers, number):\n",
        "  \"\"\"\n",
        "  Returns the updated list after adding the number to the end and removing the first element.\n",
        "\n",
        "  Args:\n",
        "    list_of_numbers: A list of numbers.\n",
        "    number: The number to add to the end of the list.\n",
        "\n",
        "  Returns:\n",
        "    The updated list.\n",
        "  \"\"\"\n",
        "\n",
        "  if not list_of_numbers:\n",
        "    return \"No list has been selected\"\n",
        "  else:\n",
        "    list_of_numbers.append(number)\n",
        "    list_of_numbers.pop(0)\n",
        "    return list_of_numbers\n",
        "\n",
        "\n",
        "if __name__ == \"__main__\":\n",
        "  print(next_in_line([5, 6, 7, 8, 9], 1))\n",
        "  print(next_in_line([7, 6, 3, 23, 17], 10))\n",
        "  print(next_in_line([1, 10, 20, 42 ], 6))\n",
        "  print(next_in_line([], 6))\n"
      ],
      "metadata": {
        "colab": {
          "base_uri": "https://localhost:8080/"
        },
        "id": "CdvA8LChZGxr",
        "outputId": "c5a897cc-6ebf-4111-c299-95214f53ef74"
      },
      "execution_count": 55,
      "outputs": [
        {
          "output_type": "stream",
          "name": "stdout",
          "text": [
            "[6, 7, 8, 9, 1]\n",
            "[6, 3, 23, 17, 10]\n",
            "[10, 20, 42, 6]\n",
            "No list has been selected\n"
          ]
        }
      ]
    },
    {
      "cell_type": "code",
      "source": [
        "# Question2\n",
        "'''Create the function that takes a list of dictionaries and returns the sum of people&#39;s budgets.\n",
        "Examples\n",
        "get_budgets([\n",
        "{ &quot;name&quot;: &quot;John&quot;, &quot;age&quot;: 21, &quot;budget&quot;: 23000 },\n",
        "{ &quot;name&quot;: &quot;Steve&quot;, &quot;age&quot;: 32, &quot;budget&quot;: 40000 },\n",
        "{ &quot;name&quot;: &quot;Martin&quot;, &quot;age&quot;: 16, &quot;budget&quot;: 2700 }\n",
        "]) ➞ 65700\n",
        "get_budgets([\n",
        "{ &quot;name&quot;: &quot;John&quot;, &quot;age&quot;: 21, &quot;budget&quot;: 29000 },\n",
        "{ &quot;name&quot;: &quot;Steve&quot;, &quot;age&quot;: 32, &quot;budget&quot;: 32000 },\n",
        "{ &quot;name&quot;: &quot;Martin&quot;, &quot;age&quot;: 16, &quot;budget&quot;: 1600 }\n",
        "]) ➞ 62600'''"
      ],
      "metadata": {
        "colab": {
          "base_uri": "https://localhost:8080/",
          "height": 105
        },
        "id": "QDQKZBdpaAUK",
        "outputId": "74a0b713-5fb0-4c9b-8b7e-ad034d338052"
      },
      "execution_count": 56,
      "outputs": [
        {
          "output_type": "execute_result",
          "data": {
            "text/plain": [
              "'Create the function that takes a list of dictionaries and returns the sum of people&#39;s budgets.\\nExamples\\nget_budgets([\\n{ &quot;name&quot;: &quot;John&quot;, &quot;age&quot;: 21, &quot;budget&quot;: 23000 },\\n{ &quot;name&quot;: &quot;Steve&quot;, &quot;age&quot;: 32, &quot;budget&quot;: 40000 },\\n{ &quot;name&quot;: &quot;Martin&quot;, &quot;age&quot;: 16, &quot;budget&quot;: 2700 }\\n]) ➞ 65700\\nget_budgets([\\n{ &quot;name&quot;: &quot;John&quot;, &quot;age&quot;: 21, &quot;budget&quot;: 29000 },\\n{ &quot;name&quot;: &quot;Steve&quot;, &quot;age&quot;: 32, &quot;budget&quot;: 32000 },\\n{ &quot;name&quot;: &quot;Martin&quot;, &quot;age&quot;: 16, &quot;budget&quot;: 1600 }\\n]) ➞ 62600'"
            ],
            "application/vnd.google.colaboratory.intrinsic+json": {
              "type": "string"
            }
          },
          "metadata": {},
          "execution_count": 56
        }
      ]
    },
    {
      "cell_type": "code",
      "source": [
        "# here is the Python code for the get_budgets function:\n",
        "def get_budgets(list_of_people):\n",
        "  \"\"\"\n",
        "  Returns the sum of people's budgets.\n",
        "\n",
        "  Args:\n",
        "    list_of_people: A list of dictionaries.\n",
        "\n",
        "  Returns:\n",
        "    The sum of people's budgets.\n",
        "  \"\"\"\n",
        "\n",
        "  total_budget = 0\n",
        "  for person in list_of_people:\n",
        "    budget = person[\"budget\"]\n",
        "    total_budget += budget\n",
        "  return total_budget\n",
        "\n",
        "\n",
        "if __name__ == \"__main__\":\n",
        "  print(get_budgets([\n",
        "    { \"name\": \"John\", \"age\": 21, \"budget\": 23000 },\n",
        "    { \"name\": \"Steve\", \"age\": 32, \"budget\": 40000 },\n",
        "    { \"name\": \"Martin\", \"age\": 16, \"budget\": 2700 }\n",
        "  ]))\n",
        "  print(get_budgets([\n",
        "    { \"name\": \"John\", \"age\": 21, \"budget\": 29000 },\n",
        "    { \"name\": \"Steve\", \"age\": 32, \"budget\": 32000 },\n",
        "    { \"name\": \"Martin\", \"age\": 16, \"budget\": 1600 }\n",
        "  ]))\n"
      ],
      "metadata": {
        "colab": {
          "base_uri": "https://localhost:8080/"
        },
        "id": "7ftbBn7TaH4y",
        "outputId": "a642b831-1924-4531-f283-1e2c5de7756c"
      },
      "execution_count": 57,
      "outputs": [
        {
          "output_type": "stream",
          "name": "stdout",
          "text": [
            "65700\n",
            "62600\n"
          ]
        }
      ]
    },
    {
      "cell_type": "code",
      "source": [
        "# Question3\n",
        "'''Create a function that takes a string and returns a string with its letters in alphabetical order.\n",
        "Examples\n",
        "alphabet_soup(&quot;hello&quot;) ➞ &quot;ehllo&quot;\n",
        "alphabet_soup(&quot;edabit&quot;) ➞ &quot;abdeit&quot;\n",
        "alphabet_soup(&quot;hacker&quot;) ➞ &quot;acehkr&quot;\n",
        "alphabet_soup(&quot;geek&quot;) ➞ &quot;eegk&quot;\n",
        "alphabet_soup(&quot;javascript&quot;) ➞ &quot;aacijprstv&quot;'''"
      ],
      "metadata": {
        "colab": {
          "base_uri": "https://localhost:8080/",
          "height": 70
        },
        "id": "UeCcyffHckkS",
        "outputId": "bd3aaae9-33a7-4634-da77-563bcabcb441"
      },
      "execution_count": 58,
      "outputs": [
        {
          "output_type": "execute_result",
          "data": {
            "text/plain": [
              "'Create a function that takes a string and returns a string with its letters in alphabetical order.\\nExamples\\nalphabet_soup(&quot;hello&quot;) ➞ &quot;ehllo&quot;\\nalphabet_soup(&quot;edabit&quot;) ➞ &quot;abdeit&quot;\\nalphabet_soup(&quot;hacker&quot;) ➞ &quot;acehkr&quot;\\nalphabet_soup(&quot;geek&quot;) ➞ &quot;eegk&quot;\\nalphabet_soup(&quot;javascript&quot;) ➞ &quot;aacijprstv&quot;'"
            ],
            "application/vnd.google.colaboratory.intrinsic+json": {
              "type": "string"
            }
          },
          "metadata": {},
          "execution_count": 58
        }
      ]
    },
    {
      "cell_type": "code",
      "source": [
        "# here is the Python code for the get_budgets function:\n",
        "def get_budgets(list_of_people):\n",
        "  \"\"\"\n",
        "  Returns the sum of people's budgets.\n",
        "\n",
        "  Args:\n",
        "    list_of_people: A list of dictionaries.\n",
        "\n",
        "  Returns:\n",
        "    The sum of people's budgets.\n",
        "  \"\"\"\n",
        "\n",
        "  total_budget = 0\n",
        "  for person in list_of_people:\n",
        "    budget = person[\"budget\"]\n",
        "    total_budget += budget\n",
        "  return total_budget\n",
        "\n",
        "\n",
        "if __name__ == \"__main__\":\n",
        "  print(get_budgets([\n",
        "    { \"name\": \"John\", \"age\": 21, \"budget\": 23000 },\n",
        "    { \"name\": \"Steve\", \"age\": 32, \"budget\": 40000 },\n",
        "    { \"name\": \"Martin\", \"age\": 16, \"budget\": 2700 }\n",
        "  ]))\n",
        "  print(get_budgets([\n",
        "    { \"name\": \"John\", \"age\": 21, \"budget\": 29000 },\n",
        "    { \"name\": \"Steve\", \"age\": 32, \"budget\": 32000 },\n",
        "    { \"name\": \"Martin\", \"age\": 16, \"budget\": 1600 }\n",
        "  ]))\n"
      ],
      "metadata": {
        "colab": {
          "base_uri": "https://localhost:8080/"
        },
        "id": "31jT7UAidcfn",
        "outputId": "0d801979-9197-4f04-c52d-88b1ed745c6a"
      },
      "execution_count": 59,
      "outputs": [
        {
          "output_type": "stream",
          "name": "stdout",
          "text": [
            "65700\n",
            "62600\n"
          ]
        }
      ]
    },
    {
      "cell_type": "code",
      "source": [
        "# Question4\n",
        "'''Suppose that you invest $10,000 for 10 years at an interest rate of 6% compounded monthly.\n",
        "What will be the value of your investment at the end of the 10 year period?\n",
        "Create a function that accepts the principal p, the term in years t, the interest rate r, and the\n",
        "number of compounding periods per year n. The function returns the value at the end of term\n",
        "rounded to the nearest cent.\n",
        "For the example above:\n",
        "compound_interest(10000, 10, 0.06, 12) ➞ 18193.97\n",
        "Note that the interest rate is given as a decimal and n=12 because with monthly compounding\n",
        "there are 12 periods per year. Compounding can also be done annually, quarterly, weekly, or\n",
        "daily.\n",
        "Examples\n",
        "compound_interest(100, 1, 0.05, 1) ➞ 105.0\n",
        "compound_interest(3500, 15, 0.1, 4) ➞ 15399.26\n",
        "compound_interest(100000, 20, 0.15, 365) ➞ 2007316.26'''"
      ],
      "metadata": {
        "colab": {
          "base_uri": "https://localhost:8080/",
          "height": 105
        },
        "id": "uoABnq1TfGFo",
        "outputId": "44a71dd6-533a-42ff-c49c-2a8974fa1d0a"
      },
      "execution_count": 60,
      "outputs": [
        {
          "output_type": "execute_result",
          "data": {
            "text/plain": [
              "'Suppose that you invest $10,000 for 10 years at an interest rate of 6% compounded monthly.\\nWhat will be the value of your investment at the end of the 10 year period?\\nCreate a function that accepts the principal p, the term in years t, the interest rate r, and the\\nnumber of compounding periods per year n. The function returns the value at the end of term\\nrounded to the nearest cent.\\nFor the example above:\\ncompound_interest(10000, 10, 0.06, 12) ➞ 18193.97\\nNote that the interest rate is given as a decimal and n=12 because with monthly compounding\\nthere are 12 periods per year. Compounding can also be done annually, quarterly, weekly, or\\ndaily.\\nExamples\\ncompound_interest(100, 1, 0.05, 1) ➞ 105.0\\ncompound_interest(3500, 15, 0.1, 4) ➞ 15399.26\\ncompound_interest(100000, 20, 0.15, 365) ➞ 2007316.26'"
            ],
            "application/vnd.google.colaboratory.intrinsic+json": {
              "type": "string"
            }
          },
          "metadata": {},
          "execution_count": 60
        }
      ]
    },
    {
      "cell_type": "code",
      "source": [
        "# here is the Python code for the compound_interest function:\n",
        "import math\n",
        "\n",
        "\n",
        "def compound_interest(principal, term, interest_rate, compounding_periods_per_year):\n",
        "  \"\"\"\n",
        "  Returns the value of an investment at the end of the term.\n",
        "\n",
        "  Args:\n",
        "    principal: The initial principal amount.\n",
        "    term: The term in years.\n",
        "    interest_rate: The annual interest rate.\n",
        "    compounding_periods_per_year: The number of compounding periods per year.\n",
        "\n",
        "  Returns:\n",
        "    The value of the investment at the end of the term.\n",
        "  \"\"\"\n",
        "\n",
        "  interest_rate_per_period = interest_rate / compounding_periods_per_year\n",
        "  number_of_periods = term * compounding_periods_per_year\n",
        "  future_value = principal * (1 + interest_rate_per_period)**number_of_periods\n",
        "  return round(future_value, 2)\n",
        "\n",
        "\n",
        "if __name__ == \"__main__\":\n",
        "  print(compound_interest(10000, 10, 0.06, 12))\n",
        "  print(compound_interest(3500, 15, 0.1, 4))\n",
        "  print(compound_interest(100000, 20, 0.15, 365))\n"
      ],
      "metadata": {
        "colab": {
          "base_uri": "https://localhost:8080/"
        },
        "id": "PB9jwKCAfu3_",
        "outputId": "9de26bae-4689-45ff-e40d-77c9282a0d31"
      },
      "execution_count": 61,
      "outputs": [
        {
          "output_type": "stream",
          "name": "stdout",
          "text": [
            "18193.97\n",
            "15399.26\n",
            "2007316.26\n"
          ]
        }
      ]
    },
    {
      "cell_type": "code",
      "source": [
        "# Question5\n",
        "'''Write a function that takes a list of elements and returns only the integers.\n",
        "Examples\n",
        "return_only_integer([9, 2, &quot;space&quot;, &quot;car&quot;, &quot;lion&quot;, 16]) ➞ [9, 2, 16]\n",
        "return_only_integer([&quot;hello&quot;, 81, &quot;basketball&quot;, 123, &quot;fox&quot;]) ➞ [81, 123]\n",
        "return_only_integer([10, &quot;121&quot;, 56, 20, &quot;car&quot;, 3, &quot;lion&quot;]) ➞ [10, 56, 20,\n",
        "3]\n",
        "return_only_integer([&quot;String&quot;, True, 3.3, 1]) ➞ [1]'''"
      ],
      "metadata": {
        "colab": {
          "base_uri": "https://localhost:8080/",
          "height": 70
        },
        "id": "nsae_wEbgatW",
        "outputId": "9ded0107-f7c2-4e94-b740-870778fd275c"
      },
      "execution_count": 62,
      "outputs": [
        {
          "output_type": "execute_result",
          "data": {
            "text/plain": [
              "'Write a function that takes a list of elements and returns only the integers.\\nExamples\\nreturn_only_integer([9, 2, &quot;space&quot;, &quot;car&quot;, &quot;lion&quot;, 16]) ➞ [9, 2, 16]\\nreturn_only_integer([&quot;hello&quot;, 81, &quot;basketball&quot;, 123, &quot;fox&quot;]) ➞ [81, 123]\\nreturn_only_integer([10, &quot;121&quot;, 56, 20, &quot;car&quot;, 3, &quot;lion&quot;]) ➞ [10, 56, 20,\\n3]\\nreturn_only_integer([&quot;String&quot;, True, 3.3, 1]) ➞ [1]'"
            ],
            "application/vnd.google.colaboratory.intrinsic+json": {
              "type": "string"
            }
          },
          "metadata": {},
          "execution_count": 62
        }
      ]
    },
    {
      "cell_type": "code",
      "source": [
        "# here is the Python code for the return_only_integer function:\n",
        "def return_only_integer(list_of_elements):\n",
        "  \"\"\"\n",
        "  Returns a list of integers from a list of elements.\n",
        "\n",
        "  Args:\n",
        "    list_of_elements: A list of elements.\n",
        "\n",
        "  Returns:\n",
        "    A list of integers.\n",
        "  \"\"\"\n",
        "\n",
        "  list_of_integers = []\n",
        "  for element in list_of_elements:\n",
        "    if isinstance(element, int):\n",
        "      list_of_integers.append(element)\n",
        "  return list_of_integers\n",
        "\n",
        "\n",
        "if __name__ == \"__main__\":\n",
        "  print(return_only_integer([9, 2, \"space\", \"car\", \"lion\", 16]))\n",
        "  print(return_only_integer([\"hello\", 81, \"basketball\", 123, \"fox\"]))\n",
        "  print(return_only_integer([10, \"121\", 56, 20, \"car\", 3, \"lion\"]))\n",
        "  print(return_only_integer([\"String\", True, 3.3, 1]))\n"
      ],
      "metadata": {
        "colab": {
          "base_uri": "https://localhost:8080/"
        },
        "id": "g0bhm_WbhHeH",
        "outputId": "d31dbc76-7553-4d07-dc74-8090aa63383e"
      },
      "execution_count": 63,
      "outputs": [
        {
          "output_type": "stream",
          "name": "stdout",
          "text": [
            "[9, 2, 16]\n",
            "[81, 123]\n",
            "[10, 56, 20, 3]\n",
            "[True, 1]\n"
          ]
        }
      ]
    },
    {
      "cell_type": "code",
      "source": [],
      "metadata": {
        "id": "GTIKEekhhbeB"
      },
      "execution_count": null,
      "outputs": []
    }
  ]
}
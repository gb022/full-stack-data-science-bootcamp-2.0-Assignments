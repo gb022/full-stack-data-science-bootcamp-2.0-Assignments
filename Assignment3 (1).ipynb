{
  "nbformat": 4,
  "nbformat_minor": 0,
  "metadata": {
    "colab": {
      "provenance": []
    },
    "kernelspec": {
      "name": "python3",
      "display_name": "Python 3"
    },
    "language_info": {
      "name": "python"
    }
  },
  "cells": [
    {
      "cell_type": "code",
      "execution_count": 1,
      "metadata": {
        "id": "wb4ggmAgn8w_"
      },
      "outputs": [],
      "source": [
        "# 1. Why are functions advantageous to have in your programs?"
      ]
    },
    {
      "cell_type": "code",
      "source": [
        "'''Functions are advantageous to have in programs for several reasons.\n",
        "Functions promote code reuse, modularity, readability, maintainability,\n",
        "encapsulation, and scalability, making programs more efficient, robust, and easier to develop and maintain'''"
      ],
      "metadata": {
        "colab": {
          "base_uri": "https://localhost:8080/",
          "height": 53
        },
        "id": "_m0W2HkNoutt",
        "outputId": "2673e3c5-031f-4c84-fa1e-4a0dea7a8ffe"
      },
      "execution_count": 2,
      "outputs": [
        {
          "output_type": "execute_result",
          "data": {
            "text/plain": [
              "'Functions are advantageous to have in programs for several reasons.\\nFunctions promote code reuse, modularity, readability, maintainability,\\nencapsulation, and scalability, making programs more efficient, robust, and easier to develop and maintain'"
            ],
            "application/vnd.google.colaboratory.intrinsic+json": {
              "type": "string"
            }
          },
          "metadata": {},
          "execution_count": 2
        }
      ]
    },
    {
      "cell_type": "code",
      "source": [
        "# 2. When does the code in a function run: when it's specified or when it's called?"
      ],
      "metadata": {
        "id": "msl3Gy1WplBc"
      },
      "execution_count": 3,
      "outputs": []
    },
    {
      "cell_type": "code",
      "source": [
        " '''The code in a function runs when the function is called, not when it is defined or specified.\n",
        " To actually run the code within a function, you need to call the function by its name and provide any necessary arguments or parameters.\n",
        "When the function is called, the program transfers control to the function, and the code within the function's body is executed.\n",
        "The function can perform computations, manipulate data, or perform any other actions specified in its code'''"
      ],
      "metadata": {
        "colab": {
          "base_uri": "https://localhost:8080/",
          "height": 70
        },
        "id": "PzG7yyHIqSlV",
        "outputId": "4787f6ba-3bfe-4273-d946-2bb06c050cf6"
      },
      "execution_count": 4,
      "outputs": [
        {
          "output_type": "execute_result",
          "data": {
            "text/plain": [
              "\"The code in a function runs when the function is called, not when it is defined or specified.\\nTo actually run the code within a function, you need to call the function by its name and provide any necessary arguments or parameters.\\nWhen the function is called, the program transfers control to the function, and the code within the function's body is executed.\\nThe function can perform computations, manipulate data, or perform any other actions specified in its code\""
            ],
            "application/vnd.google.colaboratory.intrinsic+json": {
              "type": "string"
            }
          },
          "metadata": {},
          "execution_count": 4
        }
      ]
    },
    {
      "cell_type": "code",
      "source": [
        "# 3. What statement creates a function?"
      ],
      "metadata": {
        "id": "TrvNB65ArGBx"
      },
      "execution_count": 5,
      "outputs": []
    },
    {
      "cell_type": "code",
      "source": [
        "'''the statement that creates a function is commonly known as a function declaration or function definition.\n",
        "a function declaration consists of function name, parameter,function body, return statement.'''\n",
        "def greet(name):\n",
        "    print(\"Hello, \" + name + \"!\")\n",
        "\n",
        "# Function call\n",
        "greet(\"Alice\")\n",
        "'''In this example, the def keyword is used to create the function called greet. It takes a single parameter name,\n",
        "which represents the name of the person to greet. The function body contains a single statement that prints a greeting message using the provided name.\n",
        "Finally, the function is called with the argument \"Alice\" to execute its code and produce the output.'''"
      ],
      "metadata": {
        "colab": {
          "base_uri": "https://localhost:8080/",
          "height": 87
        },
        "id": "0poigCL1rKBC",
        "outputId": "21872d02-b313-4775-b550-86f5a7f75eb4"
      },
      "execution_count": 6,
      "outputs": [
        {
          "output_type": "stream",
          "name": "stdout",
          "text": [
            "Hello, Alice!\n"
          ]
        },
        {
          "output_type": "execute_result",
          "data": {
            "text/plain": [
              "'In this example, the def keyword is used to create the function called greet. It takes a single parameter name, \\nwhich represents the name of the person to greet. The function body contains a single statement that prints a greeting message using the provided name. \\nFinally, the function is called with the argument \"Alice\" to execute its code and produce the output.'"
            ],
            "application/vnd.google.colaboratory.intrinsic+json": {
              "type": "string"
            }
          },
          "metadata": {},
          "execution_count": 6
        }
      ]
    },
    {
      "cell_type": "code",
      "source": [
        "# 4. What is the difference between a function and a function call?"
      ],
      "metadata": {
        "id": "3m2pKnsPskB4"
      },
      "execution_count": 7,
      "outputs": []
    },
    {
      "cell_type": "code",
      "source": [
        "''' a function is a reusable block of code with a specific name, parameters, and implementation.\n",
        "A function call, on the other hand, is the act of executing a function by providing the necessary arguments.\n",
        "Functions are defined and declared in the program, while function calls are made at various points in the code\n",
        "to utilize the functionality provided by the function.'''"
      ],
      "metadata": {
        "colab": {
          "base_uri": "https://localhost:8080/",
          "height": 70
        },
        "id": "LSwU11ILswwC",
        "outputId": "497cf9eb-5145-4fa0-fe91-0c88d18240d8"
      },
      "execution_count": 9,
      "outputs": [
        {
          "output_type": "execute_result",
          "data": {
            "text/plain": [
              "' a function is a reusable block of code with a specific name, parameters, and implementation. \\nA function call, on the other hand, is the act of executing a function by providing the necessary arguments. \\nFunctions are defined and declared in the program, while function calls are made at various points in the code \\nto utilize the functionality provided by the function.'"
            ],
            "application/vnd.google.colaboratory.intrinsic+json": {
              "type": "string"
            }
          },
          "metadata": {},
          "execution_count": 9
        }
      ]
    },
    {
      "cell_type": "code",
      "source": [
        "# 5. How many global scopes are there in a Python program? How many local scopes?"
      ],
      "metadata": {
        "id": "yheNgL40tCZ9"
      },
      "execution_count": 13,
      "outputs": []
    },
    {
      "cell_type": "code",
      "source": [
        "'''In a Python program, there is typically one global scope and multiple local scopes.\n",
        "Global Scope: The global scope refers to the outermost scope in a Python program.The global scope exists from the beginning of the program\n",
        "              until the program terminates. There is only one global scope per program.\n",
        "\n",
        "Local Scopes: Local scopes, also known as function scopes, are created whenever a function is called or invoked. Each function call creates\n",
        "              its own local scope, which is separate from the global scope and other local scopes.Variables defined within a function's local\n",
        "              scope are only accessible within that function. When the function finishes executing, its local scope is destroyed, and any variables\n",
        "              defined within it are no longer accessible.'''"
      ],
      "metadata": {
        "colab": {
          "base_uri": "https://localhost:8080/",
          "height": 105
        },
        "id": "nOZpY0fBtKAv",
        "outputId": "843ada6e-47f9-4d16-ac8f-43087abecb5a"
      },
      "execution_count": 14,
      "outputs": [
        {
          "output_type": "execute_result",
          "data": {
            "text/plain": [
              "\"In a Python program, there is typically one global scope and multiple local scopes.\\nGlobal Scope: The global scope refers to the outermost scope in a Python program.The global scope exists from the beginning of the program \\n              until the program terminates. There is only one global scope per program.\\n\\nLocal Scopes: Local scopes, also known as function scopes, are created whenever a function is called or invoked. Each function call creates \\n              its own local scope, which is separate from the global scope and other local scopes.Variables defined within a function's local \\n              scope are only accessible within that function. When the function finishes executing, its local scope is destroyed, and any variables \\n              defined within it are no longer accessible.\""
            ],
            "application/vnd.google.colaboratory.intrinsic+json": {
              "type": "string"
            }
          },
          "metadata": {},
          "execution_count": 14
        }
      ]
    },
    {
      "cell_type": "markdown",
      "source": [],
      "metadata": {
        "id": "RmeKAHdouwuS"
      }
    },
    {
      "cell_type": "code",
      "source": [],
      "metadata": {
        "id": "ecm2-feVvVGT"
      },
      "execution_count": null,
      "outputs": []
    },
    {
      "cell_type": "code",
      "source": [
        "# 6. What happens to variables in a local scope when the function call returns?"
      ],
      "metadata": {
        "id": "JgfYdlQQvLkH"
      },
      "execution_count": 15,
      "outputs": []
    },
    {
      "cell_type": "code",
      "source": [
        "'''when a function call returns, the local scope associated with that function is destroyed. The variables defined within that local scope\n",
        "cease to exist, their memory is deallocated, and they are no longer accessible from outside the function.'''"
      ],
      "metadata": {
        "colab": {
          "base_uri": "https://localhost:8080/",
          "height": 53
        },
        "id": "Exn1885_vVfx",
        "outputId": "f0424cda-c71d-4d40-f0c1-4238f743573d"
      },
      "execution_count": 16,
      "outputs": [
        {
          "output_type": "execute_result",
          "data": {
            "text/plain": [
              "'when a function call returns, the local scope associated with that function is destroyed. The variables defined within that local scope \\ncease to exist, their memory is deallocated, and they are no longer accessible from outside the function.'"
            ],
            "application/vnd.google.colaboratory.intrinsic+json": {
              "type": "string"
            }
          },
          "metadata": {},
          "execution_count": 16
        }
      ]
    },
    {
      "cell_type": "code",
      "source": [
        "# 7. What is the concept of a return value? Is it possible to have a return value in an expression?"
      ],
      "metadata": {
        "id": "54E6atBIvRgN"
      },
      "execution_count": 17,
      "outputs": []
    },
    {
      "cell_type": "code",
      "source": [
        "'''The concept of a return value refers to the value that a function can send back to the caller after completing its execution.\n",
        "When a function produces a return value, it provides a way to communicate a result, data, or information from the function's code back\n",
        "to the point in the program where the function was called.'''\n",
        "'''The return statement is typically followed by an expression or a variable representing the value to be returned. When the function\n",
        "encounters a return statement, it immediately stops executing, and the specified value is returned to the caller.\n",
        "for e.g'''\n",
        "def add_numbers(a, b):\n",
        "    return a + b\n",
        "\n",
        "result = add_numbers(3, 4)\n",
        "print(result)  # Output: 7\n",
        "''' it is not possible to have a return value directly in an expression. The return statement is a separate statement that causes the\n",
        "function to exit and return the specified value. It cannot be used inline within an expression to directly return a value without explicitly\n",
        "using a return statement.'''"
      ],
      "metadata": {
        "colab": {
          "base_uri": "https://localhost:8080/",
          "height": 70
        },
        "id": "Z6WPCMrGvuSo",
        "outputId": "ee42d5dd-2760-4998-9b50-b469166afa63"
      },
      "execution_count": 18,
      "outputs": [
        {
          "output_type": "stream",
          "name": "stdout",
          "text": [
            "7\n"
          ]
        },
        {
          "output_type": "execute_result",
          "data": {
            "text/plain": [
              "' it is not possible to have a return value directly in an expression. The return statement is a separate statement that causes the \\nfunction to exit and return the specified value. It cannot be used inline within an expression to directly return a value without explicitly \\nusing a return statement.'"
            ],
            "application/vnd.google.colaboratory.intrinsic+json": {
              "type": "string"
            }
          },
          "metadata": {},
          "execution_count": 18
        }
      ]
    },
    {
      "cell_type": "code",
      "source": [
        "# 8. If a function does not have a return statement, what is the return value of a call to that function?"
      ],
      "metadata": {
        "id": "pc3GoibPw7jv"
      },
      "execution_count": 19,
      "outputs": []
    },
    {
      "cell_type": "code",
      "source": [
        "'''If a function does not have a return statement, or if it reaches the end of the function without encountering a return statement, the function will\n",
        "implicitly return None. None is a special value in Python that represents the absence of a value or the lack of a meaningful result.\n",
        "\n",
        "Here's an example:'''\n",
        "def greet(name):\n",
        "    print(\"Hello, \" + name + \"!\")\n",
        "\n",
        "result = greet(\"Alice\")\n",
        "print(result)  # Output: None"
      ],
      "metadata": {
        "colab": {
          "base_uri": "https://localhost:8080/"
        },
        "id": "vN--9iMgxf4z",
        "outputId": "7adc2ca5-40f1-44cf-d4e5-e81a7c75910f"
      },
      "execution_count": 20,
      "outputs": [
        {
          "output_type": "stream",
          "name": "stdout",
          "text": [
            "Hello, Alice!\n",
            "None\n"
          ]
        }
      ]
    },
    {
      "cell_type": "code",
      "source": [
        "# 9. How do you make a function variable refer to the global variable?"
      ],
      "metadata": {
        "id": "nTN8Ari6xnga"
      },
      "execution_count": 21,
      "outputs": []
    },
    {
      "cell_type": "code",
      "source": [
        "'''To make a function variable refer to the global variable with the same name, you can use the global keyword in Python. The global keyword allows\n",
        "you to access and modify a global variable from within a function's local scope.\n",
        "\n",
        "Here's an example:'''\n",
        "count = 0  # Global variable\n",
        "\n",
        "def increment():\n",
        "    global count  # Declare count as a global variable within the function\n",
        "    count += 1   # Modify the global variable\n",
        "\n",
        "increment()\n",
        "print(count)  # Output: 1\n",
        "'''In this example, we have a global variable count initialized to 0. Inside the increment function, we declare count as a global variable using the global keyword.\n",
        "This tells Python that we want to refer to the global count variable within the function.'''"
      ],
      "metadata": {
        "colab": {
          "base_uri": "https://localhost:8080/",
          "height": 70
        },
        "id": "kStVugS9yVxE",
        "outputId": "d32bfb09-24e6-4be9-8684-6b952e74a665"
      },
      "execution_count": 22,
      "outputs": [
        {
          "output_type": "stream",
          "name": "stdout",
          "text": [
            "1\n"
          ]
        },
        {
          "output_type": "execute_result",
          "data": {
            "text/plain": [
              "'In this example, we have a global variable count initialized to 0. Inside the increment function, we declare count as a global variable using the global keyword. \\nThis tells Python that we want to refer to the global count variable within the function.'"
            ],
            "application/vnd.google.colaboratory.intrinsic+json": {
              "type": "string"
            }
          },
          "metadata": {},
          "execution_count": 22
        }
      ]
    },
    {
      "cell_type": "code",
      "source": [
        "# 10. What is the data type of None?"
      ],
      "metadata": {
        "id": "EQj8tzbPzNPe"
      },
      "execution_count": 23,
      "outputs": []
    },
    {
      "cell_type": "code",
      "source": [
        "'''In Python, the data type of None is NoneType. None is a special value that represents the absence of a value or the lack of a meaningful result.\n",
        "It is often used to indicate the absence of a value where a value is expected.'''\n",
        "result = None\n",
        "type(result) # NoneType"
      ],
      "metadata": {
        "colab": {
          "base_uri": "https://localhost:8080/"
        },
        "id": "Qocr15QrzSTy",
        "outputId": "d3a61c2b-f62d-477f-ad0c-bbcdd6f5ac75"
      },
      "execution_count": 25,
      "outputs": [
        {
          "output_type": "execute_result",
          "data": {
            "text/plain": [
              "NoneType"
            ]
          },
          "metadata": {},
          "execution_count": 25
        }
      ]
    },
    {
      "cell_type": "code",
      "source": [
        "# 11. What does the sentence import areallyourpetsnamederic do?"
      ],
      "metadata": {
        "id": "PTfZZClnzoxm"
      },
      "execution_count": 26,
      "outputs": []
    },
    {
      "cell_type": "code",
      "source": [
        "'''The sentence import areallyourpetsnamederic is not a valid Python import statement.\n",
        "In Python, the import keyword is used to import modules or packages that contain reusable code. The syntax for importing modules follows a specific format,\n",
        "where areallyourpetsnamederic should be the name of a valid module or package.\n",
        "the sentence import areallyourpetsnamederic does not correspond to a valid module name in Python. If we attempt to run that import statement,\n",
        "it will raise a ModuleNotFoundError indicating that the module cannot be found.'''"
      ],
      "metadata": {
        "colab": {
          "base_uri": "https://localhost:8080/",
          "height": 87
        },
        "id": "DCiTDv9K0dbR",
        "outputId": "a8de0c4e-b012-432e-8470-c73580a33f0c"
      },
      "execution_count": 27,
      "outputs": [
        {
          "output_type": "execute_result",
          "data": {
            "text/plain": [
              "'The sentence import areallyourpetsnamederic is not a valid Python import statement. \\nIn Python, the import keyword is used to import modules or packages that contain reusable code. The syntax for importing modules follows a specific format, \\nwhere areallyourpetsnamederic should be the name of a valid module or package.\\nthe sentence import areallyourpetsnamederic does not correspond to a valid module name in Python. If you attempt to run that import statement, \\nit will raise a ModuleNotFoundError indicating that the module cannot be found.'"
            ],
            "application/vnd.google.colaboratory.intrinsic+json": {
              "type": "string"
            }
          },
          "metadata": {},
          "execution_count": 27
        }
      ]
    },
    {
      "cell_type": "code",
      "source": [
        "# 12. If you had a bacon() feature in a spam module, what would you call it after importing spam?"
      ],
      "metadata": {
        "id": "BmgqhdnK014v"
      },
      "execution_count": 28,
      "outputs": []
    },
    {
      "cell_type": "code",
      "source": [
        "'''After importing the spam module, we can call the bacon() feature by using the dot notation to access the feature as spam.bacon().'''"
      ],
      "metadata": {
        "colab": {
          "base_uri": "https://localhost:8080/",
          "height": 35
        },
        "id": "O3Lq-9LT1WgV",
        "outputId": "623abce5-8d99-49d3-e4df-b71fff60cc80"
      },
      "execution_count": 30,
      "outputs": [
        {
          "output_type": "execute_result",
          "data": {
            "text/plain": [
              "'After importing the spam module, we can call the bacon() feature by using the dot notation to access the feature as spam.bacon().'"
            ],
            "application/vnd.google.colaboratory.intrinsic+json": {
              "type": "string"
            }
          },
          "metadata": {},
          "execution_count": 30
        }
      ]
    },
    {
      "cell_type": "code",
      "source": [
        "# 13. What can you do to save a programme from crashing if it encounters an error?"
      ],
      "metadata": {
        "id": "IR1WT7DG1s-p"
      },
      "execution_count": 31,
      "outputs": []
    },
    {
      "cell_type": "code",
      "source": [
        "'''When a program encounters an error, there are several steps we can take to mitigate the issue and prevent it from crashing completely.\n",
        "Here are some common strategies\n",
        "Exception handling,Logging,Error checking and validation,Graceful degradation,Error recovery and fallback mechanisms,Automated testing and debugging,\n",
        "Monitoring and error reporting.'''"
      ],
      "metadata": {
        "colab": {
          "base_uri": "https://localhost:8080/",
          "height": 70
        },
        "id": "jiEAldVE2TQv",
        "outputId": "e04c3445-7256-4442-bce8-ab452bf6caf6"
      },
      "execution_count": 32,
      "outputs": [
        {
          "output_type": "execute_result",
          "data": {
            "text/plain": [
              "'When a program encounters an error, there are several steps we can take to mitigate the issue and prevent it from crashing completely. \\nHere are some common strategies\\nException handling,Logging,Error checking and validation,Graceful degradation,Error recovery and fallback mechanisms,Automated testing and debugging,\\nMonitoring and error reporting.'"
            ],
            "application/vnd.google.colaboratory.intrinsic+json": {
              "type": "string"
            }
          },
          "metadata": {},
          "execution_count": 32
        }
      ]
    },
    {
      "cell_type": "code",
      "source": [
        "# 14. What is the purpose of the try clause? What is the purpose of the except clause?"
      ],
      "metadata": {
        "id": "kECvyGBV334n"
      },
      "execution_count": 33,
      "outputs": []
    },
    {
      "cell_type": "code",
      "source": [
        "'''the try and except clauses are used together to handle errors and exceptions that may occur during the execution of a program.\n",
        "Here's an explanation of the purpose of each clause\n",
        "\n",
        "try clause: The purpose of the try clause is to enclose a block of code that may potentially raise an exception. The code within the\n",
        "            try block is executed normally, and if any exception occurs during its execution, the try block is immediately exited.\n",
        "            The try block is used to identify sections of code where exceptions are likely to occur and allows us to handle those\n",
        "            exceptions gracefully.\n",
        "\n",
        "except clause: The purpose of the except clause is to define the code that should be executed when a specific exception is raised within the corresponding\n",
        "               try block. The except block follows the try block and specifies the type of exception it can handle.If an exception occurs within the try block,\n",
        "               the program flow jumps to the except block that matches the raised exception type. The code within the except block is executed, providing a way to\n",
        "               handle the exception and perform any necessary actions, such as logging an error, displaying a message, or taking alternative steps to recover from\n",
        "               the error.It's possible to have multiple except blocks following a single try block, allowing different exception types to be handled separately.'''\n"
      ],
      "metadata": {
        "colab": {
          "base_uri": "https://localhost:8080/",
          "height": 139
        },
        "id": "zApvQRPZ37nT",
        "outputId": "2823ac0b-44c7-43b4-fbe4-b9423df2b264"
      },
      "execution_count": 35,
      "outputs": [
        {
          "output_type": "execute_result",
          "data": {
            "text/plain": [
              "\"the try and except clauses are used together to handle errors and exceptions that may occur during the execution of a program. \\nHere's an explanation of the purpose of each clause\\n\\ntry clause: The purpose of the try clause is to enclose a block of code that may potentially raise an exception. The code within the \\n            try block is executed normally, and if any exception occurs during its execution, the try block is immediately exited.\\n            The try block is used to identify sections of code where exceptions are likely to occur and allows us to handle those \\n            exceptions gracefully.\\n\\nexcept clause: The purpose of the except clause is to define the code that should be executed when a specific exception is raised within the corresponding\\n               try block. The except block follows the try block and specifies the type of exception it can handle.If an exception occurs within the try block, \\n               the program flow jumps to the except block that matches the raised exception type. The code within the except block is executed, providing a way to \\n               handle the exception and perform any necessary actions, such as logging an error, displaying a message, or taking alternative steps to recover from\\n               the error.It's possible to have multiple except blocks following a single try block, allowing different exception types to be handled separately.\""
            ],
            "application/vnd.google.colaboratory.intrinsic+json": {
              "type": "string"
            }
          },
          "metadata": {},
          "execution_count": 35
        }
      ]
    },
    {
      "cell_type": "code",
      "source": [],
      "metadata": {
        "id": "-cxb7wBg56BY"
      },
      "execution_count": null,
      "outputs": []
    }
  ]
}
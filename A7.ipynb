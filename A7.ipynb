{
  "nbformat": 4,
  "nbformat_minor": 0,
  "metadata": {
    "colab": {
      "provenance": []
    },
    "kernelspec": {
      "name": "python3",
      "display_name": "Python 3"
    },
    "language_info": {
      "name": "python"
    }
  },
  "cells": [
    {
      "cell_type": "code",
      "execution_count": 1,
      "metadata": {
        "id": "brDoKnRQLM7T"
      },
      "outputs": [],
      "source": [
        "# 1. What is the name of the feature responsible for generating Regex objects?"
      ]
    },
    {
      "cell_type": "code",
      "source": [
        "'''\n",
        "The feature responsible for generating Regex objects in many programming languages is typically referred to as a regular expression\n",
        "engine or regex engine. It is a built-in or library-provided functionality that allows developers to create and manipulate regular expressions\n",
        "for pattern matching and text manipulation purposes.\n",
        "'''"
      ],
      "metadata": {
        "colab": {
          "base_uri": "https://localhost:8080/",
          "height": 70
        },
        "id": "MpaWG2loLp0i",
        "outputId": "e1ae7cd9-5dcb-46bc-8f8f-f94c0c055cfd"
      },
      "execution_count": 2,
      "outputs": [
        {
          "output_type": "execute_result",
          "data": {
            "text/plain": [
              "'\\nThe feature responsible for generating Regex objects in many programming languages is typically referred to as a regular expression \\nengine or regex engine. It is a built-in or library-provided functionality that allows developers to create and manipulate regular expressions \\nfor pattern matching and text manipulation purposes.\\n'"
            ],
            "application/vnd.google.colaboratory.intrinsic+json": {
              "type": "string"
            }
          },
          "metadata": {},
          "execution_count": 2
        }
      ]
    },
    {
      "cell_type": "code",
      "source": [
        "# 2. Why do raw strings often appear in Regex objects?"
      ],
      "metadata": {
        "id": "W4gyZ5LsL_py"
      },
      "execution_count": 3,
      "outputs": []
    },
    {
      "cell_type": "code",
      "source": [
        "'''\n",
        "Raw strings are commonly used in regular expressions (Regex objects) to simplify the expression and avoid excessive escaping\n",
        "of special characters.a backslash () is used as an escape character in regular\n",
        "expressions. However, this can lead to a lot of backslashes being used when dealing with complex patterns or special characters.\n",
        "'''"
      ],
      "metadata": {
        "colab": {
          "base_uri": "https://localhost:8080/",
          "height": 70
        },
        "id": "QLD78ITJMCvI",
        "outputId": "ac2e5975-b210-4705-a863-4e10b43af0b9"
      },
      "execution_count": 4,
      "outputs": [
        {
          "output_type": "execute_result",
          "data": {
            "text/plain": [
              "'\\nRaw strings are commonly used in regular expressions (Regex objects) to simplify the expression and avoid excessive escaping \\nof special characters.a backslash () is used as an escape character in regular \\nexpressions. However, this can lead to a lot of backslashes being used when dealing with complex patterns or special characters.\\n'"
            ],
            "application/vnd.google.colaboratory.intrinsic+json": {
              "type": "string"
            }
          },
          "metadata": {},
          "execution_count": 4
        }
      ]
    },
    {
      "cell_type": "code",
      "source": [
        "# 3. What is the return value of the search() method?"
      ],
      "metadata": {
        "id": "luGzUG0vMcMF"
      },
      "execution_count": 5,
      "outputs": []
    },
    {
      "cell_type": "code",
      "source": [
        "'''\n",
        "The search() method in regular expressions returns a match object if a match is found, and None if no match is found.\n",
        "'''"
      ],
      "metadata": {
        "colab": {
          "base_uri": "https://localhost:8080/",
          "height": 35
        },
        "id": "XLCTfw_fMe1O",
        "outputId": "f4f5a8d5-f0ec-4ad7-bdec-7c4288f50274"
      },
      "execution_count": 6,
      "outputs": [
        {
          "output_type": "execute_result",
          "data": {
            "text/plain": [
              "'\\nThe search() method in regular expressions returns a match object if a match is found, and None if no match is found.\\n'"
            ],
            "application/vnd.google.colaboratory.intrinsic+json": {
              "type": "string"
            }
          },
          "metadata": {},
          "execution_count": 6
        }
      ]
    },
    {
      "cell_type": "code",
      "source": [
        "# 4. From a Match item, how do you get the actual strings that match the pattern?"
      ],
      "metadata": {
        "id": "6Bi7tvDZMorP"
      },
      "execution_count": 7,
      "outputs": []
    },
    {
      "cell_type": "code",
      "source": [
        "'''\n",
        "To retrieve the actual strings that match the pattern from a Match object, you can use the group() method.\n",
        "The group() method without any arguments returns the entire matched string.\n",
        "'''"
      ],
      "metadata": {
        "colab": {
          "base_uri": "https://localhost:8080/",
          "height": 53
        },
        "id": "QIt_ciH9Mszm",
        "outputId": "8bfe9efa-b304-4e11-9e22-880b1377bae6"
      },
      "execution_count": 8,
      "outputs": [
        {
          "output_type": "execute_result",
          "data": {
            "text/plain": [
              "'\\nTo retrieve the actual strings that match the pattern from a Match object, you can use the group() method. \\nThe group() method without any arguments returns the entire matched string.\\n'"
            ],
            "application/vnd.google.colaboratory.intrinsic+json": {
              "type": "string"
            }
          },
          "metadata": {},
          "execution_count": 8
        }
      ]
    },
    {
      "cell_type": "code",
      "source": [
        "# 5. In the regex which created from the r&#39;(\\d\\d\\d)-(\\d\\d\\d-\\d\\d\\d\\d)&#39;, what does group zero cover? Group 2? Group 1?"
      ],
      "metadata": {
        "id": "yiHo2_MzM69U"
      },
      "execution_count": 10,
      "outputs": []
    },
    {
      "cell_type": "code",
      "source": [
        "'''\n",
        "Group 0 covers the entire matched string: (\\d\\d\\d)-(\\d\\d\\d-\\d\\d\\d\\d).\n",
        "Group 1 covers the first capturing group: (\\d\\d\\d).\n",
        "Group 2 covers the second capturing group: (\\d\\d\\d-\\d\\d\\d\\d).\n",
        "You can access the matched strings for each group using the group() method with the respective group number as an argument,\n",
        "like match.group(0), match.group(1), and match.group(2).\n",
        "'''"
      ],
      "metadata": {
        "colab": {
          "base_uri": "https://localhost:8080/",
          "height": 70
        },
        "id": "iz-wdYD9NF_-",
        "outputId": "58343397-c68f-4122-d7b7-b3dc314fde3a"
      },
      "execution_count": 11,
      "outputs": [
        {
          "output_type": "execute_result",
          "data": {
            "text/plain": [
              "'\\nGroup 0 covers the entire matched string: (\\\\d\\\\d\\\\d)-(\\\\d\\\\d\\\\d-\\\\d\\\\d\\\\d\\\\d).\\nGroup 1 covers the first capturing group: (\\\\d\\\\d\\\\d).\\nGroup 2 covers the second capturing group: (\\\\d\\\\d\\\\d-\\\\d\\\\d\\\\d\\\\d).\\nYou can access the matched strings for each group using the group() method with the respective group number as an argument, \\nlike match.group(0), match.group(1), and match.group(2).\\n'"
            ],
            "application/vnd.google.colaboratory.intrinsic+json": {
              "type": "string"
            }
          },
          "metadata": {},
          "execution_count": 11
        }
      ]
    },
    {
      "cell_type": "code",
      "source": [
        "# 6. In standard expression syntax, parentheses and intervals have distinct meanings. How can you tell a regex that you want it to fit real parentheses and periods?"
      ],
      "metadata": {
        "id": "-L7h_UMyNT7G"
      },
      "execution_count": 12,
      "outputs": []
    },
    {
      "cell_type": "code",
      "source": [
        "'''\n",
        "In regular expressions, parentheses and periods have special meanings and are used to define groups and match any character, respectively.\n",
        "To specify that you want to match the literal parentheses and periods themselves, you need to escape them using a backslash () in most regex flavors.\n",
        "\n",
        "To match a literal parenthesis \"(\" or \")\", you would use \"\"and\"\" respectively. The backslash acts as an escape character to indicate that the following\n",
        "character should be treated as a literal character rather than having its special meaning.\n",
        "\n",
        "Similarly, to match a literal period \".\", you would use \".\".\n",
        "'''"
      ],
      "metadata": {
        "colab": {
          "base_uri": "https://localhost:8080/",
          "height": 87
        },
        "id": "GTHt8CiQNXop",
        "outputId": "60c95534-5ef5-41d2-f999-11b3a970b0b7"
      },
      "execution_count": 13,
      "outputs": [
        {
          "output_type": "execute_result",
          "data": {
            "text/plain": [
              "'\\nIn regular expressions, parentheses and periods have special meanings and are used to define groups and match any character, respectively. \\nTo specify that you want to match the literal parentheses and periods themselves, you need to escape them using a backslash () in most regex flavors.\\n\\nTo match a literal parenthesis \"(\" or \")\", you would use \"\"and\"\" respectively. The backslash acts as an escape character to indicate that the following \\ncharacter should be treated as a literal character rather than having its special meaning.\\n\\nSimilarly, to match a literal period \".\", you would use \".\".\\n'"
            ],
            "application/vnd.google.colaboratory.intrinsic+json": {
              "type": "string"
            }
          },
          "metadata": {},
          "execution_count": 13
        }
      ]
    },
    {
      "cell_type": "code",
      "source": [
        "# 7. The findall() method returns a string list or a list of string tuples. What causes it to return one of the two options?"
      ],
      "metadata": {
        "id": "wDzrLfo5N_w1"
      },
      "execution_count": 14,
      "outputs": []
    },
    {
      "cell_type": "code",
      "source": [
        "'''\n",
        "findall() returns a list of strings when there are no capturing groups in the pattern, and it returns a list of string tuples when\n",
        "there are one or more capturing groups in the pattern.\n",
        "'''"
      ],
      "metadata": {
        "colab": {
          "base_uri": "https://localhost:8080/",
          "height": 53
        },
        "id": "ghmXh64WODJL",
        "outputId": "53afcd04-a1a9-46b0-b831-d6ba63efb136"
      },
      "execution_count": 15,
      "outputs": [
        {
          "output_type": "execute_result",
          "data": {
            "text/plain": [
              "'\\nfindall() returns a list of strings when there are no capturing groups in the pattern, and it returns a list of string tuples when \\nthere are one or more capturing groups in the pattern.\\n'"
            ],
            "application/vnd.google.colaboratory.intrinsic+json": {
              "type": "string"
            }
          },
          "metadata": {},
          "execution_count": 15
        }
      ]
    },
    {
      "cell_type": "code",
      "source": [
        "# 8. In standard expressions, what does the | character mean?"
      ],
      "metadata": {
        "id": "Y2YsqIdVOQtj"
      },
      "execution_count": 16,
      "outputs": []
    },
    {
      "cell_type": "code",
      "source": [
        "'''\n",
        "In regular expressions, the vertical bar or pipe character | is known as the alternation or OR operator. It is used to specify multiple\n",
        "alternative patterns within a regular expression.\n",
        "'''"
      ],
      "metadata": {
        "colab": {
          "base_uri": "https://localhost:8080/",
          "height": 53
        },
        "id": "P6TjpewpOTM5",
        "outputId": "8a0a22dd-dfe6-4da0-b454-931cbcb1003f"
      },
      "execution_count": 17,
      "outputs": [
        {
          "output_type": "execute_result",
          "data": {
            "text/plain": [
              "'\\nIn regular expressions, the vertical bar or pipe character | is known as the alternation or OR operator. It is used to specify multiple \\nalternative patterns within a regular expression.\\n'"
            ],
            "application/vnd.google.colaboratory.intrinsic+json": {
              "type": "string"
            }
          },
          "metadata": {},
          "execution_count": 17
        }
      ]
    },
    {
      "cell_type": "code",
      "source": [
        "# 9. In regular expressions, what does the character stand for?"
      ],
      "metadata": {
        "id": "_DaCOmzMObAr"
      },
      "execution_count": 18,
      "outputs": []
    },
    {
      "cell_type": "code",
      "source": [
        "'''\n",
        "In regular Python expressions, the character {n} stands for exactly n number of occurrences of the preceding expression.\n",
        "For example, the regular expression \\w{5} matches a string of exactly 5 word characters.\n",
        "'''"
      ],
      "metadata": {
        "colab": {
          "base_uri": "https://localhost:8080/",
          "height": 53
        },
        "id": "Blw9op90OdZt",
        "outputId": "ab9a7d52-9280-4d7d-9967-b32d1ad922f5"
      },
      "execution_count": 19,
      "outputs": [
        {
          "output_type": "execute_result",
          "data": {
            "text/plain": [
              "'\\nIn regular Python expressions, the character {n} stands for exactly n number of occurrences of the preceding expression. \\nFor example, the regular expression \\\\w{5} matches a string of exactly 5 word characters.\\n'"
            ],
            "application/vnd.google.colaboratory.intrinsic+json": {
              "type": "string"
            }
          },
          "metadata": {},
          "execution_count": 19
        }
      ]
    },
    {
      "cell_type": "code",
      "source": [
        "# 10.In regular expressions, what is the difference between the + and * characters?"
      ],
      "metadata": {
        "id": "lBC0Wq6kQm5y"
      },
      "execution_count": 20,
      "outputs": []
    },
    {
      "cell_type": "code",
      "source": [
        "'''\n",
        "The + and * characters are both quantifiers in regular expressions, but they have different meanings. The + character matches one\n",
        "or more occurrences of the preceding expression, while the * character matches zero or more occurrences of the preceding expression.\n",
        "'''"
      ],
      "metadata": {
        "colab": {
          "base_uri": "https://localhost:8080/",
          "height": 53
        },
        "id": "DXJTKyYfQ1GS",
        "outputId": "10068d46-cb5f-43a2-f6a5-920976de0966"
      },
      "execution_count": 21,
      "outputs": [
        {
          "output_type": "execute_result",
          "data": {
            "text/plain": [
              "'\\nThe + and * characters are both quantifiers in regular expressions, but they have different meanings. The + character matches one \\nor more occurrences of the preceding expression, while the * character matches zero or more occurrences of the preceding expression.\\n'"
            ],
            "application/vnd.google.colaboratory.intrinsic+json": {
              "type": "string"
            }
          },
          "metadata": {},
          "execution_count": 21
        }
      ]
    },
    {
      "cell_type": "code",
      "source": [
        "# 11. What is the difference between {4} and {4,5} in regular expression?"
      ],
      "metadata": {
        "id": "JgG1OfiCRBgb"
      },
      "execution_count": 22,
      "outputs": []
    },
    {
      "cell_type": "code",
      "source": [
        "'''\n",
        "The difference between {4} and {4,5} in regular expressions is that {4} matches exactly 4 occurrences of the preceding expression,\n",
        "while {4,5} matches 4 or 5 occurrences of the preceding expression.\n",
        "For example, the regular expression ab{4} matches strings that start with ab and contain exactly 4 b characters. The regular expression ab{4,5}\n",
        "matches strings that start with ab and contain 4 or 5 b characters.\n",
        "'''"
      ],
      "metadata": {
        "colab": {
          "base_uri": "https://localhost:8080/",
          "height": 70
        },
        "id": "0BxVF-dmRNRZ",
        "outputId": "eb357324-50d1-46b3-cd72-2484178f33f7"
      },
      "execution_count": 23,
      "outputs": [
        {
          "output_type": "execute_result",
          "data": {
            "text/plain": [
              "'\\nThe difference between {4} and {4,5} in regular expressions is that {4} matches exactly 4 occurrences of the preceding expression, \\nwhile {4,5} matches 4 or 5 occurrences of the preceding expression.\\nFor example, the regular expression ab{4} matches strings that start with ab and contain exactly 4 b characters. The regular expression ab{4,5} \\nmatches strings that start with ab and contain 4 or 5 b characters.\\n'"
            ],
            "application/vnd.google.colaboratory.intrinsic+json": {
              "type": "string"
            }
          },
          "metadata": {},
          "execution_count": 23
        }
      ]
    },
    {
      "cell_type": "code",
      "source": [
        "# 12. What do you mean by the \\d, \\w, and \\s shorthand character classes signify in regular expressions?"
      ],
      "metadata": {
        "id": "WjAbgt-vRURI"
      },
      "execution_count": 24,
      "outputs": []
    },
    {
      "cell_type": "code",
      "source": [
        "'''\n",
        "The shorthand character classes \\d, \\w, and \\s are used in regular expressions to match specific types of characters.\n",
        "\n",
        "\\d matches any single digit character. This is equivalent to the character class [0-9].\n",
        "\\w matches any single word character. This is equivalent to the character class [a-zA-Z0-9_].\n",
        "\\s matches any single whitespace character. This is equivalent to the character class [ \\t\\r\\n\\f].\n",
        "For example, the regular expression \\d\\w\\s would match any string that starts with a digit, followed by a word character, followed by a whitespace character.\n",
        "'''"
      ],
      "metadata": {
        "colab": {
          "base_uri": "https://localhost:8080/",
          "height": 87
        },
        "id": "8NguoPtJRg2v",
        "outputId": "d67f6383-bd0e-41b9-ea1d-3869b7760560"
      },
      "execution_count": 25,
      "outputs": [
        {
          "output_type": "execute_result",
          "data": {
            "text/plain": [
              "'\\nThe shorthand character classes \\\\d, \\\\w, and \\\\s are used in regular expressions to match specific types of characters.\\n\\n\\\\d matches any single digit character. This is equivalent to the character class [0-9].\\n\\\\w matches any single word character. This is equivalent to the character class [a-zA-Z0-9_].\\n\\\\s matches any single whitespace character. This is equivalent to the character class [ \\t\\r\\n\\x0c].\\nFor example, the regular expression \\\\d\\\\w\\\\s would match any string that starts with a digit, followed by a word character, followed by a whitespace character.\\n'"
            ],
            "application/vnd.google.colaboratory.intrinsic+json": {
              "type": "string"
            }
          },
          "metadata": {},
          "execution_count": 25
        }
      ]
    },
    {
      "cell_type": "code",
      "source": [
        "# 13. What do means by \\D, \\W, and \\S shorthand character classes signify in regular expressions?"
      ],
      "metadata": {
        "id": "agUZbpAnRlDS"
      },
      "execution_count": 26,
      "outputs": []
    },
    {
      "cell_type": "code",
      "source": [
        "'''\n",
        "The shorthand character classes \\D, \\W, and \\S are used in regular expressions to match non-digit, non-word, and non-whitespace characters, respectively.\n",
        "\n",
        "\\D matches any single character that is not a digit. This is equivalent to the character class [^0-9].\n",
        "\\W matches any single character that is not a word character. This is equivalent to the character class [^a-zA-Z0-9_].\n",
        "\\S matches any single character that is not a whitespace character. This is equivalent to the character class [^ \\t\\r\\n\\f].\n",
        "For example, the regular expression \\D\\W\\S would match any string that starts with a non-digit character, followed by a non-word character,\n",
        "followed by a non-whitespace character.\n",
        "'''"
      ],
      "metadata": {
        "colab": {
          "base_uri": "https://localhost:8080/",
          "height": 105
        },
        "id": "-K9Dy5vtRojY",
        "outputId": "88c4c68b-34fa-47d0-8d3e-629ef96cd9f6"
      },
      "execution_count": 27,
      "outputs": [
        {
          "output_type": "execute_result",
          "data": {
            "text/plain": [
              "'\\nThe shorthand character classes \\\\D, \\\\W, and \\\\S are used in regular expressions to match non-digit, non-word, and non-whitespace characters, respectively.\\n\\n\\\\D matches any single character that is not a digit. This is equivalent to the character class [^0-9].\\n\\\\W matches any single character that is not a word character. This is equivalent to the character class [^a-zA-Z0-9_].\\n\\\\S matches any single character that is not a whitespace character. This is equivalent to the character class [^ \\t\\r\\n\\x0c].\\nFor example, the regular expression \\\\D\\\\W\\\\S would match any string that starts with a non-digit character, followed by a non-word character, \\nfollowed by a non-whitespace character.\\n'"
            ],
            "application/vnd.google.colaboratory.intrinsic+json": {
              "type": "string"
            }
          },
          "metadata": {},
          "execution_count": 27
        }
      ]
    },
    {
      "cell_type": "code",
      "source": [
        "# 14. What is the difference between .*? and .*?"
      ],
      "metadata": {
        "id": "BTqMyS0MRw_Q"
      },
      "execution_count": 28,
      "outputs": []
    },
    {
      "cell_type": "code",
      "source": [
        "'''\n",
        "The difference between .*? and .* in regular expressions is that .*? is a non-greedy quantifier, while .* is a greedy quantifier.\n",
        "'''"
      ],
      "metadata": {
        "colab": {
          "base_uri": "https://localhost:8080/",
          "height": 35
        },
        "id": "J3QUIVA7R0Yf",
        "outputId": "6c6059fd-910a-4945-f064-f604678c7e1a"
      },
      "execution_count": 29,
      "outputs": [
        {
          "output_type": "execute_result",
          "data": {
            "text/plain": [
              "'\\nThe difference between .*? and .* in regular expressions is that .*? is a non-greedy quantifier, while .* is a greedy quantifier.\\n'"
            ],
            "application/vnd.google.colaboratory.intrinsic+json": {
              "type": "string"
            }
          },
          "metadata": {},
          "execution_count": 29
        }
      ]
    },
    {
      "cell_type": "code",
      "source": [
        "# 15. What is the syntax for matching both numbers and lowercase letters with a character class?"
      ],
      "metadata": {
        "id": "1zEJk-POR7j4"
      },
      "execution_count": 30,
      "outputs": []
    },
    {
      "cell_type": "code",
      "source": [
        "'''\n",
        "The syntax for matching both numbers and lowercase letters with a character class is [a-z0-9]. This character class matches any single\n",
        "character that is a lowercase letter or a digit.\n",
        "For example, the regular expression [a-z0-9] would match the strings \"hello\", \"world\", and \"12345\".\n",
        "'''"
      ],
      "metadata": {
        "colab": {
          "base_uri": "https://localhost:8080/",
          "height": 53
        },
        "id": "m5kGQ_unSEZG",
        "outputId": "845b752d-1dcb-4707-d39a-6010f226cb03"
      },
      "execution_count": 31,
      "outputs": [
        {
          "output_type": "execute_result",
          "data": {
            "text/plain": [
              "'\\nThe syntax for matching both numbers and lowercase letters with a character class is [a-z0-9]. This character class matches any single \\ncharacter that is a lowercase letter or a digit.\\nFor example, the regular expression [a-z0-9] would match the strings \"hello\", \"world\", and \"12345\".\\n'"
            ],
            "application/vnd.google.colaboratory.intrinsic+json": {
              "type": "string"
            }
          },
          "metadata": {},
          "execution_count": 31
        }
      ]
    },
    {
      "cell_type": "code",
      "source": [
        "# 16. What is the procedure for making a normal expression in regax case insensitive?"
      ],
      "metadata": {
        "id": "17UinxB1SNsO"
      },
      "execution_count": 32,
      "outputs": []
    },
    {
      "cell_type": "code",
      "source": [
        "'''\n",
        "There are two ways to make a regular expression case insensitive:\n",
        "\n",
        "Use the (?i) modifier. This modifier tells the regular expression engine to ignore the case of the characters being matched.\n",
        "For example, the regular expression (?i)hello would match the strings \"hello\", \"HELLO\", and \"hElLo\".\n",
        "Use the ignoreCase() method. This method is available in some regular expression libraries, such as Python's re module.\n",
        "'''"
      ],
      "metadata": {
        "colab": {
          "base_uri": "https://localhost:8080/",
          "height": 70
        },
        "id": "gINJLv_8SRje",
        "outputId": "706ebbb6-698e-4dfd-b58e-527d672ab1dd"
      },
      "execution_count": 33,
      "outputs": [
        {
          "output_type": "execute_result",
          "data": {
            "text/plain": [
              "'\\nThere are two ways to make a regular expression case insensitive:\\n\\nUse the (?i) modifier. This modifier tells the regular expression engine to ignore the case of the characters being matched. \\nFor example, the regular expression (?i)hello would match the strings \"hello\", \"HELLO\", and \"hElLo\".\\nUse the ignoreCase() method. This method is available in some regular expression libraries, such as Python\\'s re module.\\n'"
            ],
            "application/vnd.google.colaboratory.intrinsic+json": {
              "type": "string"
            }
          },
          "metadata": {},
          "execution_count": 33
        }
      ]
    },
    {
      "cell_type": "code",
      "source": [
        "# 17. What does the . character normally match? What does it match if re.DOTALL is passed as 2nd argument in re.compile()?"
      ],
      "metadata": {
        "id": "uatbYeHNSbR8"
      },
      "execution_count": 34,
      "outputs": []
    },
    {
      "cell_type": "code",
      "source": [
        "'''\n",
        "The . character in regular expressions normally matches any single character except a newline. This means that the regular expression .\n",
        "would match the strings \"hello\", \"world\", and \"12345\".\n",
        "However, if the re.DOTALL flag is passed as the second argument to the re.compile() function, then the . character will match any single character,\n",
        "including a newline. This means that the regular expression . would also match the strings \"\\n\", \"\\r\", and \"\\t\".\n",
        "The re.DOTALL flag is a special flag that tells the regular expression engine to treat the . character as a wildcard, matching any single character,\n",
        "including a newline.\n",
        "'''\n"
      ],
      "metadata": {
        "colab": {
          "base_uri": "https://localhost:8080/",
          "height": 87
        },
        "id": "aUJPGtxQSfbf",
        "outputId": "6fd40e18-a360-436d-ed94-4b2e7e3738f0"
      },
      "execution_count": 35,
      "outputs": [
        {
          "output_type": "execute_result",
          "data": {
            "text/plain": [
              "'\\nThe . character in regular expressions normally matches any single character except a newline. This means that the regular expression . \\nwould match the strings \"hello\", \"world\", and \"12345\".\\nHowever, if the re.DOTALL flag is passed as the second argument to the re.compile() function, then the . character will match any single character, \\nincluding a newline. This means that the regular expression . would also match the strings \"\\n\", \"\\r\", and \"\\t\".\\nThe re.DOTALL flag is a special flag that tells the regular expression engine to treat the . character as a wildcard, matching any single character, \\nincluding a newline.\\n'"
            ],
            "application/vnd.google.colaboratory.intrinsic+json": {
              "type": "string"
            }
          },
          "metadata": {},
          "execution_count": 35
        }
      ]
    },
    {
      "cell_type": "code",
      "source": [
        "# 18. If numReg = re.compile(r&#39;\\d+&#39;), what will numRegex.sub(&#39;X&#39;, &#39;11 drummers, 10 pipers, five rings, 4 hen&#39;) return?"
      ],
      "metadata": {
        "id": "hatP9UaaTdT4"
      },
      "execution_count": 36,
      "outputs": []
    },
    {
      "cell_type": "code",
      "source": [
        "'''\n",
        "The regular expression r'\\d+' matches any string of one or more digits. The sub() method takes two arguments:\n",
        "the first argument is the string to be replaced, and the second argument is the string that will replace the matched text.\n",
        "In this case, the sub() method will replace all of the strings of one or more digits in the string \"11 drummers, 10 pipers, five rings,\n",
        "4 hen\" with the string \"X\". The result of the sub() method will be the string \"X drummers, X pipers, five rings, X hen\".\n",
        "'''\n",
        "import re\n",
        "\n",
        "numReg = re.compile(r'\\d+')\n",
        "\n",
        "result = numReg.sub('X', '11 drummers, 10 pipers, five rings, 4 hen')\n",
        "\n",
        "print(result)\n",
        "# The output of the code will be the string \"X drummers, X pipers, five rings, X hen\"."
      ],
      "metadata": {
        "colab": {
          "base_uri": "https://localhost:8080/"
        },
        "id": "9xDsQ6AuTgwy",
        "outputId": "ded6e846-3f54-49c9-f989-b36a359bfe26"
      },
      "execution_count": 37,
      "outputs": [
        {
          "output_type": "stream",
          "name": "stdout",
          "text": [
            "X drummers, X pipers, five rings, X hen\n"
          ]
        }
      ]
    },
    {
      "cell_type": "code",
      "source": [
        "# 19. What does passing re.VERBOSE as the 2nd argument to re.compile() allow to do?"
      ],
      "metadata": {
        "id": "cCA0dmtpT16N"
      },
      "execution_count": 38,
      "outputs": []
    },
    {
      "cell_type": "code",
      "source": [
        "'''\n",
        "Passing re.VERBOSE as the 2nd argument to re.compile() allows you to write regular expressions that are more readable and easier to understand.\n",
        "This is because the re.VERBOSE flag allows you to use whitespace and comments in your regular expressions.\n",
        "'''"
      ],
      "metadata": {
        "colab": {
          "base_uri": "https://localhost:8080/",
          "height": 53
        },
        "id": "IeYdJfKyT5M_",
        "outputId": "edceebcf-a824-4f48-81cc-96263dd102f2"
      },
      "execution_count": 39,
      "outputs": [
        {
          "output_type": "execute_result",
          "data": {
            "text/plain": [
              "'\\nPassing re.VERBOSE as the 2nd argument to re.compile() allows you to write regular expressions that are more readable and easier to understand.\\nThis is because the re.VERBOSE flag allows you to use whitespace and comments in your regular expressions.\\n'"
            ],
            "application/vnd.google.colaboratory.intrinsic+json": {
              "type": "string"
            }
          },
          "metadata": {},
          "execution_count": 39
        }
      ]
    },
    {
      "cell_type": "code",
      "source": [
        "# 20. How would you write a regex that match a number with comma for every three digits? It must match the given following:\n",
        "'''\n",
        "&#39;42&#39;\n",
        "&#39;1,234&#39;\n",
        "&#39;6,368,745&#39;\n",
        "'''"
      ],
      "metadata": {
        "colab": {
          "base_uri": "https://localhost:8080/",
          "height": 35
        },
        "id": "lyzzcZ2PUCnz",
        "outputId": "1138b642-e1e3-42d6-d628-85e1ea9757df"
      },
      "execution_count": 40,
      "outputs": [
        {
          "output_type": "execute_result",
          "data": {
            "text/plain": [
              "'\\n&#39;42&#39;\\n&#39;1,234&#39;\\n&#39;6,368,745&#39;\\n'"
            ],
            "application/vnd.google.colaboratory.intrinsic+json": {
              "type": "string"
            }
          },
          "metadata": {},
          "execution_count": 40
        }
      ]
    },
    {
      "cell_type": "code",
      "source": [
        "'''\n",
        "Here is a regex that matches a number with comma for every three digits:\n",
        "\n",
        "^(\\d{1,3})(?:,\\d{3})*$\n",
        "This regex matches a string that starts with one or more digits, followed by a comma, followed by zero or more groups\n",
        "of three digits, each separated by a comma. The final group of digits can be zero or more digits.\n",
        "'''"
      ],
      "metadata": {
        "colab": {
          "base_uri": "https://localhost:8080/",
          "height": 53
        },
        "id": "_6u24yy5ULZm",
        "outputId": "0f2e46f8-0b81-4a90-d278-21e047bf5a5e"
      },
      "execution_count": 41,
      "outputs": [
        {
          "output_type": "execute_result",
          "data": {
            "text/plain": [
              "'\\nHere is a regex that matches a number with comma for every three digits:\\n\\n^(\\\\d{1,3})(?:,\\\\d{3})*$\\nThis regex matches a string that starts with one or more digits, followed by a comma, followed by zero or more groups \\nof three digits, each separated by a comma. The final group of digits can be zero or more digits.\\n'"
            ],
            "application/vnd.google.colaboratory.intrinsic+json": {
              "type": "string"
            }
          },
          "metadata": {},
          "execution_count": 41
        }
      ]
    },
    {
      "cell_type": "code",
      "source": [],
      "metadata": {
        "id": "Ckl940iUUYWp"
      },
      "execution_count": null,
      "outputs": []
    }
  ]
}
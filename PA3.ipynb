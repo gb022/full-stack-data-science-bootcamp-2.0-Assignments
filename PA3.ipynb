{
  "nbformat": 4,
  "nbformat_minor": 0,
  "metadata": {
    "colab": {
      "provenance": []
    },
    "kernelspec": {
      "name": "python3",
      "display_name": "Python 3"
    },
    "language_info": {
      "name": "python"
    }
  },
  "cells": [
    {
      "cell_type": "code",
      "execution_count": 1,
      "metadata": {
        "id": "NHh11wYkhKMm"
      },
      "outputs": [],
      "source": [
        "# 1. Write a Python Program to Check if a Number is Positive, Negative or Zero?"
      ]
    },
    {
      "cell_type": "code",
      "source": [
        "# Here's a Python program that checks whether a given number is positive, negative, or zero:\n",
        "def check_number(num):\n",
        "    if num > 0:\n",
        "        return \"Positive\"\n",
        "    elif num < 0:\n",
        "        return \"Negative\"\n",
        "    else:\n",
        "        return \"Zero\"\n",
        "\n",
        "# Example usage\n",
        "number = float(input(\"Enter a number: \"))\n",
        "result = check_number(number)\n",
        "print(f\"The number is {result}.\")\n"
      ],
      "metadata": {
        "colab": {
          "base_uri": "https://localhost:8080/"
        },
        "id": "jmrUFmvHhXCm",
        "outputId": "7fc0a886-7713-4267-ec20-091d70b8c2ff"
      },
      "execution_count": 2,
      "outputs": [
        {
          "output_type": "stream",
          "name": "stdout",
          "text": [
            "Enter a number: -5\n",
            "The number is Negative.\n"
          ]
        }
      ]
    },
    {
      "cell_type": "code",
      "source": [
        "#2. Write a Python Program to Check if a Number is Odd or Even?"
      ],
      "metadata": {
        "id": "MLJxhmzlhjby"
      },
      "execution_count": 3,
      "outputs": []
    },
    {
      "cell_type": "code",
      "source": [
        "#  Here's a Python program that checks whether a given number is odd or even:\n",
        "def check_odd_even(num):\n",
        "    if num % 2 == 0:\n",
        "        return \"Even\"\n",
        "    else:\n",
        "        return \"Odd\"\n",
        "\n",
        "# Example usage\n",
        "number = int(input(\"Enter a number: \"))\n",
        "result = check_odd_even(number)\n",
        "print(f\"The number is {result}.\")\n"
      ],
      "metadata": {
        "colab": {
          "base_uri": "https://localhost:8080/"
        },
        "id": "4jwbQtNbhopX",
        "outputId": "e12bcdec-286d-45fb-c592-92c8befe9330"
      },
      "execution_count": 4,
      "outputs": [
        {
          "output_type": "stream",
          "name": "stdout",
          "text": [
            "Enter a number: 7\n",
            "The number is Odd.\n"
          ]
        }
      ]
    },
    {
      "cell_type": "code",
      "source": [
        "# 3. Write a Python Program to Check Leap Year?"
      ],
      "metadata": {
        "id": "I3IoAZzDh3BL"
      },
      "execution_count": 5,
      "outputs": []
    },
    {
      "cell_type": "code",
      "source": [
        "# Here's a Python program that checks whether a given year is a leap year or not:\n",
        "def check_leap_year(year):\n",
        "    if year % 4 == 0:\n",
        "        if year % 100 == 0:\n",
        "            if year % 400 == 0:\n",
        "                return True\n",
        "            else:\n",
        "                return False\n",
        "        else:\n",
        "            return True\n",
        "    else:\n",
        "        return False\n",
        "\n",
        "# Example usage\n",
        "year = int(input(\"Enter a year: \"))\n",
        "if check_leap_year(year):\n",
        "    print(f\"{year} is a leap year.\")\n",
        "else:\n",
        "    print(f\"{year} is not a leap year.\")\n",
        "\n",
        "'''In this program, we define a function called check_leap_year that takes a year as input and returns True if the year is a leap year,\n",
        "and False otherwise.\n",
        "To determine whether a year is a leap year, we follow these rules:\n",
        "\n",
        "If the year is divisible by 4, it is a potential leap year.\n",
        "If the year is divisible by 100, it is not a leap year, unless:\n",
        "It is also divisible by 400, in which case it is a leap year.\n",
        "We use nested if statements to check these conditions. If all the conditions are satisfied, the function returns True,\n",
        "indicating a leap year. Otherwise, it returns False.'''"
      ],
      "metadata": {
        "colab": {
          "base_uri": "https://localhost:8080/",
          "height": 122
        },
        "id": "DLtMPhi8h7T-",
        "outputId": "400e0f7e-4361-4d8d-f374-c5d713e033ca"
      },
      "execution_count": 7,
      "outputs": [
        {
          "output_type": "stream",
          "name": "stdout",
          "text": [
            "Enter a year: 1997\n",
            "1997 is not a leap year.\n"
          ]
        },
        {
          "output_type": "execute_result",
          "data": {
            "text/plain": [
              "'In this program, we define a function called check_leap_year that takes a year as input and returns True if the year is a leap year, \\nand False otherwise.\\nTo determine whether a year is a leap year, we follow these rules:\\n\\nIf the year is divisible by 4, it is a potential leap year.\\nIf the year is divisible by 100, it is not a leap year, unless:\\nIt is also divisible by 400, in which case it is a leap year.\\nWe use nested if statements to check these conditions. If all the conditions are satisfied, the function returns True, \\nindicating a leap year. Otherwise, it returns False.'"
            ],
            "application/vnd.google.colaboratory.intrinsic+json": {
              "type": "string"
            }
          },
          "metadata": {},
          "execution_count": 7
        }
      ]
    },
    {
      "cell_type": "code",
      "source": [
        "# 4. Write a Python Program to Check Prime Number?"
      ],
      "metadata": {
        "id": "MGw5yL2ziEN2"
      },
      "execution_count": 8,
      "outputs": []
    },
    {
      "cell_type": "code",
      "source": [
        "# Here's a Python program that checks whether a given number is prime or not:\n",
        "def check_prime(number):\n",
        "    if number <= 1:\n",
        "        return False\n",
        "    for i in range(2, int(number**0.5) + 1):\n",
        "        if number % i == 0:\n",
        "            return False\n",
        "    return True\n",
        "\n",
        "# Example usage\n",
        "number = int(input(\"Enter a number: \"))\n",
        "if check_prime(number):\n",
        "    print(f\"{number} is a prime number.\")\n",
        "else:\n",
        "    print(f\"{number} is not a prime number.\")\n",
        "\n",
        "'''In this program, we define a function called check_prime that takes a number as input and returns True if the number is prime, and False otherwise.\n",
        "\n",
        "To check if a number is prime, we use the following approach:\n",
        "\n",
        "If the number is less than or equal to 1, it is not prime.\n",
        "We iterate from 2 to the square root of the number (inclusive) using a for loop.\n",
        "If the number is divisible by any integer in the range, it is not prime.\n",
        "If the loop completes without finding any divisors, the number is prime.'''\n"
      ],
      "metadata": {
        "colab": {
          "base_uri": "https://localhost:8080/",
          "height": 122
        },
        "id": "cYha2So4icEH",
        "outputId": "84dd4093-106c-4e51-f82c-1d8f13133151"
      },
      "execution_count": 10,
      "outputs": [
        {
          "output_type": "stream",
          "name": "stdout",
          "text": [
            "Enter a number: 113\n",
            "113 is a prime number.\n"
          ]
        },
        {
          "output_type": "execute_result",
          "data": {
            "text/plain": [
              "'In this program, we define a function called check_prime that takes a number as input and returns True if the number is prime, and False otherwise.\\n\\nTo check if a number is prime, we use the following approach:\\n\\nIf the number is less than or equal to 1, it is not prime.\\nWe iterate from 2 to the square root of the number (inclusive) using a for loop.\\nIf the number is divisible by any integer in the range, it is not prime.\\nIf the loop completes without finding any divisors, the number is prime.'"
            ],
            "application/vnd.google.colaboratory.intrinsic+json": {
              "type": "string"
            }
          },
          "metadata": {},
          "execution_count": 10
        }
      ]
    },
    {
      "cell_type": "code",
      "source": [
        "# 5. Write a Python Program to Print all Prime Numbers in an Interval of 1-10000?"
      ],
      "metadata": {
        "id": "YrBCmL6tiv2w"
      },
      "execution_count": 11,
      "outputs": []
    },
    {
      "cell_type": "code",
      "source": [
        "# Here's a Python program that prints all the prime numbers within an interval of 1 to 10000:\n",
        "def check_prime(number):\n",
        "    if number <= 1:\n",
        "        return False\n",
        "    for i in range(2, int(number**0.5) + 1):\n",
        "        if number % i == 0:\n",
        "            return False\n",
        "    return True\n",
        "\n",
        "# Define the interval\n",
        "start = 1\n",
        "end = 10000\n",
        "\n",
        "# Find and print prime numbers in the interval\n",
        "print(f\"Prime numbers between {start} and {end}:\")\n",
        "for number in range(start, end + 1):\n",
        "    if check_prime(number):\n",
        "        print(number)\n"
      ],
      "metadata": {
        "id": "NL296vGWjQnx"
      },
      "execution_count": null,
      "outputs": []
    },
    {
      "cell_type": "code",
      "source": [],
      "metadata": {
        "id": "uTV4rD3tjVLD"
      },
      "execution_count": null,
      "outputs": []
    }
  ]
}
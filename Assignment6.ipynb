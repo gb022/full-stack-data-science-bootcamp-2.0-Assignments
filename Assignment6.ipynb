{
  "nbformat": 4,
  "nbformat_minor": 0,
  "metadata": {
    "colab": {
      "provenance": []
    },
    "kernelspec": {
      "name": "python3",
      "display_name": "Python 3"
    },
    "language_info": {
      "name": "python"
    }
  },
  "cells": [
    {
      "cell_type": "code",
      "execution_count": 1,
      "metadata": {
        "id": "HPU6pkOcDBuh"
      },
      "outputs": [],
      "source": [
        "# 1. What are escape characters, and how do you use them?"
      ]
    },
    {
      "cell_type": "code",
      "source": [
        "'''Escape characters are special characters used in programming and computer science to represent certain characters\n",
        " or sequences of characters that are difficult or impossible to input or display directly. They are typically used within strings to represent\n",
        "characters that have a special meaning or cannot be typed directly.'''\n",
        "'''escape characters are denoted by a backslash (\\) followed by a specific character or sequence. When the compiler or interpreter encounters\n",
        "an escape character, it treats the following character(s) in a special way.'''"
      ],
      "metadata": {
        "colab": {
          "base_uri": "https://localhost:8080/",
          "height": 53
        },
        "id": "4WCy35AFDrLZ",
        "outputId": "a60ea962-0d56-44c6-85b2-55c4ec149d9c"
      },
      "execution_count": 2,
      "outputs": [
        {
          "output_type": "execute_result",
          "data": {
            "text/plain": [
              "'escape characters are denoted by a backslash (\\\\) followed by a specific character or sequence. When the compiler or interpreter encounters\\nan escape character, it treats the following character(s) in a special way.'"
            ],
            "application/vnd.google.colaboratory.intrinsic+json": {
              "type": "string"
            }
          },
          "metadata": {},
          "execution_count": 2
        }
      ]
    },
    {
      "cell_type": "code",
      "source": [
        "# 2. What do the escape characters n and t stand for?"
      ],
      "metadata": {
        "id": "oBjPI-LqdSmP"
      },
      "execution_count": 3,
      "outputs": []
    },
    {
      "cell_type": "code",
      "source": [
        "# n\n",
        "'''\\n: Represents a newline character. It is used to insert a line break in a string.\n",
        "Example: \"Hello\\nWorld\" will display as:'''\n",
        "'''Hello\n",
        "World'''\n",
        "\n",
        "# t\n",
        "'''\\t: Represents a tab character. It is used to insert a horizontal tab in a string.\n",
        "Example: \"Hello\\tWorld\" will display as: \"Hello World\" (with spaces representing the tab).'''"
      ],
      "metadata": {
        "colab": {
          "base_uri": "https://localhost:8080/",
          "height": 53
        },
        "id": "lv3ngnqTddfJ",
        "outputId": "62a5f7c0-b075-4aa2-9950-bde66ac346d1"
      },
      "execution_count": 5,
      "outputs": [
        {
          "output_type": "execute_result",
          "data": {
            "text/plain": [
              "'\\t: Represents a tab character. It is used to insert a horizontal tab in a string.\\nExample: \"Hello\\tWorld\" will display as: \"Hello World\" (with spaces representing the tab).'"
            ],
            "application/vnd.google.colaboratory.intrinsic+json": {
              "type": "string"
            }
          },
          "metadata": {},
          "execution_count": 5
        }
      ]
    },
    {
      "cell_type": "code",
      "source": [
        "# 3. What is the way to include backslash characters in a string?"
      ],
      "metadata": {
        "id": "6hUBQwfldv5g"
      },
      "execution_count": 6,
      "outputs": []
    },
    {
      "cell_type": "code",
      "source": [
        "'''To include a backslash character (\\) in a string, you need to use the escape character itself, which is also a backslash. This is known\n",
        " as escaping the backslash.'''\n",
        "my_string = \"C:\\\\path\\\\to\\\\file\"\n",
        "print(my_string)\n",
        "\n",
        " # C:\\path\\to\\file (output)\n",
        "'''In this example, the double backslashes \\\\ are used to escape the backslashes, allowing them to be treated as literal characters within the string.\n",
        "The resulting string will contain the actual backslashes when it is printed or displayed.'''"
      ],
      "metadata": {
        "colab": {
          "base_uri": "https://localhost:8080/",
          "height": 70
        },
        "id": "eQbSBcEFd6Am",
        "outputId": "6982a02a-4138-481c-abd8-2c65829febe4"
      },
      "execution_count": 7,
      "outputs": [
        {
          "output_type": "stream",
          "name": "stdout",
          "text": [
            "C:\\path\\to\\file\n"
          ]
        },
        {
          "output_type": "execute_result",
          "data": {
            "text/plain": [
              "'In this example, the double backslashes \\\\ are used to escape the backslashes, allowing them to be treated as literal characters within the string. \\nThe resulting string will contain the actual backslashes when it is printed or displayed.'"
            ],
            "application/vnd.google.colaboratory.intrinsic+json": {
              "type": "string"
            }
          },
          "metadata": {},
          "execution_count": 7
        }
      ]
    },
    {
      "cell_type": "code",
      "source": [
        "# 4. The string \"Howl's Moving Castle\" is a correct value. Why isn't the single quote character in the word How's not escaped a problem?"
      ],
      "metadata": {
        "id": "1uBbnfazeoN2"
      },
      "execution_count": 8,
      "outputs": []
    },
    {
      "cell_type": "code",
      "source": [
        "'''In the example provided, \"Howl's Moving Castle\", the single quote character in the word \"Howl's\" does not need to be escaped because\n",
        "the string is delimited by double quotes. Within double quotes,programming languages recognize and interpret escape characters.\n",
        "However, the single quote character itself does not have a special meaning within double quotes, so it does not need to be escaped.'''"
      ],
      "metadata": {
        "colab": {
          "base_uri": "https://localhost:8080/",
          "height": 70
        },
        "id": "iX0Q-escfMdp",
        "outputId": "83710fcc-5149-41cf-f3e5-f3f0cf4b8c75"
      },
      "execution_count": 10,
      "outputs": [
        {
          "output_type": "execute_result",
          "data": {
            "text/plain": [
              "'In the example provided, \"Howl\\'s Moving Castle\", the single quote character in the word \"Howl\\'s\" does not need to be escaped because \\nthe string is delimited by double quotes. Within double quotes,programming languages recognize and interpret escape characters. \\nHowever, the single quote character itself does not have a special meaning within double quotes, so it does not need to be escaped.'"
            ],
            "application/vnd.google.colaboratory.intrinsic+json": {
              "type": "string"
            }
          },
          "metadata": {},
          "execution_count": 10
        }
      ]
    },
    {
      "cell_type": "code",
      "source": [
        "# 5. How do you write a string of newlines if you don't want to use the n character?\n",
        "'''if we don't want to use n character we can write a string of newlines using multi-line string literals:'''\n",
        "my_string = \"\"\"Line 1\n",
        "Line 2\n",
        "Line 3\"\"\"\n",
        "print(my_string)"
      ],
      "metadata": {
        "colab": {
          "base_uri": "https://localhost:8080/"
        },
        "id": "HR5nqfm7gEBH",
        "outputId": "b9ce13b7-36da-4e2b-877f-bdb6140d8847"
      },
      "execution_count": 11,
      "outputs": [
        {
          "output_type": "stream",
          "name": "stdout",
          "text": [
            "Line 1\n",
            "Line 2\n",
            "Line 3\n"
          ]
        }
      ]
    },
    {
      "cell_type": "code",
      "source": [
        "# 6. What are the values of the given expressions?\n",
        "'Hello, world!'[1]\n",
        "'Hello, world!'[0:5]\n",
        "'Hello, world!'[:5]\n",
        "'Hello, world!'[3:]"
      ],
      "metadata": {
        "colab": {
          "base_uri": "https://localhost:8080/",
          "height": 35
        },
        "id": "9eUFNUl9jNVT",
        "outputId": "7f8437c4-3cf5-45e1-c4d9-7503a485f665"
      },
      "execution_count": 12,
      "outputs": [
        {
          "output_type": "execute_result",
          "data": {
            "text/plain": [
              "'lo, world!'"
            ],
            "application/vnd.google.colaboratory.intrinsic+json": {
              "type": "string"
            }
          },
          "metadata": {},
          "execution_count": 12
        }
      ]
    },
    {
      "cell_type": "code",
      "source": [
        "''''Hello, world!'[1] returns 'e'.\n",
        "'Hello, world!'[0:5] and 'Hello, world!'[:5] both return 'Hello'.\n",
        "'Hello, world!'[3:] returns 'lo, world!'.'''"
      ],
      "metadata": {
        "colab": {
          "base_uri": "https://localhost:8080/",
          "height": 35
        },
        "id": "7JHktJRjj8IH",
        "outputId": "9d293902-43c1-4675-9897-25bc26e36578"
      },
      "execution_count": 13,
      "outputs": [
        {
          "output_type": "execute_result",
          "data": {
            "text/plain": [
              "\"'Hello, world!'[1] returns 'e'.\\n'Hello, world!'[0:5] and 'Hello, world!'[:5] both return 'Hello'.\\n'Hello, world!'[3:] returns 'lo, world!'.\""
            ],
            "application/vnd.google.colaboratory.intrinsic+json": {
              "type": "string"
            }
          },
          "metadata": {},
          "execution_count": 13
        }
      ]
    },
    {
      "cell_type": "code",
      "source": [
        "# 7. What are the values of the following expressions?\n",
        "'Hello'.upper()\n",
        "'Hello'.upper().isupper()\n",
        "'Hello'.upper().lower()"
      ],
      "metadata": {
        "colab": {
          "base_uri": "https://localhost:8080/",
          "height": 35
        },
        "id": "iNEVt8P4kD40",
        "outputId": "42a33b38-f9a8-4be8-c7d6-b8ed66db3110"
      },
      "execution_count": 14,
      "outputs": [
        {
          "output_type": "execute_result",
          "data": {
            "text/plain": [
              "'hello'"
            ],
            "application/vnd.google.colaboratory.intrinsic+json": {
              "type": "string"
            }
          },
          "metadata": {},
          "execution_count": 14
        }
      ]
    },
    {
      "cell_type": "code",
      "source": [
        "''''Hello'.upper() returns 'HELLO'.\n",
        "'Hello'.upper().isupper() returns True.\n",
        "'Hello'.upper().lower() returns 'hello'.'''"
      ],
      "metadata": {
        "colab": {
          "base_uri": "https://localhost:8080/",
          "height": 35
        },
        "id": "mCMHUaOLkn23",
        "outputId": "18d0d32b-5f9b-4878-ee31-3a4a63f7df25"
      },
      "execution_count": 15,
      "outputs": [
        {
          "output_type": "execute_result",
          "data": {
            "text/plain": [
              "\"'Hello'.upper() returns 'HELLO'.\\n'Hello'.upper().isupper() returns True.\\n'Hello'.upper().lower() returns 'hello'.\""
            ],
            "application/vnd.google.colaboratory.intrinsic+json": {
              "type": "string"
            }
          },
          "metadata": {},
          "execution_count": 15
        }
      ]
    },
    {
      "cell_type": "code",
      "source": [
        "# 8. What are the values of the following expressions?\n",
        "'Remember, remember, the fifth of July.'.split()\n",
        "'-'.join('There can only one.'.split())"
      ],
      "metadata": {
        "colab": {
          "base_uri": "https://localhost:8080/",
          "height": 35
        },
        "id": "n9X9jvqCkpje",
        "outputId": "6e81db41-903b-4509-ec1e-a67bb744dacf"
      },
      "execution_count": 16,
      "outputs": [
        {
          "output_type": "execute_result",
          "data": {
            "text/plain": [
              "'There-can-only-one.'"
            ],
            "application/vnd.google.colaboratory.intrinsic+json": {
              "type": "string"
            }
          },
          "metadata": {},
          "execution_count": 16
        }
      ]
    },
    {
      "cell_type": "code",
      "source": [
        "''''Remember, remember, the fifth of July.'.split() returns ['Remember,', 'remember,', 'the', 'fifth', 'of', 'July.'].\n",
        "'-'.join('There can only one.'.split()) returns 'There-can-only-one.'.'''"
      ],
      "metadata": {
        "colab": {
          "base_uri": "https://localhost:8080/",
          "height": 53
        },
        "id": "wlTvky8Bk7jE",
        "outputId": "12e42e07-422d-481c-fd21-9d0f80d5cca8"
      },
      "execution_count": 17,
      "outputs": [
        {
          "output_type": "execute_result",
          "data": {
            "text/plain": [
              "\"'Remember, remember, the fifth of July.'.split() returns ['Remember,', 'remember,', 'the', 'fifth', 'of', 'July.'].\\n'-'.join('There can only one.'.split()) returns 'There-can-only-one.'.\""
            ],
            "application/vnd.google.colaboratory.intrinsic+json": {
              "type": "string"
            }
          },
          "metadata": {},
          "execution_count": 17
        }
      ]
    },
    {
      "cell_type": "code",
      "source": [
        "# 9. What are the methods for right-justifying, left-justifying, and centering a string?"
      ],
      "metadata": {
        "id": "48LWhglAlJ80"
      },
      "execution_count": 18,
      "outputs": []
    },
    {
      "cell_type": "code",
      "source": [
        "# Right-justifying a string\n",
        "'''The method used to right-justify a string varies depending on the programming language, but a common method is the rjust() method.'''\n",
        "my_string = 'Hello'\n",
        "justified_string = my_string.rjust(10)\n",
        "print(justified_string)\n",
        " #    Hello # output\n",
        "\n",
        "# Left-justifying a string\n",
        "my_string = 'Hello'\n",
        "justified_string = my_string.ljust(10)\n",
        "print(justified_string)\n",
        "#Hello       # output\n",
        "\n",
        "\n",
        "\n",
        "# Centering a string\n",
        "my_string = 'Hello'\n",
        "centered_string = my_string.center(10)\n",
        "print(centered_string)\n",
        "#   Hello    # output"
      ],
      "metadata": {
        "colab": {
          "base_uri": "https://localhost:8080/"
        },
        "id": "m60EW6uTlO1s",
        "outputId": "83c43b62-792d-4de2-a6ce-249db67784a6"
      },
      "execution_count": 20,
      "outputs": [
        {
          "output_type": "stream",
          "name": "stdout",
          "text": [
            "     Hello\n",
            "Hello     \n",
            "  Hello   \n"
          ]
        }
      ]
    },
    {
      "cell_type": "code",
      "source": [
        "# 10. What is the best way to remove whitespace characters from the start or end?"
      ],
      "metadata": {
        "id": "Pi9y0pk0nNwq"
      },
      "execution_count": 21,
      "outputs": []
    },
    {
      "cell_type": "code",
      "source": [
        "# we can use strip(),leftstrip() and rightstrip() methods to remove whitespace from the strart or end\n",
        "\n",
        "# String method: strip()\n",
        "my_string = \"   Hello, World!   \"\n",
        "trimmed_string = my_string.strip()\n",
        "print(trimmed_string)\n",
        "# output Hello, World!\n",
        "\n",
        "# Left-strip and right-strip\n",
        "my_string = \"   Hello, World!   \"\n",
        "left_trimmed_string = my_string.lstrip()\n",
        "right_trimmed_string = my_string.rstrip()\n",
        "print(left_trimmed_string)\n",
        "print(right_trimmed_string)\n",
        "# output Hello, World!\n",
        "# output Hello, World!"
      ],
      "metadata": {
        "colab": {
          "base_uri": "https://localhost:8080/"
        },
        "id": "sjc5DeBfn9tc",
        "outputId": "e1e262e8-ecde-424e-8db0-28b96d5b59bf"
      },
      "execution_count": 24,
      "outputs": [
        {
          "output_type": "stream",
          "name": "stdout",
          "text": [
            "Hello, World!\n",
            "Hello, World!   \n",
            "   Hello, World!\n"
          ]
        }
      ]
    },
    {
      "cell_type": "code",
      "source": [],
      "metadata": {
        "id": "RzZNAc-loXtw"
      },
      "execution_count": null,
      "outputs": []
    }
  ]
}
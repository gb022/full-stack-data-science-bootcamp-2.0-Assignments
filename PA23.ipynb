{
  "nbformat": 4,
  "nbformat_minor": 0,
  "metadata": {
    "colab": {
      "provenance": []
    },
    "kernelspec": {
      "name": "python3",
      "display_name": "Python 3"
    },
    "language_info": {
      "name": "python"
    }
  },
  "cells": [
    {
      "cell_type": "code",
      "source": [
        "# Question 1\n",
        "'''Create a function that takes a number as an argument and returns True or False depending\n",
        "on whether the number is symmetrical or not. A number is symmetrical when it is the same as\n",
        "its reverse.\n",
        "Examples\n",
        "is_symmetrical(7227) ➞ True\n",
        "is_symmetrical(12567) ➞ False\n",
        "is_symmetrical(44444444) ➞ True\n",
        "is_symmetrical(9939) ➞ False\n",
        "is_symmetrical(1112111) ➞ True'''"
      ],
      "metadata": {
        "colab": {
          "base_uri": "https://localhost:8080/",
          "height": 70
        },
        "id": "O9o0SRDA6Tid",
        "outputId": "447ddef0-4620-4a59-ff12-697e16583cf6"
      },
      "execution_count": 10,
      "outputs": [
        {
          "output_type": "execute_result",
          "data": {
            "text/plain": [
              "'Create a function that takes a number as an argument and returns True or False depending\\non whether the number is symmetrical or not. A number is symmetrical when it is the same as\\nits reverse.\\nExamples\\nis_symmetrical(7227) ➞ True\\nis_symmetrical(12567) ➞ False\\nis_symmetrical(44444444) ➞ True\\nis_symmetrical(9939) ➞ False\\nis_symmetrical(1112111) ➞ True'"
            ],
            "application/vnd.google.colaboratory.intrinsic+json": {
              "type": "string"
            }
          },
          "metadata": {},
          "execution_count": 10
        }
      ]
    },
    {
      "cell_type": "code",
      "source": [
        "# Here's a Python function that checks if a number is symmetrical:\n",
        "def is_symmetrical(number):\n",
        "    number_str = str(number)\n",
        "    reversed_str = number_str[::-1]\n",
        "    return number_str == reversed_str\n",
        "\n",
        "print(is_symmetrical(7227))       # True\n",
        "print(is_symmetrical(12567))      # False\n",
        "print(is_symmetrical(44444444))   # True\n",
        "print(is_symmetrical(9939))       # False\n",
        "print(is_symmetrical(1112111))    # True\n"
      ],
      "metadata": {
        "colab": {
          "base_uri": "https://localhost:8080/"
        },
        "id": "5tgmu0j56jYz",
        "outputId": "2b22c262-9683-4140-9a2b-0104993bdf94"
      },
      "execution_count": 11,
      "outputs": [
        {
          "output_type": "stream",
          "name": "stdout",
          "text": [
            "True\n",
            "False\n",
            "True\n",
            "False\n",
            "True\n"
          ]
        }
      ]
    },
    {
      "cell_type": "code",
      "source": [
        "# Question 2\n",
        "'''Given a string of numbers separated by a comma and space, return the product of the\n",
        "numbers.\n",
        "Examples\n",
        "multiply_nums(&quot;2, 3&quot;) ➞ 6\n",
        "multiply_nums(&quot;1, 2, 3, 4&quot;) ➞ 24\n",
        "multiply_nums(&quot;54, 75, 453, 0&quot;) ➞ 0\n",
        "multiply_nums(&quot;10, -2&quot;) ➞ -20'''"
      ],
      "metadata": {
        "colab": {
          "base_uri": "https://localhost:8080/",
          "height": 53
        },
        "id": "OXmqS54164lN",
        "outputId": "0aae6010-e6dc-44ee-f522-0f0fa1bf581e"
      },
      "execution_count": 12,
      "outputs": [
        {
          "output_type": "execute_result",
          "data": {
            "text/plain": [
              "'Given a string of numbers separated by a comma and space, return the product of the\\nnumbers.\\nExamples\\nmultiply_nums(&quot;2, 3&quot;) ➞ 6\\nmultiply_nums(&quot;1, 2, 3, 4&quot;) ➞ 24\\nmultiply_nums(&quot;54, 75, 453, 0&quot;) ➞ 0\\nmultiply_nums(&quot;10, -2&quot;) ➞ -20'"
            ],
            "application/vnd.google.colaboratory.intrinsic+json": {
              "type": "string"
            }
          },
          "metadata": {},
          "execution_count": 12
        }
      ]
    },
    {
      "cell_type": "code",
      "source": [
        "# Here's a Python function that calculates the product of numbers in a string:\n",
        "def multiply_nums(numbers):\n",
        "    num_list = numbers.split(\", \")\n",
        "    product = 1\n",
        "    for num in num_list:\n",
        "        product *= int(num)\n",
        "    return product\n",
        "\n",
        "print(multiply_nums(\"2, 3\"))              # 6\n",
        "print(multiply_nums(\"1, 2, 3, 4\"))        # 24\n",
        "print(multiply_nums(\"54, 75, 453, 0\"))    # 0\n",
        "print(multiply_nums(\"10, -2\"))            # -20\n"
      ],
      "metadata": {
        "colab": {
          "base_uri": "https://localhost:8080/"
        },
        "id": "aYtfMprE69R6",
        "outputId": "c29d31c4-5ed3-4a18-bcc5-591a600cd55c"
      },
      "execution_count": 13,
      "outputs": [
        {
          "output_type": "stream",
          "name": "stdout",
          "text": [
            "6\n",
            "24\n",
            "0\n",
            "-20\n"
          ]
        }
      ]
    },
    {
      "cell_type": "code",
      "source": [
        "# Question 3\n",
        "'''Create a function that squares every digit of a number.\n",
        "Examples\n",
        "square_digits(9119) ➞ 811181\n",
        "square_digits(2483) ➞ 416649\n",
        "square_digits(3212) ➞ 9414\n",
        "Notes\n",
        "The function receives an integer and must return an integer.'''"
      ],
      "metadata": {
        "colab": {
          "base_uri": "https://localhost:8080/",
          "height": 53
        },
        "id": "TDkaRWLV7MPQ",
        "outputId": "8352de1c-4d87-4341-aaa6-5ec3d7cc286e"
      },
      "execution_count": 14,
      "outputs": [
        {
          "output_type": "execute_result",
          "data": {
            "text/plain": [
              "'Create a function that squares every digit of a number.\\nExamples\\nsquare_digits(9119) ➞ 811181\\nsquare_digits(2483) ➞ 416649\\nsquare_digits(3212) ➞ 9414\\nNotes\\nThe function receives an integer and must return an integer.'"
            ],
            "application/vnd.google.colaboratory.intrinsic+json": {
              "type": "string"
            }
          },
          "metadata": {},
          "execution_count": 14
        }
      ]
    },
    {
      "cell_type": "code",
      "source": [
        "# Here's a Python function that squares every digit of a number:\n",
        "def square_digits(number):\n",
        "    squared_digits = []\n",
        "    for digit in str(number):\n",
        "        squared_digits.append(str(int(digit) ** 2))\n",
        "    squared_number = int(''.join(squared_digits))\n",
        "    return squared_number\n",
        "\n",
        "print(square_digits(9119))    # 811181\n",
        "print(square_digits(2483))    # 416649\n",
        "print(square_digits(3212))    # 9414\n"
      ],
      "metadata": {
        "colab": {
          "base_uri": "https://localhost:8080/"
        },
        "id": "ZJNuJmqM7Tfh",
        "outputId": "c6b23208-5f60-4672-ed9f-93cbbb4a45ae"
      },
      "execution_count": 15,
      "outputs": [
        {
          "output_type": "stream",
          "name": "stdout",
          "text": [
            "811181\n",
            "416649\n",
            "9414\n"
          ]
        }
      ]
    },
    {
      "cell_type": "code",
      "source": [
        "# Question 4\n",
        "'''Create a function that sorts a list and removes all duplicate items from it.\n",
        "Examples\n",
        "setify([1, 3, 3, 5, 5]) ➞ [1, 3, 5]\n",
        "setify([4, 4, 4, 4]) ➞ [4]\n",
        "setify([5, 7, 8, 9, 10, 15]) ➞ [5, 7, 8, 9, 10, 15]\n",
        "setify([3, 3, 3, 2, 1]) ➞ [1, 2, 3]'''"
      ],
      "metadata": {
        "colab": {
          "base_uri": "https://localhost:8080/",
          "height": 53
        },
        "id": "jSsG3kR17e5C",
        "outputId": "09efff82-ba53-4bf2-ab6d-96e244ea7192"
      },
      "execution_count": 16,
      "outputs": [
        {
          "output_type": "execute_result",
          "data": {
            "text/plain": [
              "'Create a function that sorts a list and removes all duplicate items from it.\\nExamples\\nsetify([1, 3, 3, 5, 5]) ➞ [1, 3, 5]\\nsetify([4, 4, 4, 4]) ➞ [4]\\nsetify([5, 7, 8, 9, 10, 15]) ➞ [5, 7, 8, 9, 10, 15]\\nsetify([3, 3, 3, 2, 1]) ➞ [1, 2, 3]'"
            ],
            "application/vnd.google.colaboratory.intrinsic+json": {
              "type": "string"
            }
          },
          "metadata": {},
          "execution_count": 16
        }
      ]
    },
    {
      "cell_type": "code",
      "source": [
        "# Here's a Python function that sorts a list and removes all duplicate items from it:\n",
        "def setify(lst):\n",
        "    sorted_list = sorted(lst)\n",
        "    unique_list = []\n",
        "    for item in sorted_list:\n",
        "        if item not in unique_list:\n",
        "            unique_list.append(item)\n",
        "    return unique_list\n",
        "\n",
        "print(setify([1, 3, 3, 5, 5]))               # [1, 3, 5]\n",
        "print(setify([4, 4, 4, 4]))                  # [4]\n",
        "print(setify([5, 7, 8, 9, 10, 15]))          # [5, 7, 8, 9, 10, 15]\n",
        "print(setify([3, 3, 3, 2, 1]))               # [1, 2, 3]\n"
      ],
      "metadata": {
        "colab": {
          "base_uri": "https://localhost:8080/"
        },
        "id": "5n0VMd577i35",
        "outputId": "38eee292-9585-46d3-eb78-9a2631dd3b1e"
      },
      "execution_count": 17,
      "outputs": [
        {
          "output_type": "stream",
          "name": "stdout",
          "text": [
            "[1, 3, 5]\n",
            "[4]\n",
            "[5, 7, 8, 9, 10, 15]\n",
            "[1, 2, 3]\n"
          ]
        }
      ]
    },
    {
      "cell_type": "code",
      "source": [
        "# Question 5\n",
        "'''Create a function that returns the mean of all digits.\n",
        "Examples\n",
        "mean(42) ➞ 3\n",
        "mean(12345) ➞ 3\n",
        "mean(666) ➞ 6\n",
        "Notes\n",
        " The mean of all digits is the sum of digits / how many digits there are (e.g. mean of digits in\n",
        "512 is (5+1+2)/3(number of digits) = 8/3=2).\n",
        " The mean will always be an integer.'''"
      ],
      "metadata": {
        "colab": {
          "base_uri": "https://localhost:8080/",
          "height": 53
        },
        "id": "yGPadlZx7vLD",
        "outputId": "12797bd6-58d2-44e0-d2a2-c8556d59e639"
      },
      "execution_count": 18,
      "outputs": [
        {
          "output_type": "execute_result",
          "data": {
            "text/plain": [
              "'Create a function that returns the mean of all digits.\\nExamples\\nmean(42) ➞ 3\\nmean(12345) ➞ 3\\nmean(666) ➞ 6\\nNotes\\n\\uf0b7 The mean of all digits is the sum of digits / how many digits there are (e.g. mean of digits in\\n512 is (5+1+2)/3(number of digits) = 8/3=2).\\n\\uf0b7 The mean will always be an integer.'"
            ],
            "application/vnd.google.colaboratory.intrinsic+json": {
              "type": "string"
            }
          },
          "metadata": {},
          "execution_count": 18
        }
      ]
    },
    {
      "cell_type": "code",
      "source": [
        "# Here's a Python function that calculates the mean of all the digits in a number:\n",
        "def mean(number):\n",
        "    digits = [int(digit) for digit in str(number)]\n",
        "    return sum(digits) // len(digits)\n",
        "\n",
        "print(mean(42))             # 3\n",
        "print(mean(12345))          # 3\n",
        "print(mean(666))            # 6\n"
      ],
      "metadata": {
        "colab": {
          "base_uri": "https://localhost:8080/"
        },
        "id": "M8uJqvLG70iQ",
        "outputId": "3d599d4f-7820-48c0-9ea8-8ff8ca0f6f93"
      },
      "execution_count": 19,
      "outputs": [
        {
          "output_type": "stream",
          "name": "stdout",
          "text": [
            "3\n",
            "3\n",
            "6\n"
          ]
        }
      ]
    },
    {
      "cell_type": "code",
      "source": [],
      "metadata": {
        "id": "yoSZSiYu7-iT"
      },
      "execution_count": null,
      "outputs": []
    }
  ]
}
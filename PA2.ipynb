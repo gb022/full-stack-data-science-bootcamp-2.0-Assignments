{
  "nbformat": 4,
  "nbformat_minor": 0,
  "metadata": {
    "colab": {
      "provenance": []
    },
    "kernelspec": {
      "name": "python3",
      "display_name": "Python 3"
    },
    "language_info": {
      "name": "python"
    }
  },
  "cells": [
    {
      "cell_type": "code",
      "execution_count": 1,
      "metadata": {
        "id": "UPXciuDSYC6d"
      },
      "outputs": [],
      "source": [
        "# 1. Write a Python program to convert kilometers to miles?"
      ]
    },
    {
      "cell_type": "code",
      "source": [
        "# here one km = 0.6214 mile\n",
        "km = float(input('please enter km :  '))\n",
        "mile = km * 0.6214\n",
        "print('mile is :', mile)"
      ],
      "metadata": {
        "colab": {
          "base_uri": "https://localhost:8080/"
        },
        "id": "pXEh3VzHYUib",
        "outputId": "cb0eb50d-a1a7-4203-b3f2-41c7757a1d77"
      },
      "execution_count": 14,
      "outputs": [
        {
          "output_type": "stream",
          "name": "stdout",
          "text": [
            "please enter km :  150\n",
            "mile is : 93.21\n"
          ]
        }
      ]
    },
    {
      "cell_type": "code",
      "source": [
        "# 2. Write a Python program to convert Celsius to Fahrenheit?"
      ],
      "metadata": {
        "id": "7vQhwXkKZTHW"
      },
      "execution_count": 15,
      "outputs": []
    },
    {
      "cell_type": "code",
      "source": [
        "# here F = (1.8 * C) + 32\n",
        "Celcius = float(input('please enter Celcius :  '))\n",
        "Farenheit =  (1.8 * Celcius) + 32\n",
        "print('Farenheit :', Farenheit)"
      ],
      "metadata": {
        "colab": {
          "base_uri": "https://localhost:8080/"
        },
        "id": "6hIFIudHbH5T",
        "outputId": "40867968-f7d6-4418-ecd3-63ed8a04c434"
      },
      "execution_count": 16,
      "outputs": [
        {
          "output_type": "stream",
          "name": "stdout",
          "text": [
            "please enter Celcius :  52\n",
            "Farenheit : 125.60000000000001\n"
          ]
        }
      ]
    },
    {
      "cell_type": "code",
      "source": [
        "# 3. Write a Python program to display calendar?\n",
        "year = input('please enter year : ')\n",
        "month = input('please enter month : ')\n",
        "day = input('please enter day : ')\n",
        "print(f\"Calender is {day}/{month}/{year}\")"
      ],
      "metadata": {
        "colab": {
          "base_uri": "https://localhost:8080/"
        },
        "id": "_zi1-6mXb_av",
        "outputId": "4da97d96-b4a2-463e-c79a-d4e2e9697703"
      },
      "execution_count": 20,
      "outputs": [
        {
          "output_type": "stream",
          "name": "stdout",
          "text": [
            "please enter year : 1997\n",
            "please enter month : 4\n",
            "please enter day : 25\n",
            "Calender is 25/4/1997\n"
          ]
        }
      ]
    },
    {
      "cell_type": "code",
      "source": [
        "# 4. Write a Python program to solve quadratic equation?"
      ],
      "metadata": {
        "id": "sim_xTXideKg"
      },
      "execution_count": 21,
      "outputs": []
    },
    {
      "cell_type": "code",
      "source": [
        "# Here's an example program that takes the coefficients of a quadratic equation as input and calculates its roots\n",
        "\n",
        "import math\n",
        "\n",
        "def solve_quadratic(a, b, c):\n",
        "    # Calculate the discriminant\n",
        "    discriminant = b**2 - 4*a*c\n",
        "\n",
        "    # Check if the equation has real roots\n",
        "    if discriminant >= 0:\n",
        "        # Calculate the roots\n",
        "        root1 = (-b + math.sqrt(discriminant)) / (2*a)\n",
        "        root2 = (-b - math.sqrt(discriminant)) / (2*a)\n",
        "        return root1, root2\n",
        "    else:\n",
        "        # Complex roots\n",
        "        real_part = -b / (2*a)\n",
        "        imaginary_part = math.sqrt(-discriminant) / (2*a)\n",
        "        root1 = complex(real_part, imaginary_part)\n",
        "        root2 = complex(real_part, -imaginary_part)\n",
        "        return root1, root2\n",
        "\n",
        "# Get input from the user\n",
        "a = float(input(\"Enter the coefficient a: \"))\n",
        "b = float(input(\"Enter the coefficient b: \"))\n",
        "c = float(input(\"Enter the coefficient c: \"))\n",
        "\n",
        "# Solve the quadratic equation\n",
        "roots = solve_quadratic(a, b, c)\n",
        "\n",
        "# Print the roots\n",
        "print(\"The roots are:\", roots)\n"
      ],
      "metadata": {
        "colab": {
          "base_uri": "https://localhost:8080/"
        },
        "id": "ujmImNGOelhw",
        "outputId": "c3cea98f-eb05-4ba0-f06d-9e269f5b4ad1"
      },
      "execution_count": 23,
      "outputs": [
        {
          "output_type": "stream",
          "name": "stdout",
          "text": [
            "Enter the coefficient a: 1\n",
            "Enter the coefficient b: 24\n",
            "Enter the coefficient c: 6\n",
            "The roots are: (-0.25265987552926994, -23.747340124470732)\n"
          ]
        }
      ]
    },
    {
      "cell_type": "code",
      "source": [
        "# 5. Write a Python program to swap two variables without temp variable?"
      ],
      "metadata": {
        "id": "85h7loDYfYIA"
      },
      "execution_count": 25,
      "outputs": []
    },
    {
      "cell_type": "code",
      "source": [
        "# Here's an example program\n",
        "\n",
        "# Get input from the user\n",
        "variable1 = input(\"Enter the value of variable 1: \")\n",
        "variable2 = input(\"Enter the value of variable 2: \")\n",
        "\n",
        "# Display the values before swapping\n",
        "print(\"Before swapping:\")\n",
        "print(\"Variable 1 =\", variable1)\n",
        "print(\"Variable 2 =\", variable2)\n",
        "\n",
        "# Swap the variables without a temporary variable\n",
        "variable1, variable2 = variable2, variable1\n",
        "\n",
        "# Display the values after swapping\n",
        "print(\"After swapping:\")\n",
        "print(\"Variable 1 =\", variable1)\n",
        "print(\"Variable 2 =\", variable2)"
      ],
      "metadata": {
        "colab": {
          "base_uri": "https://localhost:8080/"
        },
        "id": "iLmN1tCDgBfs",
        "outputId": "6ff1f7ac-9814-43cc-acfe-f6cf04ddb108"
      },
      "execution_count": 26,
      "outputs": [
        {
          "output_type": "stream",
          "name": "stdout",
          "text": [
            "Enter the value of variable 1: 1\n",
            "Enter the value of variable 2: 2\n",
            "Before swapping:\n",
            "Variable 1 = 1\n",
            "Variable 2 = 2\n",
            "After swapping:\n",
            "Variable 1 = 2\n",
            "Variable 2 = 1\n"
          ]
        }
      ]
    },
    {
      "cell_type": "code",
      "source": [],
      "metadata": {
        "id": "Y4j01F8GgKb1"
      },
      "execution_count": null,
      "outputs": []
    }
  ]
}
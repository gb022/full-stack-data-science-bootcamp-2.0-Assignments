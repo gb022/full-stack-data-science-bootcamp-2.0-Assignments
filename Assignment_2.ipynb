{
  "nbformat": 4,
  "nbformat_minor": 0,
  "metadata": {
    "colab": {
      "provenance": []
    },
    "kernelspec": {
      "name": "python3",
      "display_name": "Python 3"
    },
    "language_info": {
      "name": "python"
    }
  },
  "cells": [
    {
      "cell_type": "code",
      "execution_count": null,
      "metadata": {
        "id": "CRkcVuLNitEK"
      },
      "outputs": [],
      "source": [
        "# Question 1\n",
        "# What are the two values of the Boolean data type? How do you write them?"
      ]
    },
    {
      "cell_type": "code",
      "source": [
        "# there are two values of boolean data types, True and False. written same as shown here.without any \"\" or ''."
      ],
      "metadata": {
        "id": "4l4pIc-TjKuz"
      },
      "execution_count": null,
      "outputs": []
    },
    {
      "cell_type": "code",
      "source": [
        "# Question 2\n",
        "# What are the three different types of Boolean operators?"
      ],
      "metadata": {
        "id": "ix5qFerGjoiL"
      },
      "execution_count": null,
      "outputs": []
    },
    {
      "cell_type": "code",
      "source": [
        "''' there are three differwnt types of boolean operators\n",
        "1. and operator - it evaluates to True only if all the conditions in the expression are true.\n",
        "2. or operators - it evaluates to True only if any of the conditions in the expression are true\n",
        "3. not operators - The logical NOT operator returns the opposite of the operand's value. If the operand is True, the not operator returns False,\n",
        "   and if the operand is False, the not operator returns True. It is used to negate a Boolean value.'''\n"
      ],
      "metadata": {
        "colab": {
          "base_uri": "https://localhost:8080/",
          "height": 87
        },
        "id": "vsXBc-atj8n2",
        "outputId": "0f350cd1-38df-4e43-8cc9-f0b74519014b"
      },
      "execution_count": null,
      "outputs": [
        {
          "output_type": "execute_result",
          "data": {
            "text/plain": [
              "\" there are three differwnt types of boolean operators\\n1. and operator - it evaluates to True only if all the conditions in the expression are true.\\n2. or operators - it evaluates to True only if any of the conditions in the expression are true\\n3. not operators - The logical NOT operator returns the opposite of the operand's value. If the operand is True, the not operator returns False,\\n   and if the operand is False, the not operator returns True. It is used to negate a Boolean value.\""
            ],
            "application/vnd.google.colaboratory.intrinsic+json": {
              "type": "string"
            }
          },
          "metadata": {},
          "execution_count": 4
        }
      ]
    },
    {
      "cell_type": "code",
      "source": [
        "# Question 3\n",
        "'''Make a list of each Boolean operator truth tables (i.e. every possible combination of Boolean\n",
        "values for the operator and what it evaluate )'''"
      ],
      "metadata": {
        "colab": {
          "base_uri": "https://localhost:8080/",
          "height": 35
        },
        "id": "Aai5mWTPv1GK",
        "outputId": "798ae00b-dbf4-4c25-cf52-dee91cbaca73"
      },
      "execution_count": null,
      "outputs": [
        {
          "output_type": "execute_result",
          "data": {
            "text/plain": [
              "'Make a list of each Boolean operator truth tables (i.e. every possible combination of Boolean\\nvalues for the operator and what it evaluate )'"
            ],
            "application/vnd.google.colaboratory.intrinsic+json": {
              "type": "string"
            }
          },
          "metadata": {},
          "execution_count": 5
        }
      ]
    },
    {
      "cell_type": "code",
      "source": [
        "'''Here are the truth tables for each Boolean operator in Python:\n",
        "\n",
        "1. Logical AND (`and`):\n",
        "\n",
        "| Operand 1 | Operand 2 | Result |\n",
        "| --------- | --------- | ------ |\n",
        "| `True`    | `True`    | `True` |\n",
        "| `True`    | `False`   | `False`|\n",
        "| `False`   | `True`    | `False`|\n",
        "| `False`   | `False`   | `False`|\n",
        "\n",
        "2. Logical OR (`or`):\n",
        "\n",
        "| Operand 1 | Operand 2 | Result |\n",
        "| --------- | --------- | ------ |\n",
        "| `True`    | `True`    | `True` |\n",
        "| `True`    | `False`   | `True` |\n",
        "| `False`   | `True`    | `True` |\n",
        "| `False`   | `False`   | `False`|\n",
        "\n",
        "3. Logical NOT (`not`):\n",
        "\n",
        "| Operand | Result |\n",
        "| ------- | ------ |\n",
        "| `True`  | `False`|\n",
        "| `False` | `True` |\n",
        "'''"
      ],
      "metadata": {
        "colab": {
          "base_uri": "https://localhost:8080/",
          "height": 105
        },
        "id": "NzIxIBD02Kq0",
        "outputId": "f3df733e-b936-42e5-d813-1b3639aa25e1"
      },
      "execution_count": null,
      "outputs": [
        {
          "output_type": "execute_result",
          "data": {
            "text/plain": [
              "'Here are the truth tables for each Boolean operator in Python:\\n\\n1. Logical AND (`and`):\\n\\n| Operand 1 | Operand 2 | Result |\\n| --------- | --------- | ------ |\\n| `True`    | `True`    | `True` |\\n| `True`    | `False`   | `False`|\\n| `False`   | `True`    | `False`|\\n| `False`   | `False`   | `False`|\\n\\n2. Logical OR (`or`):\\n\\n| Operand 1 | Operand 2 | Result |\\n| --------- | --------- | ------ |\\n| `True`    | `True`    | `True` |\\n| `True`    | `False`   | `True` |\\n| `False`   | `True`    | `True` |\\n| `False`   | `False`   | `False`|\\n\\n3. Logical NOT (`not`):\\n\\n| Operand | Result |\\n| ------- | ------ |\\n| `True`  | `False`|\\n| `False` | `True` |\\n'"
            ],
            "application/vnd.google.colaboratory.intrinsic+json": {
              "type": "string"
            }
          },
          "metadata": {},
          "execution_count": 6
        }
      ]
    },
    {
      "cell_type": "code",
      "source": [
        "# Question 4\n",
        "'''What are the values of the following expressions?\n",
        "(5 > 4) and (3 == 5)\n",
        "not (5 > 4)\n",
        "(5 > 4) or (3 == 5)\n",
        "not (5 > 4) or (3 == 5))\n",
        "(True and True) and (True == False)\n",
        "(not False) or (not True)'''"
      ],
      "metadata": {
        "colab": {
          "base_uri": "https://localhost:8080/",
          "height": 53
        },
        "id": "Zz1yPY_62ia7",
        "outputId": "7f44af37-472f-4fe3-ce9f-1216c19ba6b5"
      },
      "execution_count": null,
      "outputs": [
        {
          "output_type": "execute_result",
          "data": {
            "text/plain": [
              "'What are the values of the following expressions?\\n(5 > 4) and (3 == 5)\\nnot (5 > 4)\\n(5 > 4) or (3 == 5)\\nnot (5 > 4) or (3 == 5))\\n(True and True) and (True == False)\\n(not False) or (not True)'"
            ],
            "application/vnd.google.colaboratory.intrinsic+json": {
              "type": "string"
            }
          },
          "metadata": {},
          "execution_count": 7
        }
      ]
    },
    {
      "cell_type": "code",
      "source": [
        "'''(5 > 4) and (3 == 5)\n",
        "first expression evaluates to true and second expression evaluates to false\n",
        "as it is an and function, every condition has to be true, therefore it will return False'''\n"
      ],
      "metadata": {
        "colab": {
          "base_uri": "https://localhost:8080/",
          "height": 35
        },
        "id": "LbHJ0Jv03XZE",
        "outputId": "ced2f185-e0b2-45ca-8b5c-c7ded70a4f02"
      },
      "execution_count": null,
      "outputs": [
        {
          "output_type": "execute_result",
          "data": {
            "text/plain": [
              "'(not False) or (not True)\\nfirst expression evaluates to True and second evaluates to False\\nas it is a or function, therefore it will return True'"
            ],
            "application/vnd.google.colaboratory.intrinsic+json": {
              "type": "string"
            }
          },
          "metadata": {},
          "execution_count": 11
        }
      ]
    },
    {
      "cell_type": "code",
      "source": [
        " '''not (5 > 4) or (3 == 5)\n",
        "first expression evaluates to True and second expression evaluates to False\n",
        "as it is a or function any of the condition has to be True, and not function will return\n",
        "opposite of the result, therefore final output will be False'''\n"
      ],
      "metadata": {
        "colab": {
          "base_uri": "https://localhost:8080/",
          "height": 53
        },
        "id": "nE1LApyc4e2m",
        "outputId": "523d886d-208a-465f-edac-4f15169d7d0c"
      },
      "execution_count": null,
      "outputs": [
        {
          "output_type": "execute_result",
          "data": {
            "text/plain": [
              "'not (5 > 4) or (3 == 5)\\nfirst expression evaluates to True and second expression evaluates to False\\nas it is a or function any of the condition has to be True, and not function will return \\nopposite of the result, therefore final output will be False'"
            ],
            "application/vnd.google.colaboratory.intrinsic+json": {
              "type": "string"
            }
          },
          "metadata": {},
          "execution_count": 12
        }
      ]
    },
    {
      "cell_type": "code",
      "source": [
        "'''(True and True) and (True == False)\n",
        "first expression evaluates to True and second evaluates to False\n",
        "as is a and function, therefore it will return False'''\n"
      ],
      "metadata": {
        "colab": {
          "base_uri": "https://localhost:8080/",
          "height": 35
        },
        "id": "JcdD1aRj7N1L",
        "outputId": "915fcbff-a33c-4850-e42c-ea0d63ca1a2c"
      },
      "execution_count": null,
      "outputs": [
        {
          "output_type": "execute_result",
          "data": {
            "text/plain": [
              "'(True and True) and (True == False)\\nfirst expression evaluates to True and second evaluates to False\\nas is a and function, therefore it will return False'"
            ],
            "application/vnd.google.colaboratory.intrinsic+json": {
              "type": "string"
            }
          },
          "metadata": {},
          "execution_count": 13
        }
      ]
    },
    {
      "cell_type": "code",
      "source": [
        "'''(not False) or (not True)\n",
        "first expression evaluates to True and second evaluates to False\n",
        "as it is a or function, therefore it will return True'''"
      ],
      "metadata": {
        "colab": {
          "base_uri": "https://localhost:8080/",
          "height": 35
        },
        "id": "7vPh2we57RvR",
        "outputId": "d63da98f-26d1-430d-c1f4-14c7f8b93622"
      },
      "execution_count": null,
      "outputs": [
        {
          "output_type": "execute_result",
          "data": {
            "text/plain": [
              "'(not False) or (not True)\\nfirst expression evaluates to True and second evaluates to False\\nas it is a or function, therefore it will return True'"
            ],
            "application/vnd.google.colaboratory.intrinsic+json": {
              "type": "string"
            }
          },
          "metadata": {},
          "execution_count": 14
        }
      ]
    },
    {
      "cell_type": "code",
      "source": [
        "# Question 5\n",
        "# What are the six comparison operators?"
      ],
      "metadata": {
        "id": "kQddG1aT7Ti4"
      },
      "execution_count": null,
      "outputs": []
    },
    {
      "cell_type": "code",
      "source": [
        "''' six comparison operators are\n",
        "1. >\n",
        "2. <\n",
        "3. ==\n",
        "4. !=\n",
        "5. >=\n",
        "6. <= '''"
      ],
      "metadata": {
        "colab": {
          "base_uri": "https://localhost:8080/",
          "height": 35
        },
        "id": "E8ESfWpY7h-t",
        "outputId": "f0f8f0ce-8a49-41fe-c5f2-7ce53021f388"
      },
      "execution_count": null,
      "outputs": [
        {
          "output_type": "execute_result",
          "data": {
            "text/plain": [
              "' six comparison operators are \\n1. >\\n2. <\\n3. ==\\n4. !=\\n5. >=\\n6. <= '"
            ],
            "application/vnd.google.colaboratory.intrinsic+json": {
              "type": "string"
            }
          },
          "metadata": {},
          "execution_count": 16
        }
      ]
    },
    {
      "cell_type": "code",
      "source": [
        "# Question 6\n",
        "'''How do you tell the difference between the equal to and assignment operators?Describe a\n",
        "condition and when you would use one.'''"
      ],
      "metadata": {
        "colab": {
          "base_uri": "https://localhost:8080/",
          "height": 35
        },
        "id": "z41hbc6h78Ca",
        "outputId": "d16ee3f2-68c7-44e3-d3ff-0ab87ea50d82"
      },
      "execution_count": null,
      "outputs": [
        {
          "output_type": "execute_result",
          "data": {
            "text/plain": [
              "'How do you tell the difference between the equal to and assignment operators?Describe a\\ncondition and when you would use one.'"
            ],
            "application/vnd.google.colaboratory.intrinsic+json": {
              "type": "string"
            }
          },
          "metadata": {},
          "execution_count": 17
        }
      ]
    },
    {
      "cell_type": "code",
      "source": [
        "'''Equal to (==) operator: The double equals (==) operator is a comparison operator used to check if two values are equal. It evaluates to True if the values on both sides of the operator are equal, and False otherwise.\n",
        "\n",
        "Example: x == y checks if the values of x and y are equal.\n",
        "\n",
        "Assignment (=) operator: The single equals (=) operator is an assignment operator used to assign a value to a variable. It assigns the value on the right side to the variable on the left side.\n",
        "\n",
        "Example: x = 5 assigns the value 5 to the variable x.'''"
      ],
      "metadata": {
        "colab": {
          "base_uri": "https://localhost:8080/",
          "height": 87
        },
        "id": "MIvqGPHz8KNl",
        "outputId": "cccd0c8b-f057-4fd2-eb30-35601fd4434d"
      },
      "execution_count": null,
      "outputs": [
        {
          "output_type": "execute_result",
          "data": {
            "text/plain": [
              "'Equal to (==) operator: The double equals (==) operator is a comparison operator used to check if two values are equal. It evaluates to True if the values on both sides of the operator are equal, and False otherwise.\\n\\nExample: x == y checks if the values of x and y are equal.\\n\\nAssignment (=) operator: The single equals (=) operator is an assignment operator used to assign a value to a variable. It assigns the value on the right side to the variable on the left side.\\n\\nExample: x = 5 assigns the value 5 to the variable x.'"
            ],
            "application/vnd.google.colaboratory.intrinsic+json": {
              "type": "string"
            }
          },
          "metadata": {},
          "execution_count": 18
        }
      ]
    },
    {
      "cell_type": "code",
      "source": [
        "# for e.g\n",
        "x = 5\n",
        "\n",
        "if x == 5:\n",
        "    print(\"x is equal to 5\")\n",
        "else:\n",
        "    print(\"x is not equal to 5\")\n"
      ],
      "metadata": {
        "colab": {
          "base_uri": "https://localhost:8080/"
        },
        "id": "wtGwzleW81_9",
        "outputId": "c31e0672-f31e-43e7-fe81-cbfd394839b1"
      },
      "execution_count": null,
      "outputs": [
        {
          "output_type": "stream",
          "name": "stdout",
          "text": [
            "x is equal to 5\n"
          ]
        }
      ]
    },
    {
      "cell_type": "code",
      "source": [
        "# Question 7\n",
        "'''Identify the three blocks in this code:\n",
        "spam = 0\n",
        "if spam == 10:\n",
        "print('eggs')\n",
        "if spam > 5:\n",
        "print('bacon')\n",
        "else:\n",
        "print('ham')\n",
        "print('spam')\n",
        "print('spam')'''"
      ],
      "metadata": {
        "colab": {
          "base_uri": "https://localhost:8080/",
          "height": 35
        },
        "id": "23vROTo39Aka",
        "outputId": "f9ace130-65c6-4631-bcfe-720172560a15"
      },
      "execution_count": null,
      "outputs": [
        {
          "output_type": "execute_result",
          "data": {
            "text/plain": [
              "\"Identify the three blocks in this code:\\nspam = 0\\nif spam == 10:\\nprint('eggs')\\nif spam > 5:\\nprint('bacon')\\nelse:\\nprint('ham')\\nprint('spam')\\nprint('spam')\""
            ],
            "application/vnd.google.colaboratory.intrinsic+json": {
              "type": "string"
            }
          },
          "metadata": {},
          "execution_count": 22
        }
      ]
    },
    {
      "cell_type": "code",
      "source": [
        "'''In the provided code, the indentation is missing, which is crucial in Python to define blocks of code.\n",
        " Assuming the correct indentation, the three blocks in the code can be identified as follows:'''\n",
        "\n",
        "# first block\n",
        "spam = 0\n",
        "if spam == 10:\n",
        "  print('eggs')\n",
        "\n",
        "# second block\n",
        "if spam > 5:\n",
        "  print('bacon')\n",
        "else:\n",
        "  print('ham')\n",
        "\n",
        "# third block\n",
        "print('spam')\n",
        "print('spam')"
      ],
      "metadata": {
        "colab": {
          "base_uri": "https://localhost:8080/"
        },
        "id": "2O7XSnPx9G9c",
        "outputId": "948d7dd7-57f2-4307-e25f-e559358c9def"
      },
      "execution_count": null,
      "outputs": [
        {
          "output_type": "stream",
          "name": "stdout",
          "text": [
            "ham\n",
            "spam\n",
            "spam\n"
          ]
        }
      ]
    },
    {
      "cell_type": "code",
      "source": [
        "# Question 8\n",
        "'''Write code that prints Hello if 1 is stored in spam, prints Howdy if 2 is stored in spam, and prints\n",
        "Greetings! if anything else is stored in spam.'''"
      ],
      "metadata": {
        "colab": {
          "base_uri": "https://localhost:8080/",
          "height": 35
        },
        "id": "wzatmfsT-ojj",
        "outputId": "433c2a69-fbe5-43f9-faa7-ad90925ada7b"
      },
      "execution_count": null,
      "outputs": [
        {
          "output_type": "execute_result",
          "data": {
            "text/plain": [
              "'Write code that prints Hello if 1 is stored in spam, prints Howdy if 2 is stored in spam, and prints\\nGreetings! if anything else is stored in spam.'"
            ],
            "application/vnd.google.colaboratory.intrinsic+json": {
              "type": "string"
            }
          },
          "metadata": {},
          "execution_count": 27
        }
      ]
    },
    {
      "cell_type": "code",
      "source": [
        "# here is the code\n",
        "spam = int(input(\"spam : \"))\n",
        "if spam == 1:\n",
        " print('Hello')\n",
        "elif spam == 1:\n",
        "  print('Howdy')\n",
        "else :\n",
        "  print('Greetings')"
      ],
      "metadata": {
        "colab": {
          "base_uri": "https://localhost:8080/"
        },
        "id": "iwE_mM_D_eCz",
        "outputId": "74a2c400-4f04-4526-a6f2-d58598af0e43"
      },
      "execution_count": null,
      "outputs": [
        {
          "output_type": "stream",
          "name": "stdout",
          "text": [
            "spam : 1\n",
            "Hello\n"
          ]
        }
      ]
    },
    {
      "cell_type": "code",
      "source": [
        "# Question 9\n",
        "# If your programme is stuck in an endless loop, what keys you’ll press?"
      ],
      "metadata": {
        "id": "ysjvkHq3A2_o"
      },
      "execution_count": null,
      "outputs": []
    },
    {
      "cell_type": "code",
      "source": [
        "'''ctrl + C Pressing Ctrl + C sends an interrupt signal to the Python interpreter, which will terminate the program and break out of the loop.\n",
        " This key combination is commonly used to stop the execution of a program when it is unresponsive or stuck in an infinite loop'''"
      ],
      "metadata": {
        "colab": {
          "base_uri": "https://localhost:8080/",
          "height": 53
        },
        "id": "EymSU2xjBDhw",
        "outputId": "09a4e505-b687-484e-91b0-7520047ba4c7"
      },
      "execution_count": null,
      "outputs": [
        {
          "output_type": "execute_result",
          "data": {
            "text/plain": [
              "'ctrl + C Pressing Ctrl + C sends an interrupt signal to the Python interpreter, which will terminate the program and break out of the loop.\\n This key combination is commonly used to stop the execution of a program when it is unresponsive or stuck in an infinite loop'"
            ],
            "application/vnd.google.colaboratory.intrinsic+json": {
              "type": "string"
            }
          },
          "metadata": {},
          "execution_count": 32
        }
      ]
    },
    {
      "cell_type": "code",
      "source": [
        "# Question 10\n",
        "# How can you tell the difference between break and continue?"
      ],
      "metadata": {
        "id": "2CF3XrYPB8Ov"
      },
      "execution_count": null,
      "outputs": []
    },
    {
      "cell_type": "code",
      "source": [
        "'''break: The break statement is used to exit or terminate the current loop prematurely.\n",
        " When encountered, it immediately terminates the loop and resumes execution at the next statement after the loop.\n",
        "\n",
        "Example:'''\n",
        "for i in range(1, 6):\n",
        "    if i == 3:\n",
        "        break\n",
        "    print(i) # output 1,2\n"
      ],
      "metadata": {
        "colab": {
          "base_uri": "https://localhost:8080/"
        },
        "id": "ARCgT4FwCHiQ",
        "outputId": "cee00b1f-bbe8-48d0-f0d9-521e8d1087ee"
      },
      "execution_count": null,
      "outputs": [
        {
          "output_type": "stream",
          "name": "stdout",
          "text": [
            "1\n",
            "2\n"
          ]
        }
      ]
    },
    {
      "cell_type": "code",
      "source": [
        "'''continue: The continue statement is used to skip the remaining code within a loop for the current iteration, and the control moves to the next iteration.\n",
        "It essentially skips the current iteration's remaining statements and goes to the beginning of the loop to start the next iteration.\n",
        "\n",
        "Example:'''\n",
        "for i in range(1, 6):\n",
        "    if i == 3:\n",
        "        continue\n",
        "    print(i) # output 1,2,3,4,5\n"
      ],
      "metadata": {
        "colab": {
          "base_uri": "https://localhost:8080/"
        },
        "id": "Ju8kLHDSCwxs",
        "outputId": "a7bcb56d-a0a7-41dd-c582-4c50c5fe3453"
      },
      "execution_count": null,
      "outputs": [
        {
          "output_type": "stream",
          "name": "stdout",
          "text": [
            "1\n",
            "2\n",
            "4\n",
            "5\n"
          ]
        }
      ]
    },
    {
      "cell_type": "code",
      "source": [
        "# Question 11\n",
        "# In a for loop, what is the difference between range(10), range(0, 10), and range(0, 10, 1)?\n",
        "'''In a for loop, the range() function is commonly used to generate a sequence of numbers.\n",
        " The range() function can be called with different arguments to specify the start, stop, and step values for the sequence.'''\n",
        "\n",
        "'''range(10): This creates a sequence that starts from 0 (default start value) and ends at 10 (exclusive) with a step of 1 (default step value).\n",
        "\n",
        "Example:'''\n",
        "for i in range(10):\n",
        "    print(i) # output 1 to 9\n",
        "\n",
        "'''range(0, 10): This creates a sequence that starts from 0 (specified start value) and ends at 10 (exclusive) with a step of 1 (default step value).\n",
        "\n",
        "Example:'''\n",
        "for i in range(0, 10):\n",
        "    print(i) # output 1 to 9\n",
        "\n",
        "'''range(0, 10, 1): This creates a sequence that starts from 0 (specified start value), ends at 10 (exclusive), and has a step size of 1 (specified step value).\n",
        "\n",
        "Example:'''\n",
        "for i in range(0, 10, 1):\n",
        "    print(i) # output 1 to 9\n"
      ],
      "metadata": {
        "colab": {
          "base_uri": "https://localhost:8080/"
        },
        "id": "kmIFnGaYDDB0",
        "outputId": "8b679790-3141-4116-b50b-9658ebee2223"
      },
      "execution_count": null,
      "outputs": [
        {
          "output_type": "stream",
          "name": "stdout",
          "text": [
            "0\n",
            "1\n",
            "2\n",
            "3\n",
            "4\n",
            "5\n",
            "6\n",
            "7\n",
            "8\n",
            "9\n",
            "0\n",
            "1\n",
            "2\n",
            "3\n",
            "4\n",
            "5\n",
            "6\n",
            "7\n",
            "8\n",
            "9\n",
            "0\n",
            "1\n",
            "2\n",
            "3\n",
            "4\n",
            "5\n",
            "6\n",
            "7\n",
            "8\n",
            "9\n"
          ]
        }
      ]
    },
    {
      "cell_type": "code",
      "source": [
        "# Question 12\n",
        "'''Write a short program that prints the numbers 1 to 10 using a for loop. Then write an equivalent\n",
        "program that prints the numbers 1 to 10 using a while loop.'''"
      ],
      "metadata": {
        "colab": {
          "base_uri": "https://localhost:8080/",
          "height": 35
        },
        "id": "nwOY68N-Egvx",
        "outputId": "b6a322c2-0de9-42a5-af1a-28aa10c6be0b"
      },
      "execution_count": null,
      "outputs": [
        {
          "output_type": "execute_result",
          "data": {
            "text/plain": [
              "'Write a short program that prints the numbers 1 to 10 using a for loop. Then write an equivalent\\nprogram that prints the numbers 1 to 10 using a while loop.'"
            ],
            "application/vnd.google.colaboratory.intrinsic+json": {
              "type": "string"
            }
          },
          "metadata": {},
          "execution_count": 38
        }
      ]
    },
    {
      "cell_type": "code",
      "source": [
        "# Using a for loop:\n",
        "for i in range(1, 11):\n",
        "    print(i) # output 1 to 10\n",
        "\n",
        "# Using a while loop:\n",
        "# Using a while loop\n",
        "i = 1\n",
        "while i <= 10:\n",
        "    print(i)\n",
        "    i += 1 # output 1 to 10\n"
      ],
      "metadata": {
        "colab": {
          "base_uri": "https://localhost:8080/"
        },
        "id": "2sik4TXuEuZJ",
        "outputId": "cb65a4ca-432d-45c2-f9ac-73df5db618c8"
      },
      "execution_count": null,
      "outputs": [
        {
          "output_type": "stream",
          "name": "stdout",
          "text": [
            "1\n",
            "2\n",
            "3\n",
            "4\n",
            "5\n",
            "6\n",
            "7\n",
            "8\n",
            "9\n",
            "10\n",
            "1\n",
            "2\n",
            "3\n",
            "4\n",
            "5\n",
            "6\n",
            "7\n",
            "8\n",
            "9\n",
            "10\n"
          ]
        }
      ]
    },
    {
      "cell_type": "code",
      "source": [
        " # Question 13\n",
        "''' If you had a function named bacon() inside a module named spam, how would you call it after\n",
        "importing spam?'''"
      ],
      "metadata": {
        "colab": {
          "base_uri": "https://localhost:8080/",
          "height": 35
        },
        "id": "lx9FVXGEFRyz",
        "outputId": "faafaeda-6ebb-4a7f-a418-1295805f7b31"
      },
      "execution_count": null,
      "outputs": [
        {
          "output_type": "execute_result",
          "data": {
            "text/plain": [
              "' If you had a function named bacon() inside a module named spam, how would you call it after\\nimporting spam?'"
            ],
            "application/vnd.google.colaboratory.intrinsic+json": {
              "type": "string"
            }
          },
          "metadata": {},
          "execution_count": 40
        }
      ]
    },
    {
      "cell_type": "code",
      "source": [
        "'''After importing the spam module, you can call the bacon() function using the following syntax:\n",
        "from spam import bacon\n",
        "bacon()\n",
        "In this case, the from keyword is used to import the specific function bacon from the spam module.\n",
        "After importing the function, you can directly call bacon() without prefixing it with the module name.'''"
      ],
      "metadata": {
        "id": "jDjvFD8QFbFI",
        "colab": {
          "base_uri": "https://localhost:8080/",
          "height": 70
        },
        "outputId": "1a07c573-5f6e-497a-a43d-329fc06029c6"
      },
      "execution_count": 49,
      "outputs": [
        {
          "output_type": "execute_result",
          "data": {
            "text/plain": [
              "'After importing the spam module, you can call the bacon() function using the following syntax:\\nfrom spam import bacon\\nbacon()\\nIn this case, the from keyword is used to import the specific function bacon from the spam module.\\nAfter importing the function, you can directly call bacon() without prefixing it with the module name.'"
            ],
            "application/vnd.google.colaboratory.intrinsic+json": {
              "type": "string"
            }
          },
          "metadata": {},
          "execution_count": 49
        }
      ]
    },
    {
      "cell_type": "code",
      "source": [],
      "metadata": {
        "id": "c3gIXuvAGEHO"
      },
      "execution_count": null,
      "outputs": []
    }
  ]
}
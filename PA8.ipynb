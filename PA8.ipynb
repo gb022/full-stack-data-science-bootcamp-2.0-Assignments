{
  "nbformat": 4,
  "nbformat_minor": 0,
  "metadata": {
    "colab": {
      "provenance": []
    },
    "kernelspec": {
      "name": "python3",
      "display_name": "Python 3"
    },
    "language_info": {
      "name": "python"
    }
  },
  "cells": [
    {
      "cell_type": "code",
      "execution_count": 1,
      "metadata": {
        "id": "jL6V_oVjArlg"
      },
      "outputs": [],
      "source": [
        "# 1. Write a Python Program to Add Two Matrices?"
      ]
    },
    {
      "cell_type": "code",
      "source": [
        "# Here's a Python program that adds two matrices:\n",
        "def add_matrices(matrix1, matrix2):\n",
        "    if len(matrix1) != len(matrix2) or len(matrix1[0]) != len(matrix2[0]):\n",
        "        print(\"Error: Matrices must have the same dimensions.\")\n",
        "        return None\n",
        "\n",
        "    result = []\n",
        "    for i in range(len(matrix1)):\n",
        "        row = []\n",
        "        for j in range(len(matrix1[0])):\n",
        "            row.append(matrix1[i][j] + matrix2[i][j])\n",
        "        result.append(row)\n",
        "\n",
        "    return result\n",
        "\n",
        "\n",
        "# Example usage\n",
        "matrix1 = [[1, 2, 3],\n",
        "           [4, 5, 6],\n",
        "           [7, 8, 9]]\n",
        "\n",
        "matrix2 = [[9, 8, 7],\n",
        "           [6, 5, 4],\n",
        "           [3, 2, 1]]\n",
        "\n",
        "result = add_matrices(matrix1, matrix2)\n",
        "if result is not None:\n",
        "    for row in result:\n",
        "        print(row)\n"
      ],
      "metadata": {
        "colab": {
          "base_uri": "https://localhost:8080/"
        },
        "id": "HlnXh2M7BFYc",
        "outputId": "68476789-3111-4c64-fe5f-0babe082d110"
      },
      "execution_count": 2,
      "outputs": [
        {
          "output_type": "stream",
          "name": "stdout",
          "text": [
            "[10, 10, 10]\n",
            "[10, 10, 10]\n",
            "[10, 10, 10]\n"
          ]
        }
      ]
    },
    {
      "cell_type": "code",
      "source": [
        "# 2. Write a Python Program to Multiply Two Matrices?"
      ],
      "metadata": {
        "id": "lMiQOzBQBN2r"
      },
      "execution_count": 3,
      "outputs": []
    },
    {
      "cell_type": "code",
      "source": [
        "# Here's a Python program that multiplies two matrices:\n",
        "def multiply_matrices(matrix1, matrix2):\n",
        "    if len(matrix1[0]) != len(matrix2):\n",
        "        print(\"Error: The number of columns in the first matrix must be equal to the number of rows in the second matrix.\")\n",
        "        return None\n",
        "\n",
        "    result = []\n",
        "    for i in range(len(matrix1)):\n",
        "        row = []\n",
        "        for j in range(len(matrix2[0])):\n",
        "            sum = 0\n",
        "            for k in range(len(matrix2)):\n",
        "                sum += matrix1[i][k] * matrix2[k][j]\n",
        "            row.append(sum)\n",
        "        result.append(row)\n",
        "\n",
        "    return result\n",
        "\n",
        "\n",
        "# Example usage\n",
        "matrix1 = [[1, 2, 3],\n",
        "           [4, 5, 6]]\n",
        "\n",
        "matrix2 = [[7, 8],\n",
        "           [9, 10],\n",
        "           [11, 12]]\n",
        "\n",
        "result = multiply_matrices(matrix1, matrix2)\n",
        "if result is not None:\n",
        "    for row in result:\n",
        "        print(row)\n"
      ],
      "metadata": {
        "colab": {
          "base_uri": "https://localhost:8080/"
        },
        "id": "7eOAfBsfBQpL",
        "outputId": "1bcc25eb-bf19-47ed-c4b3-e7a6acf03c4f"
      },
      "execution_count": 4,
      "outputs": [
        {
          "output_type": "stream",
          "name": "stdout",
          "text": [
            "[58, 64]\n",
            "[139, 154]\n"
          ]
        }
      ]
    },
    {
      "cell_type": "code",
      "source": [
        "# 3. Write a Python Program to Transpose a Matrix?"
      ],
      "metadata": {
        "id": "kbvmNcYQBZxF"
      },
      "execution_count": 5,
      "outputs": []
    },
    {
      "cell_type": "code",
      "source": [
        "# Here's a Python program that transposes a matrix:\n",
        "def transpose_matrix(matrix):\n",
        "    num_rows = len(matrix)\n",
        "    num_cols = len(matrix[0])\n",
        "\n",
        "    # Create a new matrix with swapped dimensions\n",
        "    transposed_matrix = [[0 for _ in range(num_rows)] for _ in range(num_cols)]\n",
        "\n",
        "    # Iterate over the original matrix and assign values to the transposed matrix\n",
        "    for i in range(num_rows):\n",
        "        for j in range(num_cols):\n",
        "            transposed_matrix[j][i] = matrix[i][j]\n",
        "\n",
        "    return transposed_matrix\n",
        "\n",
        "\n",
        "# Example usage\n",
        "matrix = [[1, 2, 3],\n",
        "          [4, 5, 6],\n",
        "          [7, 8, 9]]\n",
        "\n",
        "transposed = transpose_matrix(matrix)\n",
        "\n",
        "# Print the transposed matrix\n",
        "for row in transposed:\n",
        "    print(row)\n"
      ],
      "metadata": {
        "colab": {
          "base_uri": "https://localhost:8080/"
        },
        "id": "3TFwYiOpBceX",
        "outputId": "a18c2486-79cd-43cd-e8e9-e509fcb31e6c"
      },
      "execution_count": 6,
      "outputs": [
        {
          "output_type": "stream",
          "name": "stdout",
          "text": [
            "[1, 4, 7]\n",
            "[2, 5, 8]\n",
            "[3, 6, 9]\n"
          ]
        }
      ]
    },
    {
      "cell_type": "code",
      "source": [
        "# 4. Write a Python Program to Sort Words in Alphabetic Order?"
      ],
      "metadata": {
        "id": "dEobIETWBkvA"
      },
      "execution_count": 7,
      "outputs": []
    },
    {
      "cell_type": "code",
      "source": [
        "# Here's a Python program that sorts a list of words in alphabetical order:\n",
        "def sort_words(words):\n",
        "    sorted_words = sorted(words)\n",
        "    return sorted_words\n",
        "\n",
        "\n",
        "# Example usage\n",
        "word_list = [\"banana\", \"apple\", \"cherry\", \"date\", \"blueberry\"]\n",
        "\n",
        "sorted_words = sort_words(word_list)\n",
        "\n",
        "# Print the sorted words\n",
        "for word in sorted_words:\n",
        "    print(word)\n"
      ],
      "metadata": {
        "colab": {
          "base_uri": "https://localhost:8080/"
        },
        "id": "zHrpjxyDBo0f",
        "outputId": "bf2412b6-69e8-4fde-aa1f-441e45fb1f8b"
      },
      "execution_count": 8,
      "outputs": [
        {
          "output_type": "stream",
          "name": "stdout",
          "text": [
            "apple\n",
            "banana\n",
            "blueberry\n",
            "cherry\n",
            "date\n"
          ]
        }
      ]
    },
    {
      "cell_type": "code",
      "source": [
        "# 5. Write a Python Program to Remove Punctuation From a String?"
      ],
      "metadata": {
        "id": "pwfvnrLqBvPw"
      },
      "execution_count": 9,
      "outputs": []
    },
    {
      "cell_type": "code",
      "source": [
        "# Here's a Python program that removes punctuation from a string:\n",
        "import string\n",
        "\n",
        "def remove_punctuation(input_string):\n",
        "    # Create a translation table with punctuation characters mapped to None\n",
        "    translation_table = str.maketrans(\"\", \"\", string.punctuation)\n",
        "    # Apply the translation table to remove punctuation\n",
        "    cleaned_string = input_string.translate(translation_table)\n",
        "    return cleaned_string\n",
        "\n",
        "\n",
        "# Example usage\n",
        "input_string = \"Hello! How are you? I'm doing well.\"\n",
        "\n",
        "cleaned_string = remove_punctuation(input_string)\n",
        "\n",
        "print(cleaned_string)\n"
      ],
      "metadata": {
        "colab": {
          "base_uri": "https://localhost:8080/"
        },
        "id": "y0gHbwWjB4dM",
        "outputId": "29a8032b-d5a7-4deb-aabd-8df9fa9b211a"
      },
      "execution_count": 10,
      "outputs": [
        {
          "output_type": "stream",
          "name": "stdout",
          "text": [
            "Hello How are you Im doing well\n"
          ]
        }
      ]
    },
    {
      "cell_type": "code",
      "source": [],
      "metadata": {
        "id": "UWJY7UPOB8_m"
      },
      "execution_count": null,
      "outputs": []
    }
  ]
}
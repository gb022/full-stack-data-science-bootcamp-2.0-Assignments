{
  "nbformat": 4,
  "nbformat_minor": 0,
  "metadata": {
    "colab": {
      "provenance": []
    },
    "kernelspec": {
      "name": "python3",
      "display_name": "Python 3"
    },
    "language_info": {
      "name": "python"
    }
  },
  "cells": [
    {
      "cell_type": "markdown",
      "source": [
        "1) . What is the difference between enclosing a list comprehension in square brackets and parentheses?\n",
        "\n",
        "---> Enclosing a list comprehension in square brackets creates a list, while enclosing it in parentheses creates a generator."
      ],
      "metadata": {
        "id": "No7VWvDQIplw"
      }
    },
    {
      "cell_type": "markdown",
      "source": [
        "2) What is the relationship between generators and iterators?\n",
        "\n",
        "---> Generators are a specific type of iterator that can be created using generator functions. They provide an efficient and convenient way to implement iterators, enabling lazy evaluation and conserving memory."
      ],
      "metadata": {
        "id": "vXvcKevAI8yr"
      }
    },
    {
      "cell_type": "markdown",
      "source": [
        "3) What are the signs that a function is a generator function?\n",
        "\n",
        "--->\n",
        "There are a few signs that indicate a function is a generator function:\n",
        "\n",
        "Use of the yield keyword: Generator functions use the yield keyword instead of return to yield a sequence of values. When the yield statement is encountered, the function temporarily suspends its execution and returns the yielded value. The next time the generator's __next__() method is called, the function resumes execution from where it left off.\n",
        "\n",
        "Generator function syntax: Generator functions are defined using the regular function definition syntax, but they include the yield keyword. They can have multiple yield statements and can also include regular code like loops, conditionals, and variable assignments."
      ],
      "metadata": {
        "id": "A7BOM8yVJHeu"
      }
    },
    {
      "cell_type": "markdown",
      "source": [
        "4) What is the purpose of a yield statement?\n",
        "\n",
        "---> The yield statement is used in Python to define a generator function and control the flow of execution within the generator. It serves two main purposes:\n",
        "\n",
        "Yielding values: When a yield statement is encountered inside a generator function, it temporarily suspends the function's execution and yields a value to the caller. The yielded value is returned by the generator's __next__() method, which can be invoked using the next() function or in a loop. The generator function's state is saved, allowing it to resume execution from where it left off when the next value is requested.\n",
        "\n",
        "Maintaining generator state: In addition to yielding values, the yield statement allows the generator function to retain its state between successive invocations. When a generator is called again after yielding a value, it resumes execution from where it left off, rather than starting from the beginning of the function. This allows generators to generate a sequence of values on-the-fly without needing to store them in memory all at once."
      ],
      "metadata": {
        "id": "rmZEsS_cJSNO"
      }
    },
    {
      "cell_type": "markdown",
      "source": [
        "5) What is the relationship between map calls and list comprehensions? Make a comparison and contrast between the two.\n",
        "\n",
        "---> Both map calls and list comprehensions serve similar purposes of transforming elements of an iterable. However, list comprehensions provide a more concise and expressive syntax, while map calls require a separate function and may be less readable in certain cases. List comprehensions are often preferred for their readability and ease of use."
      ],
      "metadata": {
        "id": "knmIP5UZJbGj"
      }
    }
  ]
}
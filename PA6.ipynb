{
  "nbformat": 4,
  "nbformat_minor": 0,
  "metadata": {
    "colab": {
      "provenance": []
    },
    "kernelspec": {
      "name": "python3",
      "display_name": "Python 3"
    },
    "language_info": {
      "name": "python"
    }
  },
  "cells": [
    {
      "cell_type": "code",
      "execution_count": 1,
      "metadata": {
        "id": "jO0SQWSLrm_X"
      },
      "outputs": [],
      "source": [
        "# 1. Write a Python Program to Display Fibonacci Sequence Using Recursion?"
      ]
    },
    {
      "cell_type": "code",
      "source": [
        "# Here's a Python program that displays the Fibonacci sequence using recursion:\n",
        "def fibonacci(n):\n",
        "    if n <= 0:\n",
        "        return []\n",
        "    elif n == 1:\n",
        "        return [0]\n",
        "    elif n == 2:\n",
        "        return [0, 1]\n",
        "    else:\n",
        "        sequence = fibonacci(n - 1)\n",
        "        sequence.append(sequence[-1] + sequence[-2])\n",
        "        return sequence\n",
        "\n",
        "# Taking input from the user\n",
        "terms = int(input(\"Enter the number of terms: \"))\n",
        "\n",
        "# Displaying the Fibonacci sequence\n",
        "fib_sequence = fibonacci(terms)\n",
        "print(\"Fibonacci Sequence:\")\n",
        "print(fib_sequence)\n"
      ],
      "metadata": {
        "id": "mSVDZ-3mrylV"
      },
      "execution_count": null,
      "outputs": []
    },
    {
      "cell_type": "code",
      "source": [
        "# 2. Write a Python Program to Find Factorial of Number Using Recursion?"
      ],
      "metadata": {
        "id": "K47G35YBsN8o"
      },
      "execution_count": 3,
      "outputs": []
    },
    {
      "cell_type": "code",
      "source": [
        "# Here's a Python program that finds the factorial of a number using recursion:\n",
        "def factorial(n):\n",
        "    if n == 0:\n",
        "        return 1\n",
        "    else:\n",
        "        return n * factorial(n - 1)\n",
        "\n",
        "# Taking input from the user\n",
        "number = int(input(\"Enter a number: \"))\n",
        "\n",
        "# Calculating the factorial\n",
        "result = factorial(number)\n",
        "\n",
        "# Displaying the result\n",
        "print(\"Factorial of\", number, \"is\", result)\n"
      ],
      "metadata": {
        "colab": {
          "base_uri": "https://localhost:8080/"
        },
        "id": "gn3Mwo_osXgV",
        "outputId": "32ec6a7a-ac9f-4bf0-dc83-a183d886771a"
      },
      "execution_count": 4,
      "outputs": [
        {
          "output_type": "stream",
          "name": "stdout",
          "text": [
            "Enter a number: 5\n",
            "Factorial of 5 is 120\n"
          ]
        }
      ]
    },
    {
      "cell_type": "code",
      "source": [
        "# 3. Write a Python Program to calculate your Body Mass Index?"
      ],
      "metadata": {
        "id": "w-X3dzU8see2"
      },
      "execution_count": 5,
      "outputs": []
    },
    {
      "cell_type": "code",
      "source": [
        "# Here's a Python program that calculates the Body Mass Index (BMI):\n",
        "def calculate_bmi(weight, height):\n",
        "    bmi = weight / (height ** 2)\n",
        "    return bmi\n",
        "\n",
        "# Taking input from the user\n",
        "weight = float(input(\"Enter your weight in kilograms: \"))\n",
        "height = float(input(\"Enter your height in meters: \"))\n",
        "\n",
        "# Calculating the BMI\n",
        "bmi = calculate_bmi(weight, height)\n",
        "\n",
        "# Displaying the result\n",
        "print(\"Your Body Mass Index (BMI) is:\", bmi)\n"
      ],
      "metadata": {
        "colab": {
          "base_uri": "https://localhost:8080/"
        },
        "id": "OD_fPB1RtAWF",
        "outputId": "cbb8661c-2f40-448e-afd1-ce310c0b852c"
      },
      "execution_count": 6,
      "outputs": [
        {
          "output_type": "stream",
          "name": "stdout",
          "text": [
            "Enter your weight in kilograms: 92\n",
            "Enter your height in meters:  1.70\n",
            "Your Body Mass Index (BMI) is: 31.83391003460208\n"
          ]
        }
      ]
    },
    {
      "cell_type": "code",
      "source": [
        "# 4. Write a Python Program to calculate the natural logarithm of any number?"
      ],
      "metadata": {
        "id": "_t3nsrkDtMW8"
      },
      "execution_count": 7,
      "outputs": []
    },
    {
      "cell_type": "code",
      "source": [
        "# To calculate the natural logarithm of a number in Python, we can use the math module. Here's a program that demonstrates this:\n",
        "import math\n",
        "\n",
        "# Taking input from the user\n",
        "number = float(input(\"Enter a number: \"))\n",
        "\n",
        "# Calculating the natural logarithm\n",
        "logarithm = math.log(number)\n",
        "\n",
        "# Displaying the result\n",
        "print(\"The natural logarithm of\", number, \"is\", logarithm)"
      ],
      "metadata": {
        "colab": {
          "base_uri": "https://localhost:8080/"
        },
        "id": "cxmOpLxytXyo",
        "outputId": "7837788b-aa5d-4559-b2ab-b0e4460d1dd3"
      },
      "execution_count": 8,
      "outputs": [
        {
          "output_type": "stream",
          "name": "stdout",
          "text": [
            "Enter a number:  12\n",
            "The natural logarithm of 12.0 is 2.4849066497880004\n"
          ]
        }
      ]
    },
    {
      "cell_type": "code",
      "source": [
        "# 5. Write a Python Program for cube sum of first n natural numbers?"
      ],
      "metadata": {
        "id": "KNwdeUC3uO2r"
      },
      "execution_count": 9,
      "outputs": []
    },
    {
      "cell_type": "code",
      "source": [
        "# Here's a Python program that calculates the cube sum of the first n natural numbers:\n",
        "def cube_sum(n):\n",
        "    sum = 0\n",
        "    for i in range(1, n + 1):\n",
        "        sum += i ** 3\n",
        "    return sum\n",
        "\n",
        "# Taking input from the user\n",
        "n = int(input(\"Enter the value of n: \"))\n",
        "\n",
        "# Calculating the cube sum\n",
        "result = cube_sum(n)\n",
        "\n",
        "# Displaying the result\n",
        "print(\"The cube sum of the first\", n, \"natural numbers is:\", result)\n"
      ],
      "metadata": {
        "colab": {
          "base_uri": "https://localhost:8080/"
        },
        "id": "Lvi9-x4ruUo7",
        "outputId": "d0b18f06-a859-4230-e3f9-15839d1aa9ba"
      },
      "execution_count": 10,
      "outputs": [
        {
          "output_type": "stream",
          "name": "stdout",
          "text": [
            "Enter the value of n: 6\n",
            "The cube sum of the first 6 natural numbers is: 441\n"
          ]
        }
      ]
    },
    {
      "cell_type": "code",
      "source": [],
      "metadata": {
        "id": "Nr1LRIw_ulab"
      },
      "execution_count": null,
      "outputs": []
    }
  ]
}
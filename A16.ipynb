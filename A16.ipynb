{
  "nbformat": 4,
  "nbformat_minor": 0,
  "metadata": {
    "colab": {
      "provenance": []
    },
    "kernelspec": {
      "name": "python3",
      "display_name": "Python 3"
    },
    "language_info": {
      "name": "python"
    }
  },
  "cells": [
    {
      "cell_type": "markdown",
      "source": [
        "1. Create a list called years_list, starting with the year of your birth, and each year thereafter until the year of your fifth birthday. For example, if you were born in 1980. the list would be years_list = [1980, 1981, 1982, 1983, 1984, 1985]."
      ],
      "metadata": {
        "id": "NDI2UIVnkbeu"
      }
    },
    {
      "cell_type": "code",
      "execution_count": 1,
      "metadata": {
        "colab": {
          "base_uri": "https://localhost:8080/"
        },
        "id": "2Y55ooOWka9G",
        "outputId": "73339d1c-ac22-40e4-c11a-82a73b9b55a8"
      },
      "outputs": [
        {
          "output_type": "stream",
          "name": "stdout",
          "text": [
            "[1990, 1991, 1992, 1993, 1994, 1995]\n"
          ]
        }
      ],
      "source": [
        "birth_year = 1990\n",
        "years_list = [year for year in range(birth_year, birth_year + 6)]\n",
        "print(years_list)\n"
      ]
    },
    {
      "cell_type": "markdown",
      "source": [
        "2. In which year in years_list was your third birthday? Remember, you were 0 years of age for your first year."
      ],
      "metadata": {
        "id": "mZBYwNIzkfRr"
      }
    },
    {
      "cell_type": "code",
      "source": [
        "birth_year = 1990\n",
        "years_list = [year for year in range(birth_year, birth_year + 6)]\n",
        "\n",
        "third_birthday_year = years_list[2]\n",
        "print(third_birthday_year)\n"
      ],
      "metadata": {
        "colab": {
          "base_uri": "https://localhost:8080/"
        },
        "id": "MKeu3pukkiLS",
        "outputId": "f777f392-cee2-4d6a-becb-faee91d9d2dc"
      },
      "execution_count": 2,
      "outputs": [
        {
          "output_type": "stream",
          "name": "stdout",
          "text": [
            "1992\n"
          ]
        }
      ]
    },
    {
      "cell_type": "markdown",
      "source": [
        "3.In the years list, which year were you the oldest?"
      ],
      "metadata": {
        "id": "WQoCrWnxkmrS"
      }
    },
    {
      "cell_type": "code",
      "source": [
        "birth_year = 1990\n",
        "years_list = [year for year in range(birth_year, birth_year + 6)]\n",
        "\n",
        "oldest_year = max(years_list)\n",
        "print(oldest_year)\n"
      ],
      "metadata": {
        "colab": {
          "base_uri": "https://localhost:8080/"
        },
        "id": "aiNdP39UknGv",
        "outputId": "68d368d6-dd68-4f05-a8e3-f5a8417edcac"
      },
      "execution_count": 3,
      "outputs": [
        {
          "output_type": "stream",
          "name": "stdout",
          "text": [
            "1995\n"
          ]
        }
      ]
    },
    {
      "cell_type": "markdown",
      "source": [
        "4. Make a list called things with these three strings as elements: \"mozzarella\", \"cinderella\", \"salmonella\"."
      ],
      "metadata": {
        "id": "pfyu3JUqksCe"
      }
    },
    {
      "cell_type": "code",
      "source": [
        "things = [\"mozzarella\", \"cinderella\", \"salmonella\"]\n"
      ],
      "metadata": {
        "id": "7F2hGYwzktPa"
      },
      "execution_count": 4,
      "outputs": []
    },
    {
      "cell_type": "markdown",
      "source": [
        "5. Capitalize the element in things that refers to a person and then print the list. Did it change the element in the list?"
      ],
      "metadata": {
        "id": "9m2_x061kz3d"
      }
    },
    {
      "cell_type": "code",
      "source": [
        "things[1] = things[1].capitalize()\n",
        "print(things)\n"
      ],
      "metadata": {
        "colab": {
          "base_uri": "https://localhost:8080/"
        },
        "id": "bMAVFbvNk1yt",
        "outputId": "870ce92d-53ae-4e69-ee7f-0b51c88a7b2a"
      },
      "execution_count": 5,
      "outputs": [
        {
          "output_type": "stream",
          "name": "stdout",
          "text": [
            "['mozzarella', 'Cinderella', 'salmonella']\n"
          ]
        }
      ]
    },
    {
      "cell_type": "markdown",
      "source": [
        "6. Make a surprise list with the elements \"Groucho,\" \"Chico,\" and \"Harpo.\""
      ],
      "metadata": {
        "id": "sshHCNOuk5-5"
      }
    },
    {
      "cell_type": "code",
      "source": [
        "surprise = [\"Groucho\", \"Chico\", \"Harpo\"]\n"
      ],
      "metadata": {
        "id": "8UGOyrLzk6vN"
      },
      "execution_count": 6,
      "outputs": []
    },
    {
      "cell_type": "markdown",
      "source": [
        "7. Lowercase the last element of the surprise list, reverse it, and then capitalize it."
      ],
      "metadata": {
        "id": "qkuQo6kSk_7N"
      }
    },
    {
      "cell_type": "code",
      "source": [
        "surprise[-1] = surprise[-1].lower()\n",
        "surprise[-1] = surprise[-1][::-1]\n",
        "surprise[-1] = surprise[-1].capitalize()\n"
      ],
      "metadata": {
        "id": "va2BHNbGk_Cq"
      },
      "execution_count": 7,
      "outputs": []
    },
    {
      "cell_type": "markdown",
      "source": [
        "8. Make an English-to-French dictionary called e2f and print it. Here are your starter words: dog is chien, cat is chat, and walrus is morse."
      ],
      "metadata": {
        "id": "72MzKQz7lFjh"
      }
    },
    {
      "cell_type": "code",
      "source": [
        "e2f = {\n",
        "    'dog': 'chien',\n",
        "    'cat': 'chat',\n",
        "    'walrus': 'morse'\n",
        "}\n",
        "\n",
        "print(e2f)\n"
      ],
      "metadata": {
        "colab": {
          "base_uri": "https://localhost:8080/"
        },
        "id": "7ZrmR3JKlKNh",
        "outputId": "55981a88-30a5-49be-9e1d-c3b7d8c1e768"
      },
      "execution_count": 8,
      "outputs": [
        {
          "output_type": "stream",
          "name": "stdout",
          "text": [
            "{'dog': 'chien', 'cat': 'chat', 'walrus': 'morse'}\n"
          ]
        }
      ]
    },
    {
      "cell_type": "markdown",
      "source": [
        "9. Write the French word for walrus in your three-word dictionary e2f."
      ],
      "metadata": {
        "id": "LbxNQyr9lOJF"
      }
    },
    {
      "cell_type": "code",
      "source": [
        "e2f = {\n",
        "    'dog': 'chien',\n",
        "    'cat': 'chat',\n",
        "    'walrus': 'morse'\n",
        "}\n",
        "\n",
        "french_word = e2f['walrus']\n",
        "print(french_word)\n"
      ],
      "metadata": {
        "colab": {
          "base_uri": "https://localhost:8080/"
        },
        "id": "mg5z4DrSlO2v",
        "outputId": "ea071718-36cb-43ab-cec7-56a0eaf2beb0"
      },
      "execution_count": 9,
      "outputs": [
        {
          "output_type": "stream",
          "name": "stdout",
          "text": [
            "morse\n"
          ]
        }
      ]
    },
    {
      "cell_type": "markdown",
      "source": [
        "10. Make a French-to-English dictionary called f2e from e2f. Use the items method."
      ],
      "metadata": {
        "id": "S7LAsroalUHl"
      }
    },
    {
      "cell_type": "code",
      "source": [
        "e2f = {\n",
        "    'dog': 'chien',\n",
        "    'cat': 'chat',\n",
        "    'walrus': 'morse'\n",
        "}\n",
        "\n",
        "f2e = {value: key for key, value in e2f.items()}\n",
        "print(f2e)\n"
      ],
      "metadata": {
        "colab": {
          "base_uri": "https://localhost:8080/"
        },
        "id": "VbQP7u7blUy-",
        "outputId": "3c2b8931-1bd6-4b93-df3d-95e31ae1ae29"
      },
      "execution_count": 10,
      "outputs": [
        {
          "output_type": "stream",
          "name": "stdout",
          "text": [
            "{'chien': 'dog', 'chat': 'cat', 'morse': 'walrus'}\n"
          ]
        }
      ]
    },
    {
      "cell_type": "markdown",
      "source": [
        "11. Print the English version of the French word chien using f2e."
      ],
      "metadata": {
        "id": "WxRPiBdylaTU"
      }
    },
    {
      "cell_type": "code",
      "source": [
        "f2e = {\n",
        "    'chien': 'dog',\n",
        "    'chat': 'cat',\n",
        "    'morse': 'walrus'\n",
        "}\n",
        "\n",
        "print(f2e['chien'])\n"
      ],
      "metadata": {
        "colab": {
          "base_uri": "https://localhost:8080/"
        },
        "id": "zutxq3Dyla_H",
        "outputId": "a7d1affe-d1c8-4d8a-c42a-df5ed3232522"
      },
      "execution_count": 11,
      "outputs": [
        {
          "output_type": "stream",
          "name": "stdout",
          "text": [
            "dog\n"
          ]
        }
      ]
    },
    {
      "cell_type": "markdown",
      "source": [
        "12. Make and print a set of English words from the keys in e2f."
      ],
      "metadata": {
        "id": "WfvQgsBdlgiy"
      }
    },
    {
      "cell_type": "code",
      "source": [
        "e2f = {\n",
        "    'dog': 'chien',\n",
        "    'cat': 'chat',\n",
        "    'walrus': 'morse'\n",
        "}\n",
        "\n",
        "english_words = set(e2f.keys())\n",
        "print(english_words)\n"
      ],
      "metadata": {
        "colab": {
          "base_uri": "https://localhost:8080/"
        },
        "id": "s6sb1BbmlhPW",
        "outputId": "70a1b918-807d-4061-93b5-863942ae4022"
      },
      "execution_count": 12,
      "outputs": [
        {
          "output_type": "stream",
          "name": "stdout",
          "text": [
            "{'dog', 'cat', 'walrus'}\n"
          ]
        }
      ]
    },
    {
      "cell_type": "markdown",
      "source": [
        "13. Make a multilevel dictionary called life. Use these strings for the topmost keys: 'animals', 'plants', and 'other'. Make the 'animals' key refer to another dictionary with the keys 'cats', 'octopi', and 'emus'. Make the 'cats' key refer to a list of strings with the values 'Henri', 'Grumpy', and 'Lucy'. Make all the other keys refer to empty dictionaries."
      ],
      "metadata": {
        "id": "woSxLsg1lmOf"
      }
    },
    {
      "cell_type": "code",
      "source": [
        "life = {\n",
        "    'animals': {\n",
        "        'cats': ['Henri', 'Grumpy', 'Lucy'],\n",
        "        'octopi': {},\n",
        "        'emus': {}\n",
        "    },\n",
        "    'plants': {},\n",
        "    'other': {}\n",
        "}\n",
        "\n",
        "print(life)\n"
      ],
      "metadata": {
        "colab": {
          "base_uri": "https://localhost:8080/"
        },
        "id": "UA98o3ytlm7r",
        "outputId": "c26a0912-701d-479f-ca43-5041185f4a81"
      },
      "execution_count": 13,
      "outputs": [
        {
          "output_type": "stream",
          "name": "stdout",
          "text": [
            "{'animals': {'cats': ['Henri', 'Grumpy', 'Lucy'], 'octopi': {}, 'emus': {}}, 'plants': {}, 'other': {}}\n"
          ]
        }
      ]
    },
    {
      "cell_type": "markdown",
      "source": [
        "14. Print the top-level keys of life."
      ],
      "metadata": {
        "id": "ClljIerqlsO7"
      }
    },
    {
      "cell_type": "code",
      "source": [
        "life = {\n",
        "    'animals': {\n",
        "        'cats': ['Henri', 'Grumpy', 'Lucy'],\n",
        "        'octopi': {},\n",
        "        'emus': {}\n",
        "    },\n",
        "    'plants': {},\n",
        "    'other': {}\n",
        "}\n",
        "\n",
        "top_level_keys = life.keys()\n",
        "print(top_level_keys)\n"
      ],
      "metadata": {
        "colab": {
          "base_uri": "https://localhost:8080/"
        },
        "id": "wufFsCECls5G",
        "outputId": "173a2f33-87e7-4dae-9363-d9031d8f08a1"
      },
      "execution_count": 14,
      "outputs": [
        {
          "output_type": "stream",
          "name": "stdout",
          "text": [
            "dict_keys(['animals', 'plants', 'other'])\n"
          ]
        }
      ]
    },
    {
      "cell_type": "markdown",
      "source": [
        "15. Print the keys for life['animals']."
      ],
      "metadata": {
        "id": "KoTNzqmglxFg"
      }
    },
    {
      "cell_type": "code",
      "source": [
        "life = {\n",
        "    'animals': {\n",
        "        'cats': ['Henri', 'Grumpy', 'Lucy'],\n",
        "        'octopi': {},\n",
        "        'emus': {}\n",
        "    },\n",
        "    'plants': {},\n",
        "    'other': {}\n",
        "}\n",
        "\n",
        "animal_keys = life['animals'].keys()\n",
        "print(animal_keys)\n"
      ],
      "metadata": {
        "colab": {
          "base_uri": "https://localhost:8080/"
        },
        "id": "uWSqVKpXlxyo",
        "outputId": "e8d363d4-a8b3-4834-824c-2b99801fe56f"
      },
      "execution_count": 15,
      "outputs": [
        {
          "output_type": "stream",
          "name": "stdout",
          "text": [
            "dict_keys(['cats', 'octopi', 'emus'])\n"
          ]
        }
      ]
    },
    {
      "cell_type": "markdown",
      "source": [
        "16. Print the values for life['animals']['cats']"
      ],
      "metadata": {
        "id": "TdyEKjWil3XA"
      }
    },
    {
      "cell_type": "code",
      "source": [
        "life = {\n",
        "    'animals': {\n",
        "        'cats': ['Henri', 'Grumpy', 'Lucy'],\n",
        "        'octopi': {},\n",
        "        'emus': {}\n",
        "    },\n",
        "    'plants': {},\n",
        "    'other': {}\n",
        "}\n",
        "\n",
        "cat_values = life['animals']['cats']\n",
        "print(cat_values)\n"
      ],
      "metadata": {
        "colab": {
          "base_uri": "https://localhost:8080/"
        },
        "id": "A2--jHUal4BS",
        "outputId": "fffd162a-6c5c-40ca-9539-293136ddac35"
      },
      "execution_count": 16,
      "outputs": [
        {
          "output_type": "stream",
          "name": "stdout",
          "text": [
            "['Henri', 'Grumpy', 'Lucy']\n"
          ]
        }
      ]
    }
  ]
}
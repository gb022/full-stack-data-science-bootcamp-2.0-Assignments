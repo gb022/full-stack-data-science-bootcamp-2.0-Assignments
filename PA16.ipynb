{
  "nbformat": 4,
  "nbformat_minor": 0,
  "metadata": {
    "colab": {
      "provenance": []
    },
    "kernelspec": {
      "name": "python3",
      "display_name": "Python 3"
    },
    "language_info": {
      "name": "python"
    }
  },
  "cells": [
    {
      "cell_type": "code",
      "source": [
        "# Question1. Write a function that stutters a word as if someone is struggling to read it. The\n",
        "'''first two letters are repeated twice with an ellipsis ... and space after each, and then the\n",
        "word is pronounced with a question mark ?.\n",
        "Examples\n",
        "stutter(\"incredible\") ➞ \"in... in... incredible\"\n",
        "stutter(\"enthusiastic\") ➞ \"en... en... enthusiastic\"\n",
        "stutter(\"outstanding\") ➞ \"ou... ou... outstanding\"\n",
        "\n",
        "Hint :- Assume all input is in lower case and at least two characters long.'''"
      ],
      "metadata": {
        "colab": {
          "base_uri": "https://localhost:8080/",
          "height": 70
        },
        "id": "UMV0mBr2DlMb",
        "outputId": "6620ca81-d73b-4afb-df45-6e7654c5d78a"
      },
      "execution_count": 1,
      "outputs": [
        {
          "output_type": "execute_result",
          "data": {
            "text/plain": [
              "'first two letters are repeated twice with an ellipsis ... and space after each, and then the\\nword is pronounced with a question mark ?.\\nExamples\\nstutter(\"incredible\") ➞ \"in... in... incredible\"\\nstutter(\"enthusiastic\") ➞ \"en... en... enthusiastic\"\\nstutter(\"outstanding\") ➞ \"ou... ou... outstanding\"\\n\\nHint :- Assume all input is in lower case and at least two characters long.'"
            ],
            "application/vnd.google.colaboratory.intrinsic+json": {
              "type": "string"
            }
          },
          "metadata": {},
          "execution_count": 1
        }
      ]
    },
    {
      "cell_type": "code",
      "source": [
        "# Here's a Python function that stutters a word as described:\n",
        "def stutter(word):\n",
        "    return word[:2] + \"... \" + word[:2] + \"... \" + word + \"?\"\n",
        "print(stutter(\"incredible\"))      # Output: \"in... in... incredible?\"\n",
        "print(stutter(\"enthusiastic\"))    # Output: \"en... en... enthusiastic?\"\n",
        "print(stutter(\"outstanding\"))     # Output: \"ou... ou... outstanding?\"\n"
      ],
      "metadata": {
        "id": "soR_KZYRzUsE"
      },
      "execution_count": null,
      "outputs": []
    },
    {
      "cell_type": "code",
      "source": [
        "# Question 2.\n",
        "'''Create a function that takes an angle in radians and returns the corresponding\n",
        "angle in degrees rounded to one decimal place.\n",
        "Examples\n",
        "radians_to_degrees(1) ➞ 57.3\n",
        "radians_to_degrees(20) ➞ 1145.9\n",
        "radians_to_degrees(50) ➞ 2864.8'''"
      ],
      "metadata": {
        "colab": {
          "base_uri": "https://localhost:8080/",
          "height": 53
        },
        "id": "e-_X5dqFzZLc",
        "outputId": "5dcc8cbd-fa6e-4694-eeb6-58ab67d1add6"
      },
      "execution_count": 4,
      "outputs": [
        {
          "output_type": "execute_result",
          "data": {
            "text/plain": [
              "'Create a function that takes an angle in radians and returns the corresponding\\nangle in degrees rounded to one decimal place.\\nExamples\\nradians_to_degrees(1) ➞ 57.3\\nradians_to_degrees(20) ➞ 1145.9\\nradians_to_degrees(50) ➞ 2864.8'"
            ],
            "application/vnd.google.colaboratory.intrinsic+json": {
              "type": "string"
            }
          },
          "metadata": {},
          "execution_count": 4
        }
      ]
    },
    {
      "cell_type": "code",
      "source": [
        "# To convert an angle in radians to degrees, we can use the following formula: Degrees = radians * (180 / π)\n",
        "# Here's a Python function that implements this conversion and rounds the result to one decimal place:\n",
        "import math\n",
        "\n",
        "def radians_to_degrees(radians):\n",
        "    degrees = radians * (180 / math.pi)\n",
        "    return round(degrees, 1)\n",
        "\n",
        "print(radians_to_degrees(1))    # Output: 57.3\n",
        "print(radians_to_degrees(20))   # Output: 1145.9\n",
        "print(radians_to_degrees(50))   # Output: 2864.8\n"
      ],
      "metadata": {
        "id": "XPsomLyozmhN"
      },
      "execution_count": null,
      "outputs": []
    },
    {
      "cell_type": "code",
      "source": [
        "# Question 3.\n",
        "'''In this challenge, establish if a given integer num is a Curzon number. If 1 plus\n",
        "2 elevated to num is exactly divisible by 1 plus 2 multiplied by num, then num is a Curzon\n",
        "number.\n",
        "Given a non-negative integer num, implement a function that returns True if num is a Curzon\n",
        "number, or False otherwise.\n",
        "Examples\n",
        "is_curzon(5) ➞ True\n",
        "# 2 ** 5 + 1 = 33\n",
        "# 2 * 5 + 1 = 11\n",
        "# 33 is a multiple of 11\n",
        "is_curzon(10) ➞ False\n",
        "# 2 ** 10 + 1 = 1025\n",
        "# 2 * 10 + 1 = 21\n",
        "# 1025 is not a multiple of 21\n",
        "is_curzon(14) ➞ True\n",
        "# 2 ** 14 + 1 = 16385\n",
        "# 2 * 14 + 1 = 29\n",
        "# 16385 is a multiple of 29'''"
      ],
      "metadata": {
        "colab": {
          "base_uri": "https://localhost:8080/",
          "height": 87
        },
        "id": "z-HJMSV-0BRU",
        "outputId": "6c3b6d01-652e-4284-afab-d26ca9fe02f6"
      },
      "execution_count": 6,
      "outputs": [
        {
          "output_type": "execute_result",
          "data": {
            "text/plain": [
              "'In this challenge, establish if a given integer num is a Curzon number. If 1 plus\\n2 elevated to num is exactly divisible by 1 plus 2 multiplied by num, then num is a Curzon\\nnumber.\\nGiven a non-negative integer num, implement a function that returns True if num is a Curzon\\nnumber, or False otherwise.\\nExamples\\nis_curzon(5) ➞ True\\n# 2 ** 5 + 1 = 33\\n# 2 * 5 + 1 = 11\\n# 33 is a multiple of 11\\nis_curzon(10) ➞ False\\n# 2 ** 10 + 1 = 1025\\n# 2 * 10 + 1 = 21\\n# 1025 is not a multiple of 21\\nis_curzon(14) ➞ True\\n# 2 ** 14 + 1 = 16385\\n# 2 * 14 + 1 = 29\\n# 16385 is a multiple of 29'"
            ],
            "application/vnd.google.colaboratory.intrinsic+json": {
              "type": "string"
            }
          },
          "metadata": {},
          "execution_count": 6
        }
      ]
    },
    {
      "cell_type": "code",
      "source": [
        "# To determine if a given integer num is a Curzon number, we need to check if 2 ** num + 1 is divisible by 2 * num + 1.\n",
        "'''If it is divisible, then num is a Curzon number.\n",
        "Here's a Python function that implements this logic:'''\n",
        "def is_curzon(num):\n",
        "    numerator = 2 ** num + 1\n",
        "    denominator = 2 * num + 1\n",
        "    return numerator % denominator == 0\n",
        "\n",
        "print(is_curzon(5))   # Output: True\n",
        "print(is_curzon(10))  # Output: False\n",
        "print(is_curzon(14))  # Output: True\n"
      ],
      "metadata": {
        "id": "jrXuSvT90NLp"
      },
      "execution_count": null,
      "outputs": []
    },
    {
      "cell_type": "code",
      "source": [
        "# Question 4. Given the side length x find the area of a hexagon.\n",
        "'''area_of_hexagon(1) ➞ 2.6\n",
        "   area_of_hexagon(2) ➞ 10.4\n",
        "   area_of_hexagon(3) ➞ 23.4'''"
      ],
      "metadata": {
        "id": "0S-FsocI0l7Z"
      },
      "execution_count": 8,
      "outputs": []
    },
    {
      "cell_type": "code",
      "source": [
        "'''To calculate the area of a hexagon, we can use the following formula:\n",
        "\n",
        "Area = (3 * sqrt(3) * x^2) / 2\n",
        "\n",
        "where x is the side length of the hexagon.\n",
        "\n",
        "Here's a Python function that calculates the area of a hexagon based on the side length:'''\n",
        "import math\n",
        "\n",
        "def area_of_hexagon(x):\n",
        "    area = (3 * math.sqrt(3) * x ** 2) / 2\n",
        "    return round(area, 1)\n",
        "\n",
        "print(area_of_hexagon(1))  # Output: 2.6\n",
        "print(area_of_hexagon(2))  # Output: 10.4\n",
        "print(area_of_hexagon(3))  # Output: 23.4\n"
      ],
      "metadata": {
        "id": "zXL3-R0Z0yE4"
      },
      "execution_count": null,
      "outputs": []
    },
    {
      "cell_type": "code",
      "source": [
        "# Question 5. Create a function that returns a base-2 (binary) representation of a base-10\n",
        "'''(decimal) string number. To convert is simple: ((2) means base-2 and (10) means base-10)\n",
        "010101001(2) = 1 + 8 + 32 + 128.\n",
        "Going from right to left, the value of the most right bit is 1, now from that every bit to the left\n",
        "will be x2 the value, value of an 8 bit binary numbers are (256, 128, 64, 32, 16, 8, 4, 2, 1).\n",
        "Examples\n",
        "binary(1) ➞ &quot;1&quot;\n",
        "# 1*1 = 1\n",
        "binary(5) ➞ &quot;101&quot;\n",
        "# 1*1 + 1*4 = 5\n",
        "binary(10) ➞ &quot;1010&quot;\n",
        "# 1*2 + 1*8 = 10'''"
      ],
      "metadata": {
        "colab": {
          "base_uri": "https://localhost:8080/",
          "height": 70
        },
        "id": "sMJP8d5x1hSg",
        "outputId": "243d6ac0-567d-4270-fa10-3a1bc095d3fd"
      },
      "execution_count": 10,
      "outputs": [
        {
          "output_type": "execute_result",
          "data": {
            "text/plain": [
              "'(decimal) string number. To convert is simple: ((2) means base-2 and (10) means base-10)\\n010101001(2) = 1 + 8 + 32 + 128.\\nGoing from right to left, the value of the most right bit is 1, now from that every bit to the left\\nwill be x2 the value, value of an 8 bit binary numbers are (256, 128, 64, 32, 16, 8, 4, 2, 1).\\nExamples\\nbinary(1) ➞ &quot;1&quot;\\n# 1*1 = 1\\nbinary(5) ➞ &quot;101&quot;\\n# 1*1 + 1*4 = 5\\nbinary(10) ➞ &quot;1010&quot;\\n# 1*2 + 1*8 = 10'"
            ],
            "application/vnd.google.colaboratory.intrinsic+json": {
              "type": "string"
            }
          },
          "metadata": {},
          "execution_count": 10
        }
      ]
    },
    {
      "cell_type": "code",
      "source": [
        "'''To convert a base-10 decimal string number to a base-2 binary representation, you can use the built-in bin() function in Python.\n",
        "However, the bin() function returns the binary representation prefixed with \"0b\". To remove the \"0b\" prefix and return the binary representation as a string,\n",
        "you can use string slicing.\n",
        "Here's a Python function that converts a base-10 decimal string number to a base-2 binary representation:'''\n",
        "def binary(decimal):\n",
        "    binary_str = bin(decimal)[2:]  # Convert to binary and remove the \"0b\" prefix\n",
        "    return binary_str\n",
        "\n",
        "print(binary(1))    # Output: \"1\"\n",
        "print(binary(5))    # Output: \"101\"\n",
        "print(binary(10))   # Output: \"1010\"\n"
      ],
      "metadata": {
        "id": "F6CjwJbe1pqX"
      },
      "execution_count": null,
      "outputs": []
    },
    {
      "cell_type": "code",
      "source": [],
      "metadata": {
        "id": "--tRTInO1-BV"
      },
      "execution_count": null,
      "outputs": []
    }
  ]
}
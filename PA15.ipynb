{
  "nbformat": 4,
  "nbformat_minor": 0,
  "metadata": {
    "colab": {
      "provenance": []
    },
    "kernelspec": {
      "name": "python3",
      "display_name": "Python 3"
    },
    "language_info": {
      "name": "python"
    }
  },
  "cells": [
    {
      "cell_type": "code",
      "source": [
        "# Question 1:\n",
        "'''Please write a program using generator to print the numbers which can be divisible by 5 and\n",
        "7 between 0 and n in comma separated form while n is input by console.\n",
        "Example:\n",
        "If the following n is given as input to the program:\n",
        "100\n",
        "Then, the output of the program should be:\n",
        "0,35,70'''"
      ],
      "metadata": {
        "colab": {
          "base_uri": "https://localhost:8080/",
          "height": 53
        },
        "id": "K_v-Sy4_AE9V",
        "outputId": "1067eef5-5c77-440e-9fb9-c7656ed63bb3"
      },
      "execution_count": 15,
      "outputs": [
        {
          "output_type": "execute_result",
          "data": {
            "text/plain": [
              "'Please write a program using generator to print the numbers which can be divisible by 5 and\\n7 between 0 and n in comma separated form while n is input by console.\\nExample:\\nIf the following n is given as input to the program:\\n100\\nThen, the output of the program should be:\\n0,35,70'"
            ],
            "application/vnd.google.colaboratory.intrinsic+json": {
              "type": "string"
            }
          },
          "metadata": {},
          "execution_count": 15
        }
      ]
    },
    {
      "cell_type": "code",
      "source": [
        "# Here's a Python program that uses a generator to print numbers divisible by both 5 and 7 between 0 and a given number, n:\n",
        "def divisible_by_5_and_7(n):\n",
        "    for i in range(n+1):\n",
        "        if i % 5 == 0 and i % 7 == 0:\n",
        "            yield i\n",
        "\n",
        "n = int(input(\"Enter a number: \"))\n",
        "numbers = divisible_by_5_and_7(n)\n",
        "output = \",\".join(str(num) for num in numbers)\n",
        "print(output)\n"
      ],
      "metadata": {
        "id": "ssPSfZ0KBNnM"
      },
      "execution_count": null,
      "outputs": []
    },
    {
      "cell_type": "code",
      "source": [
        "# Question 2:\n",
        "'''Please write a program using generator to print the even numbers between 0 and n in comma\n",
        "separated form while n is input by console.\n",
        "Example:\n",
        "If the following n is given as input to the program:\n",
        "10\n",
        "Then, the output of the program should be:\n",
        "0,2,4,6,8,10'''"
      ],
      "metadata": {
        "colab": {
          "base_uri": "https://localhost:8080/",
          "height": 53
        },
        "id": "eR7i__K4BY7E",
        "outputId": "70da310a-8249-450c-efa4-17764e993278"
      },
      "execution_count": 17,
      "outputs": [
        {
          "output_type": "execute_result",
          "data": {
            "text/plain": [
              "'Please write a program using generator to print the even numbers between 0 and n in comma\\nseparated form while n is input by console.\\nExample:\\nIf the following n is given as input to the program:\\n10\\nThen, the output of the program should be:\\n0,2,4,6,8,10'"
            ],
            "application/vnd.google.colaboratory.intrinsic+json": {
              "type": "string"
            }
          },
          "metadata": {},
          "execution_count": 17
        }
      ]
    },
    {
      "cell_type": "code",
      "source": [
        "#  Here's a Python program that utilizes a generator to print even numbers between 0 and a given number n in comma-separated form\n",
        "def even_numbers(n):\n",
        "    for i in range(n+1):\n",
        "        if i % 2 == 0:\n",
        "            yield i\n",
        "\n",
        "n = int(input(\"Enter a number: \"))\n",
        "numbers = even_numbers(n)\n",
        "output = \",\".join(str(num) for num in numbers)\n",
        "print(output)\n"
      ],
      "metadata": {
        "id": "VkWn3r_eBkTy"
      },
      "execution_count": null,
      "outputs": []
    },
    {
      "cell_type": "code",
      "source": [
        "# Question 3:\n",
        "'''The Fibonacci Sequence is computed based on the following formula:\n",
        "f(n)=0 if n=0\n",
        "f(n)=1 if n=1\n",
        "f(n)=f(n-1)+f(n-2) if n&gt;1\n",
        "Please write a program using list comprehension to print the Fibonacci Sequence in comma\n",
        "separated form with a given n input by console.\n",
        "Example:\n",
        "If the following n is given as input to the program:\n",
        "7\n",
        "\n",
        "Then, the output of the program should be:\n",
        "0,1,1,2,3,5,8,13'''"
      ],
      "metadata": {
        "colab": {
          "base_uri": "https://localhost:8080/",
          "height": 70
        },
        "id": "iIR9VbLjBtZf",
        "outputId": "ef6cf6cf-5d1b-4385-c63d-bc1eba3f4e10"
      },
      "execution_count": 19,
      "outputs": [
        {
          "output_type": "execute_result",
          "data": {
            "text/plain": [
              "'The Fibonacci Sequence is computed based on the following formula:\\nf(n)=0 if n=0\\nf(n)=1 if n=1\\nf(n)=f(n-1)+f(n-2) if n&gt;1\\nPlease write a program using list comprehension to print the Fibonacci Sequence in comma\\nseparated form with a given n input by console.\\nExample:\\nIf the following n is given as input to the program:\\n7\\n\\nThen, the output of the program should be:\\n0,1,1,2,3,5,8,13'"
            ],
            "application/vnd.google.colaboratory.intrinsic+json": {
              "type": "string"
            }
          },
          "metadata": {},
          "execution_count": 19
        }
      ]
    },
    {
      "cell_type": "code",
      "source": [
        "# Here's a Python program that utilizes list comprehension to print the Fibonacci Sequence in comma-separated form with a given input n:\n",
        "n = int(input(\"Enter a number: \"))\n",
        "\n",
        "fib_sequence = [0, 1]\n",
        "[fib_sequence.append(fib_sequence[-1] + fib_sequence[-2]) for _ in range(2, n+1)]\n",
        "\n",
        "output = \",\".join(str(num) for num in fib_sequence[:n+1])\n",
        "print(output)\n"
      ],
      "metadata": {
        "id": "gltsUfWuCGX_"
      },
      "execution_count": null,
      "outputs": []
    },
    {
      "cell_type": "code",
      "source": [
        "# Question 4:\n",
        "'''Assuming that we have some email addresses in the &quot;username@companyname.com&quot; format,\n",
        "please write program to print the user name of a given email address. Both user names and\n",
        "company names are composed of letters only.\n",
        "Example:\n",
        "If the following email address is given as input to the program:\n",
        "john@google.com\n",
        "Then, the output of the program should be:\n",
        "john'''"
      ],
      "metadata": {
        "id": "urMEyVqyCR-N"
      },
      "execution_count": null,
      "outputs": []
    },
    {
      "cell_type": "code",
      "source": [
        "# Here's a Python program that extracts the username from an email address in the \"username@companyname.com\" format:\n",
        "email = input(\"Enter an email address: \")\n",
        "\n",
        "username = email.split(\"@\")[0]\n",
        "print(username)\n"
      ],
      "metadata": {
        "id": "MRvrX_5YCja6"
      },
      "execution_count": null,
      "outputs": []
    },
    {
      "cell_type": "code",
      "source": [
        "# Question 5:\n",
        "'''Define a class named Shape and its subclass Square. The Square class has an init function\n",
        "which takes a length as argument. Both classes have a area function which can print the area\n",
        "of the shape where Shape&#39;s area is 0 by default.'''"
      ],
      "metadata": {
        "colab": {
          "base_uri": "https://localhost:8080/",
          "height": 53
        },
        "id": "4_UpUJwrCzVH",
        "outputId": "6d845e6d-5bcb-4120-d9c3-cbc86da80faa"
      },
      "execution_count": 24,
      "outputs": [
        {
          "output_type": "execute_result",
          "data": {
            "text/plain": [
              "'Define a class named Shape and its subclass Square. The Square class has an init function\\nwhich takes a length as argument. Both classes have a area function which can print the area\\nof the shape where Shape&#39;s area is 0 by default.'"
            ],
            "application/vnd.google.colaboratory.intrinsic+json": {
              "type": "string"
            }
          },
          "metadata": {},
          "execution_count": 24
        }
      ]
    },
    {
      "cell_type": "code",
      "source": [
        "# Here's an example implementation of the Shape and Square classes in Python:\n",
        "class Shape:\n",
        "    def __init__(self):\n",
        "        self.area = 0\n",
        "\n",
        "    def calculate_area(self):\n",
        "        print(\"Area of the shape:\", self.area)\n",
        "\n",
        "\n",
        "class Square(Shape):\n",
        "    def __init__(self, length):\n",
        "        super().__init__()\n",
        "        self.length = length\n",
        "\n",
        "    def calculate_area(self):\n",
        "        self.area = self.length ** 2\n",
        "        print(\"Area of the square:\", self.area)\n",
        "\n",
        "\n",
        "# Example usage\n",
        "shape = Shape()\n",
        "shape.calculate_area()  # Output: Area of the shape: 0\n",
        "\n",
        "square = Square(5)\n",
        "square.calculate_area()  # Output: Area of the square: 25\n"
      ],
      "metadata": {
        "id": "6hcuOKe5DI8x"
      },
      "execution_count": null,
      "outputs": []
    },
    {
      "cell_type": "code",
      "source": [],
      "metadata": {
        "id": "UMV0mBr2DlMb"
      },
      "execution_count": null,
      "outputs": []
    }
  ]
}
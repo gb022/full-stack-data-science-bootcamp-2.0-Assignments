{
  "nbformat": 4,
  "nbformat_minor": 0,
  "metadata": {
    "colab": {
      "provenance": []
    },
    "kernelspec": {
      "name": "python3",
      "display_name": "Python 3"
    },
    "language_info": {
      "name": "python"
    }
  },
  "cells": [
    {
      "cell_type": "code",
      "execution_count": 1,
      "metadata": {
        "id": "JZrBsZRoFgCS"
      },
      "outputs": [],
      "source": [
        "# 1. Write a Python program to find sum of elements in list?"
      ]
    },
    {
      "cell_type": "code",
      "source": [
        "# Here's a Python program that calculates the sum of elements in a list:\n",
        "def find_sum(lst):\n",
        "    \"\"\"\n",
        "    Calculates the sum of elements in a given list.\n",
        "\n",
        "    Args:\n",
        "        lst (list): A list of numeric elements.\n",
        "\n",
        "    Returns:\n",
        "        int or float: The sum of all elements in the list.\n",
        "    \"\"\"\n",
        "    return sum(lst)\n",
        "\n",
        "# Example usage:\n",
        "my_list = [1, 2, 3, 4, 5]\n",
        "result = find_sum(my_list)\n",
        "print(f\"The sum of the elements in the list is: {result}\")\n"
      ],
      "metadata": {
        "id": "G6V3Mr6rFyjY"
      },
      "execution_count": null,
      "outputs": []
    },
    {
      "cell_type": "code",
      "source": [
        "# 2. Write a Python program to Multiply all numbers in the list?"
      ],
      "metadata": {
        "id": "ng5wrh5OF73Q"
      },
      "execution_count": 3,
      "outputs": []
    },
    {
      "cell_type": "code",
      "source": [
        "# Here's a Python program that multiplies all the numbers in a list:\n",
        "def multiply_numbers(lst):\n",
        "    \"\"\"\n",
        "    Multiplies all the numbers in a given list.\n",
        "\n",
        "    Args:\n",
        "        lst (list): A list of numeric elements.\n",
        "\n",
        "    Returns:\n",
        "        int or float: The product of all numbers in the list.\n",
        "    \"\"\"\n",
        "    result = 1\n",
        "    for num in lst:\n",
        "        result *= num\n",
        "    return result\n",
        "\n",
        "# Example usage:\n",
        "my_list = [1, 2, 3, 4, 5]\n",
        "result = multiply_numbers(my_list)\n",
        "print(f\"The product of the numbers in the list is: {result}\")\n"
      ],
      "metadata": {
        "id": "Jog4gUfsGCGL"
      },
      "execution_count": null,
      "outputs": []
    },
    {
      "cell_type": "code",
      "source": [
        "# 3. Write a Python program to find smallest number in a list?"
      ],
      "metadata": {
        "id": "hQb-TP6zGG4m"
      },
      "execution_count": 5,
      "outputs": []
    },
    {
      "cell_type": "code",
      "source": [
        "#  Here's a Python program that finds the smallest number in a list:\n",
        "def find_smallest(lst):\n",
        "    \"\"\"\n",
        "    Finds the smallest number in a given list.\n",
        "\n",
        "    Args:\n",
        "        lst (list): A list of numeric elements.\n",
        "\n",
        "    Returns:\n",
        "        int or float: The smallest number in the list.\n",
        "    \"\"\"\n",
        "    return min(lst)\n",
        "\n",
        "# Example usage:\n",
        "my_list = [5, 2, 9, 1, 7]\n",
        "result = find_smallest(my_list)\n",
        "print(f\"The smallest number in the list is: {result}\")\n"
      ],
      "metadata": {
        "id": "ocEuMQb8GKU-"
      },
      "execution_count": null,
      "outputs": []
    },
    {
      "cell_type": "code",
      "source": [
        "# 4. Write a Python program to find largest number in a list?"
      ],
      "metadata": {
        "id": "HAUYIorbGQUH"
      },
      "execution_count": 8,
      "outputs": []
    },
    {
      "cell_type": "code",
      "source": [
        "# Here's a Python program that finds the largest number in a list:\n",
        "def find_largest(lst):\n",
        "    \"\"\"\n",
        "    Finds the largest number in a given list.\n",
        "\n",
        "    Args:\n",
        "        lst (list): A list of numeric elements.\n",
        "\n",
        "    Returns:\n",
        "        int or float: The largest number in the list.\n",
        "    \"\"\"\n",
        "    return max(lst)\n",
        "\n",
        "# Example usage:\n",
        "my_list = [5, 2, 9, 1, 7]\n",
        "result = find_largest(my_list)\n",
        "print(f\"The largest number in the list is: {result}\")\n"
      ],
      "metadata": {
        "id": "ly3KrA5xGVXK"
      },
      "execution_count": null,
      "outputs": []
    },
    {
      "cell_type": "code",
      "source": [
        "# 5. Write a Python program to find second largest number in a list?"
      ],
      "metadata": {
        "id": "Dhnu_PRQGacZ"
      },
      "execution_count": null,
      "outputs": []
    },
    {
      "cell_type": "code",
      "source": [
        "#  Here's a Python program that finds the second largest number in a list:\n",
        "def find_second_largest(lst):\n",
        "    \"\"\"\n",
        "    Finds the second largest number in a given list.\n",
        "\n",
        "    Args:\n",
        "        lst (list): A list of numeric elements.\n",
        "\n",
        "    Returns:\n",
        "        int or float: The second largest number in the list.\n",
        "    \"\"\"\n",
        "    max_num = max(lst)\n",
        "    lst.remove(max_num)\n",
        "    second_max = max(lst)\n",
        "    return second_max\n",
        "\n",
        "# Example usage:\n",
        "my_list = [5, 2, 9, 1, 7]\n",
        "result = find_second_largest(my_list)\n",
        "print(f\"The second largest number in the list is: {result}\")\n"
      ],
      "metadata": {
        "id": "mFKFtU0HGf0d"
      },
      "execution_count": null,
      "outputs": []
    },
    {
      "cell_type": "code",
      "source": [
        "# 6. Write a Python program to find N largest elements from a list?"
      ],
      "metadata": {
        "id": "lGB8g747G1ic"
      },
      "execution_count": 10,
      "outputs": []
    },
    {
      "cell_type": "code",
      "source": [
        "# Here's a Python program that finds the N largest elements from a list:\n",
        "def find_n_largest(lst, n):\n",
        "    \"\"\"\n",
        "    Finds the N largest elements from a given list.\n",
        "\n",
        "    Args:\n",
        "        lst (list): A list of numeric elements.\n",
        "        n (int): The number of largest elements to find.\n",
        "\n",
        "    Returns:\n",
        "        list: A list of the N largest elements in descending order.\n",
        "    \"\"\"\n",
        "    largest_elements = sorted(lst, reverse=True)[:n]\n",
        "    return largest_elements\n",
        "\n",
        "# Example usage:\n",
        "my_list = [5, 2, 9, 1, 7, 4, 8]\n",
        "n = 3\n",
        "result = find_n_largest(my_list, n)\n",
        "print(f\"The {n} largest elements in the list are: {result}\")\n"
      ],
      "metadata": {
        "id": "nq3-IWrzG8fJ"
      },
      "execution_count": null,
      "outputs": []
    },
    {
      "cell_type": "code",
      "source": [
        "# 7. Write a Python program to print even numbers in a list?"
      ],
      "metadata": {
        "id": "mJtaq_pQHKFY"
      },
      "execution_count": 12,
      "outputs": []
    },
    {
      "cell_type": "code",
      "source": [
        "# Here's a Python program that prints the even numbers from a list:\n",
        "def print_even_numbers(lst):\n",
        "    \"\"\"\n",
        "    Prints the even numbers from a given list.\n",
        "\n",
        "    Args:\n",
        "        lst (list): A list of numeric elements.\n",
        "\n",
        "    Returns:\n",
        "        None\n",
        "    \"\"\"\n",
        "    even_numbers = [num for num in lst if num % 2 == 0]\n",
        "    for number in even_numbers:\n",
        "        print(number)\n",
        "\n",
        "# Example usage:\n",
        "my_list = [1, 2, 3, 4, 5, 6, 7, 8, 9, 10]\n",
        "print(\"Even numbers in the list:\")\n",
        "print_even_numbers(my_list)\n"
      ],
      "metadata": {
        "id": "FYSBq32oHPoI"
      },
      "execution_count": null,
      "outputs": []
    },
    {
      "cell_type": "code",
      "source": [
        "# 8. Write a Python program to print odd numbers in a List?"
      ],
      "metadata": {
        "id": "joV3uD7OHTx0"
      },
      "execution_count": 14,
      "outputs": []
    },
    {
      "cell_type": "code",
      "source": [
        "#  Here's a Python program that prints the odd numbers from a list:\n",
        "def print_odd_numbers(lst):\n",
        "    \"\"\"\n",
        "    Prints the odd numbers from a given list.\n",
        "\n",
        "    Args:\n",
        "        lst (list): A list of numeric elements.\n",
        "\n",
        "    Returns:\n",
        "        None\n",
        "    \"\"\"\n",
        "    odd_numbers = [num for num in lst if num % 2 != 0]\n",
        "    for number in odd_numbers:\n",
        "        print(number)\n",
        "\n",
        "# Example usage:\n",
        "my_list = [1, 2, 3, 4, 5, 6, 7, 8, 9, 10]\n",
        "print(\"Odd numbers in the list:\")\n",
        "print_odd_numbers(my_list)\n"
      ],
      "metadata": {
        "id": "8JYahrluHYZA"
      },
      "execution_count": null,
      "outputs": []
    },
    {
      "cell_type": "code",
      "source": [
        "# 9. Write a Python program to Remove empty List from List?"
      ],
      "metadata": {
        "id": "KXzLcwXFHc1J"
      },
      "execution_count": 16,
      "outputs": []
    },
    {
      "cell_type": "code",
      "source": [
        "# Here's a Python program that removes empty lists from a list:\n",
        "def remove_empty_lists(lst):\n",
        "    \"\"\"\n",
        "    Removes empty lists from a given list.\n",
        "\n",
        "    Args:\n",
        "        lst (list): A list containing elements, including potential empty lists.\n",
        "\n",
        "    Returns:\n",
        "        list: The modified list with empty lists removed.\n",
        "    \"\"\"\n",
        "    return [sublist for sublist in lst if sublist]\n",
        "\n",
        "# Example usage:\n",
        "my_list = [1, [], [3, 4], [], 5, [], [6, 7, 8], []]\n",
        "result = remove_empty_lists(my_list)\n",
        "print(f\"The list with empty lists removed: {result}\")\n"
      ],
      "metadata": {
        "id": "asFTQgpTHmKK"
      },
      "execution_count": null,
      "outputs": []
    },
    {
      "cell_type": "code",
      "source": [
        "# 10. Write a Python program to Cloning or Copying a list?"
      ],
      "metadata": {
        "id": "JC1lG1bdHqrU"
      },
      "execution_count": 18,
      "outputs": []
    },
    {
      "cell_type": "code",
      "source": [
        "# Here's a Python program that clones or copies a list:\n",
        "def clone_list(lst):\n",
        "    \"\"\"\n",
        "    Clones or copies a given list.\n",
        "\n",
        "    Args:\n",
        "        lst (list): A list to be cloned.\n",
        "\n",
        "    Returns:\n",
        "        list: The cloned list.\n",
        "    \"\"\"\n",
        "    return lst.copy()\n",
        "\n",
        "# Example usage:\n",
        "my_list = [1, 2, 3, 4, 5]\n",
        "cloned_list = clone_list(my_list)\n",
        "print(f\"Original list: {my_list}\")\n",
        "print(f\"Cloned list: {cloned_list}\")\n"
      ],
      "metadata": {
        "id": "csIU9QPKHuYG"
      },
      "execution_count": null,
      "outputs": []
    },
    {
      "cell_type": "code",
      "source": [
        "# 11. Write a Python program to Count occurrences of an element in a list?"
      ],
      "metadata": {
        "id": "Xfj-_szVHzwj"
      },
      "execution_count": 20,
      "outputs": []
    },
    {
      "cell_type": "code",
      "source": [
        "# Here's a Python program that counts the occurrences of an element in a list:\n",
        "def count_occurrences(lst, element):\n",
        "    \"\"\"\n",
        "    Counts the occurrences of an element in a given list.\n",
        "\n",
        "    Args:\n",
        "        lst (list): A list of elements.\n",
        "        element: The element to count occurrences of.\n",
        "\n",
        "    Returns:\n",
        "        int: The number of occurrences of the element in the list.\n",
        "    \"\"\"\n",
        "    return lst.count(element)\n",
        "\n",
        "# Example usage:\n",
        "my_list = [1, 2, 3, 4, 1, 2, 1, 1, 5]\n",
        "element_to_count = 1\n",
        "occurrences = count_occurrences(my_list, element_to_count)\n",
        "print(f\"The element {element_to_count} occurs {occurrences} time(s) in the list.\")\n"
      ],
      "metadata": {
        "id": "St6xLj4mH7VZ"
      },
      "execution_count": null,
      "outputs": []
    },
    {
      "cell_type": "code",
      "source": [],
      "metadata": {
        "id": "krqCizyyH_kz"
      },
      "execution_count": null,
      "outputs": []
    }
  ]
}
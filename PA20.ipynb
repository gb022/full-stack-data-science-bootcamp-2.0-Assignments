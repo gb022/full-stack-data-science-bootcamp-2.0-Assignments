{
  "nbformat": 4,
  "nbformat_minor": 0,
  "metadata": {
    "colab": {
      "provenance": []
    },
    "kernelspec": {
      "name": "python3",
      "display_name": "Python 3"
    },
    "language_info": {
      "name": "python"
    }
  },
  "cells": [
    {
      "cell_type": "code",
      "source": [
        "# Question1\n",
        "'''Create a function that takes a list of strings and integers, and filters out the list so that it\n",
        "returns a list of integers only.\n",
        "Examples\n",
        "filter_list([1, 2, 3, &quot;a&quot;, &quot;b&quot;, 4]) ➞ [1, 2, 3, 4]\n",
        "filter_list([&quot;A&quot;, 0, &quot;Edabit&quot;, 1729, &quot;Python&quot;, &quot;1729&quot;]) ➞ [0, 1729]\n",
        "filter_list([&quot;Nothing&quot;, &quot;here&quot;]) ➞ []'''"
      ],
      "metadata": {
        "colab": {
          "base_uri": "https://localhost:8080/",
          "height": 70
        },
        "id": "KlWA7Bi7A01U",
        "outputId": "b27dbe98-20d7-4ec1-f23f-805a28aceda7"
      },
      "execution_count": 43,
      "outputs": [
        {
          "output_type": "execute_result",
          "data": {
            "text/plain": [
              "'Create a function that takes a list of strings and integers, and filters out the list so that it\\nreturns a list of integers only.\\nExamples\\nfilter_list([1, 2, 3, &quot;a&quot;, &quot;b&quot;, 4]) ➞ [1, 2, 3, 4]\\nfilter_list([&quot;A&quot;, 0, &quot;Edabit&quot;, 1729, &quot;Python&quot;, &quot;1729&quot;]) ➞ [0, 1729]\\nfilter_list([&quot;Nothing&quot;, &quot;here&quot;]) ➞ []'"
            ],
            "application/vnd.google.colaboratory.intrinsic+json": {
              "type": "string"
            }
          },
          "metadata": {},
          "execution_count": 43
        }
      ]
    },
    {
      "cell_type": "code",
      "source": [
        "'''we can create a function called filter_list that takes a list as input and returns a new list containing only the integers from\n",
        "the original list. Here's an example implementation in Python'''\n",
        "def filter_list(lst):\n",
        "    return [x for x in lst if isinstance(x, int)]\n",
        "print(filter_list([1, 2, 3, \"a\", \"b\", 4]))\n",
        "# Output: [1, 2, 3, 4]\n",
        "\n",
        "print(filter_list([\"A\", 0, \"Edabit\", 1729, \"Python\", \"1729\"]))\n",
        "# Output: [0, 1729]\n",
        "\n",
        "print(filter_list([\"Nothing\", \"here\"]))\n",
        "# Output: []\n",
        "\n"
      ],
      "metadata": {
        "colab": {
          "base_uri": "https://localhost:8080/"
        },
        "id": "h1OqQhuwBAV1",
        "outputId": "0d1866b8-e737-4c31-c78f-ddfa805fb077"
      },
      "execution_count": 44,
      "outputs": [
        {
          "output_type": "stream",
          "name": "stdout",
          "text": [
            "[1, 2, 3, 4]\n",
            "[0, 1729]\n",
            "[]\n"
          ]
        }
      ]
    },
    {
      "cell_type": "code",
      "source": [
        "# Question2\n",
        "'''Given a list of numbers, create a function which returns the list but with each element&#39;s\n",
        "index in the list added to itself. This means you add 0 to the number at index 0, add 1 to the\n",
        "number at index 1, etc...\n",
        "Examples\n",
        "add_indexes([0, 0, 0, 0, 0]) ➞ [0, 1, 2, 3, 4]\n",
        "add_indexes([1, 2, 3, 4, 5]) ➞ [1, 3, 5, 7, 9]\n",
        "add_indexes([5, 4, 3, 2, 1]) ➞ [5, 5, 5, 5, 5]'''"
      ],
      "metadata": {
        "colab": {
          "base_uri": "https://localhost:8080/",
          "height": 70
        },
        "id": "KuBRDWTRBaro",
        "outputId": "7381aa49-a747-485c-b257-e9a0198113b3"
      },
      "execution_count": 45,
      "outputs": [
        {
          "output_type": "execute_result",
          "data": {
            "text/plain": [
              "'Given a list of numbers, create a function which returns the list but with each element&#39;s\\nindex in the list added to itself. This means you add 0 to the number at index 0, add 1 to the\\nnumber at index 1, etc...\\nExamples\\nadd_indexes([0, 0, 0, 0, 0]) ➞ [0, 1, 2, 3, 4]\\nadd_indexes([1, 2, 3, 4, 5]) ➞ [1, 3, 5, 7, 9]\\nadd_indexes([5, 4, 3, 2, 1]) ➞ [5, 5, 5, 5, 5]'"
            ],
            "application/vnd.google.colaboratory.intrinsic+json": {
              "type": "string"
            }
          },
          "metadata": {},
          "execution_count": 45
        }
      ]
    },
    {
      "cell_type": "code",
      "source": [
        "#  here is the Python code for the add_indexes function:\n",
        "def add_indexes(list_of_numbers):\n",
        "  \"\"\"\n",
        "  Returns a list with each element's index in the list added to itself.\n",
        "\n",
        "  Args:\n",
        "    list_of_numbers: A list of numbers.\n",
        "\n",
        "  Returns:\n",
        "    A list with each element's index in the list added to itself.\n",
        "  \"\"\"\n",
        "\n",
        "  new_list = []\n",
        "  for index, number in enumerate(list_of_numbers):\n",
        "    new_list.append(index + number)\n",
        "  return new_list\n",
        "\n",
        "\n",
        "if __name__ == \"__main__\":\n",
        "  print(add_indexes([0, 0, 0, 0, 0]))\n",
        "  print(add_indexes([1, 2, 3, 4, 5]))\n",
        "  print(add_indexes([5, 4, 3, 2, 1]))\n"
      ],
      "metadata": {
        "colab": {
          "base_uri": "https://localhost:8080/"
        },
        "id": "vGorDVFdBgZX",
        "outputId": "2fccc174-9147-4f15-ec7e-8d2a7eb65dc1"
      },
      "execution_count": 46,
      "outputs": [
        {
          "output_type": "stream",
          "name": "stdout",
          "text": [
            "[0, 1, 2, 3, 4]\n",
            "[1, 3, 5, 7, 9]\n",
            "[5, 5, 5, 5, 5]\n"
          ]
        }
      ]
    },
    {
      "cell_type": "code",
      "source": [
        "# Question3\n",
        "'''Create a function that takes the height and radius of a cone as arguments and returns the\n",
        "volume of the cone rounded to the nearest hundredth. See the resources tab for the formula.\n",
        "\n",
        "Examples\n",
        "cone_volume(3, 2) ➞ 12.57\n",
        "\n",
        "cone_volume(15, 6) ➞ 565.49\n",
        "cone_volume(18, 0) ➞ 0'''"
      ],
      "metadata": {
        "colab": {
          "base_uri": "https://localhost:8080/",
          "height": 53
        },
        "id": "v5HRec_XU04l",
        "outputId": "8884d507-6b13-4355-d12e-23f18ab66c52"
      },
      "execution_count": 47,
      "outputs": [
        {
          "output_type": "execute_result",
          "data": {
            "text/plain": [
              "'Create a function that takes the height and radius of a cone as arguments and returns the\\nvolume of the cone rounded to the nearest hundredth. See the resources tab for the formula.\\n\\nExamples\\ncone_volume(3, 2) ➞ 12.57\\n\\ncone_volume(15, 6) ➞ 565.49\\ncone_volume(18, 0) ➞ 0'"
            ],
            "application/vnd.google.colaboratory.intrinsic+json": {
              "type": "string"
            }
          },
          "metadata": {},
          "execution_count": 47
        }
      ]
    },
    {
      "cell_type": "code",
      "source": [
        "import math\n",
        "\n",
        "\n",
        "def cone_volume(height, radius):\n",
        "  \"\"\"\n",
        "  Returns the volume of a cone.\n",
        "\n",
        "  Args:\n",
        "    height: The height of the cone.\n",
        "    radius: The radius of the cone.\n",
        "\n",
        "  Returns:\n",
        "    The volume of the cone, rounded to the nearest hundredth.\n",
        "  \"\"\"\n",
        "\n",
        "  volume = (1.0 / 3) * math.pi * radius ** 2 * height\n",
        "  return round(volume, 2)\n",
        "\n",
        "\n",
        "if __name__ == \"__main__\":\n",
        "  print(cone_volume(3, 2))\n",
        "  print(cone_volume(15, 6))\n",
        "  print(cone_volume(18, 0))\n"
      ],
      "metadata": {
        "colab": {
          "base_uri": "https://localhost:8080/"
        },
        "id": "vouHF9IlVBXU",
        "outputId": "3aed4393-cf41-405d-e715-622e0cbf029d"
      },
      "execution_count": 48,
      "outputs": [
        {
          "output_type": "stream",
          "name": "stdout",
          "text": [
            "12.57\n",
            "565.49\n",
            "0.0\n"
          ]
        }
      ]
    },
    {
      "cell_type": "code",
      "source": [
        "# Question4\n",
        "'''This Triangular Number Sequence is generated from a pattern of dots that form a triangle.\n",
        "The first 5 numbers of the sequence, or dots, are:\n",
        "1, 3, 6, 10, 15\n",
        "This means that the first triangle has just one dot, the second one has three dots, the third one\n",
        "has 6 dots and so on.\n",
        "Write a function that gives the number of dots with its corresponding triangle number of the\n",
        "sequence.\n",
        "Examples\n",
        "triangle(1) ➞ 1\n",
        "triangle(6) ➞ 21\n",
        "triangle(215) ➞ 23220'''"
      ],
      "metadata": {
        "colab": {
          "base_uri": "https://localhost:8080/",
          "height": 70
        },
        "id": "y66zgbUxVZwN",
        "outputId": "edaf4a6f-f9a5-4fe2-8ba5-e41646607fba"
      },
      "execution_count": 49,
      "outputs": [
        {
          "output_type": "execute_result",
          "data": {
            "text/plain": [
              "'This Triangular Number Sequence is generated from a pattern of dots that form a triangle.\\nThe first 5 numbers of the sequence, or dots, are:\\n1, 3, 6, 10, 15\\nThis means that the first triangle has just one dot, the second one has three dots, the third one\\nhas 6 dots and so on.\\nWrite a function that gives the number of dots with its corresponding triangle number of the\\nsequence.\\nExamples\\ntriangle(1) ➞ 1\\ntriangle(6) ➞ 21\\ntriangle(215) ➞ 23220'"
            ],
            "application/vnd.google.colaboratory.intrinsic+json": {
              "type": "string"
            }
          },
          "metadata": {},
          "execution_count": 49
        }
      ]
    },
    {
      "cell_type": "code",
      "source": [
        "def triangle(n):\n",
        "  \"\"\"\n",
        "  Returns the nth triangular number.\n",
        "\n",
        "  Args:\n",
        "    n: The nth triangular number.\n",
        "\n",
        "  Returns:\n",
        "    The nth triangular number.\n",
        "  \"\"\"\n",
        "\n",
        "  if n == 0:\n",
        "    return 0\n",
        "  else:\n",
        "    return n + triangle(n - 1)\n",
        "\n",
        "\n",
        "if __name__ == \"__main__\":\n",
        "  print(triangle(1))\n",
        "  print(triangle(6))\n",
        "  print(triangle(215))\n",
        "\n"
      ],
      "metadata": {
        "colab": {
          "base_uri": "https://localhost:8080/"
        },
        "id": "7jS-2f7MVlxV",
        "outputId": "f35e8a19-58c4-41b0-ba95-5c14ab246b4b"
      },
      "execution_count": 50,
      "outputs": [
        {
          "output_type": "stream",
          "name": "stdout",
          "text": [
            "1\n",
            "21\n",
            "23220\n"
          ]
        }
      ]
    },
    {
      "cell_type": "code",
      "source": [
        "# Question5\n",
        "'''Create a function that takes a list of numbers between 1 and 10 (excluding one number) and\n",
        "returns the missing number.\n",
        "Examples\n",
        "missing_num([1, 2, 3, 4, 6, 7, 8, 9, 10]) ➞ 5\n",
        "missing_num([7, 2, 3, 6, 5, 9, 1, 4, 8]) ➞ 10\n",
        "missing_num([10, 5, 1, 2, 4, 6, 8, 3, 9]) ➞ 7'''"
      ],
      "metadata": {
        "colab": {
          "base_uri": "https://localhost:8080/",
          "height": 53
        },
        "id": "8t8JF0idV_UA",
        "outputId": "a3969814-cd96-4315-dcbc-8f1ab083848e"
      },
      "execution_count": 52,
      "outputs": [
        {
          "output_type": "execute_result",
          "data": {
            "text/plain": [
              "'Create a function that takes a list of numbers between 1 and 10 (excluding one number) and\\nreturns the missing number.\\nExamples\\nmissing_num([1, 2, 3, 4, 6, 7, 8, 9, 10]) ➞ 5\\nmissing_num([7, 2, 3, 6, 5, 9, 1, 4, 8]) ➞ 10\\nmissing_num([10, 5, 1, 2, 4, 6, 8, 3, 9]) ➞ 7'"
            ],
            "application/vnd.google.colaboratory.intrinsic+json": {
              "type": "string"
            }
          },
          "metadata": {},
          "execution_count": 52
        }
      ]
    },
    {
      "cell_type": "code",
      "source": [
        "# here is the Python code for the missing_num function:\n",
        "def missing_num(list_of_numbers):\n",
        "  \"\"\"\n",
        "  Returns the missing number from a list of numbers between 1 and 10.\n",
        "\n",
        "  Args:\n",
        "    list_of_numbers: A list of numbers between 1 and 10.\n",
        "\n",
        "  Returns:\n",
        "    The missing number.\n",
        "  \"\"\"\n",
        "\n",
        "  expected_sum = 1 + 2 + 3 + 4 + 5 + 6 + 7 + 8 + 9 + 10\n",
        "  actual_sum = sum(list_of_numbers)\n",
        "  missing_num = expected_sum - actual_sum\n",
        "  return missing_num\n",
        "\n",
        "\n",
        "if __name__ == \"__main__\":\n",
        "  print(missing_num([1, 2, 3, 4, 6, 7, 8, 9, 10]))\n",
        "  print(missing_num([7, 2, 3, 6, 5, 9, 1, 4, 8]))\n",
        "  print(missing_num([10, 5, 1, 2, 4, 6, 8, 3, 9]))\n"
      ],
      "metadata": {
        "colab": {
          "base_uri": "https://localhost:8080/"
        },
        "id": "CeGmNh34Wb4D",
        "outputId": "ead3bfa4-4de5-421d-bdc5-ebed447629b7"
      },
      "execution_count": 53,
      "outputs": [
        {
          "output_type": "stream",
          "name": "stdout",
          "text": [
            "5\n",
            "10\n",
            "7\n"
          ]
        }
      ]
    },
    {
      "cell_type": "code",
      "source": [],
      "metadata": {
        "id": "D_lpwCXSW8LZ"
      },
      "execution_count": null,
      "outputs": []
    }
  ]
}
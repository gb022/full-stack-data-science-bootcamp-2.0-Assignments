{
  "nbformat": 4,
  "nbformat_minor": 0,
  "metadata": {
    "colab": {
      "provenance": []
    },
    "kernelspec": {
      "name": "python3",
      "display_name": "Python 3"
    },
    "language_info": {
      "name": "python"
    }
  },
  "cells": [
    {
      "cell_type": "code",
      "execution_count": null,
      "metadata": {
        "id": "Hm5P5qw3Lef-"
      },
      "outputs": [],
      "source": [
        "# 1. Write a Python program to Extract Unique values dictionary values?"
      ]
    },
    {
      "cell_type": "code",
      "source": [
        "# Here's a Python program that extracts unique values from a dictionary:\n",
        "def extract_unique_values(dictionary):\n",
        "    unique_values = set()\n",
        "\n",
        "    for values in dictionary.values():\n",
        "        if isinstance(values, list):\n",
        "            unique_values.update(values)\n",
        "        else:\n",
        "            unique_values.add(values)\n",
        "\n",
        "    return unique_values\n",
        "\n",
        "# Example usage:\n",
        "my_dict = {\n",
        "    'key1': [1, 2, 3],\n",
        "    'key2': 2,\n",
        "    'key3': [3, 4, 5],\n",
        "    'key4': 4\n",
        "}\n",
        "\n",
        "unique_values = extract_unique_values(my_dict)\n",
        "print(unique_values)\n"
      ],
      "metadata": {
        "id": "ZI55A5TyLo69"
      },
      "execution_count": null,
      "outputs": []
    },
    {
      "cell_type": "code",
      "source": [
        "# 2. Write a Python program to find the sum of all items in a dictionary?"
      ],
      "metadata": {
        "id": "J4Sz7urILzm4"
      },
      "execution_count": 2,
      "outputs": []
    },
    {
      "cell_type": "code",
      "source": [
        "# Here's a Python program that finds the sum of all items in a dictionary:\n",
        "def sum_of_dictionary_items(dictionary):\n",
        "    total_sum = 0\n",
        "\n",
        "    for value in dictionary.values():\n",
        "        if isinstance(value, (int, float)):\n",
        "            total_sum += value\n",
        "\n",
        "    return total_sum\n",
        "\n",
        "# Example usage:\n",
        "my_dict = {\n",
        "    'key1': 10,\n",
        "    'key2': 5,\n",
        "    'key3': 3.14,\n",
        "    'key4': 7\n",
        "}\n",
        "\n",
        "sum_of_items = sum_of_dictionary_items(my_dict)\n",
        "print(sum_of_items)\n"
      ],
      "metadata": {
        "id": "8A-n6itSMJ8u"
      },
      "execution_count": null,
      "outputs": []
    },
    {
      "cell_type": "code",
      "source": [
        "# 3. Write a Python program to Merging two Dictionaries?"
      ],
      "metadata": {
        "id": "wEhrqa4ZMTMR"
      },
      "execution_count": 4,
      "outputs": []
    },
    {
      "cell_type": "code",
      "source": [
        "# Here's a Python program that merges two dictionaries:\n",
        "def merge_dictionaries(dict1, dict2):\n",
        "    merged_dict = dict1.copy()\n",
        "    merged_dict.update(dict2)\n",
        "    return merged_dict\n",
        "\n",
        "# Example usage:\n",
        "dict1 = {'a': 1, 'b': 2}\n",
        "dict2 = {'c': 3, 'd': 4}\n",
        "\n",
        "merged_dict = merge_dictionaries(dict1, dict2)\n",
        "print(merged_dict)\n"
      ],
      "metadata": {
        "id": "N7CZTQrpMhtm"
      },
      "execution_count": null,
      "outputs": []
    },
    {
      "cell_type": "code",
      "source": [
        "# 4. Write a Python program to convert key-values list to flat dictionary?"
      ],
      "metadata": {
        "id": "WoqUezbaMmXn"
      },
      "execution_count": 6,
      "outputs": []
    },
    {
      "cell_type": "code",
      "source": [
        "# here's a Python program that converts a list of key-value pairs to a flat dictionary:\n",
        "def convert_to_flat_dictionary(key_value_list):\n",
        "    flat_dict = {}\n",
        "\n",
        "    for pair in key_value_list:\n",
        "        if len(pair) == 2:\n",
        "            key, value = pair\n",
        "            flat_dict[key] = value\n",
        "\n",
        "    return flat_dict\n",
        "\n",
        "# Example usage:\n",
        "key_value_list = [('a', 1), ('b', 2), ('c', 3), ('d', 4)]\n",
        "\n",
        "flat_dictionary = convert_to_flat_dictionary(key_value_list)\n",
        "print(flat_dictionary)\n"
      ],
      "metadata": {
        "id": "65aDxO8wMvOn"
      },
      "execution_count": null,
      "outputs": []
    },
    {
      "cell_type": "code",
      "source": [
        "# 5. Write a Python program to insertion at the beginning in OrderedDict?"
      ],
      "metadata": {
        "id": "9__X2MNQM5ML"
      },
      "execution_count": 8,
      "outputs": []
    },
    {
      "cell_type": "code",
      "source": [
        "'''To insert an item at the beginning of an OrderedDict in Python, we can use the move_to_end() method in combination\n",
        "with the insert() method. Here's a Python program that demonstrates this:'''\n",
        "from collections import OrderedDict\n",
        "\n",
        "def insert_at_beginning(od, key, value):\n",
        "    od[key] = value\n",
        "    od.move_to_end(key, last=False)\n",
        "\n",
        "# Example usage:\n",
        "od = OrderedDict([('a', 1), ('b', 2), ('c', 3)])\n",
        "\n",
        "print(\"Original OrderedDict:\")\n",
        "print(od)\n",
        "\n",
        "insert_at_beginning(od, 'x', 99)\n",
        "\n",
        "print(\"OrderedDict after insertion:\")\n",
        "print(od)\n"
      ],
      "metadata": {
        "id": "nmjWK_lUNAwg"
      },
      "execution_count": null,
      "outputs": []
    },
    {
      "cell_type": "code",
      "source": [
        "# 6. Write a Python program to check order of character in string using OrderedDict()?"
      ],
      "metadata": {
        "id": "sRSFrCjnNXYe"
      },
      "execution_count": 10,
      "outputs": []
    },
    {
      "cell_type": "code",
      "source": [
        "# Here's a Python program that demonstrates this:\n",
        "from collections import OrderedDict\n",
        "\n",
        "def check_order_of_characters(string):\n",
        "    od = OrderedDict()\n",
        "    for char in string:\n",
        "        if char not in od:\n",
        "            od[char] = None\n",
        "\n",
        "    ordered_chars = ''.join(od.keys())\n",
        "    return ordered_chars == string\n",
        "\n",
        "# Example usage:\n",
        "input_string = \"hello\"\n",
        "result = check_order_of_characters(input_string)\n",
        "print(result)\n"
      ],
      "metadata": {
        "id": "-T7oakMfNnIW"
      },
      "execution_count": null,
      "outputs": []
    },
    {
      "cell_type": "code",
      "source": [
        "# 7. Write a Python program to sort Python Dictionaries by Key or Value?"
      ],
      "metadata": {
        "id": "F6iuGMNfNuCp"
      },
      "execution_count": 12,
      "outputs": []
    },
    {
      "cell_type": "code",
      "source": [
        "#  Here's a Python program that sorts dictionaries by key or value:\n",
        "def sort_dictionary(dictionary, by_key=True):\n",
        "    if by_key:\n",
        "        sorted_dict = dict(sorted(dictionary.items()))\n",
        "    else:\n",
        "        sorted_dict = dict(sorted(dictionary.items(), key=lambda x: x[1]))\n",
        "\n",
        "    return sorted_dict\n",
        "\n",
        "# Example usage:\n",
        "my_dict = {'b': 2, 'a': 1, 'd': 4, 'c': 3}\n",
        "\n",
        "sorted_by_key = sort_dictionary(my_dict, by_key=True)\n",
        "print(\"Sorted by Key:\")\n",
        "for key, value in sorted_by_key.items():\n",
        "    print(key, value)\n",
        "\n",
        "sorted_by_value = sort_dictionary(my_dict, by_key=False)\n",
        "print(\"\\nSorted by Value:\")\n",
        "for key, value in sorted_by_value.items():\n",
        "    print(key, value)\n"
      ],
      "metadata": {
        "id": "e-u31-PHOIyy"
      },
      "execution_count": null,
      "outputs": []
    },
    {
      "cell_type": "code",
      "source": [],
      "metadata": {
        "id": "UohjCNWlOSBd"
      },
      "execution_count": null,
      "outputs": []
    }
  ]
}
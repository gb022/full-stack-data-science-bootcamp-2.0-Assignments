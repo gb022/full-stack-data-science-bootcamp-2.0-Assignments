{
  "nbformat": 4,
  "nbformat_minor": 0,
  "metadata": {
    "colab": {
      "provenance": []
    },
    "kernelspec": {
      "name": "python3",
      "display_name": "Python 3"
    },
    "language_info": {
      "name": "python"
    }
  },
  "cells": [
    {
      "cell_type": "code",
      "execution_count": 1,
      "metadata": {
        "id": "l8D1_UGD6rzh"
      },
      "outputs": [],
      "source": [
        "# 1. What exactly is []?"
      ]
    },
    {
      "cell_type": "code",
      "source": [
        "'''The notation \"[]\" typically represents an empty list.'''"
      ],
      "metadata": {
        "colab": {
          "base_uri": "https://localhost:8080/",
          "height": 35
        },
        "id": "5kazssZw7CXc",
        "outputId": "a6b8277e-59a0-473a-ee8c-31eadc0d7d34"
      },
      "execution_count": 2,
      "outputs": [
        {
          "output_type": "execute_result",
          "data": {
            "text/plain": [
              "'The notation \"[]\" typically represents an empty list.'"
            ],
            "application/vnd.google.colaboratory.intrinsic+json": {
              "type": "string"
            }
          },
          "metadata": {},
          "execution_count": 2
        }
      ]
    },
    {
      "cell_type": "code",
      "source": [
        "# In a list of values stored in a variable called spam, how would you assign the value 'hello' as the third value? (Assume [2, 4, 6, 8, 10] are in spam.)"
      ],
      "metadata": {
        "id": "Wy_-ahDm7sYm"
      },
      "execution_count": 3,
      "outputs": []
    },
    {
      "cell_type": "code",
      "source": [
        "'''In Python, list indexing starts at 0, so the third value in the list has an index of 2. By accessing the element at index 2 (spam[2])\n",
        "and assigning it the value 'hello', we can replace the existing value at that position.'''\n",
        "spam = [2, 4, 6, 8, 10]\n",
        "spam[2] = 'hello'\n",
        "print(spam[2]) # output = 'hello'"
      ],
      "metadata": {
        "colab": {
          "base_uri": "https://localhost:8080/"
        },
        "id": "k0ASqiUg8Crx",
        "outputId": "c8de64ca-dc25-4c74-f6b7-da30661e2386"
      },
      "execution_count": 6,
      "outputs": [
        {
          "output_type": "stream",
          "name": "stdout",
          "text": [
            "hello\n"
          ]
        }
      ]
    },
    {
      "cell_type": "code",
      "source": [
        "# 2.What is the value of spam[int(int('3' * 2) / 11)]?\n",
        "spam = ['a', 'b', 'c', 'd']"
      ],
      "metadata": {
        "id": "Gqc2u99T8g9q"
      },
      "execution_count": 9,
      "outputs": []
    },
    {
      "cell_type": "code",
      "source": [
        "'''let's breakdown the statement. '3' is a string. and int('3' * 2) will give 33 as integer.now 33/11 will give 3 (as integer).\n",
        "now statement becomes spam[3]'''\n",
        "spam[int(int('3' * 2) / 11)]\n",
        "spam[3] # output 'd'"
      ],
      "metadata": {
        "colab": {
          "base_uri": "https://localhost:8080/",
          "height": 35
        },
        "id": "a2pgT1LMDUT8",
        "outputId": "fcb45eaf-e691-494f-bca1-3632a640072c"
      },
      "execution_count": 11,
      "outputs": [
        {
          "output_type": "execute_result",
          "data": {
            "text/plain": [
              "'d'"
            ],
            "application/vnd.google.colaboratory.intrinsic+json": {
              "type": "string"
            }
          },
          "metadata": {},
          "execution_count": 11
        }
      ]
    },
    {
      "cell_type": "code",
      "source": [
        "# 3. What is the value of spam[-1]?\n",
        "spam = ['a', 'b', 'c', 'd']"
      ],
      "metadata": {
        "id": "8HsW6I-qDXr5"
      },
      "execution_count": 12,
      "outputs": []
    },
    {
      "cell_type": "code",
      "source": [
        "'''we know that in list, element in the list in reverse order starts with -1 and so on.therefore [-1] will be the most right element in the list'''\n",
        "spam[-1] # output 'd'"
      ],
      "metadata": {
        "colab": {
          "base_uri": "https://localhost:8080/",
          "height": 35
        },
        "id": "dclRuvu9IOpq",
        "outputId": "3a8e2137-1228-4369-e1f6-46724ad3e00b"
      },
      "execution_count": 13,
      "outputs": [
        {
          "output_type": "execute_result",
          "data": {
            "text/plain": [
              "'d'"
            ],
            "application/vnd.google.colaboratory.intrinsic+json": {
              "type": "string"
            }
          },
          "metadata": {},
          "execution_count": 13
        }
      ]
    },
    {
      "cell_type": "code",
      "source": [
        "# 5. What is the value of spam[:2]?\n",
        "spam = ['a', 'b', 'c', 'd']"
      ],
      "metadata": {
        "id": "RCixyIYNIxBQ"
      },
      "execution_count": 14,
      "outputs": []
    },
    {
      "cell_type": "code",
      "source": [
        "'''we know that spam[:2] means spam[0:2:1] (list slicing) i.e elements in the list starting from 0 upto 2 (but not including it) with 1 space difference.therefore\n",
        "the output will be 'a','b'.'''\n",
        "spam[:2] # output 'a','b',"
      ],
      "metadata": {
        "colab": {
          "base_uri": "https://localhost:8080/"
        },
        "id": "c5ywRX3BI2wJ",
        "outputId": "73aa9ad2-aec8-46ca-fdab-02e4588e894b"
      },
      "execution_count": 17,
      "outputs": [
        {
          "output_type": "execute_result",
          "data": {
            "text/plain": [
              "['a', 'b']"
            ]
          },
          "metadata": {},
          "execution_count": 17
        }
      ]
    },
    {
      "cell_type": "code",
      "source": [
        "# 6. What is the value of bacon.index('cat')?\n",
        "bacon = [3.14, 'cat,', 11, 'cat,', True]\n"
      ],
      "metadata": {
        "id": "TrkJWg41JreB"
      },
      "execution_count": 22,
      "outputs": []
    },
    {
      "cell_type": "code",
      "source": [
        "'''bacon.index('cat') will show a ValueError. because the issue in the list is the presence of a comma after the first occurrence of 'cat' in the list.\n",
        "To correct this, remove the comma after 'cat,' and modify the list as follows'''\n",
        "bacon = [3.14, 'cat', 11, 'cat', True]\n",
        "bacon.index('cat') # output 1, because now the 'cat' is present at 1 place"
      ],
      "metadata": {
        "colab": {
          "base_uri": "https://localhost:8080/"
        },
        "id": "iqFrrmQxK0TP",
        "outputId": "c6680ca2-4bdb-4b85-eba0-269d7970fd53"
      },
      "execution_count": 25,
      "outputs": [
        {
          "output_type": "execute_result",
          "data": {
            "text/plain": [
              "1"
            ]
          },
          "metadata": {},
          "execution_count": 25
        }
      ]
    },
    {
      "cell_type": "code",
      "source": [
        "# 7.How does bacon.append(99) change the look of the list value in bacon?\n",
        "bacon = [3.14, 'cat,', 11, 'cat,', True]"
      ],
      "metadata": {
        "id": "5E5bacrzK56o"
      },
      "execution_count": 30,
      "outputs": []
    },
    {
      "cell_type": "code",
      "source": [
        "'''The append() method is used to add an element to the end of a list. In the given list\n",
        "if we call bacon.append(99), it will modify the list by adding the value 99 at the end. Here's the updated list'''\n",
        "bacon = [3.14, 'cat,', 11, 'cat,', True]\n",
        "bacon.append(99)\n",
        "print(bacon)\n"
      ],
      "metadata": {
        "colab": {
          "base_uri": "https://localhost:8080/"
        },
        "id": "BdaOcyR2LvMy",
        "outputId": "1ab9bf2d-71b2-49a0-9347-a4488b758243"
      },
      "execution_count": 36,
      "outputs": [
        {
          "output_type": "stream",
          "name": "stdout",
          "text": [
            "[3.14, 'cat,', 11, 'cat,', True, 99]\n"
          ]
        }
      ]
    },
    {
      "cell_type": "code",
      "source": [
        "# 8.How does bacon.remove('cat') change the look of the list in bacon?\n",
        "bacon = [3.14, 'cat,', 11, 'cat,', True]"
      ],
      "metadata": {
        "id": "fNEQZmUiMrcr"
      },
      "execution_count": 38,
      "outputs": []
    },
    {
      "cell_type": "code",
      "source": [
        "'''The remove() method is used to remove the first occurrence of a specified element from a list. In the given list\n",
        "bacon = [3.14, 'cat,', 11, 'cat,', True], remove the comma after 'cat,' and modify the list as follows'''\n",
        "bacon = [3.14, 'cat', 11, 'cat', True]\n",
        "'''if we call bacon.remove('cat'), it will remove the first occurrence of the string 'cat'\n",
        "from the list. Here's the updated list:'''\n",
        "bacon.remove('cat')\n",
        "print(bacon)\n"
      ],
      "metadata": {
        "colab": {
          "base_uri": "https://localhost:8080/"
        },
        "id": "HN2VuzhndqQN",
        "outputId": "dc1f7345-97a0-48e1-cd97-0380bf256637"
      },
      "execution_count": 40,
      "outputs": [
        {
          "output_type": "stream",
          "name": "stdout",
          "text": [
            "[3.14, 11, 'cat', True]\n"
          ]
        }
      ]
    },
    {
      "cell_type": "code",
      "source": [
        "# 9. What are the list concatenation and list replication operators?"
      ],
      "metadata": {
        "id": "UVXCRbXQedOc"
      },
      "execution_count": 41,
      "outputs": []
    },
    {
      "cell_type": "code",
      "source": [
        "'''the list concatenation operator is the plus sign (+), and the list replication operator is the asterisk (*). Here's how they work'''\n",
        "# Cocatenation\n",
        "list1 = [1,2,3,4]\n",
        "list2 = [5,6,7,8]\n",
        "cocatenated_list = list1 + list2\n",
        "print(cocatenated_list)\n",
        "\n",
        "# replication\n",
        "list3 = ['Gaurav']\n",
        "replicated_list3 = list3 * 3\n",
        "print(replicated_list3)"
      ],
      "metadata": {
        "colab": {
          "base_uri": "https://localhost:8080/"
        },
        "id": "UJgniuE-fcdl",
        "outputId": "5fee1033-0a71-4e32-bda1-484eaea5c94f"
      },
      "execution_count": 45,
      "outputs": [
        {
          "output_type": "stream",
          "name": "stdout",
          "text": [
            "[1, 2, 3, 4, 5, 6, 7, 8]\n",
            "['Gaurav', 'Gaurav', 'Gaurav']\n"
          ]
        }
      ]
    },
    {
      "cell_type": "code",
      "source": [
        "# 10.What is difference between the list methods append() and insert()?"
      ],
      "metadata": {
        "id": "MIX5Z9fDgLR7"
      },
      "execution_count": 46,
      "outputs": []
    },
    {
      "cell_type": "code",
      "source": [
        "''' the append() method adds elements to the end of the list, while the insert() method allows you to specify the position\n",
        "where the element should be inserted within the list.'''\n",
        "# append()\n",
        "my_list = [1, 2, 3]\n",
        "my_list.append(4)\n",
        "print(my_list)\n",
        "\n",
        "# insert()\n",
        "my_list = [1, 2, 3]\n",
        "my_list.insert(1, 5) # here, element 5 will be inserted at 1st position\n",
        "print(my_list)\n"
      ],
      "metadata": {
        "colab": {
          "base_uri": "https://localhost:8080/"
        },
        "id": "Y8SwD0z9hdX-",
        "outputId": "a85b671e-3bd5-4749-a2a0-9ae3c76cdae4"
      },
      "execution_count": 47,
      "outputs": [
        {
          "output_type": "stream",
          "name": "stdout",
          "text": [
            "[1, 2, 3, 4]\n",
            "[1, 5, 2, 3]\n"
          ]
        }
      ]
    },
    {
      "cell_type": "code",
      "source": [
        "# 11. What are the two methods for removing items from a list?"
      ],
      "metadata": {
        "id": "jwYcpBB8hxDG"
      },
      "execution_count": 52,
      "outputs": []
    },
    {
      "cell_type": "code",
      "source": [
        "'''there are two common methods for removing items from a list: remove() and pop()'''\n",
        "# remove()\n",
        "my_list = [1, 2, 3, 2, 4]\n",
        "my_list.remove(2) # here the element 2 will be removed (only 1 element).\n",
        "print(my_list)\n",
        "\n",
        "# pop()\n",
        "my_list1 = [1, 2, 3, 4]\n",
        "removed_element = my_list1.pop(1) # here, element at 1st position will be removed.\n",
        "print(my_list1)\n",
        "print(removed_element)\n"
      ],
      "metadata": {
        "colab": {
          "base_uri": "https://localhost:8080/"
        },
        "id": "OJ1KLjXWh5Ic",
        "outputId": "8919f62a-cd8a-4828-81d7-c9914cd640cf"
      },
      "execution_count": 57,
      "outputs": [
        {
          "output_type": "stream",
          "name": "stdout",
          "text": [
            "[1, 3, 2, 4]\n",
            "[1, 3, 4]\n",
            "2\n"
          ]
        }
      ]
    },
    {
      "cell_type": "code",
      "source": [
        "# 12. Describe how list values and string values are identical."
      ],
      "metadata": {
        "id": "O-QAsUijjPJ_"
      },
      "execution_count": 58,
      "outputs": []
    },
    {
      "cell_type": "code",
      "source": [
        "'''while lists and strings share some similarities as sequence types, they have distinct properties, such as mutability,\n",
        "element types, and available operations, that differentiate them and make them suitable for different purposes'''\n",
        "# similarities\n",
        "'''sequence type,indexing and slicing,iteration and lenght'''\n",
        "\n",
        "# differences\n",
        "'''mutability,element types,methods and operations'''"
      ],
      "metadata": {
        "colab": {
          "base_uri": "https://localhost:8080/",
          "height": 35
        },
        "id": "wpXqG7pwkP7r",
        "outputId": "951f11ff-9086-49d8-ccf9-71e5005b3154"
      },
      "execution_count": 59,
      "outputs": [
        {
          "output_type": "execute_result",
          "data": {
            "text/plain": [
              "'mutability,element types,methods and operations'"
            ],
            "application/vnd.google.colaboratory.intrinsic+json": {
              "type": "string"
            }
          },
          "metadata": {},
          "execution_count": 59
        }
      ]
    },
    {
      "cell_type": "code",
      "source": [
        "# 13. What's the difference between tuples and lists?"
      ],
      "metadata": {
        "id": "glrPktdLr01T"
      },
      "execution_count": 60,
      "outputs": []
    },
    {
      "cell_type": "code",
      "source": [
        "'''The differences between tuples and lists are their mutability, syntax, usage, performance characteristics,\n",
        " and the available methods. Tuples are immutable, use parentheses, are often used for unchangeable data, and have fewer methods.\n",
        " Lists are mutable, use square brackets, are used for modifiable data, and have more built-in methods.'''\n",
        "my_list = [1, 2, 3]\n",
        "my_tuple = (1, 2, 3)"
      ],
      "metadata": {
        "id": "aml3JbNtsMZY"
      },
      "execution_count": 61,
      "outputs": []
    },
    {
      "cell_type": "code",
      "source": [
        "# 14. How do you type a tuple value that only contains the integer 42?"
      ],
      "metadata": {
        "id": "vfrTqiKytF1H"
      },
      "execution_count": 62,
      "outputs": []
    },
    {
      "cell_type": "code",
      "source": [
        "'''To create a tuple value that only contains the integer 42, we can use the following syntax in Python'''\n",
        "my_tuple = (42,)\n",
        "'''The comma , after the integer 42 is important to differentiate it as a tuple with a single element. Without the comma,\n",
        "Python would interpret the parentheses as regular parentheses for grouping expressions rather than as tuple notation. Including\n",
        "the trailing comma distinguishes it as a tuple with one element.'''"
      ],
      "metadata": {
        "colab": {
          "base_uri": "https://localhost:8080/",
          "height": 53
        },
        "id": "HT4-ITLNtN72",
        "outputId": "32d34f8d-d9fa-4f43-a40a-535dc2f65b7e"
      },
      "execution_count": 64,
      "outputs": [
        {
          "output_type": "execute_result",
          "data": {
            "text/plain": [
              "'The comma , after the integer 42 is important to differentiate it as a tuple with a single element. Without the comma, \\nPython would interpret the parentheses as regular parentheses for grouping expressions rather than as tuple notation. Including \\nthe trailing comma distinguishes it as a tuple with one element.'"
            ],
            "application/vnd.google.colaboratory.intrinsic+json": {
              "type": "string"
            }
          },
          "metadata": {},
          "execution_count": 64
        }
      ]
    },
    {
      "cell_type": "code",
      "source": [
        "# 15. How do you get a list value's tuple form? How do you get a tuple value's list form?"
      ],
      "metadata": {
        "id": "LXVCs3Totf1C"
      },
      "execution_count": 65,
      "outputs": []
    },
    {
      "cell_type": "code",
      "source": [
        "'''By using the tuple() function, you can convert a list to a tuple, and by using the list() function, you can convert a tuple to a list.'''\n",
        "# list to tuple\n",
        "list1 = [1,2,3,4]\n",
        "tuple_list1 = tuple(list1)\n",
        "print(tuple_list1) # output tuple_list1 = (1,2,3,4)\n",
        "\n",
        "# tuple to list\n",
        "tuple_list1 = (1,2,3,4)\n",
        "list_list1 = list(tuple_list1)\n",
        "print(list_list1) # output list_list1 = [1,2,3,4]"
      ],
      "metadata": {
        "colab": {
          "base_uri": "https://localhost:8080/"
        },
        "id": "avExgGtkuOf8",
        "outputId": "e87c8303-0646-4b5f-d70f-03ab3681e45f"
      },
      "execution_count": 66,
      "outputs": [
        {
          "output_type": "stream",
          "name": "stdout",
          "text": [
            "(1, 2, 3, 4)\n",
            "[1, 2, 3, 4]\n"
          ]
        }
      ]
    },
    {
      "cell_type": "code",
      "source": [
        "# 16. Variables that \"contain\" list values are not necessarily lists themselves. Instead, what do they contain?"
      ],
      "metadata": {
        "id": "tTYX6KmMvE41"
      },
      "execution_count": 67,
      "outputs": []
    },
    {
      "cell_type": "code",
      "source": [
        "'''Variables that \"contain\" list values in Python are not necessarily lists themselves. Instead, they contain references to list objects.\n",
        "In Python, variables are essentially labels or references to objects in memory. When we assign a list to a variable, the variable does\n",
        "not directly hold the list's elements. Instead, it holds a reference to the memory location where the list object is stored.'''"
      ],
      "metadata": {
        "colab": {
          "base_uri": "https://localhost:8080/",
          "height": 70
        },
        "id": "_q_RWFA9vl3f",
        "outputId": "b67ee0a3-cd44-4b73-c41b-fa0a5da33b3c"
      },
      "execution_count": 68,
      "outputs": [
        {
          "output_type": "execute_result",
          "data": {
            "text/plain": [
              "'Variables that \"contain\" list values in Python are not necessarily lists themselves. Instead, they contain references to list objects.\\nIn Python, variables are essentially labels or references to objects in memory. When we assign a list to a variable, the variable does \\nnot directly hold the list\\'s elements. Instead, it holds a reference to the memory location where the list object is stored.'"
            ],
            "application/vnd.google.colaboratory.intrinsic+json": {
              "type": "string"
            }
          },
          "metadata": {},
          "execution_count": 68
        }
      ]
    },
    {
      "cell_type": "code",
      "source": [
        "# 17. How do you distinguish between copy.copy() and copy.deepcopy()?"
      ],
      "metadata": {
        "id": "CVeZVJsUv-Dy"
      },
      "execution_count": 69,
      "outputs": []
    },
    {
      "cell_type": "code",
      "source": [
        "'''copy.copy() creates a shallow copy of an object, while copy.deepcopy() creates a deep copy. The choice between the two depends\n",
        "on whether we want changes to nested objects to be reflected in the original object or not. for e.g'''\n",
        "# copy.copy()\n",
        "import copy\n",
        "\n",
        "original_list = [1, 2, [3, 4]]\n",
        "copied_list = copy.copy(original_list)\n",
        "\n",
        "# Modify the nested list in the copy\n",
        "copied_list[2][0] = 5\n",
        "\n",
        "print(original_list)  # Output: [1, 2, [5, 4]]\n",
        "\n",
        "# copy.deepcopy()\n",
        "import copy\n",
        "\n",
        "original_list = [1, 2, [3, 4]]\n",
        "deepcopied_list = copy.deepcopy(original_list)\n",
        "\n",
        "# Modify the nested list in the deep copy\n",
        "deepcopied_list[2][0] = 5\n",
        "\n",
        "print(original_list)  # Output: [1, 2, [3, 4]]\n"
      ],
      "metadata": {
        "colab": {
          "base_uri": "https://localhost:8080/"
        },
        "id": "BJb4nnoDwSFg",
        "outputId": "96f66297-5081-46f1-8c4d-1762cc35d8e6"
      },
      "execution_count": 70,
      "outputs": [
        {
          "output_type": "stream",
          "name": "stdout",
          "text": [
            "[1, 2, [5, 4]]\n",
            "[1, 2, [3, 4]]\n"
          ]
        }
      ]
    },
    {
      "cell_type": "code",
      "source": [],
      "metadata": {
        "id": "bEtzvHFLxS-e"
      },
      "execution_count": null,
      "outputs": []
    }
  ]
}
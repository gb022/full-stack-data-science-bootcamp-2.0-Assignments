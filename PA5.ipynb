{
  "nbformat": 4,
  "nbformat_minor": 0,
  "metadata": {
    "colab": {
      "provenance": []
    },
    "kernelspec": {
      "name": "python3",
      "display_name": "Python 3"
    },
    "language_info": {
      "name": "python"
    }
  },
  "cells": [
    {
      "cell_type": "code",
      "execution_count": 1,
      "metadata": {
        "id": "Np4MP1SZpGaX"
      },
      "outputs": [],
      "source": [
        "# 1. Write a Python Program to Find LCM?"
      ]
    },
    {
      "cell_type": "code",
      "source": [
        "# Here's a Python program that calculates the Least Common Multiple (LCM) of two numbers:\n",
        "def find_lcm(x, y):\n",
        "    # Find the greater number\n",
        "    if x > y:\n",
        "        greater = x\n",
        "    else:\n",
        "        greater = y\n",
        "\n",
        "    while True:\n",
        "        if greater % x == 0 and greater % y == 0:\n",
        "            lcm = greater\n",
        "            break\n",
        "        greater += 1\n",
        "\n",
        "    return lcm\n",
        "\n",
        "number1 = int(input(\"Enter the first number: \"))\n",
        "number2 = int(input(\"Enter the second number: \"))\n",
        "\n",
        "lcm = find_lcm(number1, number2)\n",
        "\n",
        "print(\"The LCM of\", number1, \"and\", number2, \"is\", lcm)\n"
      ],
      "metadata": {
        "id": "_BsN6RFHpPNY"
      },
      "execution_count": null,
      "outputs": []
    },
    {
      "cell_type": "code",
      "source": [
        "# 2. Write a Python Program to Find HCF?"
      ],
      "metadata": {
        "id": "TOFl4L63pUNz"
      },
      "execution_count": 3,
      "outputs": []
    },
    {
      "cell_type": "code",
      "source": [
        "# Here's a Python program that calculates the Highest Common Factor (HCF) of two numbers:\n",
        "def find_hcf(x, y):\n",
        "    # Find the smaller number\n",
        "    if x < y:\n",
        "        smaller = x\n",
        "    else:\n",
        "        smaller = y\n",
        "\n",
        "    hcf = 1\n",
        "\n",
        "    for i in range(1, smaller + 1):\n",
        "        if x % i == 0 and y % i == 0:\n",
        "            hcf = i\n",
        "\n",
        "    return hcf\n",
        "\n",
        "number1 = int(input(\"Enter the first number: \"))\n",
        "number2 = int(input(\"Enter the second number: \"))\n",
        "\n",
        "hcf = find_hcf(number1, number2)\n",
        "\n",
        "print(\"The HCF of\", number1, \"and\", number2, \"is\", hcf)\n",
        "\n"
      ],
      "metadata": {
        "id": "eHUm2GrjpbjI"
      },
      "execution_count": null,
      "outputs": []
    },
    {
      "cell_type": "code",
      "source": [
        "# 3. Write a Python Program to Convert Decimal to Binary, Octal and Hexadecimal?"
      ],
      "metadata": {
        "id": "srI58nCdpyCe"
      },
      "execution_count": 5,
      "outputs": []
    },
    {
      "cell_type": "code",
      "source": [
        "# Here's a Python program that converts a decimal number to its binary, octal, and hexadecimal representations:\n",
        "decimal = int(input(\"Enter a decimal number: \"))\n",
        "\n",
        "binary = bin(decimal)\n",
        "octal = oct(decimal)\n",
        "hexadecimal = hex(decimal)\n",
        "\n",
        "print(\"Binary:\", binary)\n",
        "print(\"Octal:\", octal)\n",
        "print(\"Hexadecimal:\", hexadecimal)\n"
      ],
      "metadata": {
        "id": "lP8EMpKap5QD"
      },
      "execution_count": null,
      "outputs": []
    },
    {
      "cell_type": "code",
      "source": [
        "# 4. Write a Python Program To Find ASCII value of a character?"
      ],
      "metadata": {
        "id": "Rfpo9t4qqGpo"
      },
      "execution_count": 7,
      "outputs": []
    },
    {
      "cell_type": "code",
      "source": [
        "# Here's a Python program that finds the ASCII value of a character:\n",
        "character = input(\"Enter a character: \")\n",
        "\n",
        "ascii_value = ord(character)\n",
        "\n",
        "print(\"The ASCII value of\", character, \"is\", ascii_value)"
      ],
      "metadata": {
        "id": "8pGeibLWqPWC"
      },
      "execution_count": null,
      "outputs": []
    },
    {
      "cell_type": "code",
      "source": [
        "# 5. Write a Python Program to Make a Simple Calculator with 4 basic mathematical operations?"
      ],
      "metadata": {
        "id": "fWHZhBggqYq8"
      },
      "execution_count": 9,
      "outputs": []
    },
    {
      "cell_type": "code",
      "source": [
        "# Here's a Python program that creates a simple calculator with four basic mathematical operations (addition, subtraction, multiplication, and division):\n",
        "def add(x, y):\n",
        "    return x + y\n",
        "\n",
        "def subtract(x, y):\n",
        "    return x - y\n",
        "\n",
        "def multiply(x, y):\n",
        "    return x * y\n",
        "\n",
        "def divide(x, y):\n",
        "    return x / y\n",
        "\n",
        "print(\"Select operation:\")\n",
        "print(\"1. Addition\")\n",
        "print(\"2. Subtraction\")\n",
        "print(\"3. Multiplication\")\n",
        "print(\"4. Division\")\n",
        "\n",
        "choice = input(\"Enter your choice (1-4): \")\n",
        "\n",
        "number1 = float(input(\"Enter the first number: \"))\n",
        "number2 = float(input(\"Enter the second number: \"))\n",
        "\n",
        "if choice == '1':\n",
        "    result = add(number1, number2)\n",
        "    operation = '+'\n",
        "elif choice == '2':\n",
        "    result = subtract(number1, number2)\n",
        "    operation = '-'\n",
        "elif choice == '3':\n",
        "    result = multiply(number1, number2)\n",
        "    operation = '*'\n",
        "elif choice == '4':\n",
        "    result = divide(number1, number2)\n",
        "    operation = '/'\n",
        "else:\n",
        "    print(\"Invalid choice.\")\n",
        "    exit()\n",
        "\n",
        "print(number1, operation, number2, \"=\", result)\n"
      ],
      "metadata": {
        "colab": {
          "base_uri": "https://localhost:8080/"
        },
        "id": "1cCOrSOcqgkH",
        "outputId": "19f47b87-8ed1-4821-a6a4-044e5cc50d7f"
      },
      "execution_count": 12,
      "outputs": [
        {
          "output_type": "stream",
          "name": "stdout",
          "text": [
            "Select operation:\n",
            "1. Addition\n",
            "2. Subtraction\n",
            "3. Multiplication\n",
            "4. Division\n",
            "Enter your choice (1-4): 1\n",
            "Enter the first number: 12\n",
            "Enter the second number: 63\n",
            "12.0 + 63.0 = 75.0\n"
          ]
        }
      ]
    },
    {
      "cell_type": "code",
      "source": [],
      "metadata": {
        "id": "SrvujlvCq-3w"
      },
      "execution_count": null,
      "outputs": []
    }
  ]
}
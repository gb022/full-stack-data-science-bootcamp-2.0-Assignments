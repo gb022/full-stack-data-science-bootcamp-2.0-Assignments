{
  "nbformat": 4,
  "nbformat_minor": 0,
  "metadata": {
    "colab": {
      "provenance": []
    },
    "kernelspec": {
      "name": "python3",
      "display_name": "Python 3"
    },
    "language_info": {
      "name": "python"
    }
  },
  "cells": [
    {
      "cell_type": "code",
      "source": [
        "# 1. To what does a relative path refer?"
      ],
      "metadata": {
        "id": "E_zFOST7GqXP"
      },
      "execution_count": 57,
      "outputs": []
    },
    {
      "cell_type": "code",
      "source": [
        "'''Relative paths are often used in various contexts, such as programming, command-line interfaces, or file navigation systems,\n",
        "to reference files or directories within the same directory structure without specifying the complete or absolute path from the root of the file system.'''"
      ],
      "metadata": {
        "colab": {
          "base_uri": "https://localhost:8080/",
          "height": 53
        },
        "id": "JubXX5eaG-Up",
        "outputId": "9fb220bf-ad72-4f91-fa68-af06d9910c1b"
      },
      "execution_count": 59,
      "outputs": [
        {
          "output_type": "execute_result",
          "data": {
            "text/plain": [
              "'Relative paths are often used in various contexts, such as programming, command-line interfaces, or file navigation systems, \\nto reference files or directories within the same directory structure without specifying the complete or absolute path from the root of the file system.'"
            ],
            "application/vnd.google.colaboratory.intrinsic+json": {
              "type": "string"
            }
          },
          "metadata": {},
          "execution_count": 59
        }
      ]
    },
    {
      "cell_type": "code",
      "source": [
        "# 2. What does an absolute path start with your operating system?"
      ],
      "metadata": {
        "id": "OWLeNjg2HJmY"
      },
      "execution_count": 60,
      "outputs": []
    },
    {
      "cell_type": "code",
      "source": [
        "'''the absolute paths start from the root directory (\"/\" or \"C:\") and specify the complete directory structure to reach the desired file or directory.'''\n",
        "# my OS is windows, and my absolute path start with (C:\\Users\\User\\Documents\\file.txt)"
      ],
      "metadata": {
        "colab": {
          "base_uri": "https://localhost:8080/",
          "height": 35
        },
        "id": "3tQaQEpQHPNh",
        "outputId": "ad6abcc9-2060-4fa8-d9d2-60547ba047ae"
      },
      "execution_count": 65,
      "outputs": [
        {
          "output_type": "execute_result",
          "data": {
            "text/plain": [
              "'the absolute paths start from the root directory (\"/\" or \"C:\") and specify the complete directory structure to reach the desired file or directory.'"
            ],
            "application/vnd.google.colaboratory.intrinsic+json": {
              "type": "string"
            }
          },
          "metadata": {},
          "execution_count": 65
        }
      ]
    },
    {
      "cell_type": "code",
      "source": [
        "# 3. What do the functions os.getcwd() and os.chdir() do?"
      ],
      "metadata": {
        "id": "oA7kFKQCINRk"
      },
      "execution_count": 66,
      "outputs": []
    },
    {
      "cell_type": "code",
      "source": [
        "# os.getcwd():\n",
        "'''This function returns the current working directory (CWD) as a string. The current working directory is the directory in which the\n",
        "Python script or the command prompt is currently running. It represents the starting point for resolving relative file or directory paths.\n",
        "For example, if the current working directory is /home/user/, calling os.getcwd() would return '/home/user/'.'''\n",
        "\n",
        "# os.chdir(path):\n",
        "'''This function changes the current working directory to the directory specified by the path parameter. It takes a string argument\n",
        "representing the new directory path. After calling os.chdir(path), the current working directory will be updated to the specified path.\n",
        "For example, os.chdir('/home/user/documents/') would change the current working directory to /home/user/documents/.\n",
        "If the specified path is invalid or inaccessible, an exception will be raised.'''"
      ],
      "metadata": {
        "colab": {
          "base_uri": "https://localhost:8080/",
          "height": 70
        },
        "id": "mLv2nC7sI1FC",
        "outputId": "b368deac-ca19-4657-8083-f969aae7d174"
      },
      "execution_count": 67,
      "outputs": [
        {
          "output_type": "execute_result",
          "data": {
            "text/plain": [
              "\"This function changes the current working directory to the directory specified by the path parameter. It takes a string argument \\nrepresenting the new directory path. After calling os.chdir(path), the current working directory will be updated to the specified path. \\nFor example, os.chdir('/home/user/documents/') would change the current working directory to /home/user/documents/. \\nIf the specified path is invalid or inaccessible, an exception will be raised.\""
            ],
            "application/vnd.google.colaboratory.intrinsic+json": {
              "type": "string"
            }
          },
          "metadata": {},
          "execution_count": 67
        }
      ]
    },
    {
      "cell_type": "code",
      "source": [
        "# 4. What are the . and .. folders?"
      ],
      "metadata": {
        "id": "FtDeZVGJJWN7"
      },
      "execution_count": 68,
      "outputs": []
    },
    {
      "cell_type": "code",
      "source": [
        "# . (dot):\n",
        "'''The dot represents the current directory. It is a reference to the current location within the file system hierarchy.\n",
        "For example, if you are currently in the directory /home/user/documents/, the . refers to the same directory (/home/user/documents/).\n",
        "It is often used to specify the current directory in file paths.'''\n",
        "\n",
        "# .. (dot dot):\n",
        "'''The dot dot represents the parent directory. It refers to the directory immediately above the current directory in the file system hierarchy.\n",
        "For example, if you are currently in the directory /home/user/documents/, the .. refers to the parent directory (/home/user/).\n",
        "It is used to navigate to the parent directory in file paths.'''"
      ],
      "metadata": {
        "colab": {
          "base_uri": "https://localhost:8080/",
          "height": 70
        },
        "id": "FJ7i2lTVJpjs",
        "outputId": "b6cb9edc-cc02-407f-9c60-f15b9f63d16f"
      },
      "execution_count": 69,
      "outputs": [
        {
          "output_type": "execute_result",
          "data": {
            "text/plain": [
              "'The dot dot represents the parent directory. It refers to the directory immediately above the current directory in the file system hierarchy. \\nFor example, if you are currently in the directory /home/user/documents/, the .. refers to the parent directory (/home/user/). \\nIt is used to navigate to the parent directory in file paths.'"
            ],
            "application/vnd.google.colaboratory.intrinsic+json": {
              "type": "string"
            }
          },
          "metadata": {},
          "execution_count": 69
        }
      ]
    },
    {
      "cell_type": "code",
      "source": [
        "# 5. In C:\\bacon\\eggs\\spam.txt, which part is the dir name, and which part is the base name?"
      ],
      "metadata": {
        "id": "dIRAP1vHJ4dA"
      },
      "execution_count": 70,
      "outputs": []
    },
    {
      "cell_type": "code",
      "source": [
        "'''Dir name: \"C:\\bacon\\eggs\"\n",
        "Base name: \"spam.txt\"'''"
      ],
      "metadata": {
        "colab": {
          "base_uri": "https://localhost:8080/",
          "height": 35
        },
        "id": "ejprjP91J-Iw",
        "outputId": "f8e99a76-8be6-499e-8d9e-523065edc959"
      },
      "execution_count": 71,
      "outputs": [
        {
          "output_type": "execute_result",
          "data": {
            "text/plain": [
              "'Dir name: \"C:\\x08acon\\\\eggs\"\\nBase name: \"spam.txt\"'"
            ],
            "application/vnd.google.colaboratory.intrinsic+json": {
              "type": "string"
            }
          },
          "metadata": {},
          "execution_count": 71
        }
      ]
    },
    {
      "cell_type": "code",
      "source": [
        "# 6. What are the three “mode” arguments that can be passed to the open() function?"
      ],
      "metadata": {
        "id": "ZBt84_n5KQsf"
      },
      "execution_count": 72,
      "outputs": []
    },
    {
      "cell_type": "code",
      "source": [
        "# three \"mode\" arguments that can be passed to the open() function?\n",
        "'''\n",
        "1. \"r\" -\n",
        "Read mode: This mode is used to open a file for reading. The file must exist, or else an exception will be raised.\n",
        "This is the default mode if no mode is specified. Example: open(\"file.txt\", \"r\")\n",
        "\n",
        "2. \"w\" -\n",
        "Write mode: This mode is used to open a file for writing. If the file already exists, its contents will be truncated (emptied).\n",
        "If the file does not exist, a new file will be created. Example: open(\"file.txt\", \"w\")\n",
        "\n",
        "3. \"a\" -\n",
        "Append mode: This mode is used to open a file for appending data. If the file exists, new data will be added to the end of the file.\n",
        "If the file does not exist, a new file will be created. Example: open(\"file.txt\", \"a\")\n",
        "'''"
      ],
      "metadata": {
        "colab": {
          "base_uri": "https://localhost:8080/",
          "height": 105
        },
        "id": "z-sp1W6kKUPr",
        "outputId": "f4028209-5967-4183-a990-e3f3c8d85414"
      },
      "execution_count": 74,
      "outputs": [
        {
          "output_type": "execute_result",
          "data": {
            "text/plain": [
              "'\\n1. \"r\" - \\nRead mode: This mode is used to open a file for reading. The file must exist, or else an exception will be raised. \\nThis is the default mode if no mode is specified. Example: open(\"file.txt\", \"r\")\\n\\n2. \"w\" - \\nWrite mode: This mode is used to open a file for writing. If the file already exists, its contents will be truncated (emptied). \\nIf the file does not exist, a new file will be created. Example: open(\"file.txt\", \"w\")\\n\\n3. \"a\" - \\nAppend mode: This mode is used to open a file for appending data. If the file exists, new data will be added to the end of the file. \\nIf the file does not exist, a new file will be created. Example: open(\"file.txt\", \"a\")\\n'"
            ],
            "application/vnd.google.colaboratory.intrinsic+json": {
              "type": "string"
            }
          },
          "metadata": {},
          "execution_count": 74
        }
      ]
    },
    {
      "cell_type": "code",
      "source": [
        "# 7. What happens if an existing file is opened in write mode?"
      ],
      "metadata": {
        "id": "lJhl-DIWLLYP"
      },
      "execution_count": 75,
      "outputs": []
    },
    {
      "cell_type": "code",
      "source": [
        "'''\n",
        "If an existing file is opened in write mode (\"w\"), the following will happen:\n",
        "\n",
        "1. If the file already exists, its contents will be completely truncated or erased. The file will be emptied, and its previous data will be lost.\n",
        "\n",
        "2. If the file does not exist, a new file will be created.\n",
        "'''\n"
      ],
      "metadata": {
        "colab": {
          "base_uri": "https://localhost:8080/",
          "height": 53
        },
        "id": "je3P9jUDLP5F",
        "outputId": "39b0c7ec-cae6-43dd-e0d2-86ffd4387598"
      },
      "execution_count": 76,
      "outputs": [
        {
          "output_type": "execute_result",
          "data": {
            "text/plain": [
              "'\\nIf an existing file is opened in write mode (\"w\"), the following will happen:\\n\\n1. If the file already exists, its contents will be completely truncated or erased. The file will be emptied, and its previous data will be lost.\\n\\n2. If the file does not exist, a new file will be created.\\n'"
            ],
            "application/vnd.google.colaboratory.intrinsic+json": {
              "type": "string"
            }
          },
          "metadata": {},
          "execution_count": 76
        }
      ]
    },
    {
      "cell_type": "code",
      "source": [
        "# 8. How do you tell the difference between read() and readlines()?"
      ],
      "metadata": {
        "id": "MxCFDLBRLynr"
      },
      "execution_count": 77,
      "outputs": []
    },
    {
      "cell_type": "code",
      "source": [
        "'''\n",
        "1.read()\n",
        "returns a single string containing the entire contents of the file, including newline characters.\n",
        "\n",
        "2.readlines()\n",
        "returns a list of strings, where each element represents a line from the file, without newline characters.\n",
        "'''"
      ],
      "metadata": {
        "colab": {
          "base_uri": "https://localhost:8080/",
          "height": 53
        },
        "id": "X4tgfLn0L2kb",
        "outputId": "069cb988-0b1e-4446-dc6e-5f5268fbc2f1"
      },
      "execution_count": 78,
      "outputs": [
        {
          "output_type": "execute_result",
          "data": {
            "text/plain": [
              "'\\n1.read() \\nreturns a single string containing the entire contents of the file, including newline characters.\\n\\n2.readlines() \\nreturns a list of strings, where each element represents a line from the file, without newline characters.\\n'"
            ],
            "application/vnd.google.colaboratory.intrinsic+json": {
              "type": "string"
            }
          },
          "metadata": {},
          "execution_count": 78
        }
      ]
    },
    {
      "cell_type": "code",
      "source": [
        "# 9. What data structure does a shelf value resemble?"
      ],
      "metadata": {
        "id": "92WIny5DMFDH"
      },
      "execution_count": 79,
      "outputs": []
    },
    {
      "cell_type": "code",
      "source": [
        "'''\n",
        "The shelve module in Python provides a high-level interface for persistent storage of Python objects.\n",
        "It allows us to store and retrieve objects using keys, similar to how we would use keys to access values in a dictionary.\n",
        "\n",
        "A shelf value acts like a dictionary because it supports key-value pairs, where keys are typically strings,\n",
        "and values can be any picklable Python object (objects that can be serialized using the pickle module).\n",
        "'''"
      ],
      "metadata": {
        "colab": {
          "base_uri": "https://localhost:8080/",
          "height": 70
        },
        "id": "Q65_0xWuMPDH",
        "outputId": "f228f097-77f3-4255-88e1-6bc01718411d"
      },
      "execution_count": 80,
      "outputs": [
        {
          "output_type": "execute_result",
          "data": {
            "text/plain": [
              "'\\nThe shelve module in Python provides a high-level interface for persistent storage of Python objects. \\nIt allows us to store and retrieve objects using keys, similar to how we would use keys to access values in a dictionary.\\n\\nA shelf value acts like a dictionary because it supports key-value pairs, where keys are typically strings, \\nand values can be any picklable Python object (objects that can be serialized using the pickle module).\\n'"
            ],
            "application/vnd.google.colaboratory.intrinsic+json": {
              "type": "string"
            }
          },
          "metadata": {},
          "execution_count": 80
        }
      ]
    },
    {
      "cell_type": "code",
      "source": [],
      "metadata": {
        "id": "xp1zbeIVMw7p"
      },
      "execution_count": null,
      "outputs": []
    }
  ]
}
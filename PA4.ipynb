{
  "nbformat": 4,
  "nbformat_minor": 0,
  "metadata": {
    "colab": {
      "provenance": []
    },
    "kernelspec": {
      "name": "python3",
      "display_name": "Python 3"
    },
    "language_info": {
      "name": "python"
    }
  },
  "cells": [
    {
      "cell_type": "code",
      "execution_count": 1,
      "metadata": {
        "id": "rkIpMf_LkAGJ"
      },
      "outputs": [],
      "source": [
        "# 1. Write a Python Program to Find the Factorial of a Number?"
      ]
    },
    {
      "cell_type": "code",
      "source": [
        "# Here's a Python program that calculates the factorial of a given number:\n",
        "def factorial(n):\n",
        "    if n == 0:\n",
        "        return 1\n",
        "    else:\n",
        "        return n * factorial(n-1)\n",
        "\n",
        "number = int(input(\"Enter a number: \"))\n",
        "\n",
        "# Check if the number is negative\n",
        "if number < 0:\n",
        "    print(\"Factorial is not defined for negative numbers.\")\n",
        "else:\n",
        "    result = factorial(number)\n",
        "    print(\"The factorial of\", number, \"is\", result)\n"
      ],
      "metadata": {
        "colab": {
          "base_uri": "https://localhost:8080/"
        },
        "id": "XtrTdW7vkImd",
        "outputId": "2a88380f-198e-4e34-ccef-ce28b71a10e8"
      },
      "execution_count": 2,
      "outputs": [
        {
          "output_type": "stream",
          "name": "stdout",
          "text": [
            "Enter a number: 6\n",
            "The factorial of 6 is 720\n"
          ]
        }
      ]
    },
    {
      "cell_type": "code",
      "source": [
        "# 2. Write a Python Program to Display the multiplication Table?"
      ],
      "metadata": {
        "id": "BrCGRoj3kaLA"
      },
      "execution_count": 3,
      "outputs": []
    },
    {
      "cell_type": "code",
      "source": [
        "# Here's a Python program that displays the multiplication table of a given number:\n",
        "number = int(input(\"Enter a number: \"))\n",
        "\n",
        "print(\"Multiplication Table for\", number)\n",
        "for i in range(1, 11):\n",
        "    print(number, \"x\", i, \"=\", number * i)\n",
        "\n",
        "'''In this program, we first prompt the user to enter a number and store it in the variable number.\n",
        "We then use a for loop to iterate from 1 to 10 (inclusive). For each iteration, we calculate the product of number and the\n",
        "loop variable i and print it as an equation using the print() function. This displays the multiplication table of the given number.'''\n",
        "\n"
      ],
      "metadata": {
        "id": "HoNYdgO_kgOm"
      },
      "execution_count": null,
      "outputs": []
    },
    {
      "cell_type": "code",
      "source": [
        "# 3. Write a Python Program to Print the Fibonacci sequence?"
      ],
      "metadata": {
        "id": "KDBb4xVTlsRX"
      },
      "execution_count": 5,
      "outputs": []
    },
    {
      "cell_type": "code",
      "source": [
        "# Here's a Python program that prints the Fibonacci sequence up to a specified number of terms:\n",
        "def fibonacci(n):\n",
        "    sequence = [0, 1]  # Initialize the sequence with the first two terms\n",
        "    if n <= 2:\n",
        "        return sequence[:n]\n",
        "    else:\n",
        "        while len(sequence) < n:\n",
        "            next_term = sequence[-1] + sequence[-2]\n",
        "            sequence.append(next_term)\n",
        "        return sequence\n",
        "\n",
        "number_of_terms = int(input(\"Enter the number of terms: \"))\n",
        "\n",
        "fib_sequence = fibonacci(number_of_terms)\n",
        "\n",
        "print(\"Fibonacci sequence:\")\n",
        "for term in fib_sequence:\n",
        "    print(term)\n"
      ],
      "metadata": {
        "id": "mndpDTOCl0f5"
      },
      "execution_count": null,
      "outputs": []
    },
    {
      "cell_type": "code",
      "source": [
        "# 4. Write a Python Program to Check Armstrong Number?"
      ],
      "metadata": {
        "id": "ubx6ZDdImTGH"
      },
      "execution_count": 7,
      "outputs": []
    },
    {
      "cell_type": "code",
      "source": [
        "# Here's a Python program that checks whether a number is an Armstrong number or not:\n",
        "def is_armstrong_number(number):\n",
        "    # Convert the number to a string to determine the number of digits\n",
        "    num_str = str(number)\n",
        "    num_digits = len(num_str)\n",
        "\n",
        "    # Calculate the sum of the cubes of each digit\n",
        "    sum_of_cubes = sum(int(digit) ** num_digits for digit in num_str)\n",
        "\n",
        "    # Check if the sum of cubes is equal to the original number\n",
        "    if sum_of_cubes == number:\n",
        "        return True\n",
        "    else:\n",
        "        return False\n",
        "\n",
        "number = int(input(\"Enter a number: \"))\n",
        "\n",
        "if is_armstrong_number(number):\n",
        "    print(number, \"is an Armstrong number.\")\n",
        "else:\n",
        "    print(number, \"is not an Armstrong number.\")\n"
      ],
      "metadata": {
        "colab": {
          "base_uri": "https://localhost:8080/"
        },
        "id": "P4f885FWmx5Y",
        "outputId": "eac0c986-0ba2-424f-b1cb-6991c26637ff"
      },
      "execution_count": 8,
      "outputs": [
        {
          "output_type": "stream",
          "name": "stdout",
          "text": [
            "Enter a number: 153\n",
            "153 is an Armstrong number.\n"
          ]
        }
      ]
    },
    {
      "cell_type": "code",
      "source": [
        "# 5. Write a Python Program to Find Armstrong Number in an Interval?"
      ],
      "metadata": {
        "id": "LjhtK5DUm6zP"
      },
      "execution_count": 9,
      "outputs": []
    },
    {
      "cell_type": "code",
      "source": [
        "# Here's a Python program that finds Armstrong numbers within a specified interval:\n",
        "def is_armstrong_number(number):\n",
        "    num_str = str(number)\n",
        "    num_digits = len(num_str)\n",
        "    sum_of_cubes = sum(int(digit) ** num_digits for digit in num_str)\n",
        "    if sum_of_cubes == number:\n",
        "        return True\n",
        "    else:\n",
        "        return False\n",
        "\n",
        "lower_limit = int(input(\"Enter the lower limit of the interval: \"))\n",
        "upper_limit = int(input(\"Enter the upper limit of the interval: \"))\n",
        "\n",
        "armstrong_numbers = []\n",
        "\n",
        "for number in range(lower_limit, upper_limit + 1):\n",
        "    if is_armstrong_number(number):\n",
        "        armstrong_numbers.append(number)\n",
        "\n",
        "print(\"Armstrong numbers in the interval\", lower_limit, \"to\", upper_limit, \"are:\")\n",
        "for number in armstrong_numbers:\n",
        "    print(number)\n"
      ],
      "metadata": {
        "colab": {
          "base_uri": "https://localhost:8080/"
        },
        "id": "akvQyLjenPmI",
        "outputId": "6e281bbb-d7aa-47da-ca25-acdd4f5a2583"
      },
      "execution_count": 10,
      "outputs": [
        {
          "output_type": "stream",
          "name": "stdout",
          "text": [
            "Enter the lower limit of the interval: 100\n",
            "Enter the upper limit of the interval: 200\n",
            "Armstrong numbers in the interval 100 to 200 are:\n",
            "153\n"
          ]
        }
      ]
    },
    {
      "cell_type": "code",
      "source": [
        "# 6. Write a Python Program to Find the Sum of Natural Numbers?"
      ],
      "metadata": {
        "id": "F4IbKeTsnqf8"
      },
      "execution_count": 11,
      "outputs": []
    },
    {
      "cell_type": "code",
      "source": [
        "# Here's a Python program that calculates the sum of natural numbers up to a given number\n",
        "number = int(input(\"Enter a positive integer: \"))\n",
        "\n",
        "if number < 1:\n",
        "    print(\"Invalid input. Please enter a positive integer.\")\n",
        "else:\n",
        "    sum_of_numbers = (number * (number + 1)) // 2\n",
        "    print(\"The sum of natural numbers up to\", number, \"is\", sum_of_numbers)\n",
        "\n"
      ],
      "metadata": {
        "colab": {
          "base_uri": "https://localhost:8080/"
        },
        "id": "rCsQoG4Zn3Kf",
        "outputId": "401fddd0-67ff-40dc-bfc1-9355436eacae"
      },
      "execution_count": 12,
      "outputs": [
        {
          "output_type": "stream",
          "name": "stdout",
          "text": [
            "Enter a positive integer: 5\n",
            "The sum of natural numbers up to 5 is 15\n"
          ]
        }
      ]
    },
    {
      "cell_type": "code",
      "source": [],
      "metadata": {
        "id": "KSygepQcn-7Q"
      },
      "execution_count": null,
      "outputs": []
    }
  ]
}
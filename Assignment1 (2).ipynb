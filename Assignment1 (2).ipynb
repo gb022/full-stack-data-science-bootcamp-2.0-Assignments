{
 "cells": [
  {
   "cell_type": "markdown",
   "id": "a98c8ae6-a063-4737-baf5-aedffbbbddc3",
   "metadata": {},
   "source": [
    "1. In the below elements which of them are values or an expression? eg:- values can be integer or string and expressions will be mathematical operators.\n",
    "* \n",
    "'hello'\n",
    "-87.8\n",
    "- \n",
    "/ \n",
    "+\t\n",
    "6 \n"
   ]
  },
  {
   "cell_type": "code",
   "execution_count": 2,
   "id": "ca0f6c10-ef47-43a7-807e-9343b739b318",
   "metadata": {},
   "outputs": [],
   "source": [
    "#Values are :\n",
    "a= 'hello'\n",
    "b= -87.8\n",
    "c= 8\n",
    "\n",
    "# Expressions are: (+,-,*,/)"
   ]
  },
  {
   "cell_type": "markdown",
   "id": "e5ce8724-ccca-4b20-be5d-a9e2172edacf",
   "metadata": {},
   "source": [
    "2. What is the difference between string and variable?"
   ]
  },
  {
   "cell_type": "code",
   "execution_count": null,
   "id": "a60e64c8-8e34-49ef-8adf-8aa4547cc1b9",
   "metadata": {},
   "outputs": [],
   "source": [
    "Name = \"hi there\"\n",
    "# name is a varibale , varibale is a name to store a value and value can be anything either sting, float & int \n",
    "# \"hi there\" is a string \n",
    "# string can be in ' ' as well \n",
    "# values written in \" \" or in ' ' are string \n"
   ]
  },
  {
   "cell_type": "markdown",
   "id": "2b5d4bdc-4303-415d-8108-54b6f7e58b24",
   "metadata": {},
   "source": [
    "3. Describe three different data types."
   ]
  },
  {
   "cell_type": "markdown",
   "id": "13b6eb0d-8e6f-4ecb-bc63-c776b7b29794",
   "metadata": {},
   "source": [
    "1. Integer -- without having any decimal numbers is integer\n",
    "2. float -- with having decimal numbers \n",
    "3. string -- values in \" \" & ' ' are string. and it contain anything such as letters, numbers, & symbols"
   ]
  },
  {
   "cell_type": "markdown",
   "id": "59543992-82ef-471e-ac34-ab483c378c45",
   "metadata": {},
   "source": [
    "4. What is an expression made up of? What do all expressions do?"
   ]
  },
  {
   "cell_type": "markdown",
   "id": "40845954-3241-4e17-a88d-01457263a935",
   "metadata": {},
   "source": [
    "An expression in programming is a combination of values, variables, operators, and function calls that can be evaluated to produce a result. It represents a computation or operation to be performed. Expressions can be as simple as a single value or complex, involving multiple components. \n",
    "example:\n",
    "y = x + 5\n",
    "'x + 5' is an expression \n",
    "x is a varibale\n",
    "5 is a value \n",
    "and + is operator \n",
    "all combined is an expression."
   ]
  },
  {
   "cell_type": "markdown",
   "id": "608db7e1-1a39-4093-b65f-c823d57cb530",
   "metadata": {},
   "source": [
    "5. This assignment statements, like spam = 10. What is the difference between an expression and a statement?"
   ]
  },
  {
   "cell_type": "markdown",
   "id": "d8cb4ace-5271-4af9-a26b-03e4d4e98a79",
   "metadata": {},
   "source": [
    "expressions are used to compute values, while statements perform actions or control program flow. Statements can include expressions, but expressions themselves are self-contained units that produce values."
   ]
  },
  {
   "cell_type": "code",
   "execution_count": 1,
   "id": "cb25d064-7654-4330-b86c-0ca3ab2fd572",
   "metadata": {},
   "outputs": [
    {
     "name": "stdout",
     "output_type": "stream",
     "text": [
      "23\n"
     ]
    }
   ],
   "source": [
    "#6. After running the following code, what does the variable bacon contain?\n",
    "bacon = 22\n",
    "bacon = bacon + 1\n",
    "print(bacon) # 23 "
   ]
  },
  {
   "cell_type": "code",
   "execution_count": 5,
   "id": "80d85375-4747-4845-a070-b585bca3404f",
   "metadata": {},
   "outputs": [
    {
     "data": {
      "text/plain": [
       "'spamspamspam'"
      ]
     },
     "execution_count": 5,
     "metadata": {},
     "output_type": "execute_result"
    }
   ],
   "source": [
    "#7. What should the values of the following two terms be?\n",
    "'spam' + 'spamspam'\n",
    "'spam' * 3\n",
    "# 'spamspamspam'"
   ]
  },
  {
   "cell_type": "markdown",
   "id": "aab27f4e-7da1-4ea5-a589-8d2253906369",
   "metadata": {},
   "source": [
    "8. Why is eggs a valid variable name while 100 is invalid?"
   ]
  },
  {
   "cell_type": "markdown",
   "id": "7bfa1157-eaf5-4d36-b6b9-eaf92c96f7a3",
   "metadata": {},
   "source": [
    "Variable can be start will alphabates but it can't start with numerical value"
   ]
  },
  {
   "cell_type": "markdown",
   "id": "84046517-ddc8-496d-b31b-22cc4951678a",
   "metadata": {},
   "source": [
    "9. What three functions can be used to get the integer, floating-point number, or string version of a value?"
   ]
  },
  {
   "cell_type": "code",
   "execution_count": 7,
   "id": "88b03415-536d-4aef-afc0-876c5547f1cd",
   "metadata": {},
   "outputs": [],
   "source": [
    "a = int()\n",
    "b = float()\n",
    "c = str()"
   ]
  },
  {
   "cell_type": "code",
   "execution_count": 11,
   "id": "9700f38b-f6b0-437a-99af-907b13871969",
   "metadata": {},
   "outputs": [
    {
     "data": {
      "text/plain": [
       "'I have eaten 99 burritos.'"
      ]
     },
     "execution_count": 11,
     "metadata": {},
     "output_type": "execute_result"
    }
   ],
   "source": [
    "#10. Why does this expression cause an error? How can you fix it?\n",
    "#'I have eaten ' + 99 + ' burritos.'\n",
    "'I have eaten ' + \"99\" + ' burritos.'"
   ]
  },
  {
   "cell_type": "code",
   "execution_count": null,
   "id": "bb3fd33d-d4ab-468f-8ad0-1514e1b6a9db",
   "metadata": {},
   "outputs": [],
   "source": []
  }
 ],
 "metadata": {
  "kernelspec": {
   "display_name": "Python 3 (ipykernel)",
   "language": "python",
   "name": "python3"
  },
  "language_info": {
   "codemirror_mode": {
    "name": "ipython",
    "version": 3
   },
   "file_extension": ".py",
   "mimetype": "text/x-python",
   "name": "python",
   "nbconvert_exporter": "python",
   "pygments_lexer": "ipython3",
   "version": "3.10.6"
  }
 },
 "nbformat": 4,
 "nbformat_minor": 5
}

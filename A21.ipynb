{
  "nbformat": 4,
  "nbformat_minor": 0,
  "metadata": {
    "colab": {
      "provenance": []
    },
    "kernelspec": {
      "name": "python3",
      "display_name": "Python 3"
    },
    "language_info": {
      "name": "python"
    }
  },
  "cells": [
    {
      "cell_type": "markdown",
      "source": [
        "1. Add the current date to the text file today.txt as a string."
      ],
      "metadata": {
        "id": "fKt7htYTOnX8"
      }
    },
    {
      "cell_type": "code",
      "source": [
        "from datetime import date\n",
        "\n",
        "# Get the current date\n",
        "current_date = date.today()\n",
        "\n",
        "# Open the file in append mode\n",
        "with open('today.txt', 'a') as file:\n",
        "    # Write the current date to the file\n",
        "    file.write(str(current_date))"
      ],
      "metadata": {
        "id": "70AhM4PNPU_r"
      },
      "execution_count": 1,
      "outputs": []
    },
    {
      "cell_type": "markdown",
      "source": [
        "2. Read the text file today.txt into the string today_string"
      ],
      "metadata": {
        "id": "GptYDL07Pa1P"
      }
    },
    {
      "cell_type": "code",
      "source": [
        "with open('today.txt', 'r') as file:\n",
        "    today_string = file.read()\n",
        "\n",
        "print(today_string)"
      ],
      "metadata": {
        "colab": {
          "base_uri": "https://localhost:8080/"
        },
        "id": "RXfaRmg8Pgzx",
        "outputId": "01c6224c-26ca-49aa-9a62-3e6f67afbc0b"
      },
      "execution_count": 2,
      "outputs": [
        {
          "output_type": "stream",
          "name": "stdout",
          "text": [
            "2023-07-14\n"
          ]
        }
      ]
    },
    {
      "cell_type": "markdown",
      "source": [
        "3. Parse the date from today_string."
      ],
      "metadata": {
        "id": "SfCwN3DuPjIG"
      }
    },
    {
      "cell_type": "code",
      "source": [
        "from datetime import datetime\n",
        "\n",
        "# Parse the date from today_string\n",
        "parsed_date = datetime.strptime(today_string.strip(), \"%Y-%m-%d\")\n",
        "\n",
        "print(parsed_date)"
      ],
      "metadata": {
        "colab": {
          "base_uri": "https://localhost:8080/"
        },
        "id": "oM6HNAffPmaY",
        "outputId": "8cc194a2-896c-4627-8d11-dc72a551c515"
      },
      "execution_count": 3,
      "outputs": [
        {
          "output_type": "stream",
          "name": "stdout",
          "text": [
            "2023-07-14 00:00:00\n"
          ]
        }
      ]
    },
    {
      "cell_type": "markdown",
      "source": [
        "4. List the files in your current directory"
      ],
      "metadata": {
        "id": "GPLZ4-GLPpIp"
      }
    },
    {
      "cell_type": "code",
      "source": [
        "import os\n",
        "\n",
        "# Get the current directory\n",
        "current_dir = os.getcwd()\n",
        "\n",
        "# List the files in the current directory\n",
        "file_list = os.listdir(current_dir)\n",
        "\n",
        "# Print the file names\n",
        "for file in file_list:\n",
        "    print(file)\n"
      ],
      "metadata": {
        "colab": {
          "base_uri": "https://localhost:8080/"
        },
        "id": "yLfc8bSUPtF8",
        "outputId": "91fce7f7-1323-4ed7-b625-1361c7eb0f7a"
      },
      "execution_count": 4,
      "outputs": [
        {
          "output_type": "stream",
          "name": "stdout",
          "text": [
            ".config\n",
            "today.txt\n",
            "sample_data\n"
          ]
        }
      ]
    },
    {
      "cell_type": "markdown",
      "source": [
        "5. Create a list of all of the files in your parent directory (minimum five files should be available)."
      ],
      "metadata": {
        "id": "FOjx0vnePvz8"
      }
    },
    {
      "cell_type": "code",
      "source": [
        "import os\n",
        "\n",
        "# Get the current directory\n",
        "current_dir = os.getcwd()\n",
        "\n",
        "# Get the parent directory\n",
        "parent_dir = os.path.dirname(current_dir)\n",
        "\n",
        "# List the files in the parent directory\n",
        "file_list = os.listdir(parent_dir)\n",
        "\n",
        "# Filter out directories from the file list\n",
        "file_list = [file for file in file_list if os.path.isfile(os.path.join(parent_dir, file))]\n",
        "\n",
        "# Print the file names\n",
        "for file in file_list:\n",
        "    print(file)\n"
      ],
      "metadata": {
        "colab": {
          "base_uri": "https://localhost:8080/"
        },
        "id": "Q8zuwMEGP1dU",
        "outputId": "f7346038-059c-4b8f-d33c-9757e7cc21f3"
      },
      "execution_count": 5,
      "outputs": [
        {
          "output_type": "stream",
          "name": "stdout",
          "text": [
            ".dockerenv\n",
            "NGC-DL-CONTAINER-LICENSE\n"
          ]
        }
      ]
    },
    {
      "cell_type": "markdown",
      "source": [
        "6. Use multiprocessing to create three separate processes. Make each one wait a random number of seconds between one and five, print the current time, and then exit."
      ],
      "metadata": {
        "id": "KfZdMb2bP34n"
      }
    },
    {
      "cell_type": "code",
      "source": [
        "import multiprocessing\n",
        "import time\n",
        "import random\n",
        "from datetime import datetime\n",
        "\n",
        "def worker():\n",
        "    wait_time = random.randint(1, 5)\n",
        "    time.sleep(wait_time)\n",
        "    current_time = datetime.now().strftime(\"%Y-%m-%d %H:%M:%S\")\n",
        "    print(f\"Process {multiprocessing.current_process().name}: Current Time - {current_time}\")\n",
        "\n",
        "if __name__ == '__main__':\n",
        "    processes = []\n",
        "    for i in range(3):\n",
        "        p = multiprocessing.Process(target=worker)\n",
        "        p.start()\n",
        "        processes.append(p)\n",
        "\n",
        "    for p in processes:\n",
        "        p.join()\n"
      ],
      "metadata": {
        "colab": {
          "base_uri": "https://localhost:8080/"
        },
        "id": "Q7eKBrjdP8As",
        "outputId": "bbdd0e0e-f13b-421a-df46-d0453eb94f78"
      },
      "execution_count": 6,
      "outputs": [
        {
          "output_type": "stream",
          "name": "stdout",
          "text": [
            "Process Process-2: Current Time - 2023-07-14 11:53:35\n",
            "Process Process-3: Current Time - 2023-07-14 11:53:35\n",
            "Process Process-1: Current Time - 2023-07-14 11:53:38\n"
          ]
        }
      ]
    },
    {
      "cell_type": "markdown",
      "source": [
        "7. Create a date object of your day of birth."
      ],
      "metadata": {
        "id": "DDfYaWpiP-DF"
      }
    },
    {
      "cell_type": "code",
      "source": [
        "from datetime import date\n",
        "\n",
        "birth_date = date(1997, 4, 25)\n",
        "print(birth_date)\n"
      ],
      "metadata": {
        "colab": {
          "base_uri": "https://localhost:8080/"
        },
        "id": "Ljaefpd4QCnv",
        "outputId": "88223d94-d5d1-428a-f871-2850e0e6fca4"
      },
      "execution_count": 8,
      "outputs": [
        {
          "output_type": "stream",
          "name": "stdout",
          "text": [
            "1997-04-25\n"
          ]
        }
      ]
    },
    {
      "cell_type": "markdown",
      "source": [
        "8. What day of the week was your day of birth?"
      ],
      "metadata": {
        "id": "0G7WPa77QH3R"
      }
    },
    {
      "cell_type": "code",
      "source": [
        "from datetime import date\n",
        "\n",
        "birth_date = date(1997, 4, 25)\n",
        "day_of_week = birth_date.strftime('%A')\n",
        "print(day_of_week)\n"
      ],
      "metadata": {
        "colab": {
          "base_uri": "https://localhost:8080/"
        },
        "id": "xw-sZUBLQJyL",
        "outputId": "2d31f562-d0f0-4fc2-9710-da99a5339402"
      },
      "execution_count": 9,
      "outputs": [
        {
          "output_type": "stream",
          "name": "stdout",
          "text": [
            "Friday\n"
          ]
        }
      ]
    },
    {
      "cell_type": "markdown",
      "source": [
        "9. When will you be (or when were you) 10,000 days old?"
      ],
      "metadata": {
        "id": "39K1ktOTQRgB"
      }
    },
    {
      "cell_type": "code",
      "source": [
        "from datetime import date, timedelta\n",
        "\n",
        "birth_date = date(1997, 4, 25)\n",
        "age = timedelta(days=10000)\n",
        "target_date = birth_date + age\n",
        "print(target_date)\n"
      ],
      "metadata": {
        "colab": {
          "base_uri": "https://localhost:8080/"
        },
        "id": "5Ew4D5eHQSb0",
        "outputId": "e2c55325-c590-4e49-dc66-49918f3c4a30"
      },
      "execution_count": 10,
      "outputs": [
        {
          "output_type": "stream",
          "name": "stdout",
          "text": [
            "2024-09-10\n"
          ]
        }
      ]
    }
  ]
}
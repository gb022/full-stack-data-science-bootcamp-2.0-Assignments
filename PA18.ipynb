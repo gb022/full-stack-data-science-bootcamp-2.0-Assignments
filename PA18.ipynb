{
  "nbformat": 4,
  "nbformat_minor": 0,
  "metadata": {
    "colab": {
      "provenance": []
    },
    "kernelspec": {
      "name": "python3",
      "display_name": "Python 3"
    },
    "language_info": {
      "name": "python"
    }
  },
  "cells": [
    {
      "cell_type": "code",
      "source": [
        "# Question 1\n",
        "'''Create a function that takes a list of non-negative integers and strings and return a new list\n",
        "without the strings.\n",
        "Examples\n",
        "filter_list([1, 2, &quot;a&quot;, &quot;b&quot;]) ➞ [1, 2]\n",
        "filter_list([1, &quot;a&quot;, &quot;b&quot;, 0, 15]) ➞ [1, 0, 15]\n",
        "filter_list([1, 2, &quot;aasf&quot;, &quot;1&quot;, &quot;123&quot;, 123]) ➞ [1, 2, 123]'''"
      ],
      "metadata": {
        "colab": {
          "base_uri": "https://localhost:8080/",
          "height": 70
        },
        "id": "J4OUSoDV5CG5",
        "outputId": "1e6b9533-f4b3-4b22-dc1f-88b2a006c7c5"
      },
      "execution_count": 22,
      "outputs": [
        {
          "output_type": "execute_result",
          "data": {
            "text/plain": [
              "'Create a function that takes a list of non-negative integers and strings and return a new list\\nwithout the strings.\\nExamples\\nfilter_list([1, 2, &quot;a&quot;, &quot;b&quot;]) ➞ [1, 2]\\nfilter_list([1, &quot;a&quot;, &quot;b&quot;, 0, 15]) ➞ [1, 0, 15]\\nfilter_list([1, 2, &quot;aasf&quot;, &quot;1&quot;, &quot;123&quot;, 123]) ➞ [1, 2, 123]'"
            ],
            "application/vnd.google.colaboratory.intrinsic+json": {
              "type": "string"
            }
          },
          "metadata": {},
          "execution_count": 22
        }
      ]
    },
    {
      "cell_type": "code",
      "source": [
        "#  Here's a Python implementation of the filter_list function that removes strings from a list of non-negative integers and strings:\n",
        "def filter_list(lst):\n",
        "    return [x for x in lst if isinstance(x, int)]\n",
        "\n",
        "# Example usage\n",
        "print(filter_list([1, 2, \"a\", \"b\"]))  # Output: [1, 2]\n",
        "print(filter_list([1, \"a\", \"b\", 0, 15]))  # Output: [1, 0, 15]\n",
        "print(filter_list([1, 2, \"aasf\", \"1\", \"123\", 123]))  # Output: [1, 2, 123]\n"
      ],
      "metadata": {
        "colab": {
          "base_uri": "https://localhost:8080/"
        },
        "id": "qfEYyCb25-ty",
        "outputId": "b2cc49a5-563f-4d23-e61a-97a3518bedf3"
      },
      "execution_count": 24,
      "outputs": [
        {
          "output_type": "stream",
          "name": "stdout",
          "text": [
            "[1, 2]\n",
            "[1, 0, 15]\n",
            "[1, 2, 123]\n"
          ]
        }
      ]
    },
    {
      "cell_type": "code",
      "source": [
        "# Question 2\n",
        "'''The &quot;Reverser&quot; takes a string as input and returns that string in reverse order, with the\n",
        "opposite case.\n",
        "Examples\n",
        "reverse(&quot;Hello World&quot;) ➞ &quot;DLROw OLLEh&quot;\n",
        "reverse(&quot;ReVeRsE&quot;) ➞ &quot;eSrEvEr&quot;\n",
        "reverse(&quot;Radar&quot;) ➞ &quot;RADAr&quot;'''"
      ],
      "metadata": {
        "colab": {
          "base_uri": "https://localhost:8080/",
          "height": 53
        },
        "id": "UvwCKJen6Yi-",
        "outputId": "837bffe2-9e19-4638-cd3b-59b81111d7d2"
      },
      "execution_count": 25,
      "outputs": [
        {
          "output_type": "execute_result",
          "data": {
            "text/plain": [
              "'The &quot;Reverser&quot; takes a string as input and returns that string in reverse order, with the\\nopposite case.\\nExamples\\nreverse(&quot;Hello World&quot;) ➞ &quot;DLROw OLLEh&quot;\\nreverse(&quot;ReVeRsE&quot;) ➞ &quot;eSrEvEr&quot;\\nreverse(&quot;Radar&quot;) ➞ &quot;RADAr&quot;'"
            ],
            "application/vnd.google.colaboratory.intrinsic+json": {
              "type": "string"
            }
          },
          "metadata": {},
          "execution_count": 25
        }
      ]
    },
    {
      "cell_type": "code",
      "source": [
        "'''Here's a Python implementation of the \"Reverser\" function that takes a string as input, reverses the order of characters,\n",
        "and changes the case of each character:'''\n",
        "def reverse(string):\n",
        "    reversed_string = string[::-1]  # Reverse the string using slicing\n",
        "    result = \"\"\n",
        "    for char in reversed_string:\n",
        "        if char.islower():\n",
        "            result += char.upper()  # Convert lowercase to uppercase\n",
        "        elif char.isupper():\n",
        "            result += char.lower()  # Convert uppercase to lowercase\n",
        "        else:\n",
        "            result += char  # Keep non-alphabetic characters as they are\n",
        "    return result\n",
        "\n",
        "# Example usage\n",
        "print(reverse(\"Hello World\"))  # Output: \"DLROw OLLEh\"\n",
        "print(reverse(\"ReVeRsE\"))  # Output: \"eSrEvEr\"\n",
        "print(reverse(\"Radar\"))  # Output: \"RADAr\"\n"
      ],
      "metadata": {
        "colab": {
          "base_uri": "https://localhost:8080/"
        },
        "id": "b8B8v1NH6i91",
        "outputId": "056d99bc-7550-4e7a-8070-07ecb0e120c0"
      },
      "execution_count": 26,
      "outputs": [
        {
          "output_type": "stream",
          "name": "stdout",
          "text": [
            "DLROw OLLEh\n",
            "eSrEvEr\n",
            "RADAr\n"
          ]
        }
      ]
    },
    {
      "cell_type": "code",
      "source": [
        "# Question 3\n",
        "'''You can assign variables from lists like this:\n",
        "lst = [1, 2, 3, 4, 5, 6]\n",
        "first = lst[0]\n",
        "middle = lst[1:-1]\n",
        "last = lst[-1]\n",
        "print(first) ➞ outputs 1\n",
        "print(middle) ➞ outputs [2, 3, 4, 5]\n",
        "print(last) ➞ outputs 6\n",
        "With Python 3, you can assign variables from lists in a much more succinct way. Create\n",
        "variables first, middle and last from the given list using destructuring assignment\n",
        "(check the Resources tab for some examples), where:\n",
        "first ➞ 1\n",
        "middle ➞ [2, 3, 4, 5]\n",
        "last ➞ 6\n",
        "\n",
        "Your task is to unpack the list writeyourcodehere into three variables, being first,\n",
        "middle, and last, with middle being everything in between the first and last element. Then\n",
        "print all three variables.'''"
      ],
      "metadata": {
        "colab": {
          "base_uri": "https://localhost:8080/",
          "height": 105
        },
        "id": "Mgh82OVi633c",
        "outputId": "155acfbd-7d19-42b2-b6c0-ccb28b0c3b57"
      },
      "execution_count": 27,
      "outputs": [
        {
          "output_type": "execute_result",
          "data": {
            "text/plain": [
              "'You can assign variables from lists like this:\\nlst = [1, 2, 3, 4, 5, 6]\\nfirst = lst[0]\\nmiddle = lst[1:-1]\\nlast = lst[-1]\\nprint(first) ➞ outputs 1\\nprint(middle) ➞ outputs [2, 3, 4, 5]\\nprint(last) ➞ outputs 6\\nWith Python 3, you can assign variables from lists in a much more succinct way. Create\\nvariables first, middle and last from the given list using destructuring assignment\\n(check the Resources tab for some examples), where:\\nfirst ➞ 1\\nmiddle ➞ [2, 3, 4, 5]\\nlast ➞ 6\\n\\nYour task is to unpack the list writeyourcodehere into three variables, being first,\\nmiddle, and last, with middle being everything in between the first and last element. Then\\nprint all three variables.'"
            ],
            "application/vnd.google.colaboratory.intrinsic+json": {
              "type": "string"
            }
          },
          "metadata": {},
          "execution_count": 27
        }
      ]
    },
    {
      "cell_type": "code",
      "source": [
        "# To unpack the list writeyourcodehere into three variables (first, middle, and last), we can use destructuring assignment in Python\n",
        "writeyourcodehere = [1, 2, 3, 4, 5, 6]\n",
        "\n",
        "first, *middle, last = writeyourcodehere\n",
        "\n",
        "print(first)  # Output: 1\n",
        "print(middle)  # Output: [2, 3, 4, 5]\n",
        "print(last)  # Output: 6\n"
      ],
      "metadata": {
        "colab": {
          "base_uri": "https://localhost:8080/"
        },
        "id": "5jhKRS247OQH",
        "outputId": "71d9daeb-0f90-4c7d-c4de-812581f7049b"
      },
      "execution_count": 28,
      "outputs": [
        {
          "output_type": "stream",
          "name": "stdout",
          "text": [
            "1\n",
            "[2, 3, 4, 5]\n",
            "6\n"
          ]
        }
      ]
    },
    {
      "cell_type": "code",
      "source": [
        "# Question 4\n",
        "'''Write a function that calculates the factorial of a number recursively.\n",
        "Examples\n",
        "factorial(5) ➞ 120\n",
        "factorial(3) ➞ 6\n",
        "factorial(1) ➞ 1\n",
        "factorial(0) ➞ 1'''"
      ],
      "metadata": {
        "colab": {
          "base_uri": "https://localhost:8080/",
          "height": 35
        },
        "id": "XGhNTSFw714k",
        "outputId": "f1a8da1a-c01f-40e3-a47f-5cb5053cfa9d"
      },
      "execution_count": 29,
      "outputs": [
        {
          "output_type": "execute_result",
          "data": {
            "text/plain": [
              "'Write a function that calculates the factorial of a number recursively.\\nExamples\\nfactorial(5) ➞ 120\\nfactorial(3) ➞ 6\\nfactorial(1) ➞ 1\\nfactorial(0) ➞ 1'"
            ],
            "application/vnd.google.colaboratory.intrinsic+json": {
              "type": "string"
            }
          },
          "metadata": {},
          "execution_count": 29
        }
      ]
    },
    {
      "cell_type": "code",
      "source": [
        "# Here's a recursive implementation of a factorial function in Python:\n",
        "def factorial(n):\n",
        "    if n == 0 or n == 1:\n",
        "        return 1\n",
        "    else:\n",
        "        return n * factorial(n - 1)\n",
        "\n",
        "# Example usage\n",
        "print(factorial(5))  # Output: 120\n",
        "print(factorial(3))  # Output: 6\n",
        "print(factorial(1))  # Output: 1\n",
        "print(factorial(0))  # Output: 1\n"
      ],
      "metadata": {
        "colab": {
          "base_uri": "https://localhost:8080/"
        },
        "id": "9HiIiZav78Br",
        "outputId": "48263c79-2dcf-4867-b559-3f05194d359c"
      },
      "execution_count": 30,
      "outputs": [
        {
          "output_type": "stream",
          "name": "stdout",
          "text": [
            "120\n",
            "6\n",
            "1\n",
            "1\n"
          ]
        }
      ]
    },
    {
      "cell_type": "code",
      "source": [
        "# Question 5\n",
        "'''Write a function that moves all elements of one type to the end of the list.\n",
        "Examples\n",
        "move_to_end([1, 3, 2, 4, 4, 1], 1) ➞ [3, 2, 4, 4, 1, 1]\n",
        "# Move all the 1s to the end of the array.\n",
        "move_to_end([7, 8, 9, 1, 2, 3, 4], 9) ➞ [7, 8, 1, 2, 3, 4, 9]\n",
        "move_to_end([&quot;a&quot;, &quot;a&quot;, &quot;a&quot;, &quot;b&quot;], &quot;a&quot;) ➞ [&quot;b&quot;, &quot;a&quot;, &quot;a&quot;, &quot;a&quot;]'''"
      ],
      "metadata": {
        "colab": {
          "base_uri": "https://localhost:8080/",
          "height": 70
        },
        "id": "y6WeHo5B8P--",
        "outputId": "9ab8cf34-7368-4179-c8a4-5a62780d4e77"
      },
      "execution_count": 31,
      "outputs": [
        {
          "output_type": "execute_result",
          "data": {
            "text/plain": [
              "'Write a function that moves all elements of one type to the end of the list.\\nExamples\\nmove_to_end([1, 3, 2, 4, 4, 1], 1) ➞ [3, 2, 4, 4, 1, 1]\\n# Move all the 1s to the end of the array.\\nmove_to_end([7, 8, 9, 1, 2, 3, 4], 9) ➞ [7, 8, 1, 2, 3, 4, 9]\\nmove_to_end([&quot;a&quot;, &quot;a&quot;, &quot;a&quot;, &quot;b&quot;], &quot;a&quot;) ➞ [&quot;b&quot;, &quot;a&quot;, &quot;a&quot;, &quot;a&quot;]'"
            ],
            "application/vnd.google.colaboratory.intrinsic+json": {
              "type": "string"
            }
          },
          "metadata": {},
          "execution_count": 31
        }
      ]
    },
    {
      "cell_type": "code",
      "source": [
        "# Here's a Python implementation of the move_to_end function that moves all elements of a given type to the end of the list:\n",
        "def move_to_end(lst, element):\n",
        "    count = lst.count(element)  # Count the occurrences of the element in the list\n",
        "    lst = [x for x in lst if x != element]  # Create a new list excluding the element\n",
        "    lst.extend([element] * count)  # Add the element to the end of the list 'count' times\n",
        "    return lst\n",
        "\n",
        "# Example usage\n",
        "print(move_to_end([1, 3, 2, 4, 4, 1], 1))  # Output: [3, 2, 4, 4, 1, 1]\n",
        "print(move_to_end([7, 8, 9, 1, 2, 3, 4], 9))  # Output: [7, 8, 1, 2, 3, 4, 9]\n",
        "print(move_to_end([\"a\", \"a\", \"a\", \"b\"], \"a\"))  # Output: [\"b\", \"a\", \"a\", \"a\"]\n"
      ],
      "metadata": {
        "colab": {
          "base_uri": "https://localhost:8080/"
        },
        "id": "3lh_ynZF8aW0",
        "outputId": "c8b1aa7c-fcc4-4744-8445-bc43e140f847"
      },
      "execution_count": 32,
      "outputs": [
        {
          "output_type": "stream",
          "name": "stdout",
          "text": [
            "[3, 2, 4, 4, 1, 1]\n",
            "[7, 8, 1, 2, 3, 4, 9]\n",
            "['b', 'a', 'a', 'a']\n"
          ]
        }
      ]
    },
    {
      "cell_type": "code",
      "source": [],
      "metadata": {
        "id": "sXr0huH88j_R"
      },
      "execution_count": null,
      "outputs": []
    }
  ]
}
{
  "nbformat": 4,
  "nbformat_minor": 0,
  "metadata": {
    "colab": {
      "provenance": []
    },
    "kernelspec": {
      "name": "python3",
      "display_name": "Python 3"
    },
    "language_info": {
      "name": "python"
    }
  },
  "cells": [
    {
      "cell_type": "code",
      "execution_count": null,
      "metadata": {
        "id": "jO0SQWSLrm_X"
      },
      "outputs": [],
      "source": [
        "# 1. Write a Python Program to Display Fibonacci Sequence Using Recursion?"
      ]
    },
    {
      "cell_type": "code",
      "source": [
        "# Here's a Python program that displays the Fibonacci sequence using recursion:\n",
        "def fibonacci(n):\n",
        "    if n <= 0:\n",
        "        return []\n",
        "    elif n == 1:\n",
        "        return [0]\n",
        "    elif n == 2:\n",
        "        return [0, 1]\n",
        "    else:\n",
        "        sequence = fibonacci(n - 1)\n",
        "        sequence.append(sequence[-1] + sequence[-2])\n",
        "        return sequence\n",
        "\n",
        "# Taking input from the user\n",
        "terms = int(input(\"Enter the number of terms: \"))\n",
        "\n",
        "# Displaying the Fibonacci sequence\n",
        "fib_sequence = fibonacci(terms)\n",
        "print(\"Fibonacci Sequence:\")\n",
        "print(fib_sequence)\n"
      ],
      "metadata": {
        "id": "mSVDZ-3mrylV"
      },
      "execution_count": null,
      "outputs": []
    },
    {
      "cell_type": "code",
      "source": [
        "# 2. Write a Python Program to Find Factorial of Number Using Recursion?"
      ],
      "metadata": {
        "id": "K47G35YBsN8o"
      },
      "execution_count": null,
      "outputs": []
    },
    {
      "cell_type": "code",
      "source": [
        "# Here's a Python program that finds the factorial of a number using recursion:\n",
        "def factorial(n):\n",
        "    if n == 0:\n",
        "        return 1\n",
        "    else:\n",
        "        return n * factorial(n - 1)\n",
        "\n",
        "# Taking input from the user\n",
        "number = int(input(\"Enter a number: \"))\n",
        "\n",
        "# Calculating the factorial\n",
        "result = factorial(number)\n",
        "\n",
        "# Displaying the result\n",
        "print(\"Factorial of\", number, \"is\", result)\n"
      ],
      "metadata": {
        "colab": {
          "base_uri": "https://localhost:8080/"
        },
        "id": "gn3Mwo_osXgV",
        "outputId": "32ec6a7a-ac9f-4bf0-dc83-a183d886771a"
      },
      "execution_count": null,
      "outputs": [
        {
          "output_type": "stream",
          "name": "stdout",
          "text": [
            "Enter a number: 5\n",
            "Factorial of 5 is 120\n"
          ]
        }
      ]
    },
    {
      "cell_type": "code",
      "source": [
        "# 3. Write a Python Program to calculate your Body Mass Index?"
      ],
      "metadata": {
        "id": "w-X3dzU8see2"
      },
      "execution_count": null,
      "outputs": []
    },
    {
      "cell_type": "code",
      "source": [
        "# Here's a Python program that calculates the Body Mass Index (BMI):\n",
        "def calculate_bmi(weight, height):\n",
        "    bmi = weight / (height ** 2)\n",
        "    return bmi\n",
        "\n",
        "# Taking input from the user\n",
        "weight = float(input(\"Enter your weight in kilograms: \"))\n",
        "height = float(input(\"Enter your height in meters: \"))\n",
        "\n",
        "# Calculating the BMI\n",
        "bmi = calculate_bmi(weight, height)\n",
        "\n",
        "# Displaying the result\n",
        "print(\"Your Body Mass Index (BMI) is:\", bmi)\n"
      ],
      "metadata": {
        "colab": {
          "base_uri": "https://localhost:8080/"
        },
        "id": "OD_fPB1RtAWF",
        "outputId": "cbb8661c-2f40-448e-afd1-ce310c0b852c"
      },
      "execution_count": null,
      "outputs": [
        {
          "output_type": "stream",
          "name": "stdout",
          "text": [
            "Enter your weight in kilograms: 92\n",
            "Enter your height in meters:  1.70\n",
            "Your Body Mass Index (BMI) is: 31.83391003460208\n"
          ]
        }
      ]
    },
    {
      "cell_type": "code",
      "source": [
        "# 4. Write a Python Program to calculate the natural logarithm of any number?"
      ],
      "metadata": {
        "id": "_t3nsrkDtMW8"
      },
      "execution_count": null,
      "outputs": []
    },
    {
      "cell_type": "code",
      "source": [
        "# To calculate the natural logarithm of a number in Python, we can use the math module. Here's a program that demonstrates this:\n",
        "import math\n",
        "\n",
        "# Taking input from the user\n",
        "number = float(input(\"Enter a number: \"))\n",
        "\n",
        "# Calculating the natural logarithm\n",
        "logarithm = math.log(number)\n",
        "\n",
        "# Displaying the result\n",
        "print(\"The natural logarithm of\", number, \"is\", logarithm)"
      ],
      "metadata": {
        "colab": {
          "base_uri": "https://localhost:8080/"
        },
        "id": "cxmOpLxytXyo",
        "outputId": "7837788b-aa5d-4559-b2ab-b0e4460d1dd3"
      },
      "execution_count": null,
      "outputs": [
        {
          "output_type": "stream",
          "name": "stdout",
          "text": [
            "Enter a number:  12\n",
            "The natural logarithm of 12.0 is 2.4849066497880004\n"
          ]
        }
      ]
    },
    {
      "cell_type": "code",
      "source": [
        "# 5. Write a Python Program for cube sum of first n natural numbers?"
      ],
      "metadata": {
        "id": "KNwdeUC3uO2r"
      },
      "execution_count": null,
      "outputs": []
    },
    {
      "cell_type": "code",
      "source": [
        "# Here's a Python program that calculates the cube sum of the first n natural numbers:\n",
        "def cube_sum(n):\n",
        "    sum = 0\n",
        "    for i in range(1, n + 1):\n",
        "        sum += i ** 3\n",
        "    return sum\n",
        "\n",
        "# Taking input from the user\n",
        "n = int(input(\"Enter the value of n: \"))\n",
        "\n",
        "# Calculating the cube sum\n",
        "result = cube_sum(n)\n",
        "\n",
        "# Displaying the result\n",
        "print(\"The cube sum of the first\", n, \"natural numbers is:\", result)\n"
      ],
      "metadata": {
        "colab": {
          "base_uri": "https://localhost:8080/"
        },
        "id": "Lvi9-x4ruUo7",
        "outputId": "d0b18f06-a859-4230-e3f9-15839d1aa9ba"
      },
      "execution_count": null,
      "outputs": [
        {
          "output_type": "stream",
          "name": "stdout",
          "text": [
            "Enter the value of n: 6\n",
            "The cube sum of the first 6 natural numbers is: 441\n"
          ]
        }
      ]
    },
    {
      "cell_type": "code",
      "source": [
        "# 1. Write a Python Program to find sum of array?"
      ],
      "metadata": {
        "id": "Nr1LRIw_ulab"
      },
      "execution_count": 11,
      "outputs": []
    },
    {
      "cell_type": "code",
      "source": [
        "# Here's a Python program that calculates the sum of an array:\n",
        "def array_sum(arr):\n",
        "    sum = 0\n",
        "    for num in arr:\n",
        "        sum += num\n",
        "    return sum\n",
        "\n",
        "# Example usage\n",
        "numbers = [1, 2, 3, 4, 5]\n",
        "result = array_sum(numbers)\n",
        "print(\"Sum of the array:\", result)\n"
      ],
      "metadata": {
        "colab": {
          "base_uri": "https://localhost:8080/"
        },
        "id": "c1vpsCsX-2i2",
        "outputId": "bb10c4fd-bd12-41cf-d30e-e9fa0c20257f"
      },
      "execution_count": 12,
      "outputs": [
        {
          "output_type": "stream",
          "name": "stdout",
          "text": [
            "Sum of the array: 15\n"
          ]
        }
      ]
    },
    {
      "cell_type": "code",
      "source": [
        "# 2. Write a Python Program to find largest element in an array?"
      ],
      "metadata": {
        "id": "jy0dfn8E-_XI"
      },
      "execution_count": 13,
      "outputs": []
    },
    {
      "cell_type": "code",
      "source": [
        "# Here's a Python program that finds the largest element in an array:\n",
        "def find_largest_element(arr):\n",
        "    largest = arr[0]\n",
        "    for num in arr:\n",
        "        if num > largest:\n",
        "            largest = num\n",
        "    return largest\n",
        "\n",
        "# Example usage\n",
        "numbers = [1, 6, 3, 8, 2]\n",
        "largest_number = find_largest_element(numbers)\n",
        "print(\"Largest element:\", largest_number)\n"
      ],
      "metadata": {
        "colab": {
          "base_uri": "https://localhost:8080/"
        },
        "id": "li8dyj5w_FnM",
        "outputId": "7f4f8b05-9650-4dd4-f1c0-3ab61d83086a"
      },
      "execution_count": 14,
      "outputs": [
        {
          "output_type": "stream",
          "name": "stdout",
          "text": [
            "Largest element: 8\n"
          ]
        }
      ]
    },
    {
      "cell_type": "code",
      "source": [
        "# 3. Write a Python Program for array rotation?"
      ],
      "metadata": {
        "id": "3bNHRPgT_KiO"
      },
      "execution_count": 15,
      "outputs": []
    },
    {
      "cell_type": "code",
      "source": [
        "# Here's a Python program that performs array rotation\n",
        "def rotate_array(arr, rotations):\n",
        "    length = len(arr)\n",
        "    rotations = rotations % length  # To handle rotations greater than array length\n",
        "    rotated_arr = arr[rotations:] + arr[:rotations]\n",
        "    return rotated_arr\n",
        "\n",
        "# Example usage\n",
        "numbers = [1, 2, 3, 4, 5]\n",
        "rotated_numbers = rotate_array(numbers, 2)\n",
        "print(\"Original array:\", numbers)\n",
        "print(\"Rotated array:\", rotated_numbers)\n"
      ],
      "metadata": {
        "colab": {
          "base_uri": "https://localhost:8080/"
        },
        "id": "_NlMUvmy_OqV",
        "outputId": "2e09e2f0-a9ce-4c06-eaf6-d855e3bae520"
      },
      "execution_count": 16,
      "outputs": [
        {
          "output_type": "stream",
          "name": "stdout",
          "text": [
            "Original array: [1, 2, 3, 4, 5]\n",
            "Rotated array: [3, 4, 5, 1, 2]\n"
          ]
        }
      ]
    },
    {
      "cell_type": "code",
      "source": [
        "# 4. Write a Python Program to Split the array and add the first part to the end?"
      ],
      "metadata": {
        "id": "v9Lk4_jl_W5B"
      },
      "execution_count": 17,
      "outputs": []
    },
    {
      "cell_type": "code",
      "source": [
        "# Here's a Python program that splits an array and adds the first part to the end:\n",
        "def split_and_add(arr, split_index):\n",
        "    first_part = arr[:split_index]\n",
        "    second_part = arr[split_index:]\n",
        "    return second_part + first_part\n",
        "\n",
        "# Example usage\n",
        "numbers = [1, 2, 3, 4, 5]\n",
        "split_index = 2\n",
        "result = split_and_add(numbers, split_index)\n",
        "print(\"Original array:\", numbers)\n",
        "print(\"Split and added array:\", result)\n"
      ],
      "metadata": {
        "colab": {
          "base_uri": "https://localhost:8080/"
        },
        "id": "ga5IvBjv_fQZ",
        "outputId": "88e9be25-6ce8-441d-c734-eb7b5d798827"
      },
      "execution_count": 18,
      "outputs": [
        {
          "output_type": "stream",
          "name": "stdout",
          "text": [
            "Original array: [1, 2, 3, 4, 5]\n",
            "Split and added array: [3, 4, 5, 1, 2]\n"
          ]
        }
      ]
    },
    {
      "cell_type": "code",
      "source": [
        "# 5. Write a Python Program to check if given array is Monotonic?"
      ],
      "metadata": {
        "id": "1hnetcfg_lCP"
      },
      "execution_count": 19,
      "outputs": []
    },
    {
      "cell_type": "code",
      "source": [
        "# Here's a Python program that checks if a given array is monotonic:\n",
        "def is_monotonic(arr):\n",
        "    increasing = decreasing = True\n",
        "\n",
        "    for i in range(1, len(arr)):\n",
        "        if arr[i] > arr[i - 1]:\n",
        "            decreasing = False\n",
        "        elif arr[i] < arr[i - 1]:\n",
        "            increasing = False\n",
        "\n",
        "    return increasing or decreasing\n",
        "\n",
        "# Example usage\n",
        "numbers1 = [1, 2, 3, 4, 5]\n",
        "numbers2 = [5, 4, 3, 2, 1]\n",
        "numbers3 = [1, 2, 2, 4, 5]\n",
        "\n",
        "print(\"Is numbers1 monotonic?\", is_monotonic(numbers1))\n",
        "print(\"Is numbers2 monotonic?\", is_monotonic(numbers2))\n",
        "print(\"Is numbers3 monotonic?\", is_monotonic(numbers3))\n"
      ],
      "metadata": {
        "colab": {
          "base_uri": "https://localhost:8080/"
        },
        "id": "MERSwRGN_vw_",
        "outputId": "7d0e0617-a4d5-4213-e030-6ed914f0b8c4"
      },
      "execution_count": 20,
      "outputs": [
        {
          "output_type": "stream",
          "name": "stdout",
          "text": [
            "Is numbers1 monotonic? True\n",
            "Is numbers2 monotonic? True\n",
            "Is numbers3 monotonic? True\n"
          ]
        }
      ]
    },
    {
      "cell_type": "code",
      "source": [],
      "metadata": {
        "id": "ZWp8BBbAAI_N"
      },
      "execution_count": null,
      "outputs": []
    }
  ]
}
{
  "nbformat": 4,
  "nbformat_minor": 0,
  "metadata": {
    "colab": {
      "provenance": []
    },
    "kernelspec": {
      "name": "python3",
      "display_name": "Python 3"
    },
    "language_info": {
      "name": "python"
    }
  },
  "cells": [
    {
      "cell_type": "markdown",
      "source": [
        "1. What is the result of the code, and explain?\n",
        "\n",
        "\n",
        ">>> X = 'iNeuron'\n",
        ">>> def func():\n",
        "print(X)\n",
        "\n",
        "\n",
        ">>> func()\n",
        "\n",
        "\n",
        "---> The result of the code will be:\n",
        "'iNeuron'\n",
        "\n",
        "Explanation:\n",
        "In the given code, a variable X is defined and assigned the value 'iNeuron' outside the function func(). Inside the function, when func() is called, it tries to print the value of X. Since X is defined in the global scope, it is accessible within the function.\n",
        "\n",
        "Therefore, when func() is executed, it prints the value of X, which is 'iNeuron'."
      ],
      "metadata": {
        "id": "WVgv28vYN053"
      }
    },
    {
      "cell_type": "markdown",
      "source": [
        "2. What is the result of the code, and explain?\n",
        "\n",
        "\n",
        ">>> X = 'iNeuron'\n",
        ">>> def func():\n",
        "X = 'NI!'\n",
        "\n",
        "\n",
        ">>> func()\n",
        ">>> print(X)\n",
        "\n",
        "---> The result of the code will be:\n",
        "'iNeuron'\n",
        "\n",
        "Explanation:\n",
        "In the given code, a variable X is defined and assigned the value 'iNeuron' in the global scope. Inside the function func(), a local variable X is defined and assigned the value 'NI!'. This local variable X has a scope limited to the function and does not affect the global variable X.\n",
        "\n",
        "When func() is called, it defines and assigns the value to the local variable X, but it doesn't print anything. After the function call, when print(X) is executed, it refers to the global variable X since it is outside the function. The value of the global variable X remains unchanged and is still 'iNeuron'.\n",
        "\n",
        "Therefore, when print(X) is executed, it prints 'iNeuron'."
      ],
      "metadata": {
        "id": "AfmJq4avN7bg"
      }
    },
    {
      "cell_type": "markdown",
      "source": [
        "3. What does this code print, and why?\n",
        "\n",
        "\n",
        ">>> X = 'iNeuron'\n",
        ">>> def func():\n",
        "X = 'NI'\n",
        "print(X)\n",
        "\n",
        "\n",
        ">>> func()\n",
        ">>> print(X)\n",
        "\n",
        "---> The code will print:\n",
        "'NI'\n",
        "'iNeuron'\n",
        "\n",
        "Explanation:\n",
        "In the given code, a variable X is defined and assigned the value 'iNeuron' in the global scope. Inside the function func(), a local variable X is defined and assigned the value 'NI'. This local variable X has a scope limited to the function and does not affect the global variable X.\n",
        "\n",
        "When func() is called, it prints the value of the local variable X, which is 'NI'. After the function call, when print(X) is executed, it refers to the global variable X since it is outside the function. The value of the global variable X remains unchanged and is still 'iNeuron'.\n",
        "\n",
        "Therefore, when func() is executed, it prints 'NI', and when print(X) is executed, it prints 'iNeuron'."
      ],
      "metadata": {
        "id": "9a4RmkcNODF5"
      }
    },
    {
      "cell_type": "markdown",
      "source": [
        "4. What output does this code produce? Why?\n",
        "\n",
        "\n",
        ">>> X = 'iNeuron'\n",
        ">>> def func():\n",
        "global X\n",
        "X = 'NI'\n",
        "\n",
        "\n",
        ">>> func()\n",
        ">>> print(X)\n",
        "\n",
        "---> The output of the code will be:\n",
        "'NI'\n",
        "\n",
        "Explanation:\n",
        "In the given code, a variable X is defined and assigned the value 'iNeuron' in the global scope. Inside the function func(), the global keyword is used to indicate that the variable X refers to the global variable X rather than creating a new local variable.\n",
        "\n",
        "When func() is called, it changes the value of the global variable X to 'NI'. This modification affects the global variable itself.\n",
        "\n",
        "After the function call, when print(X) is executed, it refers to the modified global variable X, which now has the value 'NI'. Therefore, it prints 'NI'."
      ],
      "metadata": {
        "id": "9oedtmopOLrD"
      }
    },
    {
      "cell_type": "markdown",
      "source": [
        "5. What about this code—what’s the output, and why?\n",
        "\n",
        "\n",
        ">>> X = 'iNeuron'\n",
        ">>> def func():\n",
        "X = 'NI'\n",
        "def nested():\n",
        "print(X)\n",
        "nested()\n",
        "\n",
        "\n",
        ">>> func()\n",
        ">>> X\n",
        "\n",
        "---> The output of the code will be:\n",
        "'NI'\n",
        "'iNeuron'\n",
        "\n",
        "Explanation:\n",
        "In the given code, a variable X is defined and assigned the value 'iNeuron' in the global scope. Inside the function func(), a local variable X is defined and assigned the value 'NI'. This local variable X has a scope limited to the func() function and does not affect the global variable X.\n",
        "\n",
        "Inside the func() function, there is another nested function nested(). When nested() is called, it tries to print the value of X. Since X is not defined locally in nested(), it looks for the value of X in the enclosing scope, which is the func() function. It finds the local variable X defined in func(), and therefore, it prints 'NI'.\n",
        "\n",
        "After the function calls, when X is printed outside the function, it refers to the global variable X since it is outside any function. The value of the global variable X remains unchanged and is still 'iNeuron'.\n",
        "\n",
        "Therefore, the code prints 'NI' when nested() is executed and 'iNeuron' when X is printed outside the function."
      ],
      "metadata": {
        "id": "-AzrhjB7OQaL"
      }
    },
    {
      "cell_type": "markdown",
      "source": [
        "6. How about this code: what is its output in Python 3, and explain?\n",
        "\n",
        "\n",
        ">>> def func():\n",
        "X = 'NI'\n",
        "def nested():\n",
        "nonlocal X\n",
        "X = 'Spam'\n",
        "nested()\n",
        "print(X)\n",
        "\n",
        "\n",
        ">>> func()\n",
        "\n",
        "---> The output of the code will be:\n",
        "'Spam'\n",
        "\n",
        "Explanation:\n",
        "In the given code, the nonlocal keyword is used inside the nested function nested() to indicate that the variable X refers to the variable defined in the immediate enclosing scope, which is the func() function. This allows modifying the value of the variable X in the func() function from within the nested function.\n",
        "\n",
        "When func() is called, it executes the nested function nested(). Inside nested(), the nonlocal keyword is used to reference the variable X in the func() function scope. The assignment statement X = 'Spam' modifies the value of X in the func() function.\n",
        "\n",
        "After the nested function call, when print(X) is executed within the func() function, it prints the modified value of X, which is 'Spam'.\n",
        "\n",
        "Therefore, the code outputs 'Spam'."
      ],
      "metadata": {
        "id": "Gukzx4BkOYZk"
      }
    }
  ]
}
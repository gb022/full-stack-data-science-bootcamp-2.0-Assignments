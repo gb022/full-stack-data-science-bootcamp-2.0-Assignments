{
  "nbformat": 4,
  "nbformat_minor": 0,
  "metadata": {
    "colab": {
      "provenance": []
    },
    "kernelspec": {
      "name": "python3",
      "display_name": "Python 3"
    },
    "language_info": {
      "name": "python"
    }
  },
  "cells": [
    {
      "cell_type": "code",
      "source": [
        "# 1. Is the Python Standard Library included with PyInputPlus?"
      ],
      "metadata": {
        "id": "Fb78k5KfBcjh"
      },
      "execution_count": 41,
      "outputs": []
    },
    {
      "cell_type": "code",
      "source": [
        "'''No, the Python Standard Library is not included with PyInputPlus. PyInputPlus is a third-party library that provides additional\n",
        "functionality for taking input from the user in a simplified manner, such as input validation and handling different types of input.'''"
      ],
      "metadata": {
        "colab": {
          "base_uri": "https://localhost:8080/",
          "height": 53
        },
        "id": "UC7ZGGOhB8rZ",
        "outputId": "cbb94e19-fc35-43a5-c1bb-71ba55d9749a"
      },
      "execution_count": 42,
      "outputs": [
        {
          "output_type": "execute_result",
          "data": {
            "text/plain": [
              "'No, the Python Standard Library is not included with PyInputPlus. PyInputPlus is a third-party library that provides additional \\nfunctionality for taking input from the user in a simplified manner, such as input validation and handling different types of input.'"
            ],
            "application/vnd.google.colaboratory.intrinsic+json": {
              "type": "string"
            }
          },
          "metadata": {},
          "execution_count": 42
        }
      ]
    },
    {
      "cell_type": "code",
      "source": [
        "# 2. Why is PyInputPlus commonly imported with import pyinputplus as pypi?"
      ],
      "metadata": {
        "id": "XesWKAtpCS5X"
      },
      "execution_count": 43,
      "outputs": []
    },
    {
      "cell_type": "code",
      "source": [
        "'''By importing PyInputPlus as \"pypi,\" we can use shorter names when calling its functions.\n",
        "For example, instead of writing pyinputplus.inputStr(), they can simply write pypi.inputStr(). This can make the code more concise,\n",
        "especially when using PyInputPlus functions frequently throughout the codebase.'''"
      ],
      "metadata": {
        "colab": {
          "base_uri": "https://localhost:8080/",
          "height": 53
        },
        "id": "zc58GuBcCXkC",
        "outputId": "0b0f4c80-9aee-48ca-f879-fc83f87311be"
      },
      "execution_count": 44,
      "outputs": [
        {
          "output_type": "execute_result",
          "data": {
            "text/plain": [
              "'By importing PyInputPlus as \"pypi,\" developers can use shorter names when calling its functions. \\nFor example, instead of writing pyinputplus.inputStr(), they can simply write pypi.inputStr(). This can make the code more concise, \\nespecially when using PyInputPlus functions frequently throughout the codebase.'"
            ],
            "application/vnd.google.colaboratory.intrinsic+json": {
              "type": "string"
            }
          },
          "metadata": {},
          "execution_count": 44
        }
      ]
    },
    {
      "cell_type": "code",
      "source": [
        "# 3. How do you distinguish between inputInt() and inputFloat()?\n"
      ],
      "metadata": {
        "id": "1vMQCFOQDCiz"
      },
      "execution_count": 45,
      "outputs": []
    },
    {
      "cell_type": "code",
      "source": [
        "'''inputInt() is used for integers, while inputFloat() is used for floating-point numbers.\n",
        "The functions handle the validation of user input and ensure that the value provided by the user matches the desired type (integer or float).'''"
      ],
      "metadata": {
        "colab": {
          "base_uri": "https://localhost:8080/",
          "height": 53
        },
        "id": "vkLlQsJQDFhr",
        "outputId": "55044f51-d1d7-4109-f714-9b8fb5d46459"
      },
      "execution_count": 46,
      "outputs": [
        {
          "output_type": "execute_result",
          "data": {
            "text/plain": [
              "'inputInt() is used for integers, while inputFloat() is used for floating-point numbers. \\nThe functions handle the validation of user input and ensure that the value provided by the user matches the desired type (integer or float).'"
            ],
            "application/vnd.google.colaboratory.intrinsic+json": {
              "type": "string"
            }
          },
          "metadata": {},
          "execution_count": 46
        }
      ]
    },
    {
      "cell_type": "code",
      "source": [
        "# 4. Using PyInputPlus, how do you ensure that the user enters a whole number between 0 and 99?"
      ],
      "metadata": {
        "id": "SOhU9q6MDT5Y"
      },
      "execution_count": 47,
      "outputs": []
    },
    {
      "cell_type": "code",
      "source": [
        "'''To ensure that the user enters a whole number between 0 and 99 using PyInputPlus, we can use the inputInt()\n",
        "function with the min and max parameters set to enforce the desired range.'''\n"
      ],
      "metadata": {
        "colab": {
          "base_uri": "https://localhost:8080/",
          "height": 53
        },
        "id": "Q1ZxD8HxDXOv",
        "outputId": "de6e3804-dab3-4196-fc85-c186d69407fd"
      },
      "execution_count": 50,
      "outputs": [
        {
          "output_type": "execute_result",
          "data": {
            "text/plain": [
              "'To ensure that the user enters a whole number between 0 and 99 using PyInputPlus, you can use the inputInt() \\nfunction with the min and max parameters set to enforce the desired range.'"
            ],
            "application/vnd.google.colaboratory.intrinsic+json": {
              "type": "string"
            }
          },
          "metadata": {},
          "execution_count": 50
        }
      ]
    },
    {
      "cell_type": "code",
      "source": [
        "# 5. What is transferred to the keyword arguments allowRegexes and blockRegexes?"
      ],
      "metadata": {
        "id": "CTvsUtM8DrBg"
      },
      "execution_count": 51,
      "outputs": []
    },
    {
      "cell_type": "code",
      "source": [
        "# allowRegexes:\n",
        "'''This argument accepts a list of regex patterns. If any of the patterns match the user's input, the input is considered valid and accepted.\n",
        "Only the matching patterns are allowed, while any other input is rejected. For example, allowRegexes=[r'[A-Za-z]+'] would allow inputs containing\n",
        "only alphabetic characters.'''\n",
        "\n",
        "# blockRegexes:\n",
        "'''This argument also accepts a list of regex patterns. If any of the patterns match the user's input, the input is considered invalid and rejected.\n",
        "The matching patterns act as a blocklist, preventing any input that matches them. For example, blockRegexes=[r'\\d{3}-\\d{3}-\\d{4}'] would block inputs\n",
        "in the format of a phone number.'''"
      ],
      "metadata": {
        "colab": {
          "base_uri": "https://localhost:8080/",
          "height": 70
        },
        "id": "MeKFg6vXET-S",
        "outputId": "a7305173-125e-41c5-b194-70cb51b45e3c"
      },
      "execution_count": 52,
      "outputs": [
        {
          "output_type": "execute_result",
          "data": {
            "text/plain": [
              "\"This argument also accepts a list of regex patterns. If any of the patterns match the user's input, the input is considered invalid and rejected. \\nThe matching patterns act as a blocklist, preventing any input that matches them. For example, blockRegexes=[r'\\\\d{3}-\\\\d{3}-\\\\d{4}'] would block inputs \\nin the format of a phone number.\""
            ],
            "application/vnd.google.colaboratory.intrinsic+json": {
              "type": "string"
            }
          },
          "metadata": {},
          "execution_count": 52
        }
      ]
    },
    {
      "cell_type": "code",
      "source": [
        "# 6. If a blank input is entered three times, what does inputStr(limit=3) do?"
      ],
      "metadata": {
        "id": "fvaD4Mn4FEgG"
      },
      "execution_count": 53,
      "outputs": []
    },
    {
      "cell_type": "code",
      "source": [
        "'''If a blank input is entered three times while using inputStr(limit=3) in PyInputPlus, the behavior will depend on the specific situation and configuration.\n",
        "By default, PyInputPlus treats a blank input as invalid and displays an error message, prompting the user to provide non-blank input. If the user fails\n",
        "to provide non-blank input within the specified limit, PyInputPlus raises a ValidationException.'''"
      ],
      "metadata": {
        "colab": {
          "base_uri": "https://localhost:8080/",
          "height": 70
        },
        "id": "nAJS1vYuFXiw",
        "outputId": "536ccdcc-a08f-4849-e97b-d1be8dc004e5"
      },
      "execution_count": 54,
      "outputs": [
        {
          "output_type": "execute_result",
          "data": {
            "text/plain": [
              "'If a blank input is entered three times while using inputStr(limit=3) in PyInputPlus, the behavior will depend on the specific situation and configuration.\\nBy default, PyInputPlus treats a blank input as invalid and displays an error message, prompting the user to provide non-blank input. If the user fails \\nto provide non-blank input within the specified limit, PyInputPlus raises a ValidationException.'"
            ],
            "application/vnd.google.colaboratory.intrinsic+json": {
              "type": "string"
            }
          },
          "metadata": {},
          "execution_count": 54
        }
      ]
    },
    {
      "cell_type": "code",
      "source": [
        "# 7. If blank input is entered three times, what does inputStr(limit=3, default=&#39;hello&#39;) do?"
      ],
      "metadata": {
        "id": "GxjIcG7HFmbj"
      },
      "execution_count": 55,
      "outputs": []
    },
    {
      "cell_type": "code",
      "source": [
        "# the behavior is as follows:\n",
        "'''\n",
        "1. On the first blank input:\n",
        "PyInputPlus treats it as invalid and displays an error message, as it expects non-blank input. The user is prompted to provide non-blank input.\n",
        "\n",
        "2.On the second blank input:\n",
        "PyInputPlus treats it as invalid again and displays an error message. The user is prompted for input again.\n",
        "\n",
        "3.On the third blank input:\n",
        "Since the user has reached the specified limit of 3, PyInputPlus returns the default value 'hello' instead of raising a ValidationException or\n",
        "requesting further input.'''"
      ],
      "metadata": {
        "colab": {
          "base_uri": "https://localhost:8080/",
          "height": 87
        },
        "id": "YC0VMJkpFssH",
        "outputId": "d53f9ad6-966f-4fef-cb50-f689aa33729f"
      },
      "execution_count": 56,
      "outputs": [
        {
          "output_type": "execute_result",
          "data": {
            "text/plain": [
              "\"\\n1. On the first blank input: \\nPyInputPlus treats it as invalid and displays an error message, as it expects non-blank input. The user is prompted to provide non-blank input.\\n\\n2.On the second blank input: \\nPyInputPlus treats it as invalid again and displays an error message. The user is prompted for input again.\\n\\n3.On the third blank input: \\nSince the user has reached the specified limit of 3, PyInputPlus returns the default value 'hello' instead of raising a ValidationException or \\nrequesting further input.\""
            ],
            "application/vnd.google.colaboratory.intrinsic+json": {
              "type": "string"
            }
          },
          "metadata": {},
          "execution_count": 56
        }
      ]
    },
    {
      "cell_type": "code",
      "source": [],
      "metadata": {
        "id": "q8yywECoGHwc"
      },
      "execution_count": null,
      "outputs": []
    }
  ]
}
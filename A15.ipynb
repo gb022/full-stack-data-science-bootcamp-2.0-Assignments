{
  "nbformat": 4,
  "nbformat_minor": 0,
  "metadata": {
    "colab": {
      "provenance": []
    },
    "kernelspec": {
      "name": "python3",
      "display_name": "Python 3"
    },
    "language_info": {
      "name": "python"
    }
  },
  "cells": [
    {
      "cell_type": "markdown",
      "source": [
        "1.How many seconds are in an hour? Use the interactive interpreter as a calculator and multiply the number of seconds in a minute (60) by the number of minutes in an hour (also 60)."
      ],
      "metadata": {
        "id": "GQym1Q1JmLQy"
      }
    },
    {
      "cell_type": "code",
      "execution_count": 1,
      "metadata": {
        "colab": {
          "base_uri": "https://localhost:8080/"
        },
        "id": "8ATe_2bGmJyO",
        "outputId": "144c65aa-f218-4d7c-cddd-1cb8caf8abf2"
      },
      "outputs": [
        {
          "output_type": "stream",
          "name": "stdout",
          "text": [
            "3600\n"
          ]
        }
      ],
      "source": [
        "seconds_in_minute = 60\n",
        "minutes_in_hour = 60\n",
        "\n",
        "seconds_in_hour = seconds_in_minute * minutes_in_hour\n",
        "print(seconds_in_hour)\n"
      ]
    },
    {
      "cell_type": "markdown",
      "source": [
        "2. Assign the result from the previous task (seconds in an hour) to a variable called seconds_per_hour."
      ],
      "metadata": {
        "id": "VI4VpyzVmaDg"
      }
    },
    {
      "cell_type": "code",
      "source": [
        "seconds_per_hour = 3600\n"
      ],
      "metadata": {
        "id": "GpB5cV8ymeJp"
      },
      "execution_count": 2,
      "outputs": []
    },
    {
      "cell_type": "markdown",
      "source": [
        "3. How many seconds do you think there are in a day? Make use of the variables seconds per hour and minutes per hour."
      ],
      "metadata": {
        "id": "kcN7d9RmmmxB"
      }
    },
    {
      "cell_type": "code",
      "source": [
        "seconds_per_day = seconds_per_hour * 24\n",
        "print(seconds_per_day)"
      ],
      "metadata": {
        "colab": {
          "base_uri": "https://localhost:8080/"
        },
        "id": "ixidMBlSmoV3",
        "outputId": "eab0ffc3-0a60-49d5-ce33-04b6113bee3e"
      },
      "execution_count": 4,
      "outputs": [
        {
          "output_type": "stream",
          "name": "stdout",
          "text": [
            "86400\n"
          ]
        }
      ]
    },
    {
      "cell_type": "markdown",
      "source": [
        "4. Calculate seconds per day again, but this time save the result in a variable called seconds_per_day\n",
        "\n",
        "---> To calculate the number of seconds in a day, we can multiply the number of seconds per hour by the number of hours in a day (24). We can use the variable seconds_per_hour that we defined earlier and save the result in a new variable called seconds_per_day."
      ],
      "metadata": {
        "id": "tm0WGdEdmymg"
      }
    },
    {
      "cell_type": "code",
      "source": [
        "seconds_per_day = seconds_per_hour * 24\n"
      ],
      "metadata": {
        "id": "apfWW2_Wm0kx"
      },
      "execution_count": 5,
      "outputs": []
    },
    {
      "cell_type": "markdown",
      "source": [
        "5. Divide seconds_per_day by seconds_per_hour. Use floating-point (/) division."
      ],
      "metadata": {
        "id": "BmCRjXcsnHMD"
      }
    },
    {
      "cell_type": "code",
      "source": [
        "result = seconds_per_day / seconds_per_hour\n",
        "print(result)"
      ],
      "metadata": {
        "colab": {
          "base_uri": "https://localhost:8080/"
        },
        "id": "-iHWl-MMnIzy",
        "outputId": "7872aace-7d63-4180-f195-73c9eeceb489"
      },
      "execution_count": 6,
      "outputs": [
        {
          "output_type": "stream",
          "name": "stdout",
          "text": [
            "24.0\n"
          ]
        }
      ]
    },
    {
      "cell_type": "markdown",
      "source": [
        "6. Divide seconds_per_day by seconds_per_hour, using integer (//) division. Did this number agree with the floating-point value from the previous question, aside from the final .0?"
      ],
      "metadata": {
        "id": "0q2YpStbnPAb"
      }
    },
    {
      "cell_type": "code",
      "source": [
        "result = seconds_per_day // seconds_per_hour\n",
        "print(result)"
      ],
      "metadata": {
        "colab": {
          "base_uri": "https://localhost:8080/"
        },
        "id": "xiciAFjCnPuv",
        "outputId": "e30fe1c7-5f49-4a73-de00-6a1271540ce0"
      },
      "execution_count": 7,
      "outputs": [
        {
          "output_type": "stream",
          "name": "stdout",
          "text": [
            "24\n"
          ]
        }
      ]
    },
    {
      "cell_type": "markdown",
      "source": [
        "7. Write a generator, genPrimes, that returns the sequence of prime numbers on successive calls to its next() method: 2, 3, 5, 7, 11, ..."
      ],
      "metadata": {
        "id": "6tmQ26awnT4b"
      }
    },
    {
      "cell_type": "code",
      "source": [
        "def genPrimes():\n",
        "    # Start with the first prime number\n",
        "    prime = 2\n",
        "\n",
        "    while True:\n",
        "        # Check if the current number is prime\n",
        "        is_prime = True\n",
        "        for num in range(2, prime):\n",
        "            if prime % num == 0:\n",
        "                is_prime = False\n",
        "                break\n",
        "\n",
        "        # If the current number is prime, yield it\n",
        "        if is_prime:\n",
        "            yield prime\n",
        "\n",
        "        # Increment the current number\n",
        "        prime += 1\n",
        "primes = genPrimes()\n",
        "\n",
        "# Generate and print the first 5 prime numbers\n",
        "for _ in range(5):\n",
        "    print(next(primes))\n"
      ],
      "metadata": {
        "colab": {
          "base_uri": "https://localhost:8080/"
        },
        "id": "ryDbMg51nbSZ",
        "outputId": "7808f0d5-a56a-40ad-96a9-8bf00cebfb4f"
      },
      "execution_count": 9,
      "outputs": [
        {
          "output_type": "stream",
          "name": "stdout",
          "text": [
            "2\n",
            "3\n",
            "5\n",
            "7\n",
            "11\n"
          ]
        }
      ]
    }
  ]
}
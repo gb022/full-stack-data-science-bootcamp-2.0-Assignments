{
  "nbformat": 4,
  "nbformat_minor": 0,
  "metadata": {
    "colab": {
      "provenance": []
    },
    "kernelspec": {
      "name": "python3",
      "display_name": "Python 3"
    },
    "language_info": {
      "name": "python"
    }
  },
  "cells": [
    {
      "cell_type": "code",
      "source": [
        "# Question1\n",
        "'''Create a function that takes three integer arguments (a, b, c) and returns the amount of\n",
        "integers which are of equal value.\n",
        "Examples\n",
        "equal(3, 4, 3) ➞ 2\n",
        "equal(1, 1, 1) ➞ 3\n",
        "equal(3, 4, 1) ➞ 0\n",
        "Notes\n",
        "Your function must return 0, 2 or 3.'''"
      ],
      "metadata": {
        "colab": {
          "base_uri": "https://localhost:8080/",
          "height": 53
        },
        "id": "-eXqQgfP_NEI",
        "outputId": "df772f06-e61a-4e0d-bdfc-f40d66428734"
      },
      "execution_count": 31,
      "outputs": [
        {
          "output_type": "execute_result",
          "data": {
            "text/plain": [
              "'Create a function that takes three integer arguments (a, b, c) and returns the amount of\\nintegers which are of equal value.\\nExamples\\nequal(3, 4, 3) ➞ 2\\nequal(1, 1, 1) ➞ 3\\nequal(3, 4, 1) ➞ 0\\nNotes\\nYour function must return 0, 2 or 3.'"
            ],
            "application/vnd.google.colaboratory.intrinsic+json": {
              "type": "string"
            }
          },
          "metadata": {},
          "execution_count": 31
        }
      ]
    },
    {
      "cell_type": "code",
      "source": [
        "# Here's a Python function that takes three integer arguments and returns the number of integers that have equal values:\n",
        "def equal(a, b, c):\n",
        "    if a == b == c:\n",
        "        return 3\n",
        "    elif a == b or b == c or c == a:\n",
        "        return 2\n",
        "    else:\n",
        "        return 0\n",
        "\n",
        "print(equal(3, 4, 3))  # Output: 2\n",
        "print(equal(1, 1, 1))  # Output: 3\n",
        "print(equal(3, 4, 1))  # Output: 0\n"
      ],
      "metadata": {
        "colab": {
          "base_uri": "https://localhost:8080/"
        },
        "id": "go2h19lH_XmP",
        "outputId": "27ee527e-355b-4261-f380-fb3446b0be08"
      },
      "execution_count": 32,
      "outputs": [
        {
          "output_type": "stream",
          "name": "stdout",
          "text": [
            "2\n",
            "3\n",
            "0\n"
          ]
        }
      ]
    },
    {
      "cell_type": "code",
      "source": [
        "# Question2\n",
        "'''Write a function that converts a dictionary into a list of keys-values tuples.\n",
        "Examples\n",
        "dict_to_list({\n",
        "&quot;D&quot;: 1,\n",
        "&quot;B&quot;: 2,\n",
        "&quot;C&quot;: 3\n",
        "}) ➞ [(&quot;B&quot;, 2), (&quot;C&quot;, 3), (&quot;D&quot;, 1)]\n",
        "dict_to_list({\n",
        "&quot;likes&quot;: 2,\n",
        "&quot;dislikes&quot;: 3,\n",
        "&quot;followers&quot;: 10\n",
        "}) ➞ [(&quot;dislikes&quot;, 3), (&quot;followers&quot;, 10), (&quot;likes&quot;, 2)]\n",
        "Notes\n",
        "Return the elements in the list in alphabetical order.'''"
      ],
      "metadata": {
        "colab": {
          "base_uri": "https://localhost:8080/",
          "height": 70
        },
        "id": "AH_h2wzy_iUO",
        "outputId": "25613dc9-b98e-4e01-abd3-59fba71811d8"
      },
      "execution_count": 33,
      "outputs": [
        {
          "output_type": "execute_result",
          "data": {
            "text/plain": [
              "'Write a function that converts a dictionary into a list of keys-values tuples.\\nExamples\\ndict_to_list({\\n&quot;D&quot;: 1,\\n&quot;B&quot;: 2,\\n&quot;C&quot;: 3\\n}) ➞ [(&quot;B&quot;, 2), (&quot;C&quot;, 3), (&quot;D&quot;, 1)]\\ndict_to_list({\\n&quot;likes&quot;: 2,\\n&quot;dislikes&quot;: 3,\\n&quot;followers&quot;: 10\\n}) ➞ [(&quot;dislikes&quot;, 3), (&quot;followers&quot;, 10), (&quot;likes&quot;, 2)]\\nNotes\\nReturn the elements in the list in alphabetical order.'"
            ],
            "application/vnd.google.colaboratory.intrinsic+json": {
              "type": "string"
            }
          },
          "metadata": {},
          "execution_count": 33
        }
      ]
    },
    {
      "cell_type": "code",
      "source": [
        "# Here's a Python function that converts a dictionary into a list of key-value tuples:\n",
        "def dict_to_list(dictionary):\n",
        "    return sorted(dictionary.items())\n",
        "\n",
        "print(dict_to_list({\"D\": 1, \"B\": 2, \"C\": 3}))\n",
        "# Output: [(\"B\", 2), (\"C\", 3), (\"D\", 1)]\n",
        "\n",
        "print(dict_to_list({\"likes\": 2, \"dislikes\": 3, \"followers\": 10}))\n",
        "# Output: [(\"dislikes\", 3), (\"followers\", 10), (\"likes\", 2)]\n",
        "\n"
      ],
      "metadata": {
        "colab": {
          "base_uri": "https://localhost:8080/"
        },
        "id": "36T9Xd4i_mvT",
        "outputId": "fea4abe3-5859-4d54-9092-458afd7d42b2"
      },
      "execution_count": 34,
      "outputs": [
        {
          "output_type": "stream",
          "name": "stdout",
          "text": [
            "[('B', 2), ('C', 3), ('D', 1)]\n",
            "[('dislikes', 3), ('followers', 10), ('likes', 2)]\n"
          ]
        }
      ]
    },
    {
      "cell_type": "code",
      "source": [
        "# Question3\n",
        "'''Write a function that creates a dictionary with each (key, value) pair being the (lower case,\n",
        "upper case) versions of a letter, respectively.\n",
        "Examples\n",
        "mapping([&quot;p&quot;, &quot;s&quot;]) ➞ { &quot;p&quot;: &quot;P&quot;, &quot;s&quot;: &quot;S&quot; }\n",
        "\n",
        "mapping([&quot;a&quot;, &quot;b&quot;, &quot;c&quot;]) ➞ { &quot;a&quot;: &quot;A&quot;, &quot;b&quot;: &quot;B&quot;, &quot;c&quot;: &quot;C&quot; }\n",
        "mapping([&quot;a&quot;, &quot;v&quot;, &quot;y&quot;, &quot;z&quot;]) ➞ { &quot;a&quot;: &quot;A&quot;, &quot;v&quot;: &quot;V&quot;, &quot;y&quot;: &quot;Y&quot;, &quot;z&quot;: &quot;Z&quot; }\n",
        "Notes\n",
        "All of the letters in the input list will always be lowercase.'''"
      ],
      "metadata": {
        "colab": {
          "base_uri": "https://localhost:8080/",
          "height": 105
        },
        "id": "U9HnAEZ__xfW",
        "outputId": "515cb730-dfbb-4e74-81c7-c64356fc4e60"
      },
      "execution_count": 35,
      "outputs": [
        {
          "output_type": "execute_result",
          "data": {
            "text/plain": [
              "'Write a function that creates a dictionary with each (key, value) pair being the (lower case,\\nupper case) versions of a letter, respectively.\\nExamples\\nmapping([&quot;p&quot;, &quot;s&quot;]) ➞ { &quot;p&quot;: &quot;P&quot;, &quot;s&quot;: &quot;S&quot; }\\n\\nmapping([&quot;a&quot;, &quot;b&quot;, &quot;c&quot;]) ➞ { &quot;a&quot;: &quot;A&quot;, &quot;b&quot;: &quot;B&quot;, &quot;c&quot;: &quot;C&quot; }\\nmapping([&quot;a&quot;, &quot;v&quot;, &quot;y&quot;, &quot;z&quot;]) ➞ { &quot;a&quot;: &quot;A&quot;, &quot;v&quot;: &quot;V&quot;, &quot;y&quot;: &quot;Y&quot;, &quot;z&quot;: &quot;Z&quot; }\\nNotes\\nAll of the letters in the input list will always be lowercase.'"
            ],
            "application/vnd.google.colaboratory.intrinsic+json": {
              "type": "string"
            }
          },
          "metadata": {},
          "execution_count": 35
        }
      ]
    },
    {
      "cell_type": "code",
      "source": [
        "# Here's a Python function that creates a dictionary with each key-value pair being the lowercase and uppercase versions of a letter:\n",
        "def mapping(letters):\n",
        "    return {letter: letter.upper() for letter in letters}\n",
        "\n",
        "print(mapping([\"p\", \"s\"]))\n",
        "# Output: {\"p\": \"P\", \"s\": \"S\"}\n",
        "\n",
        "print(mapping([\"a\", \"b\", \"c\"]))\n",
        "# Output: {\"a\": \"A\", \"b\": \"B\", \"c\": \"C\"}\n",
        "\n",
        "print(mapping([\"a\", \"v\", \"y\", \"z\"]))\n",
        "# Output: {\"a\": \"A\", \"v\": \"V\", \"y\": \"Y\", \"z\": \"Z\"}\n"
      ],
      "metadata": {
        "colab": {
          "base_uri": "https://localhost:8080/"
        },
        "id": "EEzDLes7_4Zp",
        "outputId": "ff7bc4c2-9582-4aad-8077-8679b7b10e19"
      },
      "execution_count": 36,
      "outputs": [
        {
          "output_type": "stream",
          "name": "stdout",
          "text": [
            "{'p': 'P', 's': 'S'}\n",
            "{'a': 'A', 'b': 'B', 'c': 'C'}\n",
            "{'a': 'A', 'v': 'V', 'y': 'Y', 'z': 'Z'}\n"
          ]
        }
      ]
    },
    {
      "cell_type": "code",
      "source": [
        "# Question4\n",
        "'''Write a function, that replaces all vowels in a string with a specified vowel.\n",
        "Examples\n",
        "vow_replace(&quot;apples and bananas&quot;, &quot;u&quot;) ➞ &quot;upplus und bununus&quot;\n",
        "vow_replace(&quot;cheese casserole&quot;, &quot;o&quot;) ➞ &quot;chooso cossorolo&quot;\n",
        "vow_replace(&quot;stuffed jalapeno poppers&quot;, &quot;e&quot;) ➞ &quot;steffed jelepene peppers&quot;\n",
        "Notes\n",
        "All words will be lowercase. Y is not considered a vowel.'''"
      ],
      "metadata": {
        "colab": {
          "base_uri": "https://localhost:8080/",
          "height": 70
        },
        "id": "k57XyivCADsY",
        "outputId": "9d64113b-d942-4287-aae1-615ed000a0f8"
      },
      "execution_count": 37,
      "outputs": [
        {
          "output_type": "execute_result",
          "data": {
            "text/plain": [
              "'Write a function, that replaces all vowels in a string with a specified vowel.\\nExamples\\nvow_replace(&quot;apples and bananas&quot;, &quot;u&quot;) ➞ &quot;upplus und bununus&quot;\\nvow_replace(&quot;cheese casserole&quot;, &quot;o&quot;) ➞ &quot;chooso cossorolo&quot;\\nvow_replace(&quot;stuffed jalapeno poppers&quot;, &quot;e&quot;) ➞ &quot;steffed jelepene peppers&quot;\\nNotes\\nAll words will be lowercase. Y is not considered a vowel.'"
            ],
            "application/vnd.google.colaboratory.intrinsic+json": {
              "type": "string"
            }
          },
          "metadata": {},
          "execution_count": 37
        }
      ]
    },
    {
      "cell_type": "code",
      "source": [
        "# Here's a Python function that replaces all vowels in a string with a specified vowel:\n",
        "def vow_replace(string, vowel):\n",
        "    vowels = \"aeiou\"\n",
        "    new_string = \"\"\n",
        "    for char in string:\n",
        "        if char.lower() in vowels:\n",
        "            new_string += vowel\n",
        "        else:\n",
        "            new_string += char\n",
        "    return new_string\n",
        "\n",
        "print(vow_replace(\"apples and bananas\", \"u\"))\n",
        "# Output: \"upplus und bununus\"\n",
        "\n",
        "print(vow_replace(\"cheese casserole\", \"o\"))\n",
        "# Output: \"chooso cossorolo\"\n",
        "\n",
        "print(vow_replace(\"stuffed jalapeno poppers\", \"e\"))\n",
        "# Output: \"steffed jelepene peppers\"\n"
      ],
      "metadata": {
        "colab": {
          "base_uri": "https://localhost:8080/"
        },
        "id": "YhQhc-2AAINS",
        "outputId": "a106b26f-ffe5-48c1-ab82-0246bb38efcb"
      },
      "execution_count": 38,
      "outputs": [
        {
          "output_type": "stream",
          "name": "stdout",
          "text": [
            "upplus und bununus\n",
            "chooso cossorolo\n",
            "steffed jelepene peppers\n"
          ]
        }
      ]
    },
    {
      "cell_type": "code",
      "source": [
        "# Question5\n",
        "'''Create a function that takes a string as input and capitalizes a letter if its ASCII code is even\n",
        "and returns its lower case version if its ASCII code is odd.\n",
        "Examples\n",
        "ascii_capitalize(&quot;to be or not to be!&quot;) ➞ &quot;To Be oR NoT To Be!&quot;\n",
        "ascii_capitalize(&quot;THE LITTLE MERMAID&quot;) ➞ &quot;THe LiTTLe meRmaiD&quot;\n",
        "ascii_capitalize(&quot;Oh what a beautiful morning.&quot;) ➞ &quot;oH wHaT a BeauTiFuL\n",
        "moRNiNg.&quot;'''"
      ],
      "metadata": {
        "colab": {
          "base_uri": "https://localhost:8080/",
          "height": 70
        },
        "id": "jYzvpur7ARNk",
        "outputId": "8c3db92a-58fd-4d20-92e4-370d5428a212"
      },
      "execution_count": 39,
      "outputs": [
        {
          "output_type": "execute_result",
          "data": {
            "text/plain": [
              "'Create a function that takes a string as input and capitalizes a letter if its ASCII code is even\\nand returns its lower case version if its ASCII code is odd.\\nExamples\\nascii_capitalize(&quot;to be or not to be!&quot;) ➞ &quot;To Be oR NoT To Be!&quot;\\nascii_capitalize(&quot;THE LITTLE MERMAID&quot;) ➞ &quot;THe LiTTLe meRmaiD&quot;\\nascii_capitalize(&quot;Oh what a beautiful morning.&quot;) ➞ &quot;oH wHaT a BeauTiFuL\\nmoRNiNg.&quot;'"
            ],
            "application/vnd.google.colaboratory.intrinsic+json": {
              "type": "string"
            }
          },
          "metadata": {},
          "execution_count": 39
        }
      ]
    },
    {
      "cell_type": "code",
      "source": [
        "# Here's a Python function that capitalizes a letter in a string if its ASCII code is even, and returns its lowercase version if its ASCII code is odd:\n",
        "def ascii_capitalize(string):\n",
        "    result = \"\"\n",
        "    for char in string:\n",
        "        ascii_code = ord(char)\n",
        "        if ascii_code % 2 == 0:\n",
        "            result += char.upper()\n",
        "        else:\n",
        "            result += char.lower()\n",
        "    return result\n",
        "\n",
        "print(ascii_capitalize(\"to be or not to be!\"))\n",
        "# Output: \"To Be oR NoT To Be!\"\n",
        "\n",
        "print(ascii_capitalize(\"THE LITTLE MERMAID\"))\n",
        "# Output: \"THe LiTTLe meRmaiD\"\n",
        "\n",
        "print(ascii_capitalize(\"Oh what a beautiful morning.\"))\n",
        "# Output: \"oH wHaT a BeauTiFuL moRNiNg.\"\n",
        "\n"
      ],
      "metadata": {
        "colab": {
          "base_uri": "https://localhost:8080/"
        },
        "id": "NIm3f1ZhAaU_",
        "outputId": "6c158a23-15bd-4e10-a292-276163cadd6c"
      },
      "execution_count": 40,
      "outputs": [
        {
          "output_type": "stream",
          "name": "stdout",
          "text": [
            "To Be oR NoT To Be!\n",
            "THe LiTTLe meRmaiD\n",
            "oH wHaT a BeauTiFuL moRNiNg.\n"
          ]
        }
      ]
    },
    {
      "cell_type": "code",
      "source": [],
      "metadata": {
        "id": "QuNyg6OyAtfU"
      },
      "execution_count": null,
      "outputs": []
    }
  ]
}
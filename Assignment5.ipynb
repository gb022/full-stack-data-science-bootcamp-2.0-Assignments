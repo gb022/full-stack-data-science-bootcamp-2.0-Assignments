{
  "nbformat": 4,
  "nbformat_minor": 0,
  "metadata": {
    "colab": {
      "provenance": []
    },
    "kernelspec": {
      "name": "python3",
      "display_name": "Python 3"
    },
    "language_info": {
      "name": "python"
    }
  },
  "cells": [
    {
      "cell_type": "code",
      "execution_count": 1,
      "metadata": {
        "id": "4GEPfChQz9g9"
      },
      "outputs": [],
      "source": [
        "# 1. What does an empty dictionary's code look like?"
      ]
    },
    {
      "cell_type": "code",
      "source": [
        "'''In Python, an empty dictionary is represented by a pair of curly braces {}.\n",
        "Here's an example of code that creates an empty dictionary'''\n",
        "my_dict = {}"
      ],
      "metadata": {
        "id": "dhtLuyLT0K0t"
      },
      "execution_count": 3,
      "outputs": []
    },
    {
      "cell_type": "code",
      "source": [
        "# 2. What is the value of a dictionary value with the key 'foo' and the value 42?"
      ],
      "metadata": {
        "id": "b2VU8ZM_0XMz"
      },
      "execution_count": 4,
      "outputs": []
    },
    {
      "cell_type": "code",
      "source": [
        "'''If we have a dictionary with the key 'foo' and the value 42, the value of that dictionary entry would indeed be 42. Here's an example'''\n",
        "my_dict = {'foo': 42}\n",
        "value = my_dict['foo']\n",
        "print(value)  # Output: 42\n",
        "\n",
        "'''In this code snippet, the dictionary my_dict is created with a key-value pair 'foo': 42. The value 42 is associated with the key 'foo'.\n",
        "By accessing my_dict['foo'], we retrieve the value 42, which is then assigned to the variable value. Finally, value is printed, resulting in the output 42.'''"
      ],
      "metadata": {
        "colab": {
          "base_uri": "https://localhost:8080/",
          "height": 70
        },
        "id": "Ln2OMouV0sBY",
        "outputId": "30cad00e-f3e7-4ba5-dd69-349111de678e"
      },
      "execution_count": 8,
      "outputs": [
        {
          "output_type": "stream",
          "name": "stdout",
          "text": [
            "42\n"
          ]
        },
        {
          "output_type": "execute_result",
          "data": {
            "text/plain": [
              "\"In this code snippet, the dictionary my_dict is created with a key-value pair 'foo': 42. The value 42 is associated with the key 'foo'. \\nBy accessing my_dict['foo'], we retrieve the value 42, which is then assigned to the variable value. Finally, value is printed, resulting in the output 42.\""
            ],
            "application/vnd.google.colaboratory.intrinsic+json": {
              "type": "string"
            }
          },
          "metadata": {},
          "execution_count": 8
        }
      ]
    },
    {
      "cell_type": "code",
      "source": [
        "# 3. What is the most significant distinction between a dictionary and a list?"
      ],
      "metadata": {
        "id": "Z2F4xb_I1fvf"
      },
      "execution_count": 7,
      "outputs": []
    },
    {
      "cell_type": "code",
      "source": [
        "'''the main differences between dictionaries and lists are:\n",
        "\n",
        "Organization: Dictionaries store data as key-value pairs, while lists store data as an ordered sequence of elements.\n",
        "Accessing Data: Dictionaries use keys to access corresponding values, while lists use indices to access elements.\n",
        "Uniqueness: Dictionary keys are unique, while list elements can be duplicated.\n",
        "Mutability: Dictionaries are mutable, allowing modifications to values and addition/removal of key-value pairs.\n",
        "            Lists are also mutable, allowing modifications to individual elements or the list as a whole.\n",
        "Order: Dictionaries are unordered, whereas lists maintain the order of elements.\n",
        "\n",
        "The choice between a dictionary and a list depends on the specific use case and the requirements of your data structure.'''"
      ],
      "metadata": {
        "colab": {
          "base_uri": "https://localhost:8080/",
          "height": 105
        },
        "id": "jFeYLK_Y1kKo",
        "outputId": "e0e7bf4a-1f2f-43d7-9b9f-98a433d2a0ad"
      },
      "execution_count": 9,
      "outputs": [
        {
          "output_type": "execute_result",
          "data": {
            "text/plain": [
              "'the main differences between dictionaries and lists are:\\n\\nOrganization: Dictionaries store data as key-value pairs, while lists store data as an ordered sequence of elements.\\nAccessing Data: Dictionaries use keys to access corresponding values, while lists use indices to access elements.\\nUniqueness: Dictionary keys are unique, while list elements can be duplicated.\\nMutability: Dictionaries are mutable, allowing modifications to values and addition/removal of key-value pairs. \\n            Lists are also mutable, allowing modifications to individual elements or the list as a whole.\\nOrder: Dictionaries are unordered, whereas lists maintain the order of elements.\\n\\nThe choice between a dictionary and a list depends on the specific use case and the requirements of your data structure.'"
            ],
            "application/vnd.google.colaboratory.intrinsic+json": {
              "type": "string"
            }
          },
          "metadata": {},
          "execution_count": 9
        }
      ]
    },
    {
      "cell_type": "code",
      "source": [
        "# 4. What happens if you try to access spam['foo'] if spam is {'bar': 100}?"
      ],
      "metadata": {
        "id": "QU1jHc-h2OwG"
      },
      "execution_count": 10,
      "outputs": []
    },
    {
      "cell_type": "code",
      "source": [
        "'''If you try to access spam['foo'] with spam being { 'bar': 100 }, you will encounter a KeyError. for e.g'''\n",
        "spam = {'bar': 100}\n",
        "\n",
        "value = spam['foo']  # Raises a KeyError"
      ],
      "metadata": {
        "colab": {
          "base_uri": "https://localhost:8080/",
          "height": 200
        },
        "id": "HFBJjpah3BU7",
        "outputId": "e80e8b80-160b-4d7d-c817-a0c0d2f53e6c"
      },
      "execution_count": 12,
      "outputs": [
        {
          "output_type": "error",
          "ename": "KeyError",
          "evalue": "ignored",
          "traceback": [
            "\u001b[0;31m---------------------------------------------------------------------------\u001b[0m",
            "\u001b[0;31mKeyError\u001b[0m                                  Traceback (most recent call last)",
            "\u001b[0;32m<ipython-input-12-170134db4ef9>\u001b[0m in \u001b[0;36m<cell line: 4>\u001b[0;34m()\u001b[0m\n\u001b[1;32m      2\u001b[0m \u001b[0mspam\u001b[0m \u001b[0;34m=\u001b[0m \u001b[0;34m{\u001b[0m\u001b[0;34m'bar'\u001b[0m\u001b[0;34m:\u001b[0m \u001b[0;36m100\u001b[0m\u001b[0;34m}\u001b[0m\u001b[0;34m\u001b[0m\u001b[0;34m\u001b[0m\u001b[0m\n\u001b[1;32m      3\u001b[0m \u001b[0;34m\u001b[0m\u001b[0m\n\u001b[0;32m----> 4\u001b[0;31m \u001b[0mvalue\u001b[0m \u001b[0;34m=\u001b[0m \u001b[0mspam\u001b[0m\u001b[0;34m[\u001b[0m\u001b[0;34m'foo'\u001b[0m\u001b[0;34m]\u001b[0m  \u001b[0;31m# Raises a KeyError\u001b[0m\u001b[0;34m\u001b[0m\u001b[0;34m\u001b[0m\u001b[0m\n\u001b[0m",
            "\u001b[0;31mKeyError\u001b[0m: 'foo'"
          ]
        }
      ]
    },
    {
      "cell_type": "code",
      "source": [
        "# 5. If a dictionary is stored in spam, what is the difference between the expressions 'cat' in spam and 'cat' in spam.keys()?"
      ],
      "metadata": {
        "id": "Qe08U7uk3VAg"
      },
      "execution_count": 13,
      "outputs": []
    },
    {
      "cell_type": "code",
      "source": [
        "'''The expressions 'cat' in spam and 'cat' in spam.keys() have a subtle difference in their behavior when used with a dictionary.'''\n",
        "# 'cat' in spam:\n",
        "'''This expression checks whether the key 'cat' exists in the dictionary spam. It returns a boolean value True if the key 'cat' is present\n",
        "as a key in the dictionary, and False otherwise. It directly checks if the key is present in the dictionary and does not involve accessing\n",
        "the dictionary's keys explicitly.'''\n",
        "\n",
        "# 'cat' in spam.keys():\n",
        "'''This expression also checks whether the key 'cat' exists in the dictionary spam. However, it explicitly accesses the keys() method of the dictionary spam.\n",
        "The keys() method returns a view object that represents all the keys in the dictionary. The expression 'cat' in spam.keys() checks if 'cat' is present\n",
        "in this view object, and it returns a boolean value True if the key is found, and False otherwise.\n",
        "\n",
        "From a practical standpoint, the performance difference between the two expressions is generally negligible. Using 'cat' in spam is more concise and idiomatic\n",
        "for checking key existence in a dictionary.'''"
      ],
      "metadata": {
        "colab": {
          "base_uri": "https://localhost:8080/",
          "height": 87
        },
        "id": "KOMp8owk5ZWp",
        "outputId": "ee335fd3-a768-4936-83d7-5f2264a5f0e0"
      },
      "execution_count": 16,
      "outputs": [
        {
          "output_type": "execute_result",
          "data": {
            "text/plain": [
              "\"This expression also checks whether the key 'cat' exists in the dictionary spam. However, it explicitly accesses the keys() method of the dictionary spam. \\nThe keys() method returns a view object that represents all the keys in the dictionary. The expression 'cat' in spam.keys() checks if 'cat' is present \\nin this view object, and it returns a boolean value True if the key is found, and False otherwise.\\n\\nFrom a practical standpoint, the performance difference between the two expressions is generally negligible. Using 'cat' in spam is more concise and idiomatic\\nfor checking key existence in a dictionary.\""
            ],
            "application/vnd.google.colaboratory.intrinsic+json": {
              "type": "string"
            }
          },
          "metadata": {},
          "execution_count": 16
        }
      ]
    },
    {
      "cell_type": "code",
      "source": [
        "# 6. If a dictionary is stored in spam, what is the difference between the expressions 'cat' in spam and 'cat' in spam.values()?"
      ],
      "metadata": {
        "id": "iOSAJDxh590_"
      },
      "execution_count": 15,
      "outputs": []
    },
    {
      "cell_type": "code",
      "source": [
        "''''cat' in spam checks if 'cat' is a key in the dictionary, while 'cat' in spam.values() checks if 'cat' is a value in the dictionary.'''\n",
        "\n",
        "spam = {'animal': 'cat', 'color': 'black', 'count': 3}\n",
        "\n",
        "print('cat' in spam)          # Output: False (not a key)\n",
        "print('cat' in spam.values()) # Output: True (a value)\n",
        "\n",
        "'''In this example, the key 'animal' in the spam dictionary has the value 'cat'. The expression 'cat' in spam returns False because 'cat'\n",
        "is not a key in spam. However, 'cat' in spam.values() returns True because 'cat' is a value in the dictionary.'''"
      ],
      "metadata": {
        "colab": {
          "base_uri": "https://localhost:8080/",
          "height": 87
        },
        "id": "KT8M8Shx6OHo",
        "outputId": "0c7f9754-2b1e-468f-e9f8-57adb3bb20be"
      },
      "execution_count": 17,
      "outputs": [
        {
          "output_type": "stream",
          "name": "stdout",
          "text": [
            "False\n",
            "True\n"
          ]
        },
        {
          "output_type": "execute_result",
          "data": {
            "text/plain": [
              "\"In this example, the key 'animal' in the spam dictionary has the value 'cat'. The expression 'cat' in spam returns False because 'cat' \\nis not a key in spam. However, 'cat' in spam.values() returns True because 'cat' is a value in the dictionary.\""
            ],
            "application/vnd.google.colaboratory.intrinsic+json": {
              "type": "string"
            }
          },
          "metadata": {},
          "execution_count": 17
        }
      ]
    },
    {
      "cell_type": "code",
      "source": [
        "# 7. What is a shortcut for the following code?\n",
        "'''if 'color' not in spam:\n",
        "spam['color'] = 'black' '''"
      ],
      "metadata": {
        "colab": {
          "base_uri": "https://localhost:8080/",
          "height": 35
        },
        "id": "LsvGoqcU7zHb",
        "outputId": "fb1d64c0-38ed-43f8-c42b-e7aa7a760c8b"
      },
      "execution_count": 19,
      "outputs": [
        {
          "output_type": "execute_result",
          "data": {
            "text/plain": [
              "\"if 'color' not in spam:\\nspam['color'] = 'black' \""
            ],
            "application/vnd.google.colaboratory.intrinsic+json": {
              "type": "string"
            }
          },
          "metadata": {},
          "execution_count": 19
        }
      ]
    },
    {
      "cell_type": "code",
      "source": [
        "'''A shortcut for the given code is to use the dict.setdefault() method. The setdefault() method allows you to set a default value for a\n",
        "key in a dictionary if the key does not already exist. Here's the equivalent code using setdefault()'''\n",
        "\n",
        "spam.setdefault('color', 'black')\n",
        "\n",
        "'''In this code, spam.setdefault('color', 'black') checks if the key 'color' exists in the spam dictionary. If it does not exist, it sets the key\n",
        "'color' with the value 'black'. If the key already exists, it leaves the value unchanged. This achieves the same result as the original code but in\n",
        "a more concise way.'''"
      ],
      "metadata": {
        "colab": {
          "base_uri": "https://localhost:8080/",
          "height": 53
        },
        "id": "MbOAvqpq8Yv8",
        "outputId": "0c9ff233-6757-4b8d-92d0-0e2691509b94"
      },
      "execution_count": 20,
      "outputs": [
        {
          "output_type": "execute_result",
          "data": {
            "text/plain": [
              "\"In this code, spam.setdefault('color', 'black') checks if the key 'color' exists in the spam dictionary. If it does not exist, it sets the key \\n'color' with the value 'black'. If the key already exists, it leaves the value unchanged. This achieves the same result as the original code but in \\na more concise way.\""
            ],
            "application/vnd.google.colaboratory.intrinsic+json": {
              "type": "string"
            }
          },
          "metadata": {},
          "execution_count": 20
        }
      ]
    },
    {
      "cell_type": "code",
      "source": [
        "# 8. How do you \"pretty print\" dictionary values using which module and function?"
      ],
      "metadata": {
        "id": "Rk1twHlX-wBM"
      },
      "execution_count": 21,
      "outputs": []
    },
    {
      "cell_type": "code",
      "source": [
        "'''To \"pretty print\" dictionary values in Python, you can make use of the pprint module and its pprint() function.\n",
        "The pprint module provides a pprint() function that can display dictionary values in a more readable and organized\n",
        "format. It is particularly useful when dealing with complex or nested dictionaries.for e.g'''\n",
        "import pprint\n",
        "\n",
        "my_dict = {'name': 'John', 'age': 30, 'city': 'New York'}\n",
        "\n",
        "pprint.pprint(my_dict)\n",
        "\n",
        "'''In this code, the pprint() function from the pprint module is called with the dictionary my_dict as its argument.\n",
        "It will print the dictionary's contents in a nicely formatted way, with indentation and line breaks, making it easier to read.\n",
        "\n",
        "The output of the pprint() function will be something like'''\n",
        "\n",
        "{'age': 30,\n",
        " 'city': 'New York',\n",
        " 'name': 'John'}\n"
      ],
      "metadata": {
        "colab": {
          "base_uri": "https://localhost:8080/"
        },
        "id": "Af5dR15O-84g",
        "outputId": "a705e999-b13f-44d2-d29a-94d7485f1b37"
      },
      "execution_count": 22,
      "outputs": [
        {
          "output_type": "stream",
          "name": "stdout",
          "text": [
            "{'age': 30, 'city': 'New York', 'name': 'John'}\n"
          ]
        },
        {
          "output_type": "execute_result",
          "data": {
            "text/plain": [
              "{'age': 30, 'city': 'New York', 'name': 'John'}"
            ]
          },
          "metadata": {},
          "execution_count": 22
        }
      ]
    },
    {
      "cell_type": "code",
      "source": [],
      "metadata": {
        "id": "M-eJNTSyAXF7"
      },
      "execution_count": null,
      "outputs": []
    }
  ]
}
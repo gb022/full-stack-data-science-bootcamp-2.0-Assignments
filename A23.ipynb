{
  "nbformat": 4,
  "nbformat_minor": 0,
  "metadata": {
    "colab": {
      "provenance": []
    },
    "kernelspec": {
      "name": "python3",
      "display_name": "Python 3"
    },
    "language_info": {
      "name": "python"
    }
  },
  "cells": [
    {
      "cell_type": "markdown",
      "source": [
        "1. What is the result of the code, and why?\n",
        ">>> def func(a, b=6, c=8):\n",
        "print(a, b, c)\n",
        ">>> func(1, 2)\n",
        "\n",
        "When the function is called with func(1, 2), the value 1 is assigned to the parameter a and the value 2 is assigned to the parameter b. Since no value is provided for the parameter c, it takes its default value of 8.\n",
        "\n",
        "The result of the code will be:\n",
        "1 2 8\n"
      ],
      "metadata": {
        "id": "3SxTSw_YMEz_"
      }
    },
    {
      "cell_type": "markdown",
      "source": [
        "2. What is the result of this code, and why?\n",
        ">>> def func(a, b, c=5):\n",
        "print(a, b, c)\n",
        ">>> func(1, c=3, b=2)\n",
        "\n",
        "--->\n",
        "The result of the code will be:\n",
        "1 2 3\n",
        "\n",
        "When the function is called with func(1, c=3, b=2), the value 1 is assigned to the parameter a, the value 2 is assigned to the parameter b, and the value 3 is explicitly passed as an argument for the parameter c."
      ],
      "metadata": {
        "id": "kHvbaI3UMof4"
      }
    },
    {
      "cell_type": "markdown",
      "source": [
        "3. How about this code: what is its result, and why?\n",
        ">>> def func(a, *pargs):\n",
        "print(a, pargs)\n",
        ">>> func(1, 2, 3)\n",
        "\n",
        "---> The result of the code will be:\n",
        "1 (2, 3)\n",
        "\n",
        "The function func() is defined with a parameter a and *pargs, which is a variable-length argument parameter (also known as *args or positional arguments).\n",
        "\n",
        "When the function is called with func(1, 2, 3), the value 1 is assigned to the parameter a, and the remaining arguments 2 and 3 are collected into a tuple because of the * prefix in the function definition."
      ],
      "metadata": {
        "id": "_Q5my_HZNDHY"
      }
    },
    {
      "cell_type": "markdown",
      "source": [
        "4. What does this code print, and why?\n",
        ">>> def func(a, **kargs):\n",
        "print(a, kargs)\n",
        ">>> func(a=1, c=3, b=2)\n",
        "\n",
        "---> The code will print:\n",
        "1 {'c': 3, 'b': 2}\n",
        "\n",
        "The function func() is defined with a parameter a and **kargs, which is a variable-length keyword argument parameter (also known as **kwargs or keyword arguments).\n",
        "\n",
        "When the function is called with func(a=1, c=3, b=2), the value 1 is assigned to the parameter a, and the keyword arguments c=3 and b=2 are collected into a dictionary because of the ** prefix in the function definition.\n",
        "\n",
        "Therefore, when the function is executed, it prints 1 for the value of a and {'c': 3, 'b': 2} for the value of kargs. The dictionary {'c': 3, 'b': 2} represents the additional keyword arguments passed to the function after the first argument."
      ],
      "metadata": {
        "id": "rGwmdiVINMw3"
      }
    },
    {
      "cell_type": "markdown",
      "source": [
        "5. What gets printed by this, and explain?\n",
        ">>> def func(a, b, c=8, d=5): print(a, b, c, d)\n",
        ">>> func(1, *(5, 6))\n",
        "\n",
        "---> The code will print:\n",
        "1 5 6 5\n",
        "\n",
        "Explanation:\n",
        "The function func() is defined with four parameters: a, b, c, and d. The parameters c and d have default values of 8 and 5, respectively.\n",
        "\n",
        "When the function is called with func(1, *(5, 6)), the value 1 is assigned to the parameter a, and the tuple (5, 6) is unpacked and its elements are assigned to the parameters b and c. Since no value is provided for the parameter d, it takes its default value of 5.\n",
        "\n",
        "Therefore, when the function is executed, it prints 1 5 6 5. The values 1, 5, 6, and 5 correspond to the values of a, b, c, and d respectively."
      ],
      "metadata": {
        "id": "wL1bwWQHNZht"
      }
    },
    {
      "cell_type": "markdown",
      "source": [
        "6. what is the result of this, and explain?\n",
        ">>> def func(a, b, c): a = 2; b[0] = 'x'; c['a'] = 'y'\n",
        ">>> l=1; m=[1]; n={'a':0}\n",
        ">>> func(l, m, n)\n",
        ">>> l, m, n\n",
        "\n",
        "---> The result of the code will be:\n",
        "(1, ['x'], {'a': 'y'})\n",
        "\n",
        "Explanation:\n",
        "In the given code, the function func() takes three parameters a, b, and c. Inside the function, a is reassigned the value 2, the first element of b is changed to 'x', and the value associated with the key 'a' in c is changed to 'y'.\n",
        "\n",
        "Before calling the function, the variables l, m, and n are assigned the values 1, [1], and {'a': 0} respectively.\n",
        "\n",
        "When the function is called with func(l, m, n), the values of l, m, and n are passed as arguments to the function. Since l is an immutable integer, it remains unchanged. However, m is a mutable list, so the modification of its first element inside the function affects the original list. Similarly, n is a mutable dictionary, so the modification of its value associated with the key 'a' inside the function also affects the original dictionary.\n",
        "\n",
        "Therefore, after calling the function, the values of l, m, and n are (1, ['x'], {'a': 'y'}). The variable l remains unchanged, m is modified with the first element changed to 'x', and n is modified with the value associated with the key 'a' changed to 'y'."
      ],
      "metadata": {
        "id": "UP-cvLZiNhky"
      }
    }
  ]
}